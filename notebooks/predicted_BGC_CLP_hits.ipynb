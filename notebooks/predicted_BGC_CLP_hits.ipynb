{
 "cells": [
  {
   "attachments": {},
   "cell_type": "markdown",
   "metadata": {},
   "source": [
    "# Checking Predicted Encapsulin BGCs for Cargo Loading Peptide Hits\n",
    "\n",
    "We have a set of curated BGC predictions for our encapsulin hits, collated from DeepBGC and antiSMASH predictions together. We also have mmseqs2 search results when querying a few different cargo loading peptides (CLPs) against all of our cargo proteins.\n",
    "\n",
    "Let's check if any of our predicted BGCs contain proteins with a putative CLP sequence. First, let's load a list of encapsulin MGYPs that are in predicted BGCs, and get their accompanying cargo proteins:"
   ]
  },
  {
   "cell_type": "code",
   "execution_count": 37,
   "metadata": {},
   "outputs": [],
   "source": [
    "import pandas as pd\n",
    "from collections import defaultdict\n",
    "\n",
    "#Get all encapsulin MGYPs that are part of a predicted BGC\n",
    "family_df = pd.read_csv(\"../encapsulin_families.csv\")\n",
    "bgc_encapsulins = family_df[family_df[\"Cargo Description\"].str.contains(\"BGC\")][\"Encapsulin MGYP\"].to_list()\n",
    "len(bgc_encapsulins)\n",
    "\n",
    "#Get all cargo proteins +/- 10 CDSes away from each of these encapsulins\n",
    "operon_df = pd.read_csv(\"../operon_df_filtered.csv\").query(\"`Encapsulin MGYP` in @bgc_encapsulins\").fillna(\"None\")\n",
    "\n",
    "#Iterate through each encapsulin and make a dictionary where keys are the encapsulin MGYPs and values are lists of cargo MGYPs\n",
    "cargo_mapping_dict = defaultdict(list)\n",
    "\n",
    "for row in operon_df.iloc[:, :21].to_dict(orient=\"records\"):\n",
    "    cargo_mapping_dict[row[\"Encapsulin MGYP\"]].extend([mgyp for mgyp in list(row.values())[:-1] if mgyp != \"None\"])\n",
    "\n",
    "#Each encapsulin MGYP appears in multiple contigs so we might have duplicate cargo MGYPs in each list\n",
    "for encapsulin, cargos in cargo_mapping_dict.items():\n",
    "    cargo_mapping_dict[encapsulin] = list(set(cargos))"
   ]
  },
  {
   "attachments": {},
   "cell_type": "markdown",
   "metadata": {},
   "source": [
    "Now we can iterate through each encapsulin MGYP and check any hits in the cargo loading peptide search hits:"
   ]
  },
  {
   "cell_type": "code",
   "execution_count": 48,
   "metadata": {},
   "outputs": [
    {
     "name": "stdout",
     "output_type": "stream",
     "text": [
      "                       Query            Target  Identity  E-Value\n",
      "205  all_cargo_clp_consensus  MGYP001259485910     0.833  2438.00\n",
      "342    family1_clp_consensus  MGYP000270495616     0.888    18.75\n",
      "                     Query            Target  Identity  E-Value\n",
      "488  family1_clp_consensus  MGYP003109322410       1.0   7279.0\n",
      "                     Query            Target  Identity  E-Value\n",
      "383  family1_clp_consensus  MGYP003561695898     0.833    383.4\n",
      "                       Query            Target  Identity  E-Value\n",
      "108  all_cargo_clp_consensus  MGYP003631920257       1.0    383.4\n",
      "                       Query            Target  Identity  E-Value\n",
      "58   all_cargo_clp_consensus  MGYP003667787324     1.000    181.3\n",
      "68   all_cargo_clp_consensus  MGYP003667787534     0.857    181.3\n",
      "356    family1_clp_consensus  MGYP003667787324     0.875    124.5\n",
      "410    family1_clp_consensus  MGYP003628557755     1.000    806.9\n"
     ]
    }
   ],
   "source": [
    "clp_df = pd.read_csv(\"../clp_cargo_hits.m8\", sep=\"\\t\", names=[\"Query\", \"Target\", \"Identity\", \"Alignment Length\", \"Mismatches\", \"Gap Openings\",\n",
    "                                                              \"Query Start\", \"Query End\", \"Target Start\", \"Target End\", \"E-Value\", \"Bitscore\"])\n",
    "\n",
    "for encapsulin, cargos in cargo_mapping_dict.items():\n",
    "    out_df = clp_df.query(\"Target in @cargos\")\n",
    "\n",
    "    if len(out_df) > 0:\n",
    "        print(out_df.loc[:, [\"Query\", \"Target\", \"Identity\", \"E-Value\"]])"
   ]
  },
  {
   "attachments": {},
   "cell_type": "markdown",
   "metadata": {},
   "source": [
    "Looks like we have a few potential hits that are interesting! Although we don't know if these CLP hits are at the N- or C-termini of the protein, or somewhere in the middle. Let's check this:"
   ]
  },
  {
   "cell_type": "code",
   "execution_count": 55,
   "metadata": {},
   "outputs": [
    {
     "name": "stdout",
     "output_type": "stream",
     "text": [
      "               Target  Target End  Identity  Cargo Length  Distance C-Terminal\n",
      "205  MGYP001259485910         149     0.833           336                  187\n",
      "342  MGYP000270495616         132     0.888           138                    6\n",
      "               Target  Target End  Identity  Cargo Length  Distance C-Terminal\n",
      "488  MGYP003109322410         129       1.0           835                  706\n",
      "               Target  Target End  Identity  Cargo Length  Distance C-Terminal\n",
      "383  MGYP003561695898         185     0.833           187                    2\n",
      "               Target  Target End  Identity  Cargo Length  Distance C-Terminal\n",
      "108  MGYP003631920257         108       1.0           240                  132\n",
      "               Target  Target End  Identity  Cargo Length  Distance C-Terminal\n",
      "58   MGYP003667787324         123     1.000           127                    4\n",
      "68   MGYP003667787534         253     0.857           314                   61\n",
      "356  MGYP003667787324         123     0.875           127                    4\n",
      "410  MGYP003628557755         100     1.000           292                  192\n"
     ]
    },
    {
     "name": "stderr",
     "output_type": "stream",
     "text": [
      "/tmp/ipykernel_116683/1082066472.py:15: SettingWithCopyWarning: \n",
      "A value is trying to be set on a copy of a slice from a DataFrame.\n",
      "Try using .loc[row_indexer,col_indexer] = value instead\n",
      "\n",
      "See the caveats in the documentation: https://pandas.pydata.org/pandas-docs/stable/user_guide/indexing.html#returning-a-view-versus-a-copy\n",
      "  out_df[\"Cargo Length\"] = out_df[\"Target\"].apply(get_length)\n",
      "/tmp/ipykernel_116683/1082066472.py:16: SettingWithCopyWarning: \n",
      "A value is trying to be set on a copy of a slice from a DataFrame.\n",
      "Try using .loc[row_indexer,col_indexer] = value instead\n",
      "\n",
      "See the caveats in the documentation: https://pandas.pydata.org/pandas-docs/stable/user_guide/indexing.html#returning-a-view-versus-a-copy\n",
      "  out_df[\"Distance C-Terminal\"] = out_df[\"Cargo Length\"] - out_df[\"Target End\"]\n",
      "/tmp/ipykernel_116683/1082066472.py:15: SettingWithCopyWarning: \n",
      "A value is trying to be set on a copy of a slice from a DataFrame.\n",
      "Try using .loc[row_indexer,col_indexer] = value instead\n",
      "\n",
      "See the caveats in the documentation: https://pandas.pydata.org/pandas-docs/stable/user_guide/indexing.html#returning-a-view-versus-a-copy\n",
      "  out_df[\"Cargo Length\"] = out_df[\"Target\"].apply(get_length)\n",
      "/tmp/ipykernel_116683/1082066472.py:16: SettingWithCopyWarning: \n",
      "A value is trying to be set on a copy of a slice from a DataFrame.\n",
      "Try using .loc[row_indexer,col_indexer] = value instead\n",
      "\n",
      "See the caveats in the documentation: https://pandas.pydata.org/pandas-docs/stable/user_guide/indexing.html#returning-a-view-versus-a-copy\n",
      "  out_df[\"Distance C-Terminal\"] = out_df[\"Cargo Length\"] - out_df[\"Target End\"]\n",
      "/tmp/ipykernel_116683/1082066472.py:15: SettingWithCopyWarning: \n",
      "A value is trying to be set on a copy of a slice from a DataFrame.\n",
      "Try using .loc[row_indexer,col_indexer] = value instead\n",
      "\n",
      "See the caveats in the documentation: https://pandas.pydata.org/pandas-docs/stable/user_guide/indexing.html#returning-a-view-versus-a-copy\n",
      "  out_df[\"Cargo Length\"] = out_df[\"Target\"].apply(get_length)\n",
      "/tmp/ipykernel_116683/1082066472.py:16: SettingWithCopyWarning: \n",
      "A value is trying to be set on a copy of a slice from a DataFrame.\n",
      "Try using .loc[row_indexer,col_indexer] = value instead\n",
      "\n",
      "See the caveats in the documentation: https://pandas.pydata.org/pandas-docs/stable/user_guide/indexing.html#returning-a-view-versus-a-copy\n",
      "  out_df[\"Distance C-Terminal\"] = out_df[\"Cargo Length\"] - out_df[\"Target End\"]\n",
      "/tmp/ipykernel_116683/1082066472.py:15: SettingWithCopyWarning: \n",
      "A value is trying to be set on a copy of a slice from a DataFrame.\n",
      "Try using .loc[row_indexer,col_indexer] = value instead\n",
      "\n",
      "See the caveats in the documentation: https://pandas.pydata.org/pandas-docs/stable/user_guide/indexing.html#returning-a-view-versus-a-copy\n",
      "  out_df[\"Cargo Length\"] = out_df[\"Target\"].apply(get_length)\n",
      "/tmp/ipykernel_116683/1082066472.py:16: SettingWithCopyWarning: \n",
      "A value is trying to be set on a copy of a slice from a DataFrame.\n",
      "Try using .loc[row_indexer,col_indexer] = value instead\n",
      "\n",
      "See the caveats in the documentation: https://pandas.pydata.org/pandas-docs/stable/user_guide/indexing.html#returning-a-view-versus-a-copy\n",
      "  out_df[\"Distance C-Terminal\"] = out_df[\"Cargo Length\"] - out_df[\"Target End\"]\n",
      "/tmp/ipykernel_116683/1082066472.py:15: SettingWithCopyWarning: \n",
      "A value is trying to be set on a copy of a slice from a DataFrame.\n",
      "Try using .loc[row_indexer,col_indexer] = value instead\n",
      "\n",
      "See the caveats in the documentation: https://pandas.pydata.org/pandas-docs/stable/user_guide/indexing.html#returning-a-view-versus-a-copy\n",
      "  out_df[\"Cargo Length\"] = out_df[\"Target\"].apply(get_length)\n",
      "/tmp/ipykernel_116683/1082066472.py:16: SettingWithCopyWarning: \n",
      "A value is trying to be set on a copy of a slice from a DataFrame.\n",
      "Try using .loc[row_indexer,col_indexer] = value instead\n",
      "\n",
      "See the caveats in the documentation: https://pandas.pydata.org/pandas-docs/stable/user_guide/indexing.html#returning-a-view-versus-a-copy\n",
      "  out_df[\"Distance C-Terminal\"] = out_df[\"Cargo Length\"] - out_df[\"Target End\"]\n"
     ]
    }
   ],
   "source": [
    "from Bio import SeqIO\n",
    "\n",
    "#First, let's make a dictionary where the keys are cargo MGYPs and values are the protein lengths\n",
    "length_dict = {str(record.id).split()[0]: len(str(record.seq)) for record in SeqIO.parse(\"../seqs/all_putative_cargo_proteins.fasta\", \"fasta\")}\n",
    "\n",
    "#Let's make a function to get the length of a cargo MGYP and apply it to the DataFrame\n",
    "def get_length(cargo_mgyp):\n",
    "    return(length_dict[cargo_mgyp])\n",
    "\n",
    "#Now let's iterate through our encapsulins again and add the length info\n",
    "for encapsulin, cargos in cargo_mapping_dict.items():\n",
    "    out_df = clp_df.query(\"Target in @cargos\")\n",
    "\n",
    "    if len(out_df) > 0:\n",
    "        out_df[\"Cargo Length\"] = out_df[\"Target\"].apply(get_length)\n",
    "        out_df[\"Distance C-Terminal\"] = out_df[\"Cargo Length\"] - out_df[\"Target End\"]\n",
    "        print(out_df.loc[:, [\"Target\", \"Target End\", \"Identity\", \"Cargo Length\", \"Distance C-Terminal\"]])"
   ]
  },
  {
   "attachments": {},
   "cell_type": "markdown",
   "metadata": {},
   "source": [
    "Looks like we have a few Cargo MGYPs that are found in BGCs and that have predicted CLP sequences within 4-6 residues from the C-terminal! Let's load the Pfam data to see what their predicted functions are:"
   ]
  },
  {
   "cell_type": "code",
   "execution_count": 59,
   "metadata": {},
   "outputs": [],
   "source": [
    "# The below code will load the Pfam labels dictionary downloaded from the GoogleResearch/Proteinfer GitHub repo\n",
    "# I've also manually added some code below to fill in some important missing labels that I manually curated\n",
    "\n",
    "import gzip\n",
    "import json\n",
    "\n",
    "with open(\"../DBs/label_descriptions.json.gz\", 'rb') as f:\n",
    "    with gzip.GzipFile(fileobj=f, mode='rb') as gzip_file:\n",
    "      labels_dict = json.load(gzip_file)\n",
    "\n",
    "labels_dict[\"PF19821\"] = \"Phage capsid protein\"\n",
    "labels_dict[\"PF19307\"] = \"Phage capsid-like protein\"\n",
    "labels_dict['PF19289'] = \"PmbA/TldA metallopeptidase C-terminal domain\"\n",
    "labels_dict['PF19290'] = \"PmbA/TldA metallopeptidase central domain\"\n",
    "labels_dict['PF20211'] = \"Family of unknown function (DUF6571)\"\n",
    "labels_dict['PF19782'] = \"Family of unknown function (DUF6267)\"\n",
    "labels_dict['PF19343'] = \"Family of unknown function (DUF5923)\"\n",
    "labels_dict['PF20036'] = \"Major capsid protein 13-like\"\n",
    "labels_dict['PF18960'] = \"Family of unknown function (DUF5702)\"\n",
    "labels_dict['PF18906'] = \"Phage tail tube protein\"\n",
    "labels_dict['PF19753'] = \"Family of unknown function (DUF6240)\"\n",
    "\n",
    "def get_label(pfam):\n",
    "    try:\n",
    "        return(labels_dict[pfam])\n",
    "    except KeyError:\n",
    "        return(None)"
   ]
  },
  {
   "cell_type": "code",
   "execution_count": 62,
   "metadata": {},
   "outputs": [
    {
     "data": {
      "text/html": [
       "<div>\n",
       "<style scoped>\n",
       "    .dataframe tbody tr th:only-of-type {\n",
       "        vertical-align: middle;\n",
       "    }\n",
       "\n",
       "    .dataframe tbody tr th {\n",
       "        vertical-align: top;\n",
       "    }\n",
       "\n",
       "    .dataframe thead th {\n",
       "        text-align: right;\n",
       "    }\n",
       "</style>\n",
       "<table border=\"1\" class=\"dataframe\">\n",
       "  <thead>\n",
       "    <tr style=\"text-align: right;\">\n",
       "      <th></th>\n",
       "      <th>Cargo MGYP</th>\n",
       "      <th>Pfam</th>\n",
       "      <th>Start</th>\n",
       "      <th>End</th>\n",
       "      <th>Description</th>\n",
       "    </tr>\n",
       "  </thead>\n",
       "  <tbody>\n",
       "    <tr>\n",
       "      <th>606615</th>\n",
       "      <td>MGYP000270495616</td>\n",
       "      <td>PF00619</td>\n",
       "      <td>15</td>\n",
       "      <td>58</td>\n",
       "      <td>Caspase recruitment domain</td>\n",
       "    </tr>\n",
       "    <tr>\n",
       "      <th>699138</th>\n",
       "      <td>MGYP000270495616</td>\n",
       "      <td>CL0044</td>\n",
       "      <td>21</td>\n",
       "      <td>40</td>\n",
       "      <td>Ferritin</td>\n",
       "    </tr>\n",
       "    <tr>\n",
       "      <th>262486</th>\n",
       "      <td>MGYP003561695898</td>\n",
       "      <td>CL0044</td>\n",
       "      <td>2</td>\n",
       "      <td>139</td>\n",
       "      <td>Ferritin</td>\n",
       "    </tr>\n",
       "    <tr>\n",
       "      <th>833208</th>\n",
       "      <td>MGYP003561695898</td>\n",
       "      <td>PF01814</td>\n",
       "      <td>1</td>\n",
       "      <td>131</td>\n",
       "      <td>Hemerythrin HHE cation binding domain</td>\n",
       "    </tr>\n",
       "    <tr>\n",
       "      <th>288115</th>\n",
       "      <td>MGYP003667787324</td>\n",
       "      <td>CL0041</td>\n",
       "      <td>8</td>\n",
       "      <td>90</td>\n",
       "      <td>Death</td>\n",
       "    </tr>\n",
       "  </tbody>\n",
       "</table>\n",
       "</div>"
      ],
      "text/plain": [
       "              Cargo MGYP     Pfam  Start  End  \\\n",
       "606615  MGYP000270495616  PF00619     15   58   \n",
       "699138  MGYP000270495616   CL0044     21   40   \n",
       "262486  MGYP003561695898   CL0044      2  139   \n",
       "833208  MGYP003561695898  PF01814      1  131   \n",
       "288115  MGYP003667787324   CL0041      8   90   \n",
       "\n",
       "                                  Description  \n",
       "606615             Caspase recruitment domain  \n",
       "699138                               Ferritin  \n",
       "262486                               Ferritin  \n",
       "833208  Hemerythrin HHE cation binding domain  \n",
       "288115                                  Death  "
      ]
     },
     "execution_count": 62,
     "metadata": {},
     "output_type": "execute_result"
    }
   ],
   "source": [
    "#Now we can load the Pfam DataFrame and check the pfams for each of our putative cargo sequences with CLP\n",
    "\n",
    "bgc_cargo_mgyps = [\"MGYP003667787324\", \"MGYP003561695898\", \"MGYP000270495616\"]\n",
    "\n",
    "pfam_df = pd.read_csv(\"../pfams/cargo_pfams.tsv\", sep=\"\\t\", names=[\"Cargo MGYP\", \"Pfam\", \"Start\", \"End\"])\n",
    "pfam_df[\"Description\"] = pfam_df[\"Pfam\"].apply(get_label)\n",
    "\n",
    "pfam_df.query(\"`Cargo MGYP` in @bgc_cargo_mgyps\").sort_values(by=\"Cargo MGYP\")"
   ]
  },
  {
   "attachments": {},
   "cell_type": "markdown",
   "metadata": {},
   "source": [
    "This is super odd! MGYP000270495616 and MGYP003561695898 are annotated as ferritins which means their encapsulins should already be assigned as family 1 encapsulins and not as BGC encapsulins.\n",
    "\n",
    "Let's get their encapsulin MGYPs and check our manually curated `encapsulin_families.csv` file to see if I've already annotated these:"
   ]
  },
  {
   "cell_type": "code",
   "execution_count": 66,
   "metadata": {},
   "outputs": [
    {
     "name": "stdout",
     "output_type": "stream",
     "text": [
      "MGYP000270495616\n",
      "      Encapsulin MGYP Cargo Description Cargo Search Method\n",
      "120  MGYP000432667684     NRPS-like BGC           antiSMASH\n",
      "MGYP003561695898\n",
      "      Encapsulin MGYP Cargo Description Cargo Search Method\n",
      "121  MGYP003561695899    T3PKS-like BGC           antiSMASH\n",
      "MGYP003667787324\n",
      "      Encapsulin MGYP Cargo Description Cargo Search Method\n",
      "119  MGYP003667787347         NAGGN BGC           antiSMASH\n"
     ]
    }
   ],
   "source": [
    "family_df = pd.read_csv(\"../encapsulin_families.csv\")\n",
    "\n",
    "for encapsulin_mgyp, cargos in cargo_mapping_dict.items():\n",
    "    for cargo in bgc_cargo_mgyps:\n",
    "        if cargo in cargos:\n",
    "            print(cargo)\n",
    "            print(family_df[family_df[\"Encapsulin MGYP\"] == encapsulin_mgyp])"
   ]
  },
  {
   "attachments": {},
   "cell_type": "markdown",
   "metadata": {},
   "source": [
    "`MGYP003561695899` does exactly match a known encapsulin sequence - `V4JJW8`, a family 1 encapsulin annotated with a Hemerythrin cargo. We do see this Hemerythrin cargo in our antiSMASH predicted BGC, just upstream of encapsulin and then the subsequent T3PKS-like BGC. Maybe we might need to remove this encapsulin from our dataset since it's already annotated with a cargo type and has a putative CLP. Something to discuss and think about here.\n",
    "\n",
    "`MGYP003667787324` is a putative cargo protein with a CLP hit found immediately upstream of encapsulin `MGYP003667787347` - antiSMASH detects an NAGGN BGC just upstream of it however BLASTing the sequence of the gene gives 60% identity to a ferritin. It would therefore appear that this antiSMASH prediction may be a false positive since the encapsulin is right next to a potential ferritin with a CLP. Annoying!\n",
    "\n",
    "Similar story with `MGYP000270495616` - predicted ferritin, found downstream of a putative NRPS-like operon but actually has ≈ 68%% identity to ferritin and a putative CLP sequence."
   ]
  }
 ],
 "metadata": {
  "kernelspec": {
   "display_name": "jupyter",
   "language": "python",
   "name": "python3"
  },
  "language_info": {
   "codemirror_mode": {
    "name": "ipython",
    "version": 3
   },
   "file_extension": ".py",
   "mimetype": "text/x-python",
   "name": "python",
   "nbconvert_exporter": "python",
   "pygments_lexer": "ipython3",
   "version": "3.10.4"
  },
  "orig_nbformat": 4
 },
 "nbformat": 4,
 "nbformat_minor": 2
}
