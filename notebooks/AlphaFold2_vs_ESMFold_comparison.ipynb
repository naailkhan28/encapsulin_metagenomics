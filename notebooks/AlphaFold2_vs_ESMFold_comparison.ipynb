{
 "cells": [
  {
   "cell_type": "markdown",
   "metadata": {},
   "source": [
    "# Verifying ESMFold Predictions using AlphaFold2\n",
    "\n",
    "Following submission of this manuscript and peer review, one of the reviewers made the following comment:\n",
    "\n",
    "*\"The other concern I had was the reliance of this manuscript’s methods on ESMFold, which is significantly inferior in structure prediction quality than alphafold and RoseTTAfold. This is especially concerning due to (A) the high pLDDT cutoff (70) which may filter out entire classes of encapsulins with few homologs in the UniRef databases used to train ESMFold, and (B) the relatively low size limit imposed on structure prediction (900 residues). At a minimum the authors should run alphafold or roseTTAfold on cluster representatives to demonstrate that the conclusions being presented are not artefacts of poor structure prediction.\"*\n",
    "\n",
    "This is a valid concern - what if our ESMFold predictions are junk and we're jumping to erroneous conclusions as a result?\n",
    "\n",
    "To address this point, we'll do as the reviewer suggests - we'll pick representatives from each structure cluster (as assigned using complete linkeage hierarchical clustering on the DALI distance matrix) and predict their structures with AlphaFold2, and compare those structures with the ESMFold predictions.\n",
    "\n",
    "## Identifying Cluster Representatives\n",
    "\n",
    "How do we choose which sequences from each cluster we're going to predict with AlphaFold2? We can't predict all ≈900 since this will take too long (which is why we used ESMFold in the first place).\n",
    "\n",
    "Remember that we clustered the *sequences* in each structure cluster at 80% identity to reduce redundancy. Let's see how many of these reduced sequences we have:"
   ]
  },
  {
   "cell_type": "code",
   "execution_count": 1,
   "metadata": {},
   "outputs": [
    {
     "name": "stdout",
     "output_type": "stream",
     "text": [
      "Cluster 0\n",
      "3\n",
      "Cluster 1\n",
      "45\n",
      "Cluster 2\n",
      "1\n",
      "Cluster 3\n",
      "4\n",
      "Cluster 4\n",
      "44\n",
      "Cluster 5\n",
      "7\n",
      "Cluster 6\n",
      "37\n",
      "Cluster 7\n",
      "27\n",
      "Cluster 8\n",
      "56\n",
      "Cluster 9\n",
      "23\n",
      "Cluster 10\n",
      "53\n",
      "Cluster 11\n",
      "84\n",
      "Cluster 12\n",
      "11\n",
      "Cluster 13\n",
      "6\n",
      "Cluster 14\n",
      "12\n",
      "Cluster 15\n",
      "2\n",
      "Cluster 16\n",
      "25\n"
     ]
    }
   ],
   "source": [
    "from Bio import SeqIO\n",
    "\n",
    "for i in range(17):\n",
    "    infile = f\"../seqs/DALI_structure_clusters/cluster_{i}.fasta_clustered_rep_seq.fasta\"\n",
    "\n",
    "    print(f\"Cluster {i}\")\n",
    "    print(len(list(SeqIO.parse(infile, \"fasta\"))))"
   ]
  },
  {
   "cell_type": "markdown",
   "metadata": {},
   "source": [
    "Looks like some clusters have relatively few sequences (Clusters 0, 2, 3, 5 for example) and so for these we could feasible predict all sequences in the reduced cluster.\n",
    "\n",
    "However some of them have way too many (10 and 11 for example).\n",
    "\n",
    "Let's now explore whether we can pick a \"cluster centre\" for each cluster and choose a sequence this way instead.\n",
    "\n",
    "First, we'll need to load the DALI distance matrix and cluster it using `scipy` as we did previously:"
   ]
  },
  {
   "cell_type": "code",
   "execution_count": 2,
   "metadata": {},
   "outputs": [
    {
     "data": {
      "image/png": "[encoded data removed]",
      "text/plain": [
       "<Figure size 432x288 with 1 Axes>"
      ]
     },
     "metadata": {
      "needs_background": "light"
     },
     "output_type": "display_data"
    }
   ],
   "source": [
    "import numpy as np\n",
    "from scipy.cluster.hierarchy import linkage, dendrogram, set_link_color_palette\n",
    "import matplotlib as mpl\n",
    "from matplotlib.pyplot import cm\n",
    "\n",
    "columns = tuple(range(1, 952))\n",
    "similarity_matrix = np.loadtxt(\"../DALI/ordered\", usecols=columns, skiprows=1)\n",
    "\n",
    "#The first 130 columns contain structures with low similarity to all the rest so I've manually removed these into their own cluster\n",
    "similar_submatrix = similarity_matrix[130:, 130:]\n",
    "\n",
    "Z = linkage(similar_submatrix, \"complete\")\n",
    "tree = dendrogram(Z, p=5, truncate_mode=\"none\", color_threshold=150)\n",
    "\n",
    "cmap = cm.tab20b(np.linspace(0, 1, 16))\n",
    "set_link_color_palette([mpl.colors.rgb2hex(rgb[:3]) for rgb in cmap])\n",
    "tree = dendrogram(Z, p=5, truncate_mode=\"none\", color_threshold=150)"
   ]
  },
  {
   "cell_type": "markdown",
   "metadata": {},
   "source": [
    "### Cluster \"Centres\"\n",
    "\n",
    "Now to choose sequences for each cluster of structures. Because we're clustering from a distance matrix we don't have a true \"cluster centre\" for each one. But in my mind, what makes most sense is to choose a centre for each cluster, based on distances. What I want to do is iterate through each cluster of structures, and calculate which structure has the lowest average distance to all other structures in that cluster. Not exactly a statistically rigorous way of doing it, but for demonstrating our point it should suffice.\n",
    "\n",
    "Let's load the cluster dictionary as we did before:"
   ]
  },
  {
   "cell_type": "code",
   "execution_count": 3,
   "metadata": {},
   "outputs": [
    {
     "name": "stdout",
     "output_type": "stream",
     "text": [
      "#393b79: 330,333,334\n",
      "#5254a3: 336,338,335\n",
      "C0: 13\n",
      "#6b6ecf: 0,3,4\n",
      "#637939: 186,187,188\n",
      "#8ca252: 146,143,144\n",
      "#b5cf6b: 163,164,161\n",
      "#8c6d31: 6,29,669\n",
      "#bd9e39: 621,626,613\n",
      "#e7ba52: 290,291,286\n",
      "#843c39: 708,709,710\n",
      "#ad494a: 743,744,746\n",
      "#d6616b: 761,762,771\n",
      "#7b4173: 20,21,22\n",
      "#a55194: 641,643,644\n",
      "#ce6dbd: 328,329\n",
      "#de9ed6: 249,251,252\n"
     ]
    }
   ],
   "source": [
    "from collections import defaultdict\n",
    "\n",
    "cluster_dict = defaultdict(list)\n",
    "\n",
    "for cluster, item in zip(tree[\"leaves_color_list\"], tree[\"leaves\"]):\n",
    "    #Each cluster will be named after its colour\n",
    "    cluster_dict[cluster].append(item)\n",
    "\n",
    "for key, value in cluster_dict.items():\n",
    "    print(f\"{key}: {','.join([str(i) for i in value[:3]])}\")"
   ]
  },
  {
   "cell_type": "markdown",
   "metadata": {},
   "source": [
    "Now, we can extract each cluster of similar structures from the similarity matrix:"
   ]
  },
  {
   "cell_type": "code",
   "execution_count": 4,
   "metadata": {},
   "outputs": [
    {
     "data": {
      "text/plain": [
       "{'#393b79': array([[35.5, 19.7, 19. , 17.3, 17.2],\n",
       "        [19.7, 35.7, 33. , 27.1, 29.8],\n",
       "        [19. , 33. , 35.5, 27.5, 30.2],\n",
       "        [17.3, 27.1, 27.5, 33. , 29. ],\n",
       "        [17.2, 29.8, 30.2, 29. , 33.6]]),\n",
       " '#5254a3': array([[44. , 31. , 29.2, ..., 30.9, 30.1, 30.7],\n",
       "        [31. , 43.7, 29.1, ..., 32.2, 31.3, 31.5],\n",
       "        [29.2, 29.1, 43.4, ..., 30. , 29.9, 30.2],\n",
       "        ...,\n",
       "        [30.9, 32.2, 30. , ..., 42.5, 38.6, 36.6],\n",
       "        [30.1, 31.3, 29.9, ..., 38.6, 42.4, 36.9],\n",
       "        [30.7, 31.5, 30.2, ..., 36.6, 36.9, 42.7]]),\n",
       " 'C0': array([[36.3]]),\n",
       " '#6b6ecf': array([[50.6,  2. ,  0.1,  0.1,  0.1,  0.1],\n",
       "        [ 2. , 26. , 15.7, 15.6,  0.1,  0.1],\n",
       "        [ 0.1, 15.7, 29.5, 24.7,  0.1,  0.1],\n",
       "        [ 0.1, 15.6, 24.7, 32.5,  0.1,  0.1],\n",
       "        [ 0.1,  0.1,  0.1,  0.1, 19.8,  4.7],\n",
       "        [ 0.1,  0.1,  0.1,  0.1,  4.7, 22.4]]),\n",
       " '#637939': array([[50.1, 35.3, 34.3, ..., 24.3, 23.5, 23.1],\n",
       "        [35.3, 53.4, 45. , ..., 24.8, 24.4, 23.8],\n",
       "        [34.3, 45. , 54.6, ..., 24.7, 24. , 23.5],\n",
       "        ...,\n",
       "        [24.3, 24.8, 24.7, ..., 44.3, 23.6, 24.2],\n",
       "        [23.5, 24.4, 24. , ..., 23.6, 48.1, 30.5],\n",
       "        [23.1, 23.8, 23.5, ..., 24.2, 30.5, 54.4]]),\n",
       " '#8ca252': array([[47.1, 23.2, 23.1, 23.4, 25.6, 25. , 22.3, 25.3],\n",
       "        [23.2, 51.3, 28.2, 28.6, 24.7, 26.8, 23.5, 21.9],\n",
       "        [23.1, 28.2, 52.2, 41.5, 25.3, 25.4, 22.8, 20.8],\n",
       "        [23.4, 28.6, 41.5, 52. , 25.6, 26.2, 22.8, 21. ],\n",
       "        [25.6, 24.7, 25.3, 25.6, 52. , 29.2, 22.5, 22.1],\n",
       "        [25. , 26.8, 25.4, 26.2, 29.2, 55.2, 22.4, 23.7],\n",
       "        [22.3, 23.5, 22.8, 22.8, 22.5, 22.4, 52.8, 19.5],\n",
       "        [25.3, 21.9, 20.8, 21. , 22.1, 23.7, 19.5, 39.6]]),\n",
       " '#b5cf6b': array([[54.2, 52.9, 51.7, ..., 29.3, 29. , 29.1],\n",
       "        [52.9, 53.8, 51.7, ..., 29. , 28.8, 28.8],\n",
       "        [51.7, 51.7, 53. , ..., 29.9, 29.6, 30. ],\n",
       "        ...,\n",
       "        [29.3, 29. , 29.9, ..., 55.8, 34.6, 34.9],\n",
       "        [29. , 28.8, 29.6, ..., 34.6, 55.4, 36.9],\n",
       "        [29.1, 28.8, 30. , ..., 34.9, 36.9, 51.9]]),\n",
       " '#8c6d31': array([[31. , 15.6, 11.2, ..., 13.5,  8.3,  8.1],\n",
       "        [15.6, 33. , 10. , ..., 12.4,  6.6,  7.9],\n",
       "        [11.2, 10. , 35.8, ...,  7.8, 12.3, 10.7],\n",
       "        ...,\n",
       "        [13.5, 12.4,  7.8, ..., 50.1,  6.8, 11.2],\n",
       "        [ 8.3,  6.6, 12.3, ...,  6.8, 49.8, 10.7],\n",
       "        [ 8.1,  7.9, 10.7, ..., 11.2, 10.7, 52.9]]),\n",
       " '#bd9e39': array([[40.8, 35.6, 34.4, ..., 22.7, 22.8, 22.9],\n",
       "        [35.6, 41.2, 35.7, ..., 23.1, 23.2, 23.2],\n",
       "        [34.4, 35.7, 40.9, ..., 22.9, 23. , 23.1],\n",
       "        ...,\n",
       "        [22.7, 23.1, 22.9, ..., 45.7, 37.7, 36. ],\n",
       "        [22.8, 23.2, 23. , ..., 37.7, 45.2, 39.8],\n",
       "        [22.9, 23.2, 23.1, ..., 36. , 39.8, 46.6]]),\n",
       " '#e7ba52': array([[46.6, 30.5, 31. , ..., 23.5, 23.6, 24.9],\n",
       "        [30.5, 47. , 32.7, ..., 23.6, 24.2, 25. ],\n",
       "        [31. , 32.7, 47.6, ..., 24.9, 24.7, 25.8],\n",
       "        ...,\n",
       "        [23.5, 23.6, 24.9, ..., 54.5, 23.8, 23.9],\n",
       "        [23.6, 24.2, 24.7, ..., 23.8, 52.2, 31.1],\n",
       "        [24.9, 25. , 25.8, ..., 23.9, 31.1, 55.7]]),\n",
       " '#843c39': array([[42.6, 35.6, 34.4, ..., 19. , 20.8, 21.7],\n",
       "        [35.6, 42.3, 37.6, ..., 18.6, 20.2, 21.7],\n",
       "        [34.4, 37.6, 42.3, ..., 18.7, 20. , 21.8],\n",
       "        ...,\n",
       "        [19. , 18.6, 18.7, ..., 41.6, 23.7, 25. ],\n",
       "        [20.8, 20.2, 20. , ..., 23.7, 41.6, 25.7],\n",
       "        [21.7, 21.7, 21.8, ..., 25. , 25.7, 40.1]]),\n",
       " '#ad494a': array([[46.4, 41.2, 26.8, ..., 18.8, 18.6, 19. ],\n",
       "        [41.2, 46.3, 26.9, ..., 19. , 18.2, 19.5],\n",
       "        [26.8, 26.9, 40.8, ..., 19.2, 18.6, 19.6],\n",
       "        ...,\n",
       "        [18.8, 19. , 19.2, ..., 51.7, 25.4, 28.1],\n",
       "        [18.6, 18.2, 18.6, ..., 25.4, 51.3, 27.2],\n",
       "        [19. , 19.5, 19.6, ..., 28.1, 27.2, 46.4]]),\n",
       " '#d6616b': array([[62.3, 41.4, 33.9, 32.9, 32.6, 33.3, 32.4, 33.3, 30.9, 32.4, 32.4],\n",
       "        [41.4, 62.6, 31.3, 29.9, 29.3, 30.1, 30.5, 29.8, 28.3, 29.7, 30.1],\n",
       "        [33.9, 31.3, 62.7, 47.8, 46.7, 47.5, 47.7, 44.3, 35.2, 43.2, 40.3],\n",
       "        [32.9, 29.9, 47.8, 62.6, 47.8, 47.6, 47.2, 44.9, 34.8, 42. , 39.1],\n",
       "        [32.6, 29.3, 46.7, 47.8, 63.4, 55.6, 46.5, 47.7, 34.7, 46.3, 41.6],\n",
       "        [33.3, 30.1, 47.5, 47.6, 55.6, 63.2, 48. , 48.3, 34.9, 46.1, 41.9],\n",
       "        [32.4, 30.5, 47.7, 47.2, 46.5, 48. , 61.1, 47.8, 36.8, 43.8, 40.7],\n",
       "        [33.3, 29.8, 44.3, 44.9, 47.7, 48.3, 47.8, 62.4, 34.5, 46.4, 41.9],\n",
       "        [30.9, 28.3, 35.2, 34.8, 34.7, 34.9, 36.8, 34.5, 61.5, 34.6, 33.3],\n",
       "        [32.4, 29.7, 43.2, 42. , 46.3, 46.1, 43.8, 46.4, 34.6, 62.7, 45.3],\n",
       "        [32.4, 30.1, 40.3, 39.1, 41.6, 41.9, 40.7, 41.9, 33.3, 45.3, 60.4]]),\n",
       " '#7b4173': array([[58.1, 36.2, 36.1, 36.4, 36.6, 36.7, 36.6, 37.2, 35.5, 29.7, 31.6,\n",
       "         31.4, 31.5, 26.2, 29.6],\n",
       "        [36.2, 52.3, 51.2, 40.3, 40.8, 41.1, 41.1, 41.6, 39.5, 32.5, 32.9,\n",
       "         32.8, 32.8, 27.2, 30.6],\n",
       "        [36.1, 51.2, 52.3, 40.2, 40.6, 41. , 41. , 41.5, 39.5, 32.4, 32.8,\n",
       "         32.7, 32.7, 27.2, 30.6],\n",
       "        [36.4, 40.3, 40.2, 52. , 47.7, 47.4, 47.9, 44.6, 45. , 31. , 31.1,\n",
       "         30.9, 31.1, 26. , 29.2],\n",
       "        [36.6, 40.8, 40.6, 47.7, 51.9, 50.2, 49.9, 45.2, 43.9, 31.1, 31.2,\n",
       "         30.9, 31.1, 26.2, 29.1],\n",
       "        [36.7, 41.1, 41. , 47.4, 50.2, 51.8, 50.3, 45.4, 43.8, 30.9, 31.1,\n",
       "         30.9, 31. , 26.1, 29.1],\n",
       "        [36.6, 41.1, 41. , 47.9, 49.9, 50.3, 51.9, 45.5, 44. , 30.8, 31. ,\n",
       "         30.7, 31. , 26.1, 29.1],\n",
       "        [37.2, 41.6, 41.5, 44.6, 45.2, 45.4, 45.5, 52.3, 46.1, 31.4, 31.4,\n",
       "         31.3, 31.4, 26.5, 29.9],\n",
       "        [35.5, 39.5, 39.5, 45. , 43.9, 43.8, 44. , 46.1, 52.2, 30.7, 30.9,\n",
       "         30.7, 30.9, 25.7, 28.7],\n",
       "        [29.7, 32.5, 32.4, 31. , 31.1, 30.9, 30.8, 31.4, 30.7, 51.1, 49. ,\n",
       "         48.1, 49.1, 26.5, 28.7],\n",
       "        [31.6, 32.9, 32.8, 31.1, 31.2, 31.1, 31. , 31.4, 30.9, 49. , 51.6,\n",
       "         50.1, 50.6, 26.6, 28.9],\n",
       "        [31.4, 32.8, 32.7, 30.9, 30.9, 30.9, 30.7, 31.3, 30.7, 48.1, 50.1,\n",
       "         51.3, 50. , 26.4, 28.8],\n",
       "        [31.5, 32.8, 32.7, 31.1, 31.1, 31. , 31. , 31.4, 30.9, 49.1, 50.6,\n",
       "         50. , 51.5, 26.6, 28.8],\n",
       "        [26.2, 27.2, 27.2, 26. , 26.2, 26.1, 26.1, 26.5, 25.7, 26.5, 26.6,\n",
       "         26.4, 26.6, 50.3, 27.2],\n",
       "        [29.6, 30.6, 30.6, 29.2, 29.1, 29.1, 29.1, 29.9, 28.7, 28.7, 28.9,\n",
       "         28.8, 28.8, 27.2, 50.7]]),\n",
       " '#a55194': array([[48.6, 38.8, 38.3, 37.9, 37.9, 38.1, 37.9, 38.1, 38.5, 37.9, 38.6,\n",
       "         26.7, 23.5, 25.3, 27.9, 26.2, 23.4],\n",
       "        [38.8, 50.2, 41.6, 38.4, 38.1, 38.2, 38.2, 39.4, 39.6, 40.2, 39.7,\n",
       "         26.5, 22.1, 24.5, 26.2, 25.5, 23.8],\n",
       "        [38.3, 41.6, 51.2, 38.2, 38. , 38. , 38. , 38.5, 38.8, 40.3, 39.5,\n",
       "         25.8, 22.4, 24.5, 27.2, 25.3, 23.8],\n",
       "        [37.9, 38.4, 38.2, 48.6, 46.3, 46. , 46.4, 41.3, 41.1, 38.3, 40.4,\n",
       "         28. , 22.2, 24.5, 27.6, 27.5, 25.8],\n",
       "        [37.9, 38.1, 38. , 46.3, 48.5, 47.2, 47.4, 42.3, 41.3, 38.2, 40.6,\n",
       "         28.1, 22.6, 24.8, 27.6, 27.9, 25.8],\n",
       "        [38.1, 38.2, 38. , 46. , 47.2, 48.5, 46.8, 42.3, 41.3, 38.3, 40.6,\n",
       "         28. , 22.7, 25. , 27.8, 28.1, 25.8],\n",
       "        [37.9, 38.2, 38. , 46.4, 47.4, 46.8, 48.6, 42.4, 41.2, 38.1, 40.5,\n",
       "         28.2, 22.5, 24.7, 27.5, 27.8, 25.4],\n",
       "        [38.1, 39.4, 38.5, 41.3, 42.3, 42.3, 42.4, 49.4, 44.9, 39.5, 44.9,\n",
       "         28.1, 23.2, 25.4, 27.8, 28. , 24.8],\n",
       "        [38.5, 39.6, 38.8, 41.1, 41.3, 41.3, 41.2, 44.9, 49.4, 40. , 45.7,\n",
       "         27.8, 23.4, 25.7, 28.8, 28. , 25.4],\n",
       "        [37.9, 40.2, 40.3, 38.3, 38.2, 38.3, 38.1, 39.5, 40. , 51.7, 39.5,\n",
       "         27.2, 22.2, 24.4, 27. , 26.3, 24. ],\n",
       "        [38.6, 39.7, 39.5, 40.4, 40.6, 40.6, 40.5, 44.9, 45.7, 39.5, 49.3,\n",
       "         27. , 23.6, 25.8, 29. , 27.9, 25.1],\n",
       "        [26.7, 26.5, 25.8, 28. , 28.1, 28. , 28.2, 28.1, 27.8, 27.2, 27. ,\n",
       "         49.5, 20.9, 23.1, 23. , 23.2, 23. ],\n",
       "        [23.5, 22.1, 22.4, 22.2, 22.6, 22.7, 22.5, 23.2, 23.4, 22.2, 23.6,\n",
       "         20.9, 46.9, 38.6, 27.8, 22.7, 25.5],\n",
       "        [25.3, 24.5, 24.5, 24.5, 24.8, 25. , 24.7, 25.4, 25.7, 24.4, 25.8,\n",
       "         23.1, 38.6, 47.7, 29.9, 25.8, 27.2],\n",
       "        [27.9, 26.2, 27.2, 27.6, 27.6, 27.8, 27.5, 27.8, 28.8, 27. , 29. ,\n",
       "         23. , 27.8, 29.9, 47.8, 27.3, 28.7],\n",
       "        [26.2, 25.5, 25.3, 27.5, 27.9, 28.1, 27.8, 28. , 28. , 26.3, 27.9,\n",
       "         23.2, 22.7, 25.8, 27.3, 49.9, 29. ],\n",
       "        [23.4, 23.8, 23.8, 25.8, 25.8, 25.8, 25.4, 24.8, 25.4, 24. , 25.1,\n",
       "         23. , 25.5, 27.2, 28.7, 29. , 53.3]]),\n",
       " '#ce6dbd': array([[55.8, 20.2],\n",
       "        [20.2, 46.8]]),\n",
       " '#de9ed6': array([[51.7, 35.7, 36.5, 36.7, 34.7, 35.6, 25.4, 26.3, 23.5, 21.8, 14.9,\n",
       "         15. , 13.6, 14.1, 13.2, 13. , 13.1, 14.6, 14.9, 14.8, 17.2, 17.1,\n",
       "         16.5, 16.1, 16. , 16.4, 18. , 16.3, 16.2, 16.3, 16.5],\n",
       "        [35.7, 54.1, 41.6, 41.9, 37. , 42.7, 26.1, 25.5, 23.4, 23. , 17.3,\n",
       "         16.7, 13.1, 13.5, 12.8, 12.7, 13.2, 13.7, 14.5, 14.3, 16.6, 16.8,\n",
       "         16.1, 16.1, 16.1, 16.4, 17.6, 16.4, 16.3, 16.3, 16.6],\n",
       "        [36.5, 41.6, 54. , 43.2, 36.7, 42.1, 25.5, 25.7, 23.6, 22.1, 17.4,\n",
       "         16.9, 13.2, 14. , 13.2, 12.8, 12.8, 13.8, 14.7, 14.2, 16.9, 16.9,\n",
       "         15.9, 15.7, 16.2, 15.8, 17. , 15.7, 15.7, 15.7, 15.9],\n",
       "        [36.7, 41.9, 43.2, 54.7, 39.1, 46.1, 27.5, 25.6, 25.5, 24.2, 18. ,\n",
       "         17.3, 13.4, 13.6, 12.7, 13.2, 12.9, 13.8, 14.3, 14.3, 17.2, 17.2,\n",
       "         16.5, 15.9, 16.5, 15.4, 17.4, 15.6, 15.6, 15.8, 16. ],\n",
       "        [34.7, 37. , 36.7, 39.1, 49.6, 40.2, 28.1, 26.4, 24.5, 23.1, 16.7,\n",
       "         15.9, 13.1, 13.6, 12.7, 12.9, 12.9, 14.3, 14.2, 13.9, 16.6, 16.6,\n",
       "         16.8, 16.2, 16.4, 16.1, 17.4, 15.8, 15.6, 15.5, 15.9],\n",
       "        [35.6, 42.7, 42.1, 46.1, 40.2, 55.1, 27.6, 25.8, 25.9, 24.9, 17.9,\n",
       "         17.9, 12.9, 13.3, 12.5, 12.7, 12.8, 13.6, 14.3, 13.8, 17. , 17.2,\n",
       "         16. , 15.5, 16.4, 15.7, 16.8, 15.4, 15.4, 15.4, 15.6],\n",
       "        [25.4, 26.1, 25.5, 27.5, 28.1, 27.6, 54.1, 32. , 32. , 28.9, 17.4,\n",
       "         16.3, 13.7, 13.8, 13.4, 13.7, 12.5, 14.5, 13.6, 14. , 17.4, 17.2,\n",
       "         16.6, 16.4, 14.8, 15.8, 16.6, 15.1, 14.9, 15. , 15.2],\n",
       "        [26.3, 25.5, 25.7, 25.6, 26.4, 25.8, 32. , 49.9, 24. , 22.1, 15.1,\n",
       "         14.7, 13.7, 14.1, 13. , 13.9, 13.1, 13.5, 13.8, 13.7, 15.8, 16. ,\n",
       "         15.9, 15.8, 15.2, 15.7, 16.7, 15.4, 15.1, 15. , 15.5],\n",
       "        [23.5, 23.4, 23.6, 25.5, 24.5, 25.9, 32. , 24. , 53.3, 29.4, 15.9,\n",
       "         15.4, 13.3, 14.1, 13.3, 13.7, 13.4, 14.8, 16.4, 13.7, 18.2, 18.1,\n",
       "         16.2, 15.6, 14.6, 15.7, 16.4, 15.2, 15.2, 15.4, 15.4],\n",
       "        [21.8, 23. , 22.1, 24.2, 23.1, 24.9, 28.9, 22.1, 29.4, 58.4, 15.3,\n",
       "         15.6, 13.9, 14.4, 13.8, 14.4, 14.4, 13.2, 13.7, 12.3, 16.8, 16.8,\n",
       "         14.9, 14.5, 14.4, 14.5, 16.6, 14.9, 14.8, 15.3, 15.2],\n",
       "        [14.9, 17.3, 17.4, 18. , 16.7, 17.9, 17.4, 15.1, 15.9, 15.3, 50.5,\n",
       "         21.3, 15.2, 15.5, 15.3, 14.4, 14.1, 13.7, 13.5, 13. , 13.8, 14.2,\n",
       "         14.5, 13.7, 13.5, 14.9, 13.9, 13.4, 13.5, 13.7, 13.4],\n",
       "        [15. , 16.7, 16.9, 17.3, 15.9, 17.9, 16.3, 14.7, 15.4, 15.6, 21.3,\n",
       "         53.9, 14.6, 14.2, 14.6, 13.2, 13.6, 14. , 14.9, 13.7, 13.3, 13.3,\n",
       "         14.5, 14.6, 13.6, 14.9, 14.2, 13.7, 13.9, 14.1, 13.9],\n",
       "        [13.6, 13.1, 13.2, 13.4, 13.1, 12.9, 13.7, 13.7, 13.3, 13.9, 15.2,\n",
       "         14.6, 53.4, 29.6, 25.7, 28. , 12.3, 12.5, 12.7, 12.1, 15.4, 15.4,\n",
       "         16.3, 16.5, 15.3, 14.8, 14.6, 15. , 14.6, 14.4, 14.6],\n",
       "        [14.1, 13.5, 14. , 13.6, 13.6, 13.3, 13.8, 14.1, 14.1, 14.4, 15.5,\n",
       "         14.2, 29.6, 49.4, 25.5, 28.7, 12.4, 12.3, 13.6, 12.8, 14.9, 14.9,\n",
       "         15.6, 15.6, 14.6, 14.6, 14.4, 15.3, 15.2, 15.1, 15.3],\n",
       "        [13.2, 12.8, 13.2, 12.7, 12.7, 12.5, 13.4, 13. , 13.3, 13.8, 15.3,\n",
       "         14.6, 25.7, 25.5, 54.1, 23.7, 12.2, 11.5, 11.8, 11.2, 13.3, 13.3,\n",
       "         14.3, 14.7, 13.6, 13.4, 13.9, 13.9, 13.7, 14.3, 14. ],\n",
       "        [13. , 12.7, 12.8, 13.2, 12.9, 12.7, 13.7, 13.9, 13.7, 14.4, 14.4,\n",
       "         13.2, 28. , 28.7, 23.7, 55.1, 11.8, 11.6, 11.8, 11.7, 13.6, 13.7,\n",
       "         13.9, 14.2, 13.8, 12.8, 12.6, 13.5, 13.4, 14.1, 13.8],\n",
       "        [13.1, 13.2, 12.8, 12.9, 12.9, 12.8, 12.5, 13.1, 13.4, 14.4, 14.1,\n",
       "         13.6, 12.3, 12.4, 12.2, 11.8, 52.4, 17.5, 14.4, 14.8, 13.3, 13.2,\n",
       "         11.9, 12.7, 13.7, 14.8, 13.5, 13.9, 14.2, 14.6, 14.5],\n",
       "        [14.6, 13.7, 13.8, 13.8, 14.3, 13.6, 14.5, 13.5, 14.8, 13.2, 13.7,\n",
       "         14. , 12.5, 12.3, 11.5, 11.6, 17.5, 50.5, 16.4, 20.5, 14.8, 14.7,\n",
       "         14.5, 14.9, 14.6, 14.8, 14.2, 14.4, 14.4, 14.7, 14.5],\n",
       "        [14.9, 14.5, 14.7, 14.3, 14.2, 14.3, 13.6, 13.8, 16.4, 13.7, 13.5,\n",
       "         14.9, 12.7, 13.6, 11.8, 11.8, 14.4, 16.4, 51.3, 17. , 13.9, 14.1,\n",
       "         14.4, 14.8, 13.2, 12.7, 13.2, 13.1, 12.9, 13.1, 13. ],\n",
       "        [14.8, 14.3, 14.2, 14.3, 13.9, 13.8, 14. , 13.7, 13.7, 12.3, 13. ,\n",
       "         13.7, 12.1, 12.8, 11.2, 11.7, 14.8, 20.5, 17. , 32.7, 13.3, 13.3,\n",
       "         14.1, 14.2, 12.5, 13.5, 14.4, 13.9, 13.8, 14.1, 13.9],\n",
       "        [17.2, 16.6, 16.9, 17.2, 16.6, 17. , 17.4, 15.8, 18.2, 16.8, 13.8,\n",
       "         13.3, 15.4, 14.9, 13.3, 13.6, 13.3, 14.8, 13.9, 13.3, 53.8, 50.8,\n",
       "         17. , 15.4, 17.5, 16.3, 18. , 16. , 15.6, 16. , 15.8],\n",
       "        [17.1, 16.8, 16.9, 17.2, 16.6, 17.2, 17.2, 16. , 18.1, 16.8, 14.2,\n",
       "         13.3, 15.4, 14.9, 13.3, 13.7, 13.2, 14.7, 14.1, 13.3, 50.8, 53.4,\n",
       "         17.1, 15.4, 17.7, 16. , 18. , 15.9, 15.5, 16. , 15.7],\n",
       "        [16.5, 16.1, 15.9, 16.5, 16.8, 16. , 16.6, 15.9, 16.2, 14.9, 14.5,\n",
       "         14.5, 16.3, 15.6, 14.3, 13.9, 11.9, 14.5, 14.4, 14.1, 17. , 17.1,\n",
       "         45.6, 31.6, 18.5, 18.3, 18.1, 17.3, 17.1, 16.6, 17.3],\n",
       "        [16.1, 16.1, 15.7, 15.9, 16.2, 15.5, 16.4, 15.8, 15.6, 14.5, 13.7,\n",
       "         14.6, 16.5, 15.6, 14.7, 14.2, 12.7, 14.9, 14.8, 14.2, 15.4, 15.4,\n",
       "         31.6, 45.4, 17.4, 17.9, 18.3, 17.6, 17.5, 16.9, 17.4],\n",
       "        [16. , 16.1, 16.2, 16.5, 16.4, 16.4, 14.8, 15.2, 14.6, 14.4, 13.5,\n",
       "         13.6, 15.3, 14.6, 13.6, 13.8, 13.7, 14.6, 13.2, 12.5, 17.5, 17.7,\n",
       "         18.5, 17.4, 56.7, 18.9, 19.8, 19.1, 18.8, 19. , 19. ],\n",
       "        [16.4, 16.4, 15.8, 15.4, 16.1, 15.7, 15.8, 15.7, 15.7, 14.5, 14.9,\n",
       "         14.9, 14.8, 14.6, 13.4, 12.8, 14.8, 14.8, 12.7, 13.5, 16.3, 16. ,\n",
       "         18.3, 17.9, 18.9, 43.8, 21. , 20.6, 20.4, 20.6, 20.2],\n",
       "        [18. , 17.6, 17. , 17.4, 17.4, 16.8, 16.6, 16.7, 16.4, 16.6, 13.9,\n",
       "         14.2, 14.6, 14.4, 13.9, 12.6, 13.5, 14.2, 13.2, 14.4, 18. , 18. ,\n",
       "         18.1, 18.3, 19.8, 21. , 40.2, 31.9, 31.4, 29.5, 31.3],\n",
       "        [16.3, 16.4, 15.7, 15.6, 15.8, 15.4, 15.1, 15.4, 15.2, 14.9, 13.4,\n",
       "         13.7, 15. , 15.3, 13.9, 13.5, 13.9, 14.4, 13.1, 13.9, 16. , 15.9,\n",
       "         17.3, 17.6, 19.1, 20.6, 31.9, 39.4, 37.8, 31.8, 33.4],\n",
       "        [16.2, 16.3, 15.7, 15.6, 15.6, 15.4, 14.9, 15.1, 15.2, 14.8, 13.5,\n",
       "         13.9, 14.6, 15.2, 13.7, 13.4, 14.2, 14.4, 12.9, 13.8, 15.6, 15.5,\n",
       "         17.1, 17.5, 18.8, 20.4, 31.4, 37.8, 39.3, 32.3, 34. ],\n",
       "        [16.3, 16.3, 15.7, 15.8, 15.5, 15.4, 15. , 15. , 15.4, 15.3, 13.7,\n",
       "         14.1, 14.4, 15.1, 14.3, 14.1, 14.6, 14.7, 13.1, 14.1, 16. , 16. ,\n",
       "         16.6, 16.9, 19. , 20.6, 29.5, 31.8, 32.3, 39.6, 34.9],\n",
       "        [16.5, 16.6, 15.9, 16. , 15.9, 15.6, 15.2, 15.5, 15.4, 15.2, 13.4,\n",
       "         13.9, 14.6, 15.3, 14. , 13.8, 14.5, 14.5, 13. , 13.9, 15.8, 15.7,\n",
       "         17.3, 17.4, 19. , 20.2, 31.3, 33.4, 34. , 34.9, 39.3]])}"
      ]
     },
     "execution_count": 4,
     "metadata": {},
     "output_type": "execute_result"
    }
   ],
   "source": [
    "clusters_similarity = {}\n",
    "\n",
    "for cluster_name, cluster_members in cluster_dict.items():\n",
    "    clusters_similarity[cluster_name] = similar_submatrix[np.ix_(cluster_members, cluster_members)]\n",
    "\n",
    "clusters_similarity"
   ]
  },
  {
   "cell_type": "markdown",
   "metadata": {},
   "source": [
    "And now finally, we can calculate the mean distance for each structure in each cluster, and print it out:"
   ]
  },
  {
   "cell_type": "code",
   "execution_count": 5,
   "metadata": {},
   "outputs": [
    {
     "name": "stdout",
     "output_type": "stream",
     "text": [
      "330\n",
      "335\n",
      "13\n",
      "1\n",
      "86\n",
      "139\n",
      "147\n",
      "669\n",
      "552\n",
      "274\n",
      "723\n",
      "730\n",
      "762\n",
      "14\n",
      "638\n",
      "329\n",
      "656\n"
     ]
    }
   ],
   "source": [
    "for cluster_name, similarities in clusters_similarity.items():\n",
    "    mean_distances = np.mean(similarities, axis=1)\n",
    "\n",
    "    centre_index = np.argmin(mean_distances)\n",
    "    centre_structure_index = cluster_dict[cluster_name][centre_index]\n",
    "    print(centre_structure_index)"
   ]
  },
  {
   "cell_type": "markdown",
   "metadata": {},
   "source": [
    "Finally! These are our \"centroid\" structures - let's get their MGYP accessions:"
   ]
  },
  {
   "cell_type": "code",
   "execution_count": 6,
   "metadata": {},
   "outputs": [
    {
     "name": "stdout",
     "output_type": "stream",
     "text": [
      "MGYP003644569838\n",
      "MGYP001596099228\n",
      "MGYP000593196585\n",
      "MGYP003703364957\n",
      "MGYP003325516961\n",
      "MGYP000527898060\n",
      "MGYP001775299270\n",
      "MGYP000345353568\n",
      "MGYP001772626497\n",
      "MGYP003131547602\n",
      "MGYP003131763798\n",
      "MGYP003645114312\n",
      "MGYP003290296536\n",
      "MGYP000296441433\n",
      "MGYP003221559410\n",
      "MGYP001330071390\n",
      "MGYP000610571525\n"
     ]
    }
   ],
   "source": [
    "#Load the labels into a list for reference\n",
    "with open(\"../DALI/ordered\", \"r\") as matrixfile:\n",
    "    matrixfile.readline()\n",
    "    identifiers = [line.rstrip().split()[0] for line in matrixfile]\n",
    "\n",
    "#Load our file mapping each DALI four-letter identifier to a PDB filename\n",
    "with open(\"../DALI/chain_id_mapping.txt\", \"r\") as mapping_file:\n",
    "    chain_mapping_dict = {line.split()[0]: line.split()[1].split(\"_ptm0\")[0].replace(\".pdb\", \"\") for line in mapping_file}\n",
    "\n",
    "def get_sequence_name_from_matrix_index(index):\n",
    "    return(chain_mapping_dict[identifiers[index]])\n",
    "\n",
    "for cluster_name, similarities in clusters_similarity.items():\n",
    "    mean_distances = np.mean(similarities, axis=1)\n",
    "\n",
    "    centre_index = np.argmin(mean_distances)\n",
    "    centre_structure_index = cluster_dict[cluster_name][centre_index]\n",
    "    print(get_sequence_name_from_matrix_index(centre_structure_index + 130)) #We need to add 130 to the index since we're using a subset of the full DALI similarity matrix"
   ]
  },
  {
   "cell_type": "markdown",
   "metadata": {},
   "source": [
    "We'll pack all of this code up into a separate script in the `scripts` directory for better readability.\n",
    "\n",
    "## Comparing AF2 and ESMFold Predictions\n",
    "\n",
    "Now we've predicted structures for the sequences chosen above, which are located in the `AF2_predictions` folder. We also have ESMFold predictions for these files in the `structures/confident` folder.\n",
    "\n",
    "We've written a script `scripts/make_af2_dataframe.py` which will calculate TM-Scores and pLDDTs for all these structures and put them in a DataFrame. Let's load this data:"
   ]
  },
  {
   "cell_type": "code",
   "execution_count": 51,
   "metadata": {},
   "outputs": [
    {
     "data": {
      "text/html": [
       "<div>\n",
       "<style scoped>\n",
       "    .dataframe tbody tr th:only-of-type {\n",
       "        vertical-align: middle;\n",
       "    }\n",
       "\n",
       "    .dataframe tbody tr th {\n",
       "        vertical-align: top;\n",
       "    }\n",
       "\n",
       "    .dataframe thead th {\n",
       "        text-align: right;\n",
       "    }\n",
       "</style>\n",
       "<table border=\"1\" class=\"dataframe\">\n",
       "  <thead>\n",
       "    <tr style=\"text-align: right;\">\n",
       "      <th></th>\n",
       "      <th>Accession</th>\n",
       "      <th>TM-Score</th>\n",
       "      <th>ESMFold pLDDT</th>\n",
       "      <th>AF2 pLDDT</th>\n",
       "    </tr>\n",
       "  </thead>\n",
       "  <tbody>\n",
       "    <tr>\n",
       "      <th>0</th>\n",
       "      <td>MGYP000527898060</td>\n",
       "      <td>0.83661</td>\n",
       "      <td>77.135999</td>\n",
       "      <td>86.833011</td>\n",
       "    </tr>\n",
       "    <tr>\n",
       "      <th>1</th>\n",
       "      <td>MGYP003251308532</td>\n",
       "      <td>0.81644</td>\n",
       "      <td>86.536552</td>\n",
       "      <td>79.267024</td>\n",
       "    </tr>\n",
       "    <tr>\n",
       "      <th>2</th>\n",
       "      <td>MGYP000430909014</td>\n",
       "      <td>0.90716</td>\n",
       "      <td>84.875346</td>\n",
       "      <td>76.904364</td>\n",
       "    </tr>\n",
       "    <tr>\n",
       "      <th>3</th>\n",
       "      <td>MGYP001775310354</td>\n",
       "      <td>0.93801</td>\n",
       "      <td>83.593149</td>\n",
       "      <td>83.783390</td>\n",
       "    </tr>\n",
       "    <tr>\n",
       "      <th>4</th>\n",
       "      <td>MGYP003239287391</td>\n",
       "      <td>0.88060</td>\n",
       "      <td>74.549306</td>\n",
       "      <td>79.177630</td>\n",
       "    </tr>\n",
       "  </tbody>\n",
       "</table>\n",
       "</div>"
      ],
      "text/plain": [
       "          Accession  TM-Score  ESMFold pLDDT  AF2 pLDDT\n",
       "0  MGYP000527898060   0.83661      77.135999  86.833011\n",
       "1  MGYP003251308532   0.81644      86.536552  79.267024\n",
       "2  MGYP000430909014   0.90716      84.875346  76.904364\n",
       "3  MGYP001775310354   0.93801      83.593149  83.783390\n",
       "4  MGYP003239287391   0.88060      74.549306  79.177630"
      ]
     },
     "execution_count": 51,
     "metadata": {},
     "output_type": "execute_result"
    }
   ],
   "source": [
    "import pandas as pd\n",
    "\n",
    "af2_df = pd.read_csv(\"../metadata/AF2_vs_ESMFold_predictions.csv\")\n",
    "af2_df.head()"
   ]
  },
  {
   "cell_type": "markdown",
   "metadata": {},
   "source": [
    "Some of the ESMFold pLDDT values are scaled down by a factor of 100, so let's fix these:"
   ]
  },
  {
   "cell_type": "code",
   "execution_count": 52,
   "metadata": {},
   "outputs": [],
   "source": [
    "def fix_plddt(plddt):\n",
    "    if plddt < 1:\n",
    "        return(plddt * 100)\n",
    "    return(plddt)\n",
    "\n",
    "af2_df[\"ESMFold pLDDT\"] = af2_df[\"ESMFold pLDDT\"].apply(fix_plddt)"
   ]
  },
  {
   "cell_type": "markdown",
   "metadata": {},
   "source": [
    "We'll also merge with our structure clusters so we can label with these if necessary:"
   ]
  },
  {
   "cell_type": "code",
   "execution_count": 53,
   "metadata": {},
   "outputs": [
    {
     "data": {
      "text/html": [
       "<div>\n",
       "<style scoped>\n",
       "    .dataframe tbody tr th:only-of-type {\n",
       "        vertical-align: middle;\n",
       "    }\n",
       "\n",
       "    .dataframe tbody tr th {\n",
       "        vertical-align: top;\n",
       "    }\n",
       "\n",
       "    .dataframe thead th {\n",
       "        text-align: right;\n",
       "    }\n",
       "</style>\n",
       "<table border=\"1\" class=\"dataframe\">\n",
       "  <thead>\n",
       "    <tr style=\"text-align: right;\">\n",
       "      <th></th>\n",
       "      <th>Accession</th>\n",
       "      <th>TM-Score</th>\n",
       "      <th>ESMFold pLDDT</th>\n",
       "      <th>AF2 pLDDT</th>\n",
       "      <th>Cluster</th>\n",
       "      <th>Length</th>\n",
       "      <th>mW</th>\n",
       "      <th>pI</th>\n",
       "      <th>T_maritima_T1</th>\n",
       "      <th>M_xanthus_T3</th>\n",
       "      <th>S_elongatus_T1</th>\n",
       "      <th>Q_thermotolerans_T4</th>\n",
       "      <th>Closest Match</th>\n",
       "      <th>Longest Disordered Region (pLDDT)</th>\n",
       "    </tr>\n",
       "  </thead>\n",
       "  <tbody>\n",
       "    <tr>\n",
       "      <th>0</th>\n",
       "      <td>MGYP000527898060</td>\n",
       "      <td>0.83661</td>\n",
       "      <td>77.135999</td>\n",
       "      <td>86.833011</td>\n",
       "      <td>5</td>\n",
       "      <td>281</td>\n",
       "      <td>31.899270</td>\n",
       "      <td>5.425134</td>\n",
       "      <td>0.332481</td>\n",
       "      <td>0.355890</td>\n",
       "      <td>0.395577</td>\n",
       "      <td>0.395466</td>\n",
       "      <td>S_elongatus_T1</td>\n",
       "      <td>34.0</td>\n",
       "    </tr>\n",
       "    <tr>\n",
       "      <th>1</th>\n",
       "      <td>MGYP003251308532</td>\n",
       "      <td>0.81644</td>\n",
       "      <td>86.536552</td>\n",
       "      <td>79.267024</td>\n",
       "      <td>13</td>\n",
       "      <td>445</td>\n",
       "      <td>48.381991</td>\n",
       "      <td>5.365339</td>\n",
       "      <td>0.317136</td>\n",
       "      <td>0.330827</td>\n",
       "      <td>0.326781</td>\n",
       "      <td>0.367758</td>\n",
       "      <td>Q_thermotolerans_T4</td>\n",
       "      <td>9.0</td>\n",
       "    </tr>\n",
       "    <tr>\n",
       "      <th>2</th>\n",
       "      <td>MGYP000430909014</td>\n",
       "      <td>0.90716</td>\n",
       "      <td>84.875346</td>\n",
       "      <td>76.904364</td>\n",
       "      <td>14</td>\n",
       "      <td>350</td>\n",
       "      <td>39.080248</td>\n",
       "      <td>4.707542</td>\n",
       "      <td>0.283887</td>\n",
       "      <td>0.305764</td>\n",
       "      <td>0.304668</td>\n",
       "      <td>0.322418</td>\n",
       "      <td>Q_thermotolerans_T4</td>\n",
       "      <td>6.0</td>\n",
       "    </tr>\n",
       "    <tr>\n",
       "      <th>3</th>\n",
       "      <td>MGYP001775310354</td>\n",
       "      <td>0.93801</td>\n",
       "      <td>83.593149</td>\n",
       "      <td>83.783390</td>\n",
       "      <td>13</td>\n",
       "      <td>360</td>\n",
       "      <td>40.687942</td>\n",
       "      <td>5.740875</td>\n",
       "      <td>0.312020</td>\n",
       "      <td>0.343358</td>\n",
       "      <td>0.285012</td>\n",
       "      <td>0.380353</td>\n",
       "      <td>Q_thermotolerans_T4</td>\n",
       "      <td>7.0</td>\n",
       "    </tr>\n",
       "    <tr>\n",
       "      <th>4</th>\n",
       "      <td>MGYP003239287391</td>\n",
       "      <td>0.88060</td>\n",
       "      <td>74.549306</td>\n",
       "      <td>79.177630</td>\n",
       "      <td>14</td>\n",
       "      <td>337</td>\n",
       "      <td>37.046188</td>\n",
       "      <td>4.705041</td>\n",
       "      <td>0.283887</td>\n",
       "      <td>0.315789</td>\n",
       "      <td>0.294840</td>\n",
       "      <td>0.335013</td>\n",
       "      <td>Q_thermotolerans_T4</td>\n",
       "      <td>19.0</td>\n",
       "    </tr>\n",
       "  </tbody>\n",
       "</table>\n",
       "</div>"
      ],
      "text/plain": [
       "          Accession  TM-Score  ESMFold pLDDT  AF2 pLDDT Cluster  Length  \\\n",
       "0  MGYP000527898060   0.83661      77.135999  86.833011       5     281   \n",
       "1  MGYP003251308532   0.81644      86.536552  79.267024      13     445   \n",
       "2  MGYP000430909014   0.90716      84.875346  76.904364      14     350   \n",
       "3  MGYP001775310354   0.93801      83.593149  83.783390      13     360   \n",
       "4  MGYP003239287391   0.88060      74.549306  79.177630      14     337   \n",
       "\n",
       "          mW        pI  T_maritima_T1  M_xanthus_T3  S_elongatus_T1  \\\n",
       "0  31.899270  5.425134       0.332481      0.355890        0.395577   \n",
       "1  48.381991  5.365339       0.317136      0.330827        0.326781   \n",
       "2  39.080248  4.707542       0.283887      0.305764        0.304668   \n",
       "3  40.687942  5.740875       0.312020      0.343358        0.285012   \n",
       "4  37.046188  4.705041       0.283887      0.315789        0.294840   \n",
       "\n",
       "   Q_thermotolerans_T4        Closest Match  Longest Disordered Region (pLDDT)  \n",
       "0             0.395466       S_elongatus_T1                               34.0  \n",
       "1             0.367758  Q_thermotolerans_T4                                9.0  \n",
       "2             0.322418  Q_thermotolerans_T4                                6.0  \n",
       "3             0.380353  Q_thermotolerans_T4                                7.0  \n",
       "4             0.335013  Q_thermotolerans_T4                               19.0  "
      ]
     },
     "execution_count": 53,
     "metadata": {},
     "output_type": "execute_result"
    }
   ],
   "source": [
    "dali_df = pd.read_csv(\"../metadata/DALI_cluster_table_2.csv\").rename(columns={\"MGYP\": \"Accession\"})\n",
    "af2_df = af2_df.merge(dali_df, on=\"Accession\")\n",
    "af2_df.head()"
   ]
  },
  {
   "cell_type": "code",
   "execution_count": 54,
   "metadata": {},
   "outputs": [
    {
     "data": {
      "application/vnd.plotly.v1+json": {
       "config": {
        "plotlyServerURL": "https://plot.ly"
       },
       "data": [
        {
         "marker": {
          "color": [
           0.83661,
           0.81644,
           0.90716,
           0.93801,
           0.8806,
           0.89358,
           0.92692,
           0.85332,
           0.93036,
           0.90965,
           0.96052,
           0.91902,
           0.72101,
           0.91566,
           0.9083,
           0.7389,
           0.85976,
           0.94928,
           0.9546,
           0.8085,
           0.77405,
           0.93967,
           0.83466,
           0.80704,
           0.88995,
           0.94803,
           0.87551,
           0.91898,
           0.87894,
           0.73913,
           0.82482,
           0.87455,
           0.80914,
           0.90445,
           0.83681,
           0.85933,
           0.88771,
           0.86991,
           0.90499,
           0.92053,
           0.7081,
           0.98037
          ],
          "colorscale": [
           [
            0,
            "rgb(252,251,253)"
           ],
           [
            0.125,
            "rgb(239,237,245)"
           ],
           [
            0.25,
            "rgb(218,218,235)"
           ],
           [
            0.375,
            "rgb(188,189,220)"
           ],
           [
            0.5,
            "rgb(158,154,200)"
           ],
           [
            0.625,
            "rgb(128,125,186)"
           ],
           [
            0.75,
            "rgb(106,81,163)"
           ],
           [
            0.875,
            "rgb(84,39,143)"
           ],
           [
            1,
            "rgb(63,0,125)"
           ]
          ],
          "line": {
           "color": "darkslategrey",
           "width": 1
          },
          "showscale": true,
          "size": 16
         },
         "mode": "markers",
         "showlegend": false,
         "type": "scatter",
         "x": [
          77.13599910594532,
          86.53655212922165,
          84.87534570596807,
          83.59314924851448,
          74.54930571538178,
          87.35016548463359,
          77.72608907446076,
          79.27938845234034,
          87.63559724018988,
          85.21529243937216,
          90.67352313167252,
          84.8069193659546,
          71.79695554725427,
          72.9091871737507,
          78.39013824884779,
          86.67026015680693,
          71.30843688167782,
          84.33874162323156,
          87.12729658792703,
          77.53462138595705,
          71.46504250952799,
          87.35761693410723,
          82.20542883211687,
          70.52388790560457,
          83.65461393597057,
          83.10902439024379,
          72.5407893841443,
          77.16945351549485,
          83.08573540280915,
          76.59277118410151,
          71.18742116765534,
          78.0241885479282,
          70.46299435028234,
          91.36360588235289,
          74.23063261063263,
          83.61135249918333,
          75.68083600256254,
          77.89434872501701,
          82.38436044428514,
          85.50530000000005,
          85.09381482904348,
          83.77053941908706
         ],
         "y": [
          86.83301123595473,
          79.26702417582398,
          76.90436400666576,
          83.78338988980246,
          79.17762994569492,
          91.48511053621812,
          82.81884372810045,
          82.56304496495159,
          81.67691144708405,
          86.1604226032346,
          86.55634821428589,
          83.28400789564054,
          82.91080553449596,
          78.06852262061196,
          61.31175628433476,
          93.0058073704826,
          77.08051144278639,
          82.00442942942931,
          83.0424769736848,
          72.7410036917395,
          84.62182713837846,
          84.27580134274402,
          84.55104267589515,
          84.29166117928762,
          86.89728509352018,
          83.20284271778148,
          61.22937329700347,
          83.12789596922578,
          85.7638568514746,
          82.27797308431806,
          83.64433369957588,
          90.7234949302927,
          87.67066924066809,
          80.60277175505388,
          83.63856627592304,
          85.2663637854686,
          82.47844905175137,
          79.49034405255853,
          80.60405972850806,
          80.38197424892681,
          91.21090960558628,
          92.9186063902107
         ]
        },
        {
         "line": {
          "color": "black"
         },
         "mode": "lines",
         "showlegend": false,
         "type": "scatter",
         "x": [
          65,
          65.3030303030303,
          65.60606060606061,
          65.9090909090909,
          66.21212121212122,
          66.51515151515152,
          66.81818181818181,
          67.12121212121212,
          67.42424242424242,
          67.72727272727273,
          68.03030303030303,
          68.33333333333333,
          68.63636363636364,
          68.93939393939394,
          69.24242424242425,
          69.54545454545455,
          69.84848484848484,
          70.15151515151516,
          70.45454545454545,
          70.75757575757575,
          71.06060606060606,
          71.36363636363636,
          71.66666666666667,
          71.96969696969697,
          72.27272727272728,
          72.57575757575758,
          72.87878787878788,
          73.18181818181819,
          73.48484848484848,
          73.78787878787878,
          74.0909090909091,
          74.39393939393939,
          74.6969696969697,
          75,
          75.3030303030303,
          75.60606060606061,
          75.9090909090909,
          76.21212121212122,
          76.51515151515152,
          76.81818181818181,
          77.12121212121212,
          77.42424242424242,
          77.72727272727273,
          78.03030303030303,
          78.33333333333333,
          78.63636363636364,
          78.93939393939394,
          79.24242424242425,
          79.54545454545455,
          79.84848484848484,
          80.15151515151516,
          80.45454545454545,
          80.75757575757575,
          81.06060606060606,
          81.36363636363636,
          81.66666666666667,
          81.96969696969697,
          82.27272727272728,
          82.57575757575758,
          82.87878787878788,
          83.18181818181819,
          83.48484848484848,
          83.78787878787878,
          84.0909090909091,
          84.39393939393939,
          84.6969696969697,
          85,
          85.30303030303031,
          85.60606060606061,
          85.9090909090909,
          86.21212121212122,
          86.51515151515152,
          86.81818181818181,
          87.12121212121212,
          87.42424242424242,
          87.72727272727272,
          88.03030303030303,
          88.33333333333334,
          88.63636363636364,
          88.93939393939394,
          89.24242424242425,
          89.54545454545455,
          89.84848484848484,
          90.15151515151516,
          90.45454545454545,
          90.75757575757575,
          91.06060606060606,
          91.36363636363636,
          91.66666666666667,
          91.96969696969697,
          92.27272727272728,
          92.57575757575758,
          92.87878787878788,
          93.18181818181819,
          93.48484848484848,
          93.78787878787878,
          94.0909090909091,
          94.39393939393939,
          94.6969696969697,
          95
         ],
         "y": [
          65,
          65.3030303030303,
          65.60606060606061,
          65.9090909090909,
          66.21212121212122,
          66.51515151515152,
          66.81818181818181,
          67.12121212121212,
          67.42424242424242,
          67.72727272727273,
          68.03030303030303,
          68.33333333333333,
          68.63636363636364,
          68.93939393939394,
          69.24242424242425,
          69.54545454545455,
          69.84848484848484,
          70.15151515151516,
          70.45454545454545,
          70.75757575757575,
          71.06060606060606,
          71.36363636363636,
          71.66666666666667,
          71.96969696969697,
          72.27272727272728,
          72.57575757575758,
          72.87878787878788,
          73.18181818181819,
          73.48484848484848,
          73.78787878787878,
          74.0909090909091,
          74.39393939393939,
          74.6969696969697,
          75,
          75.3030303030303,
          75.60606060606061,
          75.9090909090909,
          76.21212121212122,
          76.51515151515152,
          76.81818181818181,
          77.12121212121212,
          77.42424242424242,
          77.72727272727273,
          78.03030303030303,
          78.33333333333333,
          78.63636363636364,
          78.93939393939394,
          79.24242424242425,
          79.54545454545455,
          79.84848484848484,
          80.15151515151516,
          80.45454545454545,
          80.75757575757575,
          81.06060606060606,
          81.36363636363636,
          81.66666666666667,
          81.96969696969697,
          82.27272727272728,
          82.57575757575758,
          82.87878787878788,
          83.18181818181819,
          83.48484848484848,
          83.78787878787878,
          84.0909090909091,
          84.39393939393939,
          84.6969696969697,
          85,
          85.30303030303031,
          85.60606060606061,
          85.9090909090909,
          86.21212121212122,
          86.51515151515152,
          86.81818181818181,
          87.12121212121212,
          87.42424242424242,
          87.72727272727272,
          88.03030303030303,
          88.33333333333334,
          88.63636363636364,
          88.93939393939394,
          89.24242424242425,
          89.54545454545455,
          89.84848484848484,
          90.15151515151516,
          90.45454545454545,
          90.75757575757575,
          91.06060606060606,
          91.36363636363636,
          91.66666666666667,
          91.96969696969697,
          92.27272727272728,
          92.57575757575758,
          92.87878787878788,
          93.18181818181819,
          93.48484848484848,
          93.78787878787878,
          94.0909090909091,
          94.39393939393939,
          94.6969696969697,
          95
         ]
        }
       ],
       "layout": {
        "font": {
         "size": 16
        },
        "height": 600,
        "template": {
         "data": {
          "bar": [
           {
            "error_x": {
             "color": "#2a3f5f"
            },
            "error_y": {
             "color": "#2a3f5f"
            },
            "marker": {
             "line": {
              "color": "white",
              "width": 0.5
             },
             "pattern": {
              "fillmode": "overlay",
              "size": 10,
              "solidity": 0.2
             }
            },
            "type": "bar"
           }
          ],
          "barpolar": [
           {
            "marker": {
             "line": {
              "color": "white",
              "width": 0.5
             },
             "pattern": {
              "fillmode": "overlay",
              "size": 10,
              "solidity": 0.2
             }
            },
            "type": "barpolar"
           }
          ],
          "carpet": [
           {
            "aaxis": {
             "endlinecolor": "#2a3f5f",
             "gridcolor": "#C8D4E3",
             "linecolor": "#C8D4E3",
             "minorgridcolor": "#C8D4E3",
             "startlinecolor": "#2a3f5f"
            },
            "baxis": {
             "endlinecolor": "#2a3f5f",
             "gridcolor": "#C8D4E3",
             "linecolor": "#C8D4E3",
             "minorgridcolor": "#C8D4E3",
             "startlinecolor": "#2a3f5f"
            },
            "type": "carpet"
           }
          ],
          "choropleth": [
           {
            "colorbar": {
             "outlinewidth": 0,
             "ticks": ""
            },
            "type": "choropleth"
           }
          ],
          "contour": [
           {
            "colorbar": {
             "outlinewidth": 0,
             "ticks": ""
            },
            "colorscale": [
             [
              0,
              "#0d0887"
             ],
             [
              0.1111111111111111,
              "#46039f"
             ],
             [
              0.2222222222222222,
              "#7201a8"
             ],
             [
              0.3333333333333333,
              "#9c179e"
             ],
             [
              0.4444444444444444,
              "#bd3786"
             ],
             [
              0.5555555555555556,
              "#d8576b"
             ],
             [
              0.6666666666666666,
              "#ed7953"
             ],
             [
              0.7777777777777778,
              "#fb9f3a"
             ],
             [
              0.8888888888888888,
              "#fdca26"
             ],
             [
              1,
              "#f0f921"
             ]
            ],
            "type": "contour"
           }
          ],
          "contourcarpet": [
           {
            "colorbar": {
             "outlinewidth": 0,
             "ticks": ""
            },
            "type": "contourcarpet"
           }
          ],
          "heatmap": [
           {
            "colorbar": {
             "outlinewidth": 0,
             "ticks": ""
            },
            "colorscale": [
             [
              0,
              "#0d0887"
             ],
             [
              0.1111111111111111,
              "#46039f"
             ],
             [
              0.2222222222222222,
              "#7201a8"
             ],
             [
              0.3333333333333333,
              "#9c179e"
             ],
             [
              0.4444444444444444,
              "#bd3786"
             ],
             [
              0.5555555555555556,
              "#d8576b"
             ],
             [
              0.6666666666666666,
              "#ed7953"
             ],
             [
              0.7777777777777778,
              "#fb9f3a"
             ],
             [
              0.8888888888888888,
              "#fdca26"
             ],
             [
              1,
              "#f0f921"
             ]
            ],
            "type": "heatmap"
           }
          ],
          "heatmapgl": [
           {
            "colorbar": {
             "outlinewidth": 0,
             "ticks": ""
            },
            "colorscale": [
             [
              0,
              "#0d0887"
             ],
             [
              0.1111111111111111,
              "#46039f"
             ],
             [
              0.2222222222222222,
              "#7201a8"
             ],
             [
              0.3333333333333333,
              "#9c179e"
             ],
             [
              0.4444444444444444,
              "#bd3786"
             ],
             [
              0.5555555555555556,
              "#d8576b"
             ],
             [
              0.6666666666666666,
              "#ed7953"
             ],
             [
              0.7777777777777778,
              "#fb9f3a"
             ],
             [
              0.8888888888888888,
              "#fdca26"
             ],
             [
              1,
              "#f0f921"
             ]
            ],
            "type": "heatmapgl"
           }
          ],
          "histogram": [
           {
            "marker": {
             "pattern": {
              "fillmode": "overlay",
              "size": 10,
              "solidity": 0.2
             }
            },
            "type": "histogram"
           }
          ],
          "histogram2d": [
           {
            "colorbar": {
             "outlinewidth": 0,
             "ticks": ""
            },
            "colorscale": [
             [
              0,
              "#0d0887"
             ],
             [
              0.1111111111111111,
              "#46039f"
             ],
             [
              0.2222222222222222,
              "#7201a8"
             ],
             [
              0.3333333333333333,
              "#9c179e"
             ],
             [
              0.4444444444444444,
              "#bd3786"
             ],
             [
              0.5555555555555556,
              "#d8576b"
             ],
             [
              0.6666666666666666,
              "#ed7953"
             ],
             [
              0.7777777777777778,
              "#fb9f3a"
             ],
             [
              0.8888888888888888,
              "#fdca26"
             ],
             [
              1,
              "#f0f921"
             ]
            ],
            "type": "histogram2d"
           }
          ],
          "histogram2dcontour": [
           {
            "colorbar": {
             "outlinewidth": 0,
             "ticks": ""
            },
            "colorscale": [
             [
              0,
              "#0d0887"
             ],
             [
              0.1111111111111111,
              "#46039f"
             ],
             [
              0.2222222222222222,
              "#7201a8"
             ],
             [
              0.3333333333333333,
              "#9c179e"
             ],
             [
              0.4444444444444444,
              "#bd3786"
             ],
             [
              0.5555555555555556,
              "#d8576b"
             ],
             [
              0.6666666666666666,
              "#ed7953"
             ],
             [
              0.7777777777777778,
              "#fb9f3a"
             ],
             [
              0.8888888888888888,
              "#fdca26"
             ],
             [
              1,
              "#f0f921"
             ]
            ],
            "type": "histogram2dcontour"
           }
          ],
          "mesh3d": [
           {
            "colorbar": {
             "outlinewidth": 0,
             "ticks": ""
            },
            "type": "mesh3d"
           }
          ],
          "parcoords": [
           {
            "line": {
             "colorbar": {
              "outlinewidth": 0,
              "ticks": ""
             }
            },
            "type": "parcoords"
           }
          ],
          "pie": [
           {
            "automargin": true,
            "type": "pie"
           }
          ],
          "scatter": [
           {
            "fillpattern": {
             "fillmode": "overlay",
             "size": 10,
             "solidity": 0.2
            },
            "type": "scatter"
           }
          ],
          "scatter3d": [
           {
            "line": {
             "colorbar": {
              "outlinewidth": 0,
              "ticks": ""
             }
            },
            "marker": {
             "colorbar": {
              "outlinewidth": 0,
              "ticks": ""
             }
            },
            "type": "scatter3d"
           }
          ],
          "scattercarpet": [
           {
            "marker": {
             "colorbar": {
              "outlinewidth": 0,
              "ticks": ""
             }
            },
            "type": "scattercarpet"
           }
          ],
          "scattergeo": [
           {
            "marker": {
             "colorbar": {
              "outlinewidth": 0,
              "ticks": ""
             }
            },
            "type": "scattergeo"
           }
          ],
          "scattergl": [
           {
            "marker": {
             "colorbar": {
              "outlinewidth": 0,
              "ticks": ""
             }
            },
            "type": "scattergl"
           }
          ],
          "scattermapbox": [
           {
            "marker": {
             "colorbar": {
              "outlinewidth": 0,
              "ticks": ""
             }
            },
            "type": "scattermapbox"
           }
          ],
          "scatterpolar": [
           {
            "marker": {
             "colorbar": {
              "outlinewidth": 0,
              "ticks": ""
             }
            },
            "type": "scatterpolar"
           }
          ],
          "scatterpolargl": [
           {
            "marker": {
             "colorbar": {
              "outlinewidth": 0,
              "ticks": ""
             }
            },
            "type": "scatterpolargl"
           }
          ],
          "scatterternary": [
           {
            "marker": {
             "colorbar": {
              "outlinewidth": 0,
              "ticks": ""
             }
            },
            "type": "scatterternary"
           }
          ],
          "surface": [
           {
            "colorbar": {
             "outlinewidth": 0,
             "ticks": ""
            },
            "colorscale": [
             [
              0,
              "#0d0887"
             ],
             [
              0.1111111111111111,
              "#46039f"
             ],
             [
              0.2222222222222222,
              "#7201a8"
             ],
             [
              0.3333333333333333,
              "#9c179e"
             ],
             [
              0.4444444444444444,
              "#bd3786"
             ],
             [
              0.5555555555555556,
              "#d8576b"
             ],
             [
              0.6666666666666666,
              "#ed7953"
             ],
             [
              0.7777777777777778,
              "#fb9f3a"
             ],
             [
              0.8888888888888888,
              "#fdca26"
             ],
             [
              1,
              "#f0f921"
             ]
            ],
            "type": "surface"
           }
          ],
          "table": [
           {
            "cells": {
             "fill": {
              "color": "#EBF0F8"
             },
             "line": {
              "color": "white"
             }
            },
            "header": {
             "fill": {
              "color": "#C8D4E3"
             },
             "line": {
              "color": "white"
             }
            },
            "type": "table"
           }
          ]
         },
         "layout": {
          "annotationdefaults": {
           "arrowcolor": "#2a3f5f",
           "arrowhead": 0,
           "arrowwidth": 1
          },
          "autotypenumbers": "strict",
          "coloraxis": {
           "colorbar": {
            "outlinewidth": 0,
            "ticks": ""
           }
          },
          "colorscale": {
           "diverging": [
            [
             0,
             "#8e0152"
            ],
            [
             0.1,
             "#c51b7d"
            ],
            [
             0.2,
             "#de77ae"
            ],
            [
             0.3,
             "#f1b6da"
            ],
            [
             0.4,
             "#fde0ef"
            ],
            [
             0.5,
             "#f7f7f7"
            ],
            [
             0.6,
             "#e6f5d0"
            ],
            [
             0.7,
             "#b8e186"
            ],
            [
             0.8,
             "#7fbc41"
            ],
            [
             0.9,
             "#4d9221"
            ],
            [
             1,
             "#276419"
            ]
           ],
           "sequential": [
            [
             0,
             "#0d0887"
            ],
            [
             0.1111111111111111,
             "#46039f"
            ],
            [
             0.2222222222222222,
             "#7201a8"
            ],
            [
             0.3333333333333333,
             "#9c179e"
            ],
            [
             0.4444444444444444,
             "#bd3786"
            ],
            [
             0.5555555555555556,
             "#d8576b"
            ],
            [
             0.6666666666666666,
             "#ed7953"
            ],
            [
             0.7777777777777778,
             "#fb9f3a"
            ],
            [
             0.8888888888888888,
             "#fdca26"
            ],
            [
             1,
             "#f0f921"
            ]
           ],
           "sequentialminus": [
            [
             0,
             "#0d0887"
            ],
            [
             0.1111111111111111,
             "#46039f"
            ],
            [
             0.2222222222222222,
             "#7201a8"
            ],
            [
             0.3333333333333333,
             "#9c179e"
            ],
            [
             0.4444444444444444,
             "#bd3786"
            ],
            [
             0.5555555555555556,
             "#d8576b"
            ],
            [
             0.6666666666666666,
             "#ed7953"
            ],
            [
             0.7777777777777778,
             "#fb9f3a"
            ],
            [
             0.8888888888888888,
             "#fdca26"
            ],
            [
             1,
             "#f0f921"
            ]
           ]
          },
          "colorway": [
           "#636efa",
           "#EF553B",
           "#00cc96",
           "#ab63fa",
           "#FFA15A",
           "#19d3f3",
           "#FF6692",
           "#B6E880",
           "#FF97FF",
           "#FECB52"
          ],
          "font": {
           "color": "#2a3f5f"
          },
          "geo": {
           "bgcolor": "white",
           "lakecolor": "white",
           "landcolor": "white",
           "showlakes": true,
           "showland": true,
           "subunitcolor": "#C8D4E3"
          },
          "hoverlabel": {
           "align": "left"
          },
          "hovermode": "closest",
          "mapbox": {
           "style": "light"
          },
          "paper_bgcolor": "white",
          "plot_bgcolor": "white",
          "polar": {
           "angularaxis": {
            "gridcolor": "#EBF0F8",
            "linecolor": "#EBF0F8",
            "ticks": ""
           },
           "bgcolor": "white",
           "radialaxis": {
            "gridcolor": "#EBF0F8",
            "linecolor": "#EBF0F8",
            "ticks": ""
           }
          },
          "scene": {
           "xaxis": {
            "backgroundcolor": "white",
            "gridcolor": "#DFE8F3",
            "gridwidth": 2,
            "linecolor": "#EBF0F8",
            "showbackground": true,
            "ticks": "",
            "zerolinecolor": "#EBF0F8"
           },
           "yaxis": {
            "backgroundcolor": "white",
            "gridcolor": "#DFE8F3",
            "gridwidth": 2,
            "linecolor": "#EBF0F8",
            "showbackground": true,
            "ticks": "",
            "zerolinecolor": "#EBF0F8"
           },
           "zaxis": {
            "backgroundcolor": "white",
            "gridcolor": "#DFE8F3",
            "gridwidth": 2,
            "linecolor": "#EBF0F8",
            "showbackground": true,
            "ticks": "",
            "zerolinecolor": "#EBF0F8"
           }
          },
          "shapedefaults": {
           "line": {
            "color": "#2a3f5f"
           }
          },
          "ternary": {
           "aaxis": {
            "gridcolor": "#DFE8F3",
            "linecolor": "#A2B1C6",
            "ticks": ""
           },
           "baxis": {
            "gridcolor": "#DFE8F3",
            "linecolor": "#A2B1C6",
            "ticks": ""
           },
           "bgcolor": "white",
           "caxis": {
            "gridcolor": "#DFE8F3",
            "linecolor": "#A2B1C6",
            "ticks": ""
           }
          },
          "title": {
           "x": 0.05
          },
          "xaxis": {
           "automargin": true,
           "gridcolor": "#EBF0F8",
           "linecolor": "#EBF0F8",
           "ticks": "",
           "title": {
            "standoff": 15
           },
           "zerolinecolor": "#EBF0F8",
           "zerolinewidth": 2
          },
          "yaxis": {
           "automargin": true,
           "gridcolor": "#EBF0F8",
           "linecolor": "#EBF0F8",
           "ticks": "",
           "title": {
            "standoff": 15
           },
           "zerolinecolor": "#EBF0F8",
           "zerolinewidth": 2
          }
         }
        },
        "width": 1200,
        "xaxis": {
         "title": {
          "text": "ESMFold pLDDT"
         }
        },
        "yaxis": {
         "title": {
          "text": "AlphaFold2 pLDDT"
         }
        }
       }
      },
      "text/html": [
       "<div>                            <div id=\"54569174-3314-4048-a995-b29951ea4678\" class=\"plotly-graph-div\" style=\"height:600px; width:1200px;\"></div>            <script type=\"text/javascript\">                require([\"plotly\"], function(Plotly) {                    window.PLOTLYENV=window.PLOTLYENV || {};                                    if (document.getElementById(\"54569174-3314-4048-a995-b29951ea4678\")) {                    Plotly.newPlot(                        \"54569174-3314-4048-a995-b29951ea4678\",                        [{\"marker\":{\"color\":[0.83661,0.81644,0.90716,0.93801,0.8806,0.89358,0.92692,0.85332,0.93036,0.90965,0.96052,0.91902,0.72101,0.91566,0.9083,0.7389,0.85976,0.94928,0.9546,0.8085,0.77405,0.93967,0.83466,0.80704,0.88995,0.94803,0.87551,0.91898,0.87894,0.73913,0.82482,0.87455,0.80914,0.90445,0.83681,0.85933,0.88771,0.86991,0.90499,0.92053,0.7081,0.98037],\"colorscale\":[[0.0,\"rgb(252,251,253)\"],[0.125,\"rgb(239,237,245)\"],[0.25,\"rgb(218,218,235)\"],[0.375,\"rgb(188,189,220)\"],[0.5,\"rgb(158,154,200)\"],[0.625,\"rgb(128,125,186)\"],[0.75,\"rgb(106,81,163)\"],[0.875,\"rgb(84,39,143)\"],[1.0,\"rgb(63,0,125)\"]],\"line\":{\"color\":\"darkslategrey\",\"width\":1},\"showscale\":true,\"size\":16},\"mode\":\"markers\",\"showlegend\":false,\"x\":[77.13599910594532,86.53655212922165,84.87534570596807,83.59314924851448,74.54930571538178,87.35016548463359,77.72608907446076,79.27938845234034,87.63559724018988,85.21529243937216,90.67352313167252,84.8069193659546,71.79695554725427,72.9091871737507,78.39013824884779,86.67026015680693,71.30843688167782,84.33874162323156,87.12729658792703,77.53462138595705,71.46504250952799,87.35761693410723,82.20542883211687,70.52388790560457,83.65461393597057,83.10902439024379,72.5407893841443,77.16945351549485,83.08573540280915,76.59277118410151,71.18742116765534,78.0241885479282,70.46299435028234,91.36360588235289,74.23063261063263,83.61135249918333,75.68083600256254,77.89434872501701,82.38436044428514,85.50530000000005,85.09381482904348,83.77053941908706],\"y\":[86.83301123595473,79.26702417582398,76.90436400666576,83.78338988980246,79.17762994569492,91.48511053621812,82.81884372810045,82.56304496495159,81.67691144708405,86.1604226032346,86.55634821428589,83.28400789564054,82.91080553449596,78.06852262061196,61.31175628433476,93.0058073704826,77.08051144278639,82.00442942942931,83.0424769736848,72.7410036917395,84.62182713837846,84.27580134274402,84.55104267589515,84.29166117928762,86.89728509352018,83.20284271778148,61.22937329700347,83.12789596922578,85.7638568514746,82.27797308431806,83.64433369957588,90.7234949302927,87.67066924066809,80.60277175505388,83.63856627592304,85.2663637854686,82.47844905175137,79.49034405255853,80.60405972850806,80.38197424892681,91.21090960558628,92.9186063902107],\"type\":\"scatter\"},{\"line\":{\"color\":\"black\"},\"mode\":\"lines\",\"showlegend\":false,\"x\":[65.0,65.3030303030303,65.60606060606061,65.9090909090909,66.21212121212122,66.51515151515152,66.81818181818181,67.12121212121212,67.42424242424242,67.72727272727273,68.03030303030303,68.33333333333333,68.63636363636364,68.93939393939394,69.24242424242425,69.54545454545455,69.84848484848484,70.15151515151516,70.45454545454545,70.75757575757575,71.06060606060606,71.36363636363636,71.66666666666667,71.96969696969697,72.27272727272728,72.57575757575758,72.87878787878788,73.18181818181819,73.48484848484848,73.78787878787878,74.0909090909091,74.39393939393939,74.6969696969697,75.0,75.3030303030303,75.60606060606061,75.9090909090909,76.21212121212122,76.51515151515152,76.81818181818181,77.12121212121212,77.42424242424242,77.72727272727273,78.03030303030303,78.33333333333333,78.63636363636364,78.93939393939394,79.24242424242425,79.54545454545455,79.84848484848484,80.15151515151516,80.45454545454545,80.75757575757575,81.06060606060606,81.36363636363636,81.66666666666667,81.96969696969697,82.27272727272728,82.57575757575758,82.87878787878788,83.18181818181819,83.48484848484848,83.78787878787878,84.0909090909091,84.39393939393939,84.6969696969697,85.0,85.30303030303031,85.60606060606061,85.9090909090909,86.21212121212122,86.51515151515152,86.81818181818181,87.12121212121212,87.42424242424242,87.72727272727272,88.03030303030303,88.33333333333334,88.63636363636364,88.93939393939394,89.24242424242425,89.54545454545455,89.84848484848484,90.15151515151516,90.45454545454545,90.75757575757575,91.06060606060606,91.36363636363636,91.66666666666667,91.96969696969697,92.27272727272728,92.57575757575758,92.87878787878788,93.18181818181819,93.48484848484848,93.78787878787878,94.0909090909091,94.39393939393939,94.6969696969697,95.0],\"y\":[65.0,65.3030303030303,65.60606060606061,65.9090909090909,66.21212121212122,66.51515151515152,66.81818181818181,67.12121212121212,67.42424242424242,67.72727272727273,68.03030303030303,68.33333333333333,68.63636363636364,68.93939393939394,69.24242424242425,69.54545454545455,69.84848484848484,70.15151515151516,70.45454545454545,70.75757575757575,71.06060606060606,71.36363636363636,71.66666666666667,71.96969696969697,72.27272727272728,72.57575757575758,72.87878787878788,73.18181818181819,73.48484848484848,73.78787878787878,74.0909090909091,74.39393939393939,74.6969696969697,75.0,75.3030303030303,75.60606060606061,75.9090909090909,76.21212121212122,76.51515151515152,76.81818181818181,77.12121212121212,77.42424242424242,77.72727272727273,78.03030303030303,78.33333333333333,78.63636363636364,78.93939393939394,79.24242424242425,79.54545454545455,79.84848484848484,80.15151515151516,80.45454545454545,80.75757575757575,81.06060606060606,81.36363636363636,81.66666666666667,81.96969696969697,82.27272727272728,82.57575757575758,82.87878787878788,83.18181818181819,83.48484848484848,83.78787878787878,84.0909090909091,84.39393939393939,84.6969696969697,85.0,85.30303030303031,85.60606060606061,85.9090909090909,86.21212121212122,86.51515151515152,86.81818181818181,87.12121212121212,87.42424242424242,87.72727272727272,88.03030303030303,88.33333333333334,88.63636363636364,88.93939393939394,89.24242424242425,89.54545454545455,89.84848484848484,90.15151515151516,90.45454545454545,90.75757575757575,91.06060606060606,91.36363636363636,91.66666666666667,91.96969696969697,92.27272727272728,92.57575757575758,92.87878787878788,93.18181818181819,93.48484848484848,93.78787878787878,94.0909090909091,94.39393939393939,94.6969696969697,95.0],\"type\":\"scatter\"}],                        {\"template\":{\"data\":{\"barpolar\":[{\"marker\":{\"line\":{\"color\":\"white\",\"width\":0.5},\"pattern\":{\"fillmode\":\"overlay\",\"size\":10,\"solidity\":0.2}},\"type\":\"barpolar\"}],\"bar\":[{\"error_x\":{\"color\":\"#2a3f5f\"},\"error_y\":{\"color\":\"#2a3f5f\"},\"marker\":{\"line\":{\"color\":\"white\",\"width\":0.5},\"pattern\":{\"fillmode\":\"overlay\",\"size\":10,\"solidity\":0.2}},\"type\":\"bar\"}],\"carpet\":[{\"aaxis\":{\"endlinecolor\":\"#2a3f5f\",\"gridcolor\":\"#C8D4E3\",\"linecolor\":\"#C8D4E3\",\"minorgridcolor\":\"#C8D4E3\",\"startlinecolor\":\"#2a3f5f\"},\"baxis\":{\"endlinecolor\":\"#2a3f5f\",\"gridcolor\":\"#C8D4E3\",\"linecolor\":\"#C8D4E3\",\"minorgridcolor\":\"#C8D4E3\",\"startlinecolor\":\"#2a3f5f\"},\"type\":\"carpet\"}],\"choropleth\":[{\"colorbar\":{\"outlinewidth\":0,\"ticks\":\"\"},\"type\":\"choropleth\"}],\"contourcarpet\":[{\"colorbar\":{\"outlinewidth\":0,\"ticks\":\"\"},\"type\":\"contourcarpet\"}],\"contour\":[{\"colorbar\":{\"outlinewidth\":0,\"ticks\":\"\"},\"colorscale\":[[0.0,\"#0d0887\"],[0.1111111111111111,\"#46039f\"],[0.2222222222222222,\"#7201a8\"],[0.3333333333333333,\"#9c179e\"],[0.4444444444444444,\"#bd3786\"],[0.5555555555555556,\"#d8576b\"],[0.6666666666666666,\"#ed7953\"],[0.7777777777777778,\"#fb9f3a\"],[0.8888888888888888,\"#fdca26\"],[1.0,\"#f0f921\"]],\"type\":\"contour\"}],\"heatmapgl\":[{\"colorbar\":{\"outlinewidth\":0,\"ticks\":\"\"},\"colorscale\":[[0.0,\"#0d0887\"],[0.1111111111111111,\"#46039f\"],[0.2222222222222222,\"#7201a8\"],[0.3333333333333333,\"#9c179e\"],[0.4444444444444444,\"#bd3786\"],[0.5555555555555556,\"#d8576b\"],[0.6666666666666666,\"#ed7953\"],[0.7777777777777778,\"#fb9f3a\"],[0.8888888888888888,\"#fdca26\"],[1.0,\"#f0f921\"]],\"type\":\"heatmapgl\"}],\"heatmap\":[{\"colorbar\":{\"outlinewidth\":0,\"ticks\":\"\"},\"colorscale\":[[0.0,\"#0d0887\"],[0.1111111111111111,\"#46039f\"],[0.2222222222222222,\"#7201a8\"],[0.3333333333333333,\"#9c179e\"],[0.4444444444444444,\"#bd3786\"],[0.5555555555555556,\"#d8576b\"],[0.6666666666666666,\"#ed7953\"],[0.7777777777777778,\"#fb9f3a\"],[0.8888888888888888,\"#fdca26\"],[1.0,\"#f0f921\"]],\"type\":\"heatmap\"}],\"histogram2dcontour\":[{\"colorbar\":{\"outlinewidth\":0,\"ticks\":\"\"},\"colorscale\":[[0.0,\"#0d0887\"],[0.1111111111111111,\"#46039f\"],[0.2222222222222222,\"#7201a8\"],[0.3333333333333333,\"#9c179e\"],[0.4444444444444444,\"#bd3786\"],[0.5555555555555556,\"#d8576b\"],[0.6666666666666666,\"#ed7953\"],[0.7777777777777778,\"#fb9f3a\"],[0.8888888888888888,\"#fdca26\"],[1.0,\"#f0f921\"]],\"type\":\"histogram2dcontour\"}],\"histogram2d\":[{\"colorbar\":{\"outlinewidth\":0,\"ticks\":\"\"},\"colorscale\":[[0.0,\"#0d0887\"],[0.1111111111111111,\"#46039f\"],[0.2222222222222222,\"#7201a8\"],[0.3333333333333333,\"#9c179e\"],[0.4444444444444444,\"#bd3786\"],[0.5555555555555556,\"#d8576b\"],[0.6666666666666666,\"#ed7953\"],[0.7777777777777778,\"#fb9f3a\"],[0.8888888888888888,\"#fdca26\"],[1.0,\"#f0f921\"]],\"type\":\"histogram2d\"}],\"histogram\":[{\"marker\":{\"pattern\":{\"fillmode\":\"overlay\",\"size\":10,\"solidity\":0.2}},\"type\":\"histogram\"}],\"mesh3d\":[{\"colorbar\":{\"outlinewidth\":0,\"ticks\":\"\"},\"type\":\"mesh3d\"}],\"parcoords\":[{\"line\":{\"colorbar\":{\"outlinewidth\":0,\"ticks\":\"\"}},\"type\":\"parcoords\"}],\"pie\":[{\"automargin\":true,\"type\":\"pie\"}],\"scatter3d\":[{\"line\":{\"colorbar\":{\"outlinewidth\":0,\"ticks\":\"\"}},\"marker\":{\"colorbar\":{\"outlinewidth\":0,\"ticks\":\"\"}},\"type\":\"scatter3d\"}],\"scattercarpet\":[{\"marker\":{\"colorbar\":{\"outlinewidth\":0,\"ticks\":\"\"}},\"type\":\"scattercarpet\"}],\"scattergeo\":[{\"marker\":{\"colorbar\":{\"outlinewidth\":0,\"ticks\":\"\"}},\"type\":\"scattergeo\"}],\"scattergl\":[{\"marker\":{\"colorbar\":{\"outlinewidth\":0,\"ticks\":\"\"}},\"type\":\"scattergl\"}],\"scattermapbox\":[{\"marker\":{\"colorbar\":{\"outlinewidth\":0,\"ticks\":\"\"}},\"type\":\"scattermapbox\"}],\"scatterpolargl\":[{\"marker\":{\"colorbar\":{\"outlinewidth\":0,\"ticks\":\"\"}},\"type\":\"scatterpolargl\"}],\"scatterpolar\":[{\"marker\":{\"colorbar\":{\"outlinewidth\":0,\"ticks\":\"\"}},\"type\":\"scatterpolar\"}],\"scatter\":[{\"fillpattern\":{\"fillmode\":\"overlay\",\"size\":10,\"solidity\":0.2},\"type\":\"scatter\"}],\"scatterternary\":[{\"marker\":{\"colorbar\":{\"outlinewidth\":0,\"ticks\":\"\"}},\"type\":\"scatterternary\"}],\"surface\":[{\"colorbar\":{\"outlinewidth\":0,\"ticks\":\"\"},\"colorscale\":[[0.0,\"#0d0887\"],[0.1111111111111111,\"#46039f\"],[0.2222222222222222,\"#7201a8\"],[0.3333333333333333,\"#9c179e\"],[0.4444444444444444,\"#bd3786\"],[0.5555555555555556,\"#d8576b\"],[0.6666666666666666,\"#ed7953\"],[0.7777777777777778,\"#fb9f3a\"],[0.8888888888888888,\"#fdca26\"],[1.0,\"#f0f921\"]],\"type\":\"surface\"}],\"table\":[{\"cells\":{\"fill\":{\"color\":\"#EBF0F8\"},\"line\":{\"color\":\"white\"}},\"header\":{\"fill\":{\"color\":\"#C8D4E3\"},\"line\":{\"color\":\"white\"}},\"type\":\"table\"}]},\"layout\":{\"annotationdefaults\":{\"arrowcolor\":\"#2a3f5f\",\"arrowhead\":0,\"arrowwidth\":1},\"autotypenumbers\":\"strict\",\"coloraxis\":{\"colorbar\":{\"outlinewidth\":0,\"ticks\":\"\"}},\"colorscale\":{\"diverging\":[[0,\"#8e0152\"],[0.1,\"#c51b7d\"],[0.2,\"#de77ae\"],[0.3,\"#f1b6da\"],[0.4,\"#fde0ef\"],[0.5,\"#f7f7f7\"],[0.6,\"#e6f5d0\"],[0.7,\"#b8e186\"],[0.8,\"#7fbc41\"],[0.9,\"#4d9221\"],[1,\"#276419\"]],\"sequential\":[[0.0,\"#0d0887\"],[0.1111111111111111,\"#46039f\"],[0.2222222222222222,\"#7201a8\"],[0.3333333333333333,\"#9c179e\"],[0.4444444444444444,\"#bd3786\"],[0.5555555555555556,\"#d8576b\"],[0.6666666666666666,\"#ed7953\"],[0.7777777777777778,\"#fb9f3a\"],[0.8888888888888888,\"#fdca26\"],[1.0,\"#f0f921\"]],\"sequentialminus\":[[0.0,\"#0d0887\"],[0.1111111111111111,\"#46039f\"],[0.2222222222222222,\"#7201a8\"],[0.3333333333333333,\"#9c179e\"],[0.4444444444444444,\"#bd3786\"],[0.5555555555555556,\"#d8576b\"],[0.6666666666666666,\"#ed7953\"],[0.7777777777777778,\"#fb9f3a\"],[0.8888888888888888,\"#fdca26\"],[1.0,\"#f0f921\"]]},\"colorway\":[\"#636efa\",\"#EF553B\",\"#00cc96\",\"#ab63fa\",\"#FFA15A\",\"#19d3f3\",\"#FF6692\",\"#B6E880\",\"#FF97FF\",\"#FECB52\"],\"font\":{\"color\":\"#2a3f5f\"},\"geo\":{\"bgcolor\":\"white\",\"lakecolor\":\"white\",\"landcolor\":\"white\",\"showlakes\":true,\"showland\":true,\"subunitcolor\":\"#C8D4E3\"},\"hoverlabel\":{\"align\":\"left\"},\"hovermode\":\"closest\",\"mapbox\":{\"style\":\"light\"},\"paper_bgcolor\":\"white\",\"plot_bgcolor\":\"white\",\"polar\":{\"angularaxis\":{\"gridcolor\":\"#EBF0F8\",\"linecolor\":\"#EBF0F8\",\"ticks\":\"\"},\"bgcolor\":\"white\",\"radialaxis\":{\"gridcolor\":\"#EBF0F8\",\"linecolor\":\"#EBF0F8\",\"ticks\":\"\"}},\"scene\":{\"xaxis\":{\"backgroundcolor\":\"white\",\"gridcolor\":\"#DFE8F3\",\"gridwidth\":2,\"linecolor\":\"#EBF0F8\",\"showbackground\":true,\"ticks\":\"\",\"zerolinecolor\":\"#EBF0F8\"},\"yaxis\":{\"backgroundcolor\":\"white\",\"gridcolor\":\"#DFE8F3\",\"gridwidth\":2,\"linecolor\":\"#EBF0F8\",\"showbackground\":true,\"ticks\":\"\",\"zerolinecolor\":\"#EBF0F8\"},\"zaxis\":{\"backgroundcolor\":\"white\",\"gridcolor\":\"#DFE8F3\",\"gridwidth\":2,\"linecolor\":\"#EBF0F8\",\"showbackground\":true,\"ticks\":\"\",\"zerolinecolor\":\"#EBF0F8\"}},\"shapedefaults\":{\"line\":{\"color\":\"#2a3f5f\"}},\"ternary\":{\"aaxis\":{\"gridcolor\":\"#DFE8F3\",\"linecolor\":\"#A2B1C6\",\"ticks\":\"\"},\"baxis\":{\"gridcolor\":\"#DFE8F3\",\"linecolor\":\"#A2B1C6\",\"ticks\":\"\"},\"bgcolor\":\"white\",\"caxis\":{\"gridcolor\":\"#DFE8F3\",\"linecolor\":\"#A2B1C6\",\"ticks\":\"\"}},\"title\":{\"x\":0.05},\"xaxis\":{\"automargin\":true,\"gridcolor\":\"#EBF0F8\",\"linecolor\":\"#EBF0F8\",\"ticks\":\"\",\"title\":{\"standoff\":15},\"zerolinecolor\":\"#EBF0F8\",\"zerolinewidth\":2},\"yaxis\":{\"automargin\":true,\"gridcolor\":\"#EBF0F8\",\"linecolor\":\"#EBF0F8\",\"ticks\":\"\",\"title\":{\"standoff\":15},\"zerolinecolor\":\"#EBF0F8\",\"zerolinewidth\":2}}},\"font\":{\"size\":16},\"width\":1200,\"height\":600,\"xaxis\":{\"title\":{\"text\":\"ESMFold pLDDT\"}},\"yaxis\":{\"title\":{\"text\":\"AlphaFold2 pLDDT\"}}},                        {\"responsive\": true}                    ).then(function(){\n",
       "                            \n",
       "var gd = document.getElementById('54569174-3314-4048-a995-b29951ea4678');\n",
       "var x = new MutationObserver(function (mutations, observer) {{\n",
       "        var display = window.getComputedStyle(gd).display;\n",
       "        if (!display || display === 'none') {{\n",
       "            console.log([gd, 'removed!']);\n",
       "            Plotly.purge(gd);\n",
       "            observer.disconnect();\n",
       "        }}\n",
       "}});\n",
       "\n",
       "// Listen for the removal of the full notebook cells\n",
       "var notebookContainer = gd.closest('#notebook-container');\n",
       "if (notebookContainer) {{\n",
       "    x.observe(notebookContainer, {childList: true});\n",
       "}}\n",
       "\n",
       "// Listen for the clearing of the current output cell\n",
       "var outputEl = gd.closest('.output');\n",
       "if (outputEl) {{\n",
       "    x.observe(outputEl, {childList: true});\n",
       "}}\n",
       "\n",
       "                        })                };                });            </script>        </div>"
      ]
     },
     "metadata": {},
     "output_type": "display_data"
    }
   ],
   "source": [
    "import plotly.graph_objects as go \n",
    "\n",
    "fig = go.Figure(data=go.Scatter(\n",
    "    x = af2_df[\"ESMFold pLDDT\"],\n",
    "    y = af2_df[\"AF2 pLDDT\"],\n",
    "    mode=\"markers\",\n",
    "    marker=dict(\n",
    "        size=16,\n",
    "        color=af2_df[\"TM-Score\"],\n",
    "        colorscale=\"Purples\",\n",
    "        showscale=True,\n",
    "        line_width=1,\n",
    "        line_color=\"darkslategrey\"\n",
    "    ),\n",
    "    showlegend=False\n",
    "))\n",
    "\n",
    "fig.add_trace(go.Scatter(\n",
    "    x=np.linspace(65, 95, 100),\n",
    "    y=np.linspace(65, 95, 100),\n",
    "    mode=\"lines\",\n",
    "    showlegend=False,\n",
    "    line_color=\"black\"\n",
    "))\n",
    "\n",
    "fig.update_layout(\n",
    "    width=1200,\n",
    "    height=600,\n",
    "    font=dict(size=16),\n",
    "    template='plotly_white',\n",
    "    xaxis_title=\"ESMFold pLDDT\",\n",
    "    yaxis_title=\"AlphaFold2 pLDDT\"\n",
    ")\n",
    "\n",
    "fig.show()"
   ]
  },
  {
   "cell_type": "code",
   "execution_count": 46,
   "metadata": {},
   "outputs": [
    {
     "data": {
      "text/html": [
       "<div>\n",
       "<style scoped>\n",
       "    .dataframe tbody tr th:only-of-type {\n",
       "        vertical-align: middle;\n",
       "    }\n",
       "\n",
       "    .dataframe tbody tr th {\n",
       "        vertical-align: top;\n",
       "    }\n",
       "\n",
       "    .dataframe thead th {\n",
       "        text-align: right;\n",
       "    }\n",
       "</style>\n",
       "<table border=\"1\" class=\"dataframe\">\n",
       "  <thead>\n",
       "    <tr style=\"text-align: right;\">\n",
       "      <th></th>\n",
       "      <th>Accession</th>\n",
       "      <th>TM-Score</th>\n",
       "      <th>ESMFold pLDDT</th>\n",
       "      <th>AF2 pLDDT</th>\n",
       "    </tr>\n",
       "  </thead>\n",
       "  <tbody>\n",
       "    <tr>\n",
       "      <th>40</th>\n",
       "      <td>MGYP001772626497</td>\n",
       "      <td>0.70810</td>\n",
       "      <td>85.093815</td>\n",
       "      <td>91.210910</td>\n",
       "    </tr>\n",
       "    <tr>\n",
       "      <th>12</th>\n",
       "      <td>MGYP003325516961</td>\n",
       "      <td>0.72101</td>\n",
       "      <td>71.796956</td>\n",
       "      <td>82.910806</td>\n",
       "    </tr>\n",
       "    <tr>\n",
       "      <th>15</th>\n",
       "      <td>MGYP001301876493</td>\n",
       "      <td>0.73890</td>\n",
       "      <td>86.670260</td>\n",
       "      <td>93.005807</td>\n",
       "    </tr>\n",
       "    <tr>\n",
       "      <th>29</th>\n",
       "      <td>MGYP001775299270</td>\n",
       "      <td>0.73913</td>\n",
       "      <td>76.592771</td>\n",
       "      <td>82.277973</td>\n",
       "    </tr>\n",
       "    <tr>\n",
       "      <th>20</th>\n",
       "      <td>MGYP003143779196</td>\n",
       "      <td>0.77405</td>\n",
       "      <td>71.465043</td>\n",
       "      <td>84.621827</td>\n",
       "    </tr>\n",
       "    <tr>\n",
       "      <th>23</th>\n",
       "      <td>MGYP003143863407</td>\n",
       "      <td>0.80704</td>\n",
       "      <td>70.523888</td>\n",
       "      <td>84.291661</td>\n",
       "    </tr>\n",
       "    <tr>\n",
       "      <th>19</th>\n",
       "      <td>MGYP003131547602</td>\n",
       "      <td>0.80850</td>\n",
       "      <td>77.534621</td>\n",
       "      <td>72.741004</td>\n",
       "    </tr>\n",
       "    <tr>\n",
       "      <th>32</th>\n",
       "      <td>MGYP000278747826</td>\n",
       "      <td>0.80914</td>\n",
       "      <td>70.462994</td>\n",
       "      <td>87.670669</td>\n",
       "    </tr>\n",
       "    <tr>\n",
       "      <th>1</th>\n",
       "      <td>MGYP003251308532</td>\n",
       "      <td>0.81644</td>\n",
       "      <td>86.536552</td>\n",
       "      <td>79.267024</td>\n",
       "    </tr>\n",
       "    <tr>\n",
       "      <th>30</th>\n",
       "      <td>MGYP001599865821</td>\n",
       "      <td>0.82482</td>\n",
       "      <td>71.187421</td>\n",
       "      <td>83.644334</td>\n",
       "    </tr>\n",
       "    <tr>\n",
       "      <th>22</th>\n",
       "      <td>MGYP003131763798</td>\n",
       "      <td>0.83466</td>\n",
       "      <td>82.205429</td>\n",
       "      <td>84.551043</td>\n",
       "    </tr>\n",
       "    <tr>\n",
       "      <th>0</th>\n",
       "      <td>MGYP000527898060</td>\n",
       "      <td>0.83661</td>\n",
       "      <td>77.135999</td>\n",
       "      <td>86.833011</td>\n",
       "    </tr>\n",
       "    <tr>\n",
       "      <th>34</th>\n",
       "      <td>MGYP003132077312</td>\n",
       "      <td>0.83681</td>\n",
       "      <td>74.230633</td>\n",
       "      <td>83.638566</td>\n",
       "    </tr>\n",
       "    <tr>\n",
       "      <th>7</th>\n",
       "      <td>MGYP001771196130</td>\n",
       "      <td>0.85332</td>\n",
       "      <td>79.279388</td>\n",
       "      <td>82.563045</td>\n",
       "    </tr>\n",
       "    <tr>\n",
       "      <th>35</th>\n",
       "      <td>MGYP001324846549</td>\n",
       "      <td>0.85933</td>\n",
       "      <td>83.611352</td>\n",
       "      <td>85.266364</td>\n",
       "    </tr>\n",
       "    <tr>\n",
       "      <th>16</th>\n",
       "      <td>MGYP003221559410</td>\n",
       "      <td>0.85976</td>\n",
       "      <td>71.308437</td>\n",
       "      <td>77.080511</td>\n",
       "    </tr>\n",
       "    <tr>\n",
       "      <th>37</th>\n",
       "      <td>MGYP000416313578</td>\n",
       "      <td>0.86991</td>\n",
       "      <td>77.894349</td>\n",
       "      <td>79.490344</td>\n",
       "    </tr>\n",
       "    <tr>\n",
       "      <th>31</th>\n",
       "      <td>MGYP000622200760</td>\n",
       "      <td>0.87455</td>\n",
       "      <td>78.024189</td>\n",
       "      <td>90.723495</td>\n",
       "    </tr>\n",
       "    <tr>\n",
       "      <th>26</th>\n",
       "      <td>MGYP000598674579</td>\n",
       "      <td>0.87551</td>\n",
       "      <td>72.540789</td>\n",
       "      <td>61.229373</td>\n",
       "    </tr>\n",
       "    <tr>\n",
       "      <th>28</th>\n",
       "      <td>MGYP000296441433</td>\n",
       "      <td>0.87894</td>\n",
       "      <td>83.085735</td>\n",
       "      <td>85.763857</td>\n",
       "    </tr>\n",
       "    <tr>\n",
       "      <th>4</th>\n",
       "      <td>MGYP003239287391</td>\n",
       "      <td>0.88060</td>\n",
       "      <td>74.549306</td>\n",
       "      <td>79.177630</td>\n",
       "    </tr>\n",
       "    <tr>\n",
       "      <th>36</th>\n",
       "      <td>MGYP001600986572</td>\n",
       "      <td>0.88771</td>\n",
       "      <td>75.680836</td>\n",
       "      <td>82.478449</td>\n",
       "    </tr>\n",
       "    <tr>\n",
       "      <th>24</th>\n",
       "      <td>MGYP001330071390</td>\n",
       "      <td>0.88995</td>\n",
       "      <td>83.654614</td>\n",
       "      <td>86.897285</td>\n",
       "    </tr>\n",
       "    <tr>\n",
       "      <th>5</th>\n",
       "      <td>MGYP000593196585</td>\n",
       "      <td>0.89358</td>\n",
       "      <td>87.350165</td>\n",
       "      <td>91.485111</td>\n",
       "    </tr>\n",
       "    <tr>\n",
       "      <th>33</th>\n",
       "      <td>MGYP000610571525</td>\n",
       "      <td>0.90445</td>\n",
       "      <td>91.363606</td>\n",
       "      <td>80.602772</td>\n",
       "    </tr>\n",
       "    <tr>\n",
       "      <th>38</th>\n",
       "      <td>MGYP003291991102</td>\n",
       "      <td>0.90499</td>\n",
       "      <td>82.384360</td>\n",
       "      <td>80.604060</td>\n",
       "    </tr>\n",
       "    <tr>\n",
       "      <th>2</th>\n",
       "      <td>MGYP000430909014</td>\n",
       "      <td>0.90716</td>\n",
       "      <td>84.875346</td>\n",
       "      <td>76.904364</td>\n",
       "    </tr>\n",
       "    <tr>\n",
       "      <th>14</th>\n",
       "      <td>MGYP000791274742</td>\n",
       "      <td>0.90830</td>\n",
       "      <td>78.390138</td>\n",
       "      <td>61.311756</td>\n",
       "    </tr>\n",
       "    <tr>\n",
       "      <th>9</th>\n",
       "      <td>MGYP000345353568</td>\n",
       "      <td>0.90965</td>\n",
       "      <td>85.215292</td>\n",
       "      <td>86.160423</td>\n",
       "    </tr>\n",
       "    <tr>\n",
       "      <th>13</th>\n",
       "      <td>MGYP001754629936</td>\n",
       "      <td>0.91566</td>\n",
       "      <td>72.909187</td>\n",
       "      <td>78.068523</td>\n",
       "    </tr>\n",
       "    <tr>\n",
       "      <th>27</th>\n",
       "      <td>MGYP003290296536</td>\n",
       "      <td>0.91898</td>\n",
       "      <td>77.169454</td>\n",
       "      <td>83.127896</td>\n",
       "    </tr>\n",
       "    <tr>\n",
       "      <th>11</th>\n",
       "      <td>MGYP003302610709</td>\n",
       "      <td>0.91902</td>\n",
       "      <td>84.806919</td>\n",
       "      <td>83.284008</td>\n",
       "    </tr>\n",
       "    <tr>\n",
       "      <th>39</th>\n",
       "      <td>MGYP001622860715</td>\n",
       "      <td>0.92053</td>\n",
       "      <td>85.505300</td>\n",
       "      <td>80.381974</td>\n",
       "    </tr>\n",
       "    <tr>\n",
       "      <th>6</th>\n",
       "      <td>MGYP001515860935</td>\n",
       "      <td>0.92692</td>\n",
       "      <td>77.726089</td>\n",
       "      <td>82.818844</td>\n",
       "    </tr>\n",
       "    <tr>\n",
       "      <th>8</th>\n",
       "      <td>MGYP001596099228</td>\n",
       "      <td>0.93036</td>\n",
       "      <td>87.635597</td>\n",
       "      <td>81.676911</td>\n",
       "    </tr>\n",
       "    <tr>\n",
       "      <th>3</th>\n",
       "      <td>MGYP001775310354</td>\n",
       "      <td>0.93801</td>\n",
       "      <td>83.593149</td>\n",
       "      <td>83.783390</td>\n",
       "    </tr>\n",
       "    <tr>\n",
       "      <th>21</th>\n",
       "      <td>MGYP003115569483</td>\n",
       "      <td>0.93967</td>\n",
       "      <td>87.357617</td>\n",
       "      <td>84.275801</td>\n",
       "    </tr>\n",
       "    <tr>\n",
       "      <th>25</th>\n",
       "      <td>MGYP003237769608</td>\n",
       "      <td>0.94803</td>\n",
       "      <td>83.109024</td>\n",
       "      <td>83.202843</td>\n",
       "    </tr>\n",
       "    <tr>\n",
       "      <th>17</th>\n",
       "      <td>MGYP000746573042</td>\n",
       "      <td>0.94928</td>\n",
       "      <td>84.338742</td>\n",
       "      <td>82.004429</td>\n",
       "    </tr>\n",
       "    <tr>\n",
       "      <th>18</th>\n",
       "      <td>MGYP000237508066</td>\n",
       "      <td>0.95460</td>\n",
       "      <td>87.127297</td>\n",
       "      <td>83.042477</td>\n",
       "    </tr>\n",
       "    <tr>\n",
       "      <th>10</th>\n",
       "      <td>MGYP001198029016</td>\n",
       "      <td>0.96052</td>\n",
       "      <td>90.673523</td>\n",
       "      <td>86.556348</td>\n",
       "    </tr>\n",
       "    <tr>\n",
       "      <th>41</th>\n",
       "      <td>MGYP001770687550</td>\n",
       "      <td>0.98037</td>\n",
       "      <td>83.770539</td>\n",
       "      <td>92.918606</td>\n",
       "    </tr>\n",
       "  </tbody>\n",
       "</table>\n",
       "</div>"
      ],
      "text/plain": [
       "           Accession  TM-Score  ESMFold pLDDT  AF2 pLDDT\n",
       "40  MGYP001772626497   0.70810      85.093815  91.210910\n",
       "12  MGYP003325516961   0.72101      71.796956  82.910806\n",
       "15  MGYP001301876493   0.73890      86.670260  93.005807\n",
       "29  MGYP001775299270   0.73913      76.592771  82.277973\n",
       "20  MGYP003143779196   0.77405      71.465043  84.621827\n",
       "23  MGYP003143863407   0.80704      70.523888  84.291661\n",
       "19  MGYP003131547602   0.80850      77.534621  72.741004\n",
       "32  MGYP000278747826   0.80914      70.462994  87.670669\n",
       "1   MGYP003251308532   0.81644      86.536552  79.267024\n",
       "30  MGYP001599865821   0.82482      71.187421  83.644334\n",
       "22  MGYP003131763798   0.83466      82.205429  84.551043\n",
       "0   MGYP000527898060   0.83661      77.135999  86.833011\n",
       "34  MGYP003132077312   0.83681      74.230633  83.638566\n",
       "7   MGYP001771196130   0.85332      79.279388  82.563045\n",
       "35  MGYP001324846549   0.85933      83.611352  85.266364\n",
       "16  MGYP003221559410   0.85976      71.308437  77.080511\n",
       "37  MGYP000416313578   0.86991      77.894349  79.490344\n",
       "31  MGYP000622200760   0.87455      78.024189  90.723495\n",
       "26  MGYP000598674579   0.87551      72.540789  61.229373\n",
       "28  MGYP000296441433   0.87894      83.085735  85.763857\n",
       "4   MGYP003239287391   0.88060      74.549306  79.177630\n",
       "36  MGYP001600986572   0.88771      75.680836  82.478449\n",
       "24  MGYP001330071390   0.88995      83.654614  86.897285\n",
       "5   MGYP000593196585   0.89358      87.350165  91.485111\n",
       "33  MGYP000610571525   0.90445      91.363606  80.602772\n",
       "38  MGYP003291991102   0.90499      82.384360  80.604060\n",
       "2   MGYP000430909014   0.90716      84.875346  76.904364\n",
       "14  MGYP000791274742   0.90830      78.390138  61.311756\n",
       "9   MGYP000345353568   0.90965      85.215292  86.160423\n",
       "13  MGYP001754629936   0.91566      72.909187  78.068523\n",
       "27  MGYP003290296536   0.91898      77.169454  83.127896\n",
       "11  MGYP003302610709   0.91902      84.806919  83.284008\n",
       "39  MGYP001622860715   0.92053      85.505300  80.381974\n",
       "6   MGYP001515860935   0.92692      77.726089  82.818844\n",
       "8   MGYP001596099228   0.93036      87.635597  81.676911\n",
       "3   MGYP001775310354   0.93801      83.593149  83.783390\n",
       "21  MGYP003115569483   0.93967      87.357617  84.275801\n",
       "25  MGYP003237769608   0.94803      83.109024  83.202843\n",
       "17  MGYP000746573042   0.94928      84.338742  82.004429\n",
       "18  MGYP000237508066   0.95460      87.127297  83.042477\n",
       "10  MGYP001198029016   0.96052      90.673523  86.556348\n",
       "41  MGYP001770687550   0.98037      83.770539  92.918606"
      ]
     },
     "execution_count": 46,
     "metadata": {},
     "output_type": "execute_result"
    }
   ],
   "source": [
    "af2_df.sort_values(by=\"TM-Score\", ascending=True)"
   ]
  },
  {
   "cell_type": "markdown",
   "metadata": {},
   "source": [
    "For a figure we probably want to show the following structures:\n",
    "\n",
    "1. The bottom 5 lowest TM-Score pairs (we know the bottom one is because of a fusion domain, if the others are too then we can omit these)\n",
    "\n",
    "2. Those two low AF2 pLDDT structures at the bottom (from cluster 14)"
   ]
  }
 ],
 "metadata": {
  "kernelspec": {
   "display_name": "jupyter",
   "language": "python",
   "name": "python3"
  },
  "language_info": {
   "codemirror_mode": {
    "name": "ipython",
    "version": 3
   },
   "file_extension": ".py",
   "mimetype": "text/x-python",
   "name": "python",
   "nbconvert_exporter": "python",
   "pygments_lexer": "ipython3",
   "version": "3.10.4"
  }
 },
 "nbformat": 4,
 "nbformat_minor": 2
}
