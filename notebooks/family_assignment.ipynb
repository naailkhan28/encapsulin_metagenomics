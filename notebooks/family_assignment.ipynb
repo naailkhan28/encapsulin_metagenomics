{
 "cells": [
  {
   "attachments": {},
   "cell_type": "markdown",
   "metadata": {},
   "source": [
    "# Encapsulin Family/Cargo Type Annotation\n",
    "\n",
    "This notebook contains various code snippets and analyses showing the process of assigning "
   ]
  },
  {
   "cell_type": "code",
   "execution_count": null,
   "metadata": {},
   "outputs": [],
   "source": []
  }
 ],
 "metadata": {
  "kernelspec": {
   "display_name": "jupyter",
   "language": "python",
   "name": "python3"
  },
  "language_info": {
   "name": "python",
   "version": "3.10.4"
  },
  "orig_nbformat": 4,
  "vscode": {
   "interpreter": {
    "hash": "2395dd5cfd132aea2fa43eabc505fc0c03b7cf2aa5bd300ea4e7760a37264c62"
   }
  }
 },
 "nbformat": 4,
 "nbformat_minor": 2
}
