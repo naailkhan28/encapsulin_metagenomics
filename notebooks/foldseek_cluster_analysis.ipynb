{
 "cells": [
  {
   "attachments": {},
   "cell_type": "markdown",
   "metadata": {},
   "source": [
    "# Analyzing Foldseek clusters (and comparing them to DALI)\n",
    "\n",
    "Foldseek has an all-against-all and cluster functionality similar to the one we've experimented with using DALI (and various other Python packages on top). The clusters are in an easy to parse `.tsv` file - let's analyze this and compare these clusters to the DALI ones.\n",
    "\n",
    "First, let's load the cluster ``.tsv` file and check out how many clusters we have:"
   ]
  },
  {
   "cell_type": "code",
   "execution_count": 35,
   "metadata": {},
   "outputs": [
    {
     "name": "stdout",
     "output_type": "stream",
     "text": [
      "0: 2\n",
      "1: 4\n",
      "2: 1\n",
      "3: 62\n",
      "4: 2\n",
      "5: 1\n",
      "6: 1\n",
      "7: 1\n",
      "8: 1\n",
      "9: 1\n",
      "10: 34\n",
      "11: 1\n",
      "12: 3\n",
      "13: 1\n",
      "14: 1\n",
      "15: 1\n",
      "16: 15\n",
      "17: 1\n",
      "18: 7\n",
      "19: 23\n",
      "20: 48\n",
      "21: 2\n",
      "22: 5\n",
      "23: 1\n",
      "24: 426\n",
      "25: 1\n",
      "26: 52\n",
      "27: 1\n",
      "28: 49\n",
      "29: 3\n",
      "30: 1\n",
      "31: 1\n",
      "32: 32\n",
      "33: 1\n",
      "34: 1\n",
      "35: 1\n",
      "36: 3\n",
      "37: 1\n",
      "38: 1\n",
      "39: 2\n",
      "40: 1\n",
      "41: 1\n",
      "42: 31\n",
      "43: 5\n",
      "44: 1\n",
      "45: 3\n",
      "46: 1\n",
      "47: 1\n",
      "48: 3\n",
      "49: 2\n",
      "50: 1\n",
      "51: 4\n",
      "52: 1\n",
      "53: 1\n",
      "54: 9\n",
      "55: 75\n",
      "56: 1\n",
      "57: 1\n",
      "58: 1\n",
      "59: 1\n",
      "60: 1\n",
      "61: 7\n",
      "62\n"
     ]
    }
   ],
   "source": [
    "from collections import defaultdict\n",
    "\n",
    "cluster_dict = defaultdict(list)\n",
    "\n",
    "with open(\"../foldseek/clusters.tsv\", \"r\") as cluster_file:\n",
    "    for line in cluster_file:\n",
    "        line = line.rstrip().split()\n",
    "        \n",
    "        #Need to remove the trailing _ptm.pdb\n",
    "        cluster_name = line[0].split(\"_\")[0].split(\".\")[0]\n",
    "        cluster_member = line[1].split(\"_\")[0].split(\".\")[0]\n",
    "\n",
    "        cluster_dict[cluster_name].append(cluster_member)\n",
    "\n",
    "#I just want the clusters named by a number rather than MGYP so let's rename them\n",
    "\n",
    "cluster_dict = {str(i): cluster for i, (cluster_name, cluster) in enumerate(cluster_dict.items())}\n",
    "\n",
    "for cluster, members in cluster_dict.items():\n",
    "    print(f\"{cluster}: {len(members)}\")\n",
    "\n",
    "print(len(cluster_dict))"
   ]
  },
  {
   "attachments": {},
   "cell_type": "markdown",
   "metadata": {},
   "source": [
    "Looks like we have LOTS of clusters, many of which are singletons (only have a single member).\n",
    "\n",
    "Let's plot this data to explore this visually:"
   ]
  },
  {
   "cell_type": "code",
   "execution_count": 36,
   "metadata": {},
   "outputs": [
    {
     "data": {
      "application/vnd.plotly.v1+json": {
       "config": {
        "plotlyServerURL": "https://plot.ly"
       },
       "data": [
        {
         "alignmentgroup": "True",
         "hovertemplate": "Cluster=%{x}<br>Number of Structures=%{y}<extra></extra>",
         "legendgroup": "",
         "marker": {
          "color": "#636efa",
          "pattern": {
           "shape": ""
          }
         },
         "name": "",
         "offsetgroup": "",
         "orientation": "v",
         "showlegend": false,
         "textposition": "auto",
         "type": "bar",
         "x": [
          0,
          1,
          2,
          3,
          4,
          5,
          6,
          7,
          8,
          9,
          10,
          11,
          12,
          13,
          14,
          15,
          16,
          17,
          18,
          19,
          20,
          21,
          22,
          23,
          24,
          25,
          26,
          27,
          28,
          29,
          30,
          31,
          32,
          33,
          34,
          35,
          36,
          37,
          38,
          39,
          40,
          41,
          42,
          43,
          44,
          45,
          46,
          47,
          48,
          49,
          50,
          51,
          52,
          53,
          54,
          55,
          56,
          57,
          58,
          59,
          60,
          61
         ],
         "xaxis": "x",
         "y": [
          426,
          75,
          62,
          52,
          49,
          48,
          34,
          32,
          31,
          23,
          15,
          9,
          7,
          7,
          5,
          5,
          4,
          4,
          3,
          3,
          3,
          3,
          3,
          2,
          2,
          2,
          2,
          2,
          1,
          1,
          1,
          1,
          1,
          1,
          1,
          1,
          1,
          1,
          1,
          1,
          1,
          1,
          1,
          1,
          1,
          1,
          1,
          1,
          1,
          1,
          1,
          1,
          1,
          1,
          1,
          1,
          1,
          1,
          1,
          1,
          1,
          1
         ],
         "yaxis": "y"
        }
       ],
       "layout": {
        "barmode": "relative",
        "legend": {
         "tracegroupgap": 0
        },
        "margin": {
         "t": 60
        },
        "template": {
         "data": {
          "bar": [
           {
            "error_x": {
             "color": "#2a3f5f"
            },
            "error_y": {
             "color": "#2a3f5f"
            },
            "marker": {
             "line": {
              "color": "white",
              "width": 0.5
             },
             "pattern": {
              "fillmode": "overlay",
              "size": 10,
              "solidity": 0.2
             }
            },
            "type": "bar"
           }
          ],
          "barpolar": [
           {
            "marker": {
             "line": {
              "color": "white",
              "width": 0.5
             },
             "pattern": {
              "fillmode": "overlay",
              "size": 10,
              "solidity": 0.2
             }
            },
            "type": "barpolar"
           }
          ],
          "carpet": [
           {
            "aaxis": {
             "endlinecolor": "#2a3f5f",
             "gridcolor": "#C8D4E3",
             "linecolor": "#C8D4E3",
             "minorgridcolor": "#C8D4E3",
             "startlinecolor": "#2a3f5f"
            },
            "baxis": {
             "endlinecolor": "#2a3f5f",
             "gridcolor": "#C8D4E3",
             "linecolor": "#C8D4E3",
             "minorgridcolor": "#C8D4E3",
             "startlinecolor": "#2a3f5f"
            },
            "type": "carpet"
           }
          ],
          "choropleth": [
           {
            "colorbar": {
             "outlinewidth": 0,
             "ticks": ""
            },
            "type": "choropleth"
           }
          ],
          "contour": [
           {
            "colorbar": {
             "outlinewidth": 0,
             "ticks": ""
            },
            "colorscale": [
             [
              0,
              "#0d0887"
             ],
             [
              0.1111111111111111,
              "#46039f"
             ],
             [
              0.2222222222222222,
              "#7201a8"
             ],
             [
              0.3333333333333333,
              "#9c179e"
             ],
             [
              0.4444444444444444,
              "#bd3786"
             ],
             [
              0.5555555555555556,
              "#d8576b"
             ],
             [
              0.6666666666666666,
              "#ed7953"
             ],
             [
              0.7777777777777778,
              "#fb9f3a"
             ],
             [
              0.8888888888888888,
              "#fdca26"
             ],
             [
              1,
              "#f0f921"
             ]
            ],
            "type": "contour"
           }
          ],
          "contourcarpet": [
           {
            "colorbar": {
             "outlinewidth": 0,
             "ticks": ""
            },
            "type": "contourcarpet"
           }
          ],
          "heatmap": [
           {
            "colorbar": {
             "outlinewidth": 0,
             "ticks": ""
            },
            "colorscale": [
             [
              0,
              "#0d0887"
             ],
             [
              0.1111111111111111,
              "#46039f"
             ],
             [
              0.2222222222222222,
              "#7201a8"
             ],
             [
              0.3333333333333333,
              "#9c179e"
             ],
             [
              0.4444444444444444,
              "#bd3786"
             ],
             [
              0.5555555555555556,
              "#d8576b"
             ],
             [
              0.6666666666666666,
              "#ed7953"
             ],
             [
              0.7777777777777778,
              "#fb9f3a"
             ],
             [
              0.8888888888888888,
              "#fdca26"
             ],
             [
              1,
              "#f0f921"
             ]
            ],
            "type": "heatmap"
           }
          ],
          "heatmapgl": [
           {
            "colorbar": {
             "outlinewidth": 0,
             "ticks": ""
            },
            "colorscale": [
             [
              0,
              "#0d0887"
             ],
             [
              0.1111111111111111,
              "#46039f"
             ],
             [
              0.2222222222222222,
              "#7201a8"
             ],
             [
              0.3333333333333333,
              "#9c179e"
             ],
             [
              0.4444444444444444,
              "#bd3786"
             ],
             [
              0.5555555555555556,
              "#d8576b"
             ],
             [
              0.6666666666666666,
              "#ed7953"
             ],
             [
              0.7777777777777778,
              "#fb9f3a"
             ],
             [
              0.8888888888888888,
              "#fdca26"
             ],
             [
              1,
              "#f0f921"
             ]
            ],
            "type": "heatmapgl"
           }
          ],
          "histogram": [
           {
            "marker": {
             "pattern": {
              "fillmode": "overlay",
              "size": 10,
              "solidity": 0.2
             }
            },
            "type": "histogram"
           }
          ],
          "histogram2d": [
           {
            "colorbar": {
             "outlinewidth": 0,
             "ticks": ""
            },
            "colorscale": [
             [
              0,
              "#0d0887"
             ],
             [
              0.1111111111111111,
              "#46039f"
             ],
             [
              0.2222222222222222,
              "#7201a8"
             ],
             [
              0.3333333333333333,
              "#9c179e"
             ],
             [
              0.4444444444444444,
              "#bd3786"
             ],
             [
              0.5555555555555556,
              "#d8576b"
             ],
             [
              0.6666666666666666,
              "#ed7953"
             ],
             [
              0.7777777777777778,
              "#fb9f3a"
             ],
             [
              0.8888888888888888,
              "#fdca26"
             ],
             [
              1,
              "#f0f921"
             ]
            ],
            "type": "histogram2d"
           }
          ],
          "histogram2dcontour": [
           {
            "colorbar": {
             "outlinewidth": 0,
             "ticks": ""
            },
            "colorscale": [
             [
              0,
              "#0d0887"
             ],
             [
              0.1111111111111111,
              "#46039f"
             ],
             [
              0.2222222222222222,
              "#7201a8"
             ],
             [
              0.3333333333333333,
              "#9c179e"
             ],
             [
              0.4444444444444444,
              "#bd3786"
             ],
             [
              0.5555555555555556,
              "#d8576b"
             ],
             [
              0.6666666666666666,
              "#ed7953"
             ],
             [
              0.7777777777777778,
              "#fb9f3a"
             ],
             [
              0.8888888888888888,
              "#fdca26"
             ],
             [
              1,
              "#f0f921"
             ]
            ],
            "type": "histogram2dcontour"
           }
          ],
          "mesh3d": [
           {
            "colorbar": {
             "outlinewidth": 0,
             "ticks": ""
            },
            "type": "mesh3d"
           }
          ],
          "parcoords": [
           {
            "line": {
             "colorbar": {
              "outlinewidth": 0,
              "ticks": ""
             }
            },
            "type": "parcoords"
           }
          ],
          "pie": [
           {
            "automargin": true,
            "type": "pie"
           }
          ],
          "scatter": [
           {
            "fillpattern": {
             "fillmode": "overlay",
             "size": 10,
             "solidity": 0.2
            },
            "type": "scatter"
           }
          ],
          "scatter3d": [
           {
            "line": {
             "colorbar": {
              "outlinewidth": 0,
              "ticks": ""
             }
            },
            "marker": {
             "colorbar": {
              "outlinewidth": 0,
              "ticks": ""
             }
            },
            "type": "scatter3d"
           }
          ],
          "scattercarpet": [
           {
            "marker": {
             "colorbar": {
              "outlinewidth": 0,
              "ticks": ""
             }
            },
            "type": "scattercarpet"
           }
          ],
          "scattergeo": [
           {
            "marker": {
             "colorbar": {
              "outlinewidth": 0,
              "ticks": ""
             }
            },
            "type": "scattergeo"
           }
          ],
          "scattergl": [
           {
            "marker": {
             "colorbar": {
              "outlinewidth": 0,
              "ticks": ""
             }
            },
            "type": "scattergl"
           }
          ],
          "scattermapbox": [
           {
            "marker": {
             "colorbar": {
              "outlinewidth": 0,
              "ticks": ""
             }
            },
            "type": "scattermapbox"
           }
          ],
          "scatterpolar": [
           {
            "marker": {
             "colorbar": {
              "outlinewidth": 0,
              "ticks": ""
             }
            },
            "type": "scatterpolar"
           }
          ],
          "scatterpolargl": [
           {
            "marker": {
             "colorbar": {
              "outlinewidth": 0,
              "ticks": ""
             }
            },
            "type": "scatterpolargl"
           }
          ],
          "scatterternary": [
           {
            "marker": {
             "colorbar": {
              "outlinewidth": 0,
              "ticks": ""
             }
            },
            "type": "scatterternary"
           }
          ],
          "surface": [
           {
            "colorbar": {
             "outlinewidth": 0,
             "ticks": ""
            },
            "colorscale": [
             [
              0,
              "#0d0887"
             ],
             [
              0.1111111111111111,
              "#46039f"
             ],
             [
              0.2222222222222222,
              "#7201a8"
             ],
             [
              0.3333333333333333,
              "#9c179e"
             ],
             [
              0.4444444444444444,
              "#bd3786"
             ],
             [
              0.5555555555555556,
              "#d8576b"
             ],
             [
              0.6666666666666666,
              "#ed7953"
             ],
             [
              0.7777777777777778,
              "#fb9f3a"
             ],
             [
              0.8888888888888888,
              "#fdca26"
             ],
             [
              1,
              "#f0f921"
             ]
            ],
            "type": "surface"
           }
          ],
          "table": [
           {
            "cells": {
             "fill": {
              "color": "#EBF0F8"
             },
             "line": {
              "color": "white"
             }
            },
            "header": {
             "fill": {
              "color": "#C8D4E3"
             },
             "line": {
              "color": "white"
             }
            },
            "type": "table"
           }
          ]
         },
         "layout": {
          "annotationdefaults": {
           "arrowcolor": "#2a3f5f",
           "arrowhead": 0,
           "arrowwidth": 1
          },
          "autotypenumbers": "strict",
          "coloraxis": {
           "colorbar": {
            "outlinewidth": 0,
            "ticks": ""
           }
          },
          "colorscale": {
           "diverging": [
            [
             0,
             "#8e0152"
            ],
            [
             0.1,
             "#c51b7d"
            ],
            [
             0.2,
             "#de77ae"
            ],
            [
             0.3,
             "#f1b6da"
            ],
            [
             0.4,
             "#fde0ef"
            ],
            [
             0.5,
             "#f7f7f7"
            ],
            [
             0.6,
             "#e6f5d0"
            ],
            [
             0.7,
             "#b8e186"
            ],
            [
             0.8,
             "#7fbc41"
            ],
            [
             0.9,
             "#4d9221"
            ],
            [
             1,
             "#276419"
            ]
           ],
           "sequential": [
            [
             0,
             "#0d0887"
            ],
            [
             0.1111111111111111,
             "#46039f"
            ],
            [
             0.2222222222222222,
             "#7201a8"
            ],
            [
             0.3333333333333333,
             "#9c179e"
            ],
            [
             0.4444444444444444,
             "#bd3786"
            ],
            [
             0.5555555555555556,
             "#d8576b"
            ],
            [
             0.6666666666666666,
             "#ed7953"
            ],
            [
             0.7777777777777778,
             "#fb9f3a"
            ],
            [
             0.8888888888888888,
             "#fdca26"
            ],
            [
             1,
             "#f0f921"
            ]
           ],
           "sequentialminus": [
            [
             0,
             "#0d0887"
            ],
            [
             0.1111111111111111,
             "#46039f"
            ],
            [
             0.2222222222222222,
             "#7201a8"
            ],
            [
             0.3333333333333333,
             "#9c179e"
            ],
            [
             0.4444444444444444,
             "#bd3786"
            ],
            [
             0.5555555555555556,
             "#d8576b"
            ],
            [
             0.6666666666666666,
             "#ed7953"
            ],
            [
             0.7777777777777778,
             "#fb9f3a"
            ],
            [
             0.8888888888888888,
             "#fdca26"
            ],
            [
             1,
             "#f0f921"
            ]
           ]
          },
          "colorway": [
           "#636efa",
           "#EF553B",
           "#00cc96",
           "#ab63fa",
           "#FFA15A",
           "#19d3f3",
           "#FF6692",
           "#B6E880",
           "#FF97FF",
           "#FECB52"
          ],
          "font": {
           "color": "#2a3f5f"
          },
          "geo": {
           "bgcolor": "white",
           "lakecolor": "white",
           "landcolor": "white",
           "showlakes": true,
           "showland": true,
           "subunitcolor": "#C8D4E3"
          },
          "hoverlabel": {
           "align": "left"
          },
          "hovermode": "closest",
          "mapbox": {
           "style": "light"
          },
          "paper_bgcolor": "white",
          "plot_bgcolor": "white",
          "polar": {
           "angularaxis": {
            "gridcolor": "#EBF0F8",
            "linecolor": "#EBF0F8",
            "ticks": ""
           },
           "bgcolor": "white",
           "radialaxis": {
            "gridcolor": "#EBF0F8",
            "linecolor": "#EBF0F8",
            "ticks": ""
           }
          },
          "scene": {
           "xaxis": {
            "backgroundcolor": "white",
            "gridcolor": "#DFE8F3",
            "gridwidth": 2,
            "linecolor": "#EBF0F8",
            "showbackground": true,
            "ticks": "",
            "zerolinecolor": "#EBF0F8"
           },
           "yaxis": {
            "backgroundcolor": "white",
            "gridcolor": "#DFE8F3",
            "gridwidth": 2,
            "linecolor": "#EBF0F8",
            "showbackground": true,
            "ticks": "",
            "zerolinecolor": "#EBF0F8"
           },
           "zaxis": {
            "backgroundcolor": "white",
            "gridcolor": "#DFE8F3",
            "gridwidth": 2,
            "linecolor": "#EBF0F8",
            "showbackground": true,
            "ticks": "",
            "zerolinecolor": "#EBF0F8"
           }
          },
          "shapedefaults": {
           "line": {
            "color": "#2a3f5f"
           }
          },
          "ternary": {
           "aaxis": {
            "gridcolor": "#DFE8F3",
            "linecolor": "#A2B1C6",
            "ticks": ""
           },
           "baxis": {
            "gridcolor": "#DFE8F3",
            "linecolor": "#A2B1C6",
            "ticks": ""
           },
           "bgcolor": "white",
           "caxis": {
            "gridcolor": "#DFE8F3",
            "linecolor": "#A2B1C6",
            "ticks": ""
           }
          },
          "title": {
           "x": 0.05
          },
          "xaxis": {
           "automargin": true,
           "gridcolor": "#EBF0F8",
           "linecolor": "#EBF0F8",
           "ticks": "",
           "title": {
            "standoff": 15
           },
           "zerolinecolor": "#EBF0F8",
           "zerolinewidth": 2
          },
          "yaxis": {
           "automargin": true,
           "gridcolor": "#EBF0F8",
           "linecolor": "#EBF0F8",
           "ticks": "",
           "title": {
            "standoff": 15
           },
           "zerolinecolor": "#EBF0F8",
           "zerolinewidth": 2
          }
         }
        },
        "xaxis": {
         "anchor": "y",
         "domain": [
          0,
          1
         ],
         "title": {
          "text": "Cluster"
         }
        },
        "yaxis": {
         "anchor": "x",
         "domain": [
          0,
          1
         ],
         "title": {
          "text": "Number of Structures"
         }
        }
       }
      },
      "text/html": [
       "<div>                            <div id=\"48a9703b-ec12-4230-813e-dc3bd3b6d5dd\" class=\"plotly-graph-div\" style=\"height:525px; width:100%;\"></div>            <script type=\"text/javascript\">                require([\"plotly\"], function(Plotly) {                    window.PLOTLYENV=window.PLOTLYENV || {};                                    if (document.getElementById(\"48a9703b-ec12-4230-813e-dc3bd3b6d5dd\")) {                    Plotly.newPlot(                        \"48a9703b-ec12-4230-813e-dc3bd3b6d5dd\",                        [{\"alignmentgroup\":\"True\",\"hovertemplate\":\"Cluster=%{x}<br>Number of Structures=%{y}<extra></extra>\",\"legendgroup\":\"\",\"marker\":{\"color\":\"#636efa\",\"pattern\":{\"shape\":\"\"}},\"name\":\"\",\"offsetgroup\":\"\",\"orientation\":\"v\",\"showlegend\":false,\"textposition\":\"auto\",\"x\":[0,1,2,3,4,5,6,7,8,9,10,11,12,13,14,15,16,17,18,19,20,21,22,23,24,25,26,27,28,29,30,31,32,33,34,35,36,37,38,39,40,41,42,43,44,45,46,47,48,49,50,51,52,53,54,55,56,57,58,59,60,61],\"xaxis\":\"x\",\"y\":[426,75,62,52,49,48,34,32,31,23,15,9,7,7,5,5,4,4,3,3,3,3,3,2,2,2,2,2,1,1,1,1,1,1,1,1,1,1,1,1,1,1,1,1,1,1,1,1,1,1,1,1,1,1,1,1,1,1,1,1,1,1],\"yaxis\":\"y\",\"type\":\"bar\"}],                        {\"template\":{\"data\":{\"barpolar\":[{\"marker\":{\"line\":{\"color\":\"white\",\"width\":0.5},\"pattern\":{\"fillmode\":\"overlay\",\"size\":10,\"solidity\":0.2}},\"type\":\"barpolar\"}],\"bar\":[{\"error_x\":{\"color\":\"#2a3f5f\"},\"error_y\":{\"color\":\"#2a3f5f\"},\"marker\":{\"line\":{\"color\":\"white\",\"width\":0.5},\"pattern\":{\"fillmode\":\"overlay\",\"size\":10,\"solidity\":0.2}},\"type\":\"bar\"}],\"carpet\":[{\"aaxis\":{\"endlinecolor\":\"#2a3f5f\",\"gridcolor\":\"#C8D4E3\",\"linecolor\":\"#C8D4E3\",\"minorgridcolor\":\"#C8D4E3\",\"startlinecolor\":\"#2a3f5f\"},\"baxis\":{\"endlinecolor\":\"#2a3f5f\",\"gridcolor\":\"#C8D4E3\",\"linecolor\":\"#C8D4E3\",\"minorgridcolor\":\"#C8D4E3\",\"startlinecolor\":\"#2a3f5f\"},\"type\":\"carpet\"}],\"choropleth\":[{\"colorbar\":{\"outlinewidth\":0,\"ticks\":\"\"},\"type\":\"choropleth\"}],\"contourcarpet\":[{\"colorbar\":{\"outlinewidth\":0,\"ticks\":\"\"},\"type\":\"contourcarpet\"}],\"contour\":[{\"colorbar\":{\"outlinewidth\":0,\"ticks\":\"\"},\"colorscale\":[[0.0,\"#0d0887\"],[0.1111111111111111,\"#46039f\"],[0.2222222222222222,\"#7201a8\"],[0.3333333333333333,\"#9c179e\"],[0.4444444444444444,\"#bd3786\"],[0.5555555555555556,\"#d8576b\"],[0.6666666666666666,\"#ed7953\"],[0.7777777777777778,\"#fb9f3a\"],[0.8888888888888888,\"#fdca26\"],[1.0,\"#f0f921\"]],\"type\":\"contour\"}],\"heatmapgl\":[{\"colorbar\":{\"outlinewidth\":0,\"ticks\":\"\"},\"colorscale\":[[0.0,\"#0d0887\"],[0.1111111111111111,\"#46039f\"],[0.2222222222222222,\"#7201a8\"],[0.3333333333333333,\"#9c179e\"],[0.4444444444444444,\"#bd3786\"],[0.5555555555555556,\"#d8576b\"],[0.6666666666666666,\"#ed7953\"],[0.7777777777777778,\"#fb9f3a\"],[0.8888888888888888,\"#fdca26\"],[1.0,\"#f0f921\"]],\"type\":\"heatmapgl\"}],\"heatmap\":[{\"colorbar\":{\"outlinewidth\":0,\"ticks\":\"\"},\"colorscale\":[[0.0,\"#0d0887\"],[0.1111111111111111,\"#46039f\"],[0.2222222222222222,\"#7201a8\"],[0.3333333333333333,\"#9c179e\"],[0.4444444444444444,\"#bd3786\"],[0.5555555555555556,\"#d8576b\"],[0.6666666666666666,\"#ed7953\"],[0.7777777777777778,\"#fb9f3a\"],[0.8888888888888888,\"#fdca26\"],[1.0,\"#f0f921\"]],\"type\":\"heatmap\"}],\"histogram2dcontour\":[{\"colorbar\":{\"outlinewidth\":0,\"ticks\":\"\"},\"colorscale\":[[0.0,\"#0d0887\"],[0.1111111111111111,\"#46039f\"],[0.2222222222222222,\"#7201a8\"],[0.3333333333333333,\"#9c179e\"],[0.4444444444444444,\"#bd3786\"],[0.5555555555555556,\"#d8576b\"],[0.6666666666666666,\"#ed7953\"],[0.7777777777777778,\"#fb9f3a\"],[0.8888888888888888,\"#fdca26\"],[1.0,\"#f0f921\"]],\"type\":\"histogram2dcontour\"}],\"histogram2d\":[{\"colorbar\":{\"outlinewidth\":0,\"ticks\":\"\"},\"colorscale\":[[0.0,\"#0d0887\"],[0.1111111111111111,\"#46039f\"],[0.2222222222222222,\"#7201a8\"],[0.3333333333333333,\"#9c179e\"],[0.4444444444444444,\"#bd3786\"],[0.5555555555555556,\"#d8576b\"],[0.6666666666666666,\"#ed7953\"],[0.7777777777777778,\"#fb9f3a\"],[0.8888888888888888,\"#fdca26\"],[1.0,\"#f0f921\"]],\"type\":\"histogram2d\"}],\"histogram\":[{\"marker\":{\"pattern\":{\"fillmode\":\"overlay\",\"size\":10,\"solidity\":0.2}},\"type\":\"histogram\"}],\"mesh3d\":[{\"colorbar\":{\"outlinewidth\":0,\"ticks\":\"\"},\"type\":\"mesh3d\"}],\"parcoords\":[{\"line\":{\"colorbar\":{\"outlinewidth\":0,\"ticks\":\"\"}},\"type\":\"parcoords\"}],\"pie\":[{\"automargin\":true,\"type\":\"pie\"}],\"scatter3d\":[{\"line\":{\"colorbar\":{\"outlinewidth\":0,\"ticks\":\"\"}},\"marker\":{\"colorbar\":{\"outlinewidth\":0,\"ticks\":\"\"}},\"type\":\"scatter3d\"}],\"scattercarpet\":[{\"marker\":{\"colorbar\":{\"outlinewidth\":0,\"ticks\":\"\"}},\"type\":\"scattercarpet\"}],\"scattergeo\":[{\"marker\":{\"colorbar\":{\"outlinewidth\":0,\"ticks\":\"\"}},\"type\":\"scattergeo\"}],\"scattergl\":[{\"marker\":{\"colorbar\":{\"outlinewidth\":0,\"ticks\":\"\"}},\"type\":\"scattergl\"}],\"scattermapbox\":[{\"marker\":{\"colorbar\":{\"outlinewidth\":0,\"ticks\":\"\"}},\"type\":\"scattermapbox\"}],\"scatterpolargl\":[{\"marker\":{\"colorbar\":{\"outlinewidth\":0,\"ticks\":\"\"}},\"type\":\"scatterpolargl\"}],\"scatterpolar\":[{\"marker\":{\"colorbar\":{\"outlinewidth\":0,\"ticks\":\"\"}},\"type\":\"scatterpolar\"}],\"scatter\":[{\"fillpattern\":{\"fillmode\":\"overlay\",\"size\":10,\"solidity\":0.2},\"type\":\"scatter\"}],\"scatterternary\":[{\"marker\":{\"colorbar\":{\"outlinewidth\":0,\"ticks\":\"\"}},\"type\":\"scatterternary\"}],\"surface\":[{\"colorbar\":{\"outlinewidth\":0,\"ticks\":\"\"},\"colorscale\":[[0.0,\"#0d0887\"],[0.1111111111111111,\"#46039f\"],[0.2222222222222222,\"#7201a8\"],[0.3333333333333333,\"#9c179e\"],[0.4444444444444444,\"#bd3786\"],[0.5555555555555556,\"#d8576b\"],[0.6666666666666666,\"#ed7953\"],[0.7777777777777778,\"#fb9f3a\"],[0.8888888888888888,\"#fdca26\"],[1.0,\"#f0f921\"]],\"type\":\"surface\"}],\"table\":[{\"cells\":{\"fill\":{\"color\":\"#EBF0F8\"},\"line\":{\"color\":\"white\"}},\"header\":{\"fill\":{\"color\":\"#C8D4E3\"},\"line\":{\"color\":\"white\"}},\"type\":\"table\"}]},\"layout\":{\"annotationdefaults\":{\"arrowcolor\":\"#2a3f5f\",\"arrowhead\":0,\"arrowwidth\":1},\"autotypenumbers\":\"strict\",\"coloraxis\":{\"colorbar\":{\"outlinewidth\":0,\"ticks\":\"\"}},\"colorscale\":{\"diverging\":[[0,\"#8e0152\"],[0.1,\"#c51b7d\"],[0.2,\"#de77ae\"],[0.3,\"#f1b6da\"],[0.4,\"#fde0ef\"],[0.5,\"#f7f7f7\"],[0.6,\"#e6f5d0\"],[0.7,\"#b8e186\"],[0.8,\"#7fbc41\"],[0.9,\"#4d9221\"],[1,\"#276419\"]],\"sequential\":[[0.0,\"#0d0887\"],[0.1111111111111111,\"#46039f\"],[0.2222222222222222,\"#7201a8\"],[0.3333333333333333,\"#9c179e\"],[0.4444444444444444,\"#bd3786\"],[0.5555555555555556,\"#d8576b\"],[0.6666666666666666,\"#ed7953\"],[0.7777777777777778,\"#fb9f3a\"],[0.8888888888888888,\"#fdca26\"],[1.0,\"#f0f921\"]],\"sequentialminus\":[[0.0,\"#0d0887\"],[0.1111111111111111,\"#46039f\"],[0.2222222222222222,\"#7201a8\"],[0.3333333333333333,\"#9c179e\"],[0.4444444444444444,\"#bd3786\"],[0.5555555555555556,\"#d8576b\"],[0.6666666666666666,\"#ed7953\"],[0.7777777777777778,\"#fb9f3a\"],[0.8888888888888888,\"#fdca26\"],[1.0,\"#f0f921\"]]},\"colorway\":[\"#636efa\",\"#EF553B\",\"#00cc96\",\"#ab63fa\",\"#FFA15A\",\"#19d3f3\",\"#FF6692\",\"#B6E880\",\"#FF97FF\",\"#FECB52\"],\"font\":{\"color\":\"#2a3f5f\"},\"geo\":{\"bgcolor\":\"white\",\"lakecolor\":\"white\",\"landcolor\":\"white\",\"showlakes\":true,\"showland\":true,\"subunitcolor\":\"#C8D4E3\"},\"hoverlabel\":{\"align\":\"left\"},\"hovermode\":\"closest\",\"mapbox\":{\"style\":\"light\"},\"paper_bgcolor\":\"white\",\"plot_bgcolor\":\"white\",\"polar\":{\"angularaxis\":{\"gridcolor\":\"#EBF0F8\",\"linecolor\":\"#EBF0F8\",\"ticks\":\"\"},\"bgcolor\":\"white\",\"radialaxis\":{\"gridcolor\":\"#EBF0F8\",\"linecolor\":\"#EBF0F8\",\"ticks\":\"\"}},\"scene\":{\"xaxis\":{\"backgroundcolor\":\"white\",\"gridcolor\":\"#DFE8F3\",\"gridwidth\":2,\"linecolor\":\"#EBF0F8\",\"showbackground\":true,\"ticks\":\"\",\"zerolinecolor\":\"#EBF0F8\"},\"yaxis\":{\"backgroundcolor\":\"white\",\"gridcolor\":\"#DFE8F3\",\"gridwidth\":2,\"linecolor\":\"#EBF0F8\",\"showbackground\":true,\"ticks\":\"\",\"zerolinecolor\":\"#EBF0F8\"},\"zaxis\":{\"backgroundcolor\":\"white\",\"gridcolor\":\"#DFE8F3\",\"gridwidth\":2,\"linecolor\":\"#EBF0F8\",\"showbackground\":true,\"ticks\":\"\",\"zerolinecolor\":\"#EBF0F8\"}},\"shapedefaults\":{\"line\":{\"color\":\"#2a3f5f\"}},\"ternary\":{\"aaxis\":{\"gridcolor\":\"#DFE8F3\",\"linecolor\":\"#A2B1C6\",\"ticks\":\"\"},\"baxis\":{\"gridcolor\":\"#DFE8F3\",\"linecolor\":\"#A2B1C6\",\"ticks\":\"\"},\"bgcolor\":\"white\",\"caxis\":{\"gridcolor\":\"#DFE8F3\",\"linecolor\":\"#A2B1C6\",\"ticks\":\"\"}},\"title\":{\"x\":0.05},\"xaxis\":{\"automargin\":true,\"gridcolor\":\"#EBF0F8\",\"linecolor\":\"#EBF0F8\",\"ticks\":\"\",\"title\":{\"standoff\":15},\"zerolinecolor\":\"#EBF0F8\",\"zerolinewidth\":2},\"yaxis\":{\"automargin\":true,\"gridcolor\":\"#EBF0F8\",\"linecolor\":\"#EBF0F8\",\"ticks\":\"\",\"title\":{\"standoff\":15},\"zerolinecolor\":\"#EBF0F8\",\"zerolinewidth\":2}}},\"xaxis\":{\"anchor\":\"y\",\"domain\":[0.0,1.0],\"title\":{\"text\":\"Cluster\"}},\"yaxis\":{\"anchor\":\"x\",\"domain\":[0.0,1.0],\"title\":{\"text\":\"Number of Structures\"}},\"legend\":{\"tracegroupgap\":0},\"margin\":{\"t\":60},\"barmode\":\"relative\"},                        {\"responsive\": true}                    ).then(function(){\n",
       "                            \n",
       "var gd = document.getElementById('48a9703b-ec12-4230-813e-dc3bd3b6d5dd');\n",
       "var x = new MutationObserver(function (mutations, observer) {{\n",
       "        var display = window.getComputedStyle(gd).display;\n",
       "        if (!display || display === 'none') {{\n",
       "            console.log([gd, 'removed!']);\n",
       "            Plotly.purge(gd);\n",
       "            observer.disconnect();\n",
       "        }}\n",
       "}});\n",
       "\n",
       "// Listen for the removal of the full notebook cells\n",
       "var notebookContainer = gd.closest('#notebook-container');\n",
       "if (notebookContainer) {{\n",
       "    x.observe(notebookContainer, {childList: true});\n",
       "}}\n",
       "\n",
       "// Listen for the clearing of the current output cell\n",
       "var outputEl = gd.closest('.output');\n",
       "if (outputEl) {{\n",
       "    x.observe(outputEl, {childList: true});\n",
       "}}\n",
       "\n",
       "                        })                };                });            </script>        </div>"
      ]
     },
     "metadata": {},
     "output_type": "display_data"
    }
   ],
   "source": [
    "import plotly.express as px\n",
    "\n",
    "lengths = sorted([len(cluster) for cluster in cluster_dict.values()], reverse=True)\n",
    "\n",
    "fig = px.bar(y=lengths, labels={\"x\": \"Cluster\", \"y\": \"Number of Structures\"})\n",
    "fig.update_layout(template=\"plotly_white\")\n",
    "fig.show()"
   ]
  },
  {
   "attachments": {},
   "cell_type": "markdown",
   "metadata": {},
   "source": [
    "Now, let's make a plot of protein length versus isoelectric point, coloured by cluster - this is what we've done with previous clustering experiments to show that clusters correspond to meaningful physical properties of proteins.\n",
    "\n",
    "First, let's make a DataFrame of our Foldseek clusters:"
   ]
  },
  {
   "cell_type": "code",
   "execution_count": 37,
   "metadata": {},
   "outputs": [
    {
     "data": {
      "text/html": [
       "<div>\n",
       "<style scoped>\n",
       "    .dataframe tbody tr th:only-of-type {\n",
       "        vertical-align: middle;\n",
       "    }\n",
       "\n",
       "    .dataframe tbody tr th {\n",
       "        vertical-align: top;\n",
       "    }\n",
       "\n",
       "    .dataframe thead th {\n",
       "        text-align: right;\n",
       "    }\n",
       "</style>\n",
       "<table border=\"1\" class=\"dataframe\">\n",
       "  <thead>\n",
       "    <tr style=\"text-align: right;\">\n",
       "      <th></th>\n",
       "      <th>MGYP</th>\n",
       "      <th>Cluster</th>\n",
       "    </tr>\n",
       "  </thead>\n",
       "  <tbody>\n",
       "    <tr>\n",
       "      <th>0</th>\n",
       "      <td>MGYP000131233602</td>\n",
       "      <td>0</td>\n",
       "    </tr>\n",
       "    <tr>\n",
       "      <th>1</th>\n",
       "      <td>MGYP003624382026</td>\n",
       "      <td>0</td>\n",
       "    </tr>\n",
       "    <tr>\n",
       "      <th>2</th>\n",
       "      <td>MGYP000248784877</td>\n",
       "      <td>1</td>\n",
       "    </tr>\n",
       "    <tr>\n",
       "      <th>3</th>\n",
       "      <td>MGYP000189593907</td>\n",
       "      <td>1</td>\n",
       "    </tr>\n",
       "    <tr>\n",
       "      <th>4</th>\n",
       "      <td>MGYP003361717447</td>\n",
       "      <td>1</td>\n",
       "    </tr>\n",
       "    <tr>\n",
       "      <th>...</th>\n",
       "      <td>...</td>\n",
       "      <td>...</td>\n",
       "    </tr>\n",
       "    <tr>\n",
       "      <th>942</th>\n",
       "      <td>MGYP000098784662</td>\n",
       "      <td>61</td>\n",
       "    </tr>\n",
       "    <tr>\n",
       "      <th>943</th>\n",
       "      <td>MGYP003145882433</td>\n",
       "      <td>61</td>\n",
       "    </tr>\n",
       "    <tr>\n",
       "      <th>944</th>\n",
       "      <td>MGYP003204103103</td>\n",
       "      <td>61</td>\n",
       "    </tr>\n",
       "    <tr>\n",
       "      <th>945</th>\n",
       "      <td>MGYP003237769608</td>\n",
       "      <td>61</td>\n",
       "    </tr>\n",
       "    <tr>\n",
       "      <th>946</th>\n",
       "      <td>MGYP003571257895</td>\n",
       "      <td>61</td>\n",
       "    </tr>\n",
       "  </tbody>\n",
       "</table>\n",
       "<p>947 rows × 2 columns</p>\n",
       "</div>"
      ],
      "text/plain": [
       "                 MGYP Cluster\n",
       "0    MGYP000131233602       0\n",
       "1    MGYP003624382026       0\n",
       "2    MGYP000248784877       1\n",
       "3    MGYP000189593907       1\n",
       "4    MGYP003361717447       1\n",
       "..                ...     ...\n",
       "942  MGYP000098784662      61\n",
       "943  MGYP003145882433      61\n",
       "944  MGYP003204103103      61\n",
       "945  MGYP003237769608      61\n",
       "946  MGYP003571257895      61\n",
       "\n",
       "[947 rows x 2 columns]"
      ]
     },
     "execution_count": 37,
     "metadata": {},
     "output_type": "execute_result"
    }
   ],
   "source": [
    "import pandas as pd\n",
    "\n",
    "records = [{\"MGYP\": mgyp, \"Cluster\": cluster} for cluster, structures in cluster_dict.items() for mgyp in structures]\n",
    "foldseek_df = pd.DataFrame(records)\n",
    "foldseek_df"
   ]
  },
  {
   "attachments": {},
   "cell_type": "markdown",
   "metadata": {},
   "source": [
    "Now, let's load our DALI cluster DataFrame and merge the two together into a new DataFrame:"
   ]
  },
  {
   "cell_type": "code",
   "execution_count": 38,
   "metadata": {},
   "outputs": [
    {
     "data": {
      "text/html": [
       "<div>\n",
       "<style scoped>\n",
       "    .dataframe tbody tr th:only-of-type {\n",
       "        vertical-align: middle;\n",
       "    }\n",
       "\n",
       "    .dataframe tbody tr th {\n",
       "        vertical-align: top;\n",
       "    }\n",
       "\n",
       "    .dataframe thead th {\n",
       "        text-align: right;\n",
       "    }\n",
       "</style>\n",
       "<table border=\"1\" class=\"dataframe\">\n",
       "  <thead>\n",
       "    <tr style=\"text-align: right;\">\n",
       "      <th></th>\n",
       "      <th>MGYP</th>\n",
       "      <th>Foldseek Cluster</th>\n",
       "      <th>DALI Cluster</th>\n",
       "      <th>Length</th>\n",
       "      <th>mW</th>\n",
       "      <th>pI</th>\n",
       "    </tr>\n",
       "  </thead>\n",
       "  <tbody>\n",
       "    <tr>\n",
       "      <th>0</th>\n",
       "      <td>MGYP000131233602</td>\n",
       "      <td>0</td>\n",
       "      <td>Dissimilar</td>\n",
       "      <td>367</td>\n",
       "      <td>39.706791</td>\n",
       "      <td>4.718000</td>\n",
       "    </tr>\n",
       "    <tr>\n",
       "      <th>1</th>\n",
       "      <td>MGYP003624382026</td>\n",
       "      <td>0</td>\n",
       "      <td>Dissimilar</td>\n",
       "      <td>409</td>\n",
       "      <td>45.119116</td>\n",
       "      <td>9.324723</td>\n",
       "    </tr>\n",
       "    <tr>\n",
       "      <th>2</th>\n",
       "      <td>MGYP000248784877</td>\n",
       "      <td>1</td>\n",
       "      <td>Dissimilar</td>\n",
       "      <td>283</td>\n",
       "      <td>32.198028</td>\n",
       "      <td>5.408196</td>\n",
       "    </tr>\n",
       "    <tr>\n",
       "      <th>3</th>\n",
       "      <td>MGYP000189593907</td>\n",
       "      <td>1</td>\n",
       "      <td>Dissimilar</td>\n",
       "      <td>272</td>\n",
       "      <td>31.417796</td>\n",
       "      <td>5.413937</td>\n",
       "    </tr>\n",
       "    <tr>\n",
       "      <th>4</th>\n",
       "      <td>MGYP003361717447</td>\n",
       "      <td>1</td>\n",
       "      <td>Dissimilar</td>\n",
       "      <td>328</td>\n",
       "      <td>36.976115</td>\n",
       "      <td>5.252855</td>\n",
       "    </tr>\n",
       "    <tr>\n",
       "      <th>...</th>\n",
       "      <td>...</td>\n",
       "      <td>...</td>\n",
       "      <td>...</td>\n",
       "      <td>...</td>\n",
       "      <td>...</td>\n",
       "      <td>...</td>\n",
       "    </tr>\n",
       "    <tr>\n",
       "      <th>942</th>\n",
       "      <td>MGYP000098784662</td>\n",
       "      <td>61</td>\n",
       "      <td>Dissimilar</td>\n",
       "      <td>369</td>\n",
       "      <td>41.264702</td>\n",
       "      <td>5.272806</td>\n",
       "    </tr>\n",
       "    <tr>\n",
       "      <th>943</th>\n",
       "      <td>MGYP003145882433</td>\n",
       "      <td>61</td>\n",
       "      <td>7</td>\n",
       "      <td>335</td>\n",
       "      <td>34.875598</td>\n",
       "      <td>5.409731</td>\n",
       "    </tr>\n",
       "    <tr>\n",
       "      <th>944</th>\n",
       "      <td>MGYP003204103103</td>\n",
       "      <td>61</td>\n",
       "      <td>13</td>\n",
       "      <td>368</td>\n",
       "      <td>41.434656</td>\n",
       "      <td>5.777365</td>\n",
       "    </tr>\n",
       "    <tr>\n",
       "      <th>945</th>\n",
       "      <td>MGYP003237769608</td>\n",
       "      <td>61</td>\n",
       "      <td>13</td>\n",
       "      <td>368</td>\n",
       "      <td>41.378593</td>\n",
       "      <td>6.097255</td>\n",
       "    </tr>\n",
       "    <tr>\n",
       "      <th>946</th>\n",
       "      <td>MGYP003571257895</td>\n",
       "      <td>61</td>\n",
       "      <td>13</td>\n",
       "      <td>368</td>\n",
       "      <td>41.238789</td>\n",
       "      <td>5.396942</td>\n",
       "    </tr>\n",
       "  </tbody>\n",
       "</table>\n",
       "<p>947 rows × 6 columns</p>\n",
       "</div>"
      ],
      "text/plain": [
       "                 MGYP Foldseek Cluster DALI Cluster  Length         mW  \\\n",
       "0    MGYP000131233602                0   Dissimilar     367  39.706791   \n",
       "1    MGYP003624382026                0   Dissimilar     409  45.119116   \n",
       "2    MGYP000248784877                1   Dissimilar     283  32.198028   \n",
       "3    MGYP000189593907                1   Dissimilar     272  31.417796   \n",
       "4    MGYP003361717447                1   Dissimilar     328  36.976115   \n",
       "..                ...              ...          ...     ...        ...   \n",
       "942  MGYP000098784662               61   Dissimilar     369  41.264702   \n",
       "943  MGYP003145882433               61            7     335  34.875598   \n",
       "944  MGYP003204103103               61           13     368  41.434656   \n",
       "945  MGYP003237769608               61           13     368  41.378593   \n",
       "946  MGYP003571257895               61           13     368  41.238789   \n",
       "\n",
       "           pI  \n",
       "0    4.718000  \n",
       "1    9.324723  \n",
       "2    5.408196  \n",
       "3    5.413937  \n",
       "4    5.252855  \n",
       "..        ...  \n",
       "942  5.272806  \n",
       "943  5.409731  \n",
       "944  5.777365  \n",
       "945  6.097255  \n",
       "946  5.396942  \n",
       "\n",
       "[947 rows x 6 columns]"
      ]
     },
     "execution_count": 38,
     "metadata": {},
     "output_type": "execute_result"
    }
   ],
   "source": [
    "dali_df = pd.read_csv(\"../metadata/DALI_cluster_table_2.csv\").rename(columns={\"Cluster\": \"DALI Cluster\"}).loc[:, [\"DALI Cluster\", \"MGYP\", \"Length\", \"mW\", \"pI\"]]\n",
    "\n",
    "foldseek_df = foldseek_df.merge(dali_df, how=\"left\", on=\"MGYP\").rename(columns={\"Cluster\": \"Foldseek Cluster\"})\n",
    "foldseek_df"
   ]
  },
  {
   "attachments": {},
   "cell_type": "markdown",
   "metadata": {},
   "source": [
    "Let's plot the DALI Clusters as before:"
   ]
  },
  {
   "cell_type": "code",
   "execution_count": 44,
   "metadata": {},
   "outputs": [
    {
     "data": {
      "application/vnd.plotly.v1+json": {
       "config": {
        "plotlyServerURL": "https://plot.ly"
       },
       "data": [
        {
         "hovertemplate": "DALI Cluster=0<br>Length (Amino Acids)=%{x}<br>Isoelectric Point=%{y}<extra></extra>",
         "legendgroup": "0",
         "marker": {
          "color": "#FA0087",
          "symbol": "circle"
         },
         "mode": "markers",
         "name": "0",
         "orientation": "v",
         "showlegend": true,
         "type": "scatter",
         "x": [
          269,
          245,
          243,
          217,
          221
         ],
         "xaxis": "x",
         "y": [
          5.021918296813964,
          5.283946037292479,
          5.283548164367674,
          5.574847984313963,
          5.539323616027831
         ],
         "yaxis": "y"
        },
        {
         "hovertemplate": "DALI Cluster=1<br>Length (Amino Acids)=%{x}<br>Isoelectric Point=%{y}<extra></extra>",
         "legendgroup": "1",
         "marker": {
          "color": "#FBE426",
          "symbol": "circle"
         },
         "mode": "markers",
         "name": "1",
         "orientation": "v",
         "showlegend": true,
         "type": "scatter",
         "x": [
          305,
          306,
          302,
          269,
          305,
          305,
          303,
          305,
          305,
          305,
          306,
          305,
          305,
          305,
          305,
          305,
          305,
          305,
          305,
          305,
          305,
          305,
          305,
          305,
          305,
          305,
          305,
          305,
          302,
          302,
          302,
          302,
          303,
          301,
          301,
          301,
          307,
          307,
          302,
          302,
          303,
          303,
          303,
          303,
          303,
          303,
          303,
          304,
          304,
          302,
          302,
          302,
          302,
          302,
          302,
          302,
          301,
          302,
          302,
          302,
          303,
          303,
          303,
          302,
          302,
          302,
          303,
          302,
          302,
          303,
          303,
          302,
          303,
          301,
          301,
          301,
          301,
          302,
          302,
          301,
          302,
          303,
          303,
          303,
          304,
          303,
          303,
          303,
          303,
          303,
          303,
          303,
          303,
          302,
          303,
          302,
          302,
          302,
          302,
          307,
          302,
          302,
          302,
          302,
          302,
          302,
          302,
          302,
          302,
          302,
          302,
          302,
          297,
          300,
          303,
          302,
          302,
          302,
          301,
          302,
          302,
          301,
          302,
          302,
          302,
          303,
          303,
          303,
          301,
          302,
          302,
          302,
          303,
          302,
          302,
          308,
          301,
          302,
          302,
          302,
          302,
          302,
          305,
          305,
          305,
          304,
          302,
          303,
          300,
          301,
          302,
          303,
          301,
          302,
          302,
          312,
          312,
          312,
          302,
          304,
          304,
          302,
          302,
          303,
          303,
          303,
          303,
          305,
          300,
          302,
          302,
          302,
          302,
          300,
          300,
          303,
          303,
          307,
          307,
          306,
          306,
          306,
          303,
          284,
          302,
          302,
          303,
          303,
          302,
          302,
          302,
          304,
          305,
          306,
          305,
          302,
          302,
          303,
          303,
          301,
          302,
          303,
          302,
          303,
          302,
          292,
          303,
          304,
          304,
          294,
          288,
          289,
          320,
          305,
          299,
          307,
          306
         ],
         "xaxis": "x",
         "y": [
          5.822893333435059,
          4.633537483215332,
          5.805614280700683,
          4.947231864929199,
          4.955132484436034,
          4.973150444030761,
          5.195731925964354,
          5.090750312805175,
          4.998216438293456,
          4.956326103210448,
          5.024078178405762,
          4.912560081481933,
          4.904602622985839,
          4.904602622985839,
          4.904602622985839,
          4.950187492370604,
          4.950187492370604,
          5.105585289001463,
          4.956326103210448,
          4.956326103210448,
          4.956326103210448,
          4.956326103210448,
          4.904602622985839,
          4.904602622985839,
          4.956326103210448,
          4.956326103210448,
          4.904602622985839,
          4.955132484436034,
          5.089727210998535,
          5.031978797912598,
          4.956326103210448,
          4.956326103210448,
          4.840772438049315,
          4.823379707336425,
          4.774611854553222,
          4.783308219909667,
          4.891984367370605,
          4.955644035339354,
          4.744941902160644,
          4.706291389465331,
          4.84014720916748,
          4.84014720916748,
          4.783308219909667,
          4.84014720916748,
          4.84014720916748,
          4.687761878967284,
          4.687761878967284,
          4.687761878967284,
          4.735677146911621,
          4.85026454925537,
          4.789276313781738,
          4.739428520202637,
          4.739428520202637,
          4.772736167907715,
          4.772736167907715,
          4.772736167907715,
          4.770689964294434,
          4.761993598937988,
          4.808260536193848,
          4.808260536193848,
          4.813432884216309,
          4.821049308776855,
          4.651043891906738,
          4.582041358947754,
          4.624386405944825,
          4.651043891906738,
          4.615235328674316,
          4.651043891906738,
          4.679236030578613,
          4.60682315826416,
          4.973093605041503,
          5.047097969055175,
          5.054032325744628,
          4.995317649841308,
          4.971899986267089,
          4.889710807800292,
          4.848900413513182,
          4.8536180496215815,
          4.906535148620605,
          4.877831459045409,
          4.719307518005371,
          4.792118263244629,
          4.747272300720215,
          4.738462257385254,
          4.79183406829834,
          4.880218696594238,
          4.880218696594238,
          4.880218696594238,
          4.880218696594238,
          4.738462257385254,
          4.884879493713378,
          4.884879493713378,
          4.696571922302245,
          4.722717857360839,
          4.876637840270996,
          4.744430351257324,
          4.780579948425292,
          4.845490074157714,
          4.845490074157714,
          4.783592414855956,
          4.7815462112426745,
          4.846115303039549,
          4.7815462112426745,
          4.780807304382324,
          4.788992118835449,
          4.6379709243774405,
          4.670028114318847,
          4.752956199645996,
          4.716749763488769,
          4.6660493850708,
          4.686284065246581,
          4.711179542541504,
          4.776203346252441,
          4.716749763488769,
          4.701289558410643,
          4.821560859680175,
          4.862314414978028,
          4.758867454528808,
          4.803940773010253,
          4.803940773010253,
          4.803940773010253,
          4.767506980895996,
          4.861632347106934,
          4.870158195495605,
          4.861632347106934,
          4.795187568664551,
          4.7191370010375975,
          4.817525291442871,
          4.860893440246582,
          4.712998390197753,
          4.881810188293457,
          4.767506980895996,
          4.738462257385254,
          4.895565223693848,
          4.962237358093262,
          4.901646995544433,
          5.117578315734862,
          4.710213279724121,
          4.710213279724121,
          4.9656476974487305,
          4.967011833190917,
          4.967011833190917,
          4.541060447692872,
          4.519859504699707,
          4.5394689559936525,
          4.85026454925537,
          4.693843650817871,
          4.686966133117674,
          4.738462257385254,
          4.876637840270996,
          4.674291038513183,
          5.029989433288574,
          4.962976264953612,
          4.764494514465332,
          4.764494514465332,
          4.638368797302246,
          4.732323646545409,
          4.783592414855956,
          4.704529380798339,
          4.885732078552246,
          4.876637840270996,
          4.988781166076659,
          4.988781166076659,
          4.747215461730956,
          4.790356254577637,
          4.8354295730590815,
          4.794221305847168,
          4.89550838470459,
          4.7567644119262695,
          4.917732429504394,
          5.188797569274901,
          4.900567054748534,
          4.873909568786621,
          4.808260536193848,
          4.865838432312012,
          4.912560081481933,
          4.769723701477051,
          4.798995780944825,
          4.7815462112426745,
          4.92898654937744,
          4.73806438446045,
          4.694412040710449,
          5.387051963806152,
          4.886584663391113,
          4.7237977981567365,
          4.893007469177246,
          4.959452247619628,
          5.00463924407959,
          4.989576911926269,
          4.980312156677246,
          5.062217140197753,
          4.953995704650878,
          4.903977394104003,
          4.750057411193848,
          4.965420341491699,
          5.388643455505371,
          5.203518867492675,
          5.197721290588378,
          5.190275382995604,
          5.107176780700683,
          4.803883934020996,
          4.969399070739747,
          5.063979148864745,
          5.079041481018065,
          5.015154457092284,
          4.900851249694824,
          5.485099220275878,
          5.649136543273925,
          5.222275733947753,
          4.956326103210448,
          4.921085929870604,
          4.921029090881347,
          5.131105995178221,
          4.79962100982666,
          4.800018882751465,
          4.898464012145996,
          4.750057411193848
         ],
         "yaxis": "y"
        },
        {
         "hovertemplate": "DALI Cluster=2<br>Length (Amino Acids)=%{x}<br>Isoelectric Point=%{y}<extra></extra>",
         "legendgroup": "2",
         "marker": {
          "color": "#B00068",
          "symbol": "circle"
         },
         "mode": "markers",
         "name": "2",
         "orientation": "v",
         "showlegend": true,
         "type": "scatter",
         "x": [
          268
         ],
         "xaxis": "x",
         "y": [
          8.61363697052002
         ],
         "yaxis": "y"
        },
        {
         "hovertemplate": "DALI Cluster=3<br>Length (Amino Acids)=%{x}<br>Isoelectric Point=%{y}<extra></extra>",
         "legendgroup": "3",
         "marker": {
          "color": "#FC1CBF",
          "symbol": "circle"
         },
         "mode": "markers",
         "name": "3",
         "orientation": "v",
         "showlegend": true,
         "type": "scatter",
         "x": [
          369,
          294,
          331,
          341,
          130,
          94
         ],
         "xaxis": "x",
         "y": [
          5.049939918518065,
          5.167369270324705,
          5.474868202209472,
          5.458157539367675,
          7.899843025207519,
          4.7555139541625975
         ],
         "yaxis": "y"
        },
        {
         "hovertemplate": "DALI Cluster=4<br>Length (Amino Acids)=%{x}<br>Isoelectric Point=%{y}<extra></extra>",
         "legendgroup": "4",
         "marker": {
          "color": "#C075A6",
          "symbol": "circle"
         },
         "mode": "markers",
         "name": "4",
         "orientation": "v",
         "showlegend": true,
         "type": "scatter",
         "x": [
          370,
          388,
          398,
          390,
          392,
          391,
          416,
          383,
          383,
          383,
          340,
          340,
          312,
          312,
          348,
          346,
          350,
          350,
          350,
          352,
          352,
          352,
          354,
          335,
          342,
          301,
          287,
          333,
          321,
          355,
          343,
          333,
          331,
          316,
          319,
          318,
          319,
          319,
          321,
          318,
          323,
          323,
          314,
          313,
          319,
          320,
          320,
          323,
          317,
          320,
          318,
          314,
          295,
          315,
          321,
          321,
          331,
          331,
          314,
          297,
          335,
          303,
          361,
          389
         ],
         "xaxis": "x",
         "y": [
          4.681793785095214,
          5.0589204788208,
          5.088647270202636,
          4.728231239318848,
          4.971217918395996,
          4.979289054870605,
          4.510594749450684,
          4.816615867614746,
          4.919267082214354,
          4.88226490020752,
          4.930464363098143,
          4.930464363098143,
          4.797745323181153,
          4.867714118957519,
          4.6895238876342775,
          4.782626152038574,
          4.723002052307128,
          4.781887245178221,
          4.714476203918457,
          4.5470853805542,
          4.634219551086425,
          4.588918876647949,
          5.870865440368651,
          5.410526466369628,
          5.771851921081542,
          5.118374061584471,
          6.1950181961059565,
          4.656102561950684,
          6.003072929382324,
          4.883742713928222,
          5.160946464538573,
          6.766022682189941,
          5.824769020080566,
          5.382050132751465,
          5.153159523010252,
          4.741020011901855,
          5.1192834854125975,
          5.227391242980955,
          5.041527748107909,
          4.9572355270385735,
          5.172825813293455,
          5.880755424499512,
          5.808001518249512,
          5.402284812927246,
          4.957065010070799,
          7.633158302307129,
          7.633158302307129,
          5.254673957824706,
          5.364145851135253,
          5.055339622497558,
          5.16566410064697,
          6.76062297821045,
          4.638141441345215,
          5.045620155334471,
          5.383471107482911,
          5.383471107482911,
          4.553394508361817,
          4.553394508361817,
          4.760231590270995,
          5.589285087585449,
          5.637370872497558,
          9.267797660827636,
          4.9423437118530265,
          5.007822227478028
         ],
         "yaxis": "y"
        },
        {
         "hovertemplate": "DALI Cluster=5<br>Length (Amino Acids)=%{x}<br>Isoelectric Point=%{y}<extra></extra>",
         "legendgroup": "5",
         "marker": {
          "color": "#B10DA1",
          "symbol": "circle"
         },
         "mode": "markers",
         "name": "5",
         "orientation": "v",
         "showlegend": true,
         "type": "scatter",
         "x": [
          371,
          451,
          446,
          442,
          433,
          460,
          446,
          281
         ],
         "xaxis": "x",
         "y": [
          5.358461952209471,
          4.951665306091308,
          4.966613960266113,
          4.789333152770996,
          5.841991233825683,
          5.343342781066894,
          4.831735038757324,
          5.425134086608886
         ],
         "yaxis": "y"
        },
        {
         "hovertemplate": "DALI Cluster=6<br>Length (Amino Acids)=%{x}<br>Isoelectric Point=%{y}<extra></extra>",
         "legendgroup": "6",
         "marker": {
          "color": "#2ED9FF",
          "symbol": "circle"
         },
         "mode": "markers",
         "name": "6",
         "orientation": "v",
         "showlegend": true,
         "type": "scatter",
         "x": [
          477,
          477,
          477,
          477,
          477,
          477,
          477,
          477,
          466,
          477,
          477,
          477,
          457,
          458,
          457,
          419,
          457,
          432,
          406,
          427,
          427,
          423,
          468,
          466,
          461,
          427,
          456,
          511,
          360,
          457,
          457,
          457,
          457,
          457,
          457,
          450,
          392,
          394,
          397,
          397,
          397,
          388,
          388,
          388,
          388,
          393,
          394,
          395,
          390,
          397,
          388,
          394,
          392,
          392,
          395,
          397,
          395,
          395,
          388,
          388,
          388,
          387,
          387,
          388,
          387,
          387,
          394,
          391,
          394,
          392,
          391,
          390,
          391,
          392,
          391,
          373,
          403,
          405,
          417,
          408,
          407,
          423
         ],
         "xaxis": "x",
         "y": [
          5.998071098327636,
          5.998071098327636,
          5.911505317687988,
          5.998071098327636,
          5.998071098327636,
          5.998071098327636,
          5.998071098327636,
          6.21673069000244,
          6.569928169250488,
          6.216332817077636,
          5.998071098327636,
          5.998071098327636,
          6.6389875411987305,
          6.100267601013182,
          5.826701545715332,
          5.009072685241699,
          5.874275779724121,
          5.707680702209472,
          5.402000617980956,
          5.481177330017089,
          5.481177330017089,
          5.81845989227295,
          5.303726005554199,
          5.883711051940917,
          5.48686122894287,
          5.400011253356933,
          5.913437843322753,
          6.286472129821779,
          5.45281467437744,
          6.6389875411987305,
          6.6389875411987305,
          6.6389875411987305,
          6.6389875411987305,
          6.6389875411987305,
          6.6389875411987305,
          5.997161674499511,
          5.024532890319825,
          5.2288122177124015,
          5.438889122009278,
          5.5032876968383775,
          5.438889122009278,
          5.131560707092285,
          5.354426383972168,
          5.354426383972168,
          5.354426383972168,
          5.376025199890138,
          5.354710578918457,
          5.217558097839355,
          6.264873313903809,
          5.62094440460205,
          5.550236701965332,
          5.639019203186035,
          5.033001899719238,
          5.033001899719238,
          5.113997459411621,
          5.5032876968383775,
          5.253821372985839,
          5.253821372985839,
          5.1577066421508775,
          5.376593589782716,
          5.277239036560058,
          5.447869682312012,
          5.352948570251464,
          5.29355182647705,
          5.708817481994629,
          5.372330665588379,
          5.4808931350708,
          5.483394050598144,
          5.480836296081542,
          5.351413917541504,
          5.321857643127441,
          5.108313560485839,
          5.321857643127441,
          5.16492519378662,
          5.321857643127441,
          5.278375816345213,
          6.662632560729982,
          6.962060356140137,
          6.471767234802246,
          6.269875144958497,
          6.481145668029785,
          5.795496940612793
         ],
         "yaxis": "y"
        },
        {
         "hovertemplate": "DALI Cluster=7<br>Length (Amino Acids)=%{x}<br>Isoelectric Point=%{y}<extra></extra>",
         "legendgroup": "7",
         "marker": {
          "color": "#1CFFCE",
          "symbol": "circle"
         },
         "mode": "markers",
         "name": "7",
         "orientation": "v",
         "showlegend": true,
         "type": "scatter",
         "x": [
          182,
          210,
          267,
          232,
          232,
          477,
          485,
          218,
          338,
          343,
          266,
          294,
          246,
          256,
          266,
          259,
          263,
          211,
          216,
          216,
          256,
          232,
          236,
          228,
          236,
          232,
          234,
          240,
          243,
          243,
          231,
          241,
          239,
          347,
          335,
          451,
          386
         ],
         "xaxis": "x",
         "y": [
          4.42260799407959,
          5.770999336242675,
          4.9991258621215815,
          5.983463478088378,
          5.983463478088378,
          6.102711677551268,
          5.375911521911622,
          4.813489723205566,
          5.498172187805174,
          4.839010429382324,
          4.940581703186035,
          5.123034858703612,
          7.5817758560180675,
          5.987499046325683,
          5.972038841247559,
          7.014352226257324,
          5.994774436950683,
          4.507184410095214,
          4.334905433654787,
          4.530715751647949,
          5.047439002990722,
          5.905650901794433,
          6.178762245178221,
          5.655843544006348,
          5.449631690979003,
          8.762301063537599,
          6.803536415100097,
          6.149092292785644,
          7.016171073913574,
          6.190982627868652,
          6.7975683212280265,
          6.180069541931151,
          6.9403478622436525,
          5.570585060119628,
          5.4097307205200185,
          5.41723346710205,
          5.632141685485839
         ],
         "yaxis": "y"
        },
        {
         "hovertemplate": "DALI Cluster=8<br>Length (Amino Acids)=%{x}<br>Isoelectric Point=%{y}<extra></extra>",
         "legendgroup": "8",
         "marker": {
          "color": "#F6222E",
          "symbol": "circle"
         },
         "mode": "markers",
         "name": "8",
         "orientation": "v",
         "showlegend": true,
         "type": "scatter",
         "x": [
          264,
          266,
          266,
          271,
          271,
          271,
          278,
          272,
          268,
          264,
          264,
          264,
          264,
          269,
          269,
          264,
          264,
          264,
          265,
          265,
          265,
          265,
          271,
          267,
          264,
          268,
          274,
          270,
          274,
          264,
          263,
          263,
          263,
          270,
          268,
          268,
          268,
          275,
          267,
          275,
          261,
          267,
          264,
          265,
          269,
          273,
          261,
          272,
          268,
          267,
          347,
          336,
          361,
          270,
          270,
          270,
          270,
          270,
          279,
          281,
          270,
          269,
          269,
          271,
          270,
          271,
          277,
          282,
          287,
          364,
          372,
          371,
          346,
          356,
          355,
          352,
          354,
          351,
          358,
          358,
          359
         ],
         "xaxis": "x",
         "y": [
          5.213977241516112,
          4.662241172790528,
          4.483766746520996,
          5.175724601745604,
          5.021236228942871,
          5.100924491882323,
          6.177398109436035,
          4.9576333999633775,
          4.780693626403808,
          4.686397743225096,
          4.731357383728027,
          4.7217515945434565,
          4.779158973693847,
          4.470295906066894,
          5.01919002532959,
          5.569505119323729,
          5.112178611755371,
          5.210794258117674,
          5.200392723083495,
          5.215966606140136,
          4.648145103454591,
          4.638198280334472,
          4.823948097229004,
          5.093364906311035,
          5.333907508850097,
          5.31304759979248,
          4.946549797058105,
          5.254276084899902,
          5.2942907333374025,
          4.844182777404785,
          4.762505149841308,
          4.681111717224121,
          4.681111717224121,
          4.753297233581542,
          4.965988731384278,
          5.077734184265136,
          4.958258628845214,
          4.898805046081542,
          5.584283256530762,
          4.97917537689209,
          5.365055274963378,
          5.210566902160643,
          4.895110511779785,
          4.9607027053833,
          5.000831031799316,
          5.274283409118652,
          5.584396934509278,
          4.808544731140137,
          4.641779136657715,
          4.9032384872436525,
          4.946379280090332,
          5.1385519027709945,
          5.23455295562744,
          4.869248771667479,
          4.869248771667479,
          4.869248771667479,
          5.321743965148925,
          5.43883228302002,
          5.115304756164551,
          5.117691993713378,
          4.9077856063842775,
          4.964681434631348,
          4.955587196350096,
          5.3135591506958,
          4.980425834655762,
          5.20727024078369,
          5.270702552795409,
          5.038003730773925,
          5.445596122741699,
          5.1665166854858375,
          5.038231086730956,
          5.310660362243652,
          5.287697410583495,
          5.144690513610839,
          5.413027381896971,
          5.34658260345459,
          5.32293758392334,
          5.093649101257324,
          5.158331871032714,
          5.097855186462401,
          5.031183052062987
         ],
         "yaxis": "y"
        },
        {
         "hovertemplate": "DALI Cluster=9<br>Length (Amino Acids)=%{x}<br>Isoelectric Point=%{y}<extra></extra>",
         "legendgroup": "9",
         "marker": {
          "color": "#90AD1C",
          "symbol": "circle"
         },
         "mode": "markers",
         "name": "9",
         "orientation": "v",
         "showlegend": true,
         "type": "scatter",
         "x": [
          331,
          324,
          329,
          329,
          329,
          329,
          320,
          321,
          320,
          320,
          320,
          320,
          492,
          490,
          490,
          490,
          490,
          493,
          501,
          494,
          494,
          494,
          501,
          501,
          501,
          501,
          501,
          501,
          501,
          485,
          485,
          484,
          485,
          503,
          484,
          484,
          484,
          505,
          501,
          293,
          279,
          325,
          353,
          350,
          421,
          421,
          421,
          421,
          517,
          517,
          708,
          496,
          500
         ],
         "xaxis": "x",
         "y": [
          5.529604148864746,
          5.791461372375489,
          5.420757484436035,
          5.418995475769043,
          5.425475120544433,
          5.425475120544433,
          5.347719383239746,
          6.043428611755371,
          5.867852973937987,
          5.867852973937987,
          5.616681480407714,
          5.874162101745605,
          4.960930061340331,
          5.460885810852051,
          5.336465263366699,
          5.393645286560059,
          5.264904975891112,
          5.21113529205322,
          5.508516883850096,
          5.259448432922363,
          5.383812141418457,
          5.323790168762207,
          5.364543724060058,
          5.21113529205322,
          5.508516883850096,
          5.364543724060058,
          5.304237556457519,
          5.612134361267089,
          5.4473581314086905,
          5.102629661560058,
          5.2453523635864245,
          5.024078178405762,
          5.289516258239746,
          5.337431526184082,
          5.095581626892089,
          5.058295249938964,
          5.121954917907714,
          4.682021141052245,
          5.301054573059082,
          4.717602348327636,
          4.617906761169433,
          4.882321739196779,
          4.986052894592285,
          4.60864200592041,
          5.719957923889161,
          5.719957923889161,
          5.624127388000488,
          5.719957923889161,
          5.1577066421508775,
          5.361474418640137,
          4.930180168151854,
          5.005832862854004,
          5.314241218566894
         ],
         "yaxis": "y"
        },
        {
         "hovertemplate": "DALI Cluster=10<br>Length (Amino Acids)=%{x}<br>Isoelectric Point=%{y}<extra></extra>",
         "legendgroup": "10",
         "marker": {
          "color": "#F8A19F",
          "symbol": "circle"
         },
         "mode": "markers",
         "name": "10",
         "orientation": "v",
         "showlegend": true,
         "type": "scatter",
         "x": [
          302,
          302,
          302,
          302,
          306,
          306,
          304,
          302,
          303,
          306,
          349,
          306,
          306,
          306,
          306,
          349,
          349,
          349,
          315,
          299,
          322,
          322,
          393,
          393,
          390,
          381,
          389,
          412,
          412,
          412,
          388,
          327,
          319,
          320,
          327,
          327,
          353,
          353,
          352,
          352,
          334,
          308,
          305,
          301,
          301,
          301,
          297,
          324,
          331,
          329,
          329,
          322,
          329,
          324,
          282,
          290,
          283,
          323,
          273,
          272,
          282,
          286,
          302,
          294,
          293,
          294,
          281,
          296,
          292,
          291,
          369,
          283,
          325,
          313,
          279,
          281,
          292,
          300
         ],
         "xaxis": "x",
         "y": [
          5.191525840759277,
          8.146112251281739,
          8.157523155212402,
          7.509192466735841,
          5.88700771331787,
          5.88700771331787,
          5.104334831237792,
          5.258311653137207,
          4.949505424499511,
          5.646124076843263,
          5.917643928527832,
          5.653399467468262,
          5.653399467468262,
          5.653399467468262,
          5.653399467468262,
          6.248162651062012,
          6.248162651062012,
          6.248162651062012,
          5.4331483840942365,
          5.71813907623291,
          4.9215406417846665,
          4.9215406417846665,
          5.333282279968262,
          5.607303047180175,
          5.996763801574706,
          4.883344841003418,
          4.5470853805542,
          5.467592811584471,
          5.467592811584471,
          5.467592811584471,
          5.48271198272705,
          5.115702629089356,
          7.624348258972168,
          5.348799324035644,
          8.819742393493652,
          8.819742393493652,
          5.149749183654785,
          4.96956958770752,
          4.890279197692871,
          4.729822731018066,
          5.317537879943848,
          4.615349006652831,
          5.245693397521971,
          4.713737297058105,
          4.869248771667479,
          5.016063880920409,
          4.960645866394042,
          4.8304845809936525,
          4.592386054992676,
          4.61796360015869,
          4.496498680114747,
          4.746476554870605,
          4.6921384811401365,
          4.707769203186035,
          4.497976493835449,
          4.676848793029785,
          4.890847587585449,
          4.656329917907715,
          5.659879112243652,
          6.303694343566895,
          5.045051765441894,
          5.526023292541503,
          5.16776714324951,
          5.132640647888183,
          4.971388435363769,
          5.360053443908691,
          5.899739646911621,
          4.869248771667479,
          4.546175956726075,
          4.9854845046997065,
          6.14164638519287,
          5.473163032531737,
          4.537763786315918,
          5.0926828384399405,
          5.388757133483887,
          4.910968589782715,
          4.717374992370605,
          4.689467048645019
         ],
         "yaxis": "y"
        },
        {
         "hovertemplate": "DALI Cluster=11<br>Length (Amino Acids)=%{x}<br>Isoelectric Point=%{y}<extra></extra>",
         "legendgroup": "11",
         "marker": {
          "color": "#FEAF16",
          "symbol": "circle"
         },
         "mode": "markers",
         "name": "11",
         "orientation": "v",
         "showlegend": true,
         "type": "scatter",
         "x": [
          338,
          336,
          289,
          287,
          287,
          308,
          315,
          314,
          313,
          313,
          301,
          307,
          307,
          320,
          320,
          310,
          310,
          308,
          308,
          348,
          340,
          313,
          337,
          335,
          372,
          749,
          351,
          300,
          300,
          310,
          312,
          315,
          300,
          302,
          309,
          325,
          307,
          307,
          312,
          308,
          307,
          411,
          443,
          443,
          443,
          443,
          448,
          506,
          284,
          332,
          361,
          279,
          276,
          393,
          316,
          643,
          588,
          444,
          436,
          308,
          310,
          303,
          306,
          310,
          310,
          309,
          310,
          314,
          306,
          310,
          310,
          310,
          308,
          310,
          310,
          310,
          310,
          309,
          310,
          310,
          308,
          457,
          484,
          269,
          432,
          428,
          366,
          357,
          320,
          343,
          361,
          304,
          323,
          331,
          331,
          350,
          339,
          359,
          360,
          348,
          352,
          351,
          348,
          348,
          344,
          402,
          418,
          405,
          505,
          505,
          336,
          346,
          315
         ],
         "xaxis": "x",
         "y": [
          4.792970848083496,
          4.871351814270019,
          5.326063728332519,
          5.825678443908691,
          5.817777824401856,
          4.932396888732909,
          5.391940116882325,
          5.391940116882325,
          5.147873497009276,
          5.225856590270994,
          5.115929985046387,
          4.931260108947753,
          4.9576333999633775,
          5.370796012878418,
          5.370796012878418,
          7.606841850280762,
          7.602465248107911,
          4.801383018493653,
          4.969399070739747,
          5.375968360900879,
          4.839578819274903,
          6.102484321594236,
          4.650361824035645,
          4.776942253112793,
          4.77648754119873,
          4.948937034606933,
          6.065538978576659,
          5.265416526794433,
          5.265416526794433,
          5.124057960510252,
          5.0896703720092775,
          5.575132179260252,
          5.997389030456542,
          4.98019847869873,
          5.318163108825684,
          5.578485679626463,
          5.123034858703612,
          5.279057884216308,
          5.3966577529907225,
          5.009982109069824,
          5.443322563171387,
          6.217640113830566,
          4.890279197692871,
          4.890279197692871,
          4.900339698791503,
          4.867032051086425,
          5.200392723083495,
          5.291391944885253,
          5.036412239074706,
          7.58717555999756,
          6.256461143493653,
          4.80951099395752,
          4.694809913635253,
          5.000944709777832,
          5.574791145324705,
          4.604094886779785,
          5.226424980163573,
          6.140282249450683,
          5.37932186126709,
          5.4915788650512685,
          5.685286140441894,
          6.106008338928221,
          5.466967582702637,
          5.844492149353028,
          5.364827919006348,
          5.340273475646971,
          5.577064704895019,
          5.334475898742675,
          5.110757637023925,
          5.872115898132324,
          6.130278587341309,
          5.583089637756348,
          5.030216789245605,
          5.457361793518066,
          5.450541114807128,
          5.324983787536621,
          5.304919624328612,
          5.738203239440918,
          5.231313133239746,
          5.539494132995604,
          6.103564262390136,
          6.21491184234619,
          6.160573768615721,
          4.962180519104003,
          6.009779930114745,
          6.01171245574951,
          5.289288902282714,
          4.950642204284667,
          4.364689064025879,
          5.245750236511229,
          5.284571266174315,
          4.9966249465942365,
          5.559671974182128,
          5.040277290344237,
          4.933363151550291,
          5.826076316833496,
          5.393758964538574,
          5.000433158874511,
          5.663403129577637,
          5.171859550476073,
          4.9576333999633775,
          4.662923240661621,
          4.901760673522949,
          5.173507881164549,
          5.415073585510252,
          6.538837242126465,
          4.782000923156737,
          4.955473518371581,
          5.0625581741333,
          5.115304756164551,
          5.302020835876465,
          4.641267585754394,
          4.716806602478028
         ],
         "yaxis": "y"
        },
        {
         "hovertemplate": "DALI Cluster=12<br>Length (Amino Acids)=%{x}<br>Isoelectric Point=%{y}<extra></extra>",
         "legendgroup": "12",
         "marker": {
          "color": "#325A9B",
          "symbol": "circle"
         },
         "mode": "markers",
         "name": "12",
         "orientation": "v",
         "showlegend": true,
         "type": "scatter",
         "x": [
          389,
          397,
          408,
          412,
          402,
          405,
          393,
          404,
          425,
          402,
          414
         ],
         "xaxis": "x",
         "y": [
          5.0663663864135735,
          4.766199684143066,
          5.667609214782716,
          5.496637535095213,
          6.102427482604979,
          5.637711906433105,
          4.884254264831543,
          5.901842689514161,
          4.904261589050292,
          6.973087120056152,
          5.816584205627441
         ],
         "yaxis": "y"
        },
        {
         "hovertemplate": "DALI Cluster=13<br>Length (Amino Acids)=%{x}<br>Isoelectric Point=%{y}<extra></extra>",
         "legendgroup": "13",
         "marker": {
          "color": "#FE00FA",
          "symbol": "circle"
         },
         "mode": "markers",
         "name": "13",
         "orientation": "v",
         "showlegend": true,
         "type": "scatter",
         "x": [
          399,
          368,
          368,
          368,
          368,
          368,
          368,
          368,
          368,
          445,
          445,
          445,
          445,
          348,
          360
         ],
         "xaxis": "x",
         "y": [
          5.180214881896972,
          5.7773653030395495,
          6.097255134582518,
          5.186353492736815,
          5.82079029083252,
          5.640667533874511,
          5.640667533874511,
          5.396941947937012,
          5.414221000671386,
          5.300940895080566,
          5.365339469909667,
          5.293438148498535,
          5.288208961486816,
          5.095922660827636,
          5.740874671936036
         ],
         "yaxis": "y"
        },
        {
         "hovertemplate": "DALI Cluster=14<br>Length (Amino Acids)=%{x}<br>Isoelectric Point=%{y}<extra></extra>",
         "legendgroup": "14",
         "marker": {
          "color": "#DEA0FD",
          "symbol": "circle"
         },
         "mode": "markers",
         "name": "14",
         "orientation": "v",
         "showlegend": true,
         "type": "scatter",
         "x": [
          341,
          354,
          376,
          342,
          342,
          341,
          342,
          350,
          350,
          368,
          350,
          343,
          330,
          337,
          340,
          369,
          379
         ],
         "xaxis": "x",
         "y": [
          4.8511171340942365,
          5.085066413879393,
          4.980027961730956,
          4.90716037750244,
          4.90716037750244,
          4.90716037750244,
          4.90716037750244,
          4.707541847229003,
          4.741815757751465,
          5.163958930969237,
          4.7013463973999015,
          5.22000217437744,
          4.716920280456542,
          4.705040931701659,
          4.896247291564941,
          4.975765037536621,
          5.012255668640137
         ],
         "yaxis": "y"
        },
        {
         "hovertemplate": "DALI Cluster=15<br>Length (Amino Acids)=%{x}<br>Isoelectric Point=%{y}<extra></extra>",
         "legendgroup": "15",
         "marker": {
          "color": "#C4451C",
          "symbol": "circle"
         },
         "mode": "markers",
         "name": "15",
         "orientation": "v",
         "showlegend": true,
         "type": "scatter",
         "x": [
          412,
          336
         ],
         "xaxis": "x",
         "y": [
          5.270134162902831,
          5.17998752593994
         ],
         "yaxis": "y"
        },
        {
         "hovertemplate": "DALI Cluster=16<br>Length (Amino Acids)=%{x}<br>Isoelectric Point=%{y}<extra></extra>",
         "legendgroup": "16",
         "marker": {
          "color": "#1CBE4F",
          "symbol": "circle"
         },
         "mode": "markers",
         "name": "16",
         "orientation": "v",
         "showlegend": true,
         "type": "scatter",
         "x": [
          389,
          391,
          388,
          392,
          362,
          392,
          434,
          351,
          466,
          516,
          369,
          368,
          362,
          343,
          362,
          363,
          382,
          388,
          530,
          230,
          366,
          366,
          318,
          315,
          389,
          297,
          276,
          278,
          278,
          283,
          281
         ],
         "xaxis": "x",
         "y": [
          5.110587120056152,
          5.000603675842284,
          5.108881950378417,
          5.214772987365721,
          5.049485206604003,
          4.921370124816893,
          5.252343559265136,
          5.363520622253417,
          4.933135795593261,
          4.958542823791503,
          6.09356060028076,
          5.252855110168456,
          5.5097673416137685,
          5.402796363830566,
          5.009186363220214,
          5.164527320861815,
          5.350561332702637,
          5.519543647766112,
          9.182763862609864,
          5.009697914123534,
          5.49595546722412,
          5.368465614318848,
          6.001765632629394,
          5.05266819000244,
          4.408682441711425,
          5.137983512878416,
          5.265871238708496,
          5.220059013366698,
          5.123773765563963,
          5.077393150329589,
          4.912673759460449
         ],
         "yaxis": "y"
        }
       ],
       "layout": {
        "font": {
         "size": 20
        },
        "height": 700,
        "legend": {
         "title": {
          "text": "DALI Cluster"
         },
         "tracegroupgap": 0
        },
        "margin": {
         "t": 60
        },
        "template": {
         "data": {
          "bar": [
           {
            "error_x": {
             "color": "#2a3f5f"
            },
            "error_y": {
             "color": "#2a3f5f"
            },
            "marker": {
             "line": {
              "color": "white",
              "width": 0.5
             },
             "pattern": {
              "fillmode": "overlay",
              "size": 10,
              "solidity": 0.2
             }
            },
            "type": "bar"
           }
          ],
          "barpolar": [
           {
            "marker": {
             "line": {
              "color": "white",
              "width": 0.5
             },
             "pattern": {
              "fillmode": "overlay",
              "size": 10,
              "solidity": 0.2
             }
            },
            "type": "barpolar"
           }
          ],
          "carpet": [
           {
            "aaxis": {
             "endlinecolor": "#2a3f5f",
             "gridcolor": "#C8D4E3",
             "linecolor": "#C8D4E3",
             "minorgridcolor": "#C8D4E3",
             "startlinecolor": "#2a3f5f"
            },
            "baxis": {
             "endlinecolor": "#2a3f5f",
             "gridcolor": "#C8D4E3",
             "linecolor": "#C8D4E3",
             "minorgridcolor": "#C8D4E3",
             "startlinecolor": "#2a3f5f"
            },
            "type": "carpet"
           }
          ],
          "choropleth": [
           {
            "colorbar": {
             "outlinewidth": 0,
             "ticks": ""
            },
            "type": "choropleth"
           }
          ],
          "contour": [
           {
            "colorbar": {
             "outlinewidth": 0,
             "ticks": ""
            },
            "colorscale": [
             [
              0,
              "#0d0887"
             ],
             [
              0.1111111111111111,
              "#46039f"
             ],
             [
              0.2222222222222222,
              "#7201a8"
             ],
             [
              0.3333333333333333,
              "#9c179e"
             ],
             [
              0.4444444444444444,
              "#bd3786"
             ],
             [
              0.5555555555555556,
              "#d8576b"
             ],
             [
              0.6666666666666666,
              "#ed7953"
             ],
             [
              0.7777777777777778,
              "#fb9f3a"
             ],
             [
              0.8888888888888888,
              "#fdca26"
             ],
             [
              1,
              "#f0f921"
             ]
            ],
            "type": "contour"
           }
          ],
          "contourcarpet": [
           {
            "colorbar": {
             "outlinewidth": 0,
             "ticks": ""
            },
            "type": "contourcarpet"
           }
          ],
          "heatmap": [
           {
            "colorbar": {
             "outlinewidth": 0,
             "ticks": ""
            },
            "colorscale": [
             [
              0,
              "#0d0887"
             ],
             [
              0.1111111111111111,
              "#46039f"
             ],
             [
              0.2222222222222222,
              "#7201a8"
             ],
             [
              0.3333333333333333,
              "#9c179e"
             ],
             [
              0.4444444444444444,
              "#bd3786"
             ],
             [
              0.5555555555555556,
              "#d8576b"
             ],
             [
              0.6666666666666666,
              "#ed7953"
             ],
             [
              0.7777777777777778,
              "#fb9f3a"
             ],
             [
              0.8888888888888888,
              "#fdca26"
             ],
             [
              1,
              "#f0f921"
             ]
            ],
            "type": "heatmap"
           }
          ],
          "heatmapgl": [
           {
            "colorbar": {
             "outlinewidth": 0,
             "ticks": ""
            },
            "colorscale": [
             [
              0,
              "#0d0887"
             ],
             [
              0.1111111111111111,
              "#46039f"
             ],
             [
              0.2222222222222222,
              "#7201a8"
             ],
             [
              0.3333333333333333,
              "#9c179e"
             ],
             [
              0.4444444444444444,
              "#bd3786"
             ],
             [
              0.5555555555555556,
              "#d8576b"
             ],
             [
              0.6666666666666666,
              "#ed7953"
             ],
             [
              0.7777777777777778,
              "#fb9f3a"
             ],
             [
              0.8888888888888888,
              "#fdca26"
             ],
             [
              1,
              "#f0f921"
             ]
            ],
            "type": "heatmapgl"
           }
          ],
          "histogram": [
           {
            "marker": {
             "pattern": {
              "fillmode": "overlay",
              "size": 10,
              "solidity": 0.2
             }
            },
            "type": "histogram"
           }
          ],
          "histogram2d": [
           {
            "colorbar": {
             "outlinewidth": 0,
             "ticks": ""
            },
            "colorscale": [
             [
              0,
              "#0d0887"
             ],
             [
              0.1111111111111111,
              "#46039f"
             ],
             [
              0.2222222222222222,
              "#7201a8"
             ],
             [
              0.3333333333333333,
              "#9c179e"
             ],
             [
              0.4444444444444444,
              "#bd3786"
             ],
             [
              0.5555555555555556,
              "#d8576b"
             ],
             [
              0.6666666666666666,
              "#ed7953"
             ],
             [
              0.7777777777777778,
              "#fb9f3a"
             ],
             [
              0.8888888888888888,
              "#fdca26"
             ],
             [
              1,
              "#f0f921"
             ]
            ],
            "type": "histogram2d"
           }
          ],
          "histogram2dcontour": [
           {
            "colorbar": {
             "outlinewidth": 0,
             "ticks": ""
            },
            "colorscale": [
             [
              0,
              "#0d0887"
             ],
             [
              0.1111111111111111,
              "#46039f"
             ],
             [
              0.2222222222222222,
              "#7201a8"
             ],
             [
              0.3333333333333333,
              "#9c179e"
             ],
             [
              0.4444444444444444,
              "#bd3786"
             ],
             [
              0.5555555555555556,
              "#d8576b"
             ],
             [
              0.6666666666666666,
              "#ed7953"
             ],
             [
              0.7777777777777778,
              "#fb9f3a"
             ],
             [
              0.8888888888888888,
              "#fdca26"
             ],
             [
              1,
              "#f0f921"
             ]
            ],
            "type": "histogram2dcontour"
           }
          ],
          "mesh3d": [
           {
            "colorbar": {
             "outlinewidth": 0,
             "ticks": ""
            },
            "type": "mesh3d"
           }
          ],
          "parcoords": [
           {
            "line": {
             "colorbar": {
              "outlinewidth": 0,
              "ticks": ""
             }
            },
            "type": "parcoords"
           }
          ],
          "pie": [
           {
            "automargin": true,
            "type": "pie"
           }
          ],
          "scatter": [
           {
            "fillpattern": {
             "fillmode": "overlay",
             "size": 10,
             "solidity": 0.2
            },
            "type": "scatter"
           }
          ],
          "scatter3d": [
           {
            "line": {
             "colorbar": {
              "outlinewidth": 0,
              "ticks": ""
             }
            },
            "marker": {
             "colorbar": {
              "outlinewidth": 0,
              "ticks": ""
             }
            },
            "type": "scatter3d"
           }
          ],
          "scattercarpet": [
           {
            "marker": {
             "colorbar": {
              "outlinewidth": 0,
              "ticks": ""
             }
            },
            "type": "scattercarpet"
           }
          ],
          "scattergeo": [
           {
            "marker": {
             "colorbar": {
              "outlinewidth": 0,
              "ticks": ""
             }
            },
            "type": "scattergeo"
           }
          ],
          "scattergl": [
           {
            "marker": {
             "colorbar": {
              "outlinewidth": 0,
              "ticks": ""
             }
            },
            "type": "scattergl"
           }
          ],
          "scattermapbox": [
           {
            "marker": {
             "colorbar": {
              "outlinewidth": 0,
              "ticks": ""
             }
            },
            "type": "scattermapbox"
           }
          ],
          "scatterpolar": [
           {
            "marker": {
             "colorbar": {
              "outlinewidth": 0,
              "ticks": ""
             }
            },
            "type": "scatterpolar"
           }
          ],
          "scatterpolargl": [
           {
            "marker": {
             "colorbar": {
              "outlinewidth": 0,
              "ticks": ""
             }
            },
            "type": "scatterpolargl"
           }
          ],
          "scatterternary": [
           {
            "marker": {
             "colorbar": {
              "outlinewidth": 0,
              "ticks": ""
             }
            },
            "type": "scatterternary"
           }
          ],
          "surface": [
           {
            "colorbar": {
             "outlinewidth": 0,
             "ticks": ""
            },
            "colorscale": [
             [
              0,
              "#0d0887"
             ],
             [
              0.1111111111111111,
              "#46039f"
             ],
             [
              0.2222222222222222,
              "#7201a8"
             ],
             [
              0.3333333333333333,
              "#9c179e"
             ],
             [
              0.4444444444444444,
              "#bd3786"
             ],
             [
              0.5555555555555556,
              "#d8576b"
             ],
             [
              0.6666666666666666,
              "#ed7953"
             ],
             [
              0.7777777777777778,
              "#fb9f3a"
             ],
             [
              0.8888888888888888,
              "#fdca26"
             ],
             [
              1,
              "#f0f921"
             ]
            ],
            "type": "surface"
           }
          ],
          "table": [
           {
            "cells": {
             "fill": {
              "color": "#EBF0F8"
             },
             "line": {
              "color": "white"
             }
            },
            "header": {
             "fill": {
              "color": "#C8D4E3"
             },
             "line": {
              "color": "white"
             }
            },
            "type": "table"
           }
          ]
         },
         "layout": {
          "annotationdefaults": {
           "arrowcolor": "#2a3f5f",
           "arrowhead": 0,
           "arrowwidth": 1
          },
          "autotypenumbers": "strict",
          "coloraxis": {
           "colorbar": {
            "outlinewidth": 0,
            "ticks": ""
           }
          },
          "colorscale": {
           "diverging": [
            [
             0,
             "#8e0152"
            ],
            [
             0.1,
             "#c51b7d"
            ],
            [
             0.2,
             "#de77ae"
            ],
            [
             0.3,
             "#f1b6da"
            ],
            [
             0.4,
             "#fde0ef"
            ],
            [
             0.5,
             "#f7f7f7"
            ],
            [
             0.6,
             "#e6f5d0"
            ],
            [
             0.7,
             "#b8e186"
            ],
            [
             0.8,
             "#7fbc41"
            ],
            [
             0.9,
             "#4d9221"
            ],
            [
             1,
             "#276419"
            ]
           ],
           "sequential": [
            [
             0,
             "#0d0887"
            ],
            [
             0.1111111111111111,
             "#46039f"
            ],
            [
             0.2222222222222222,
             "#7201a8"
            ],
            [
             0.3333333333333333,
             "#9c179e"
            ],
            [
             0.4444444444444444,
             "#bd3786"
            ],
            [
             0.5555555555555556,
             "#d8576b"
            ],
            [
             0.6666666666666666,
             "#ed7953"
            ],
            [
             0.7777777777777778,
             "#fb9f3a"
            ],
            [
             0.8888888888888888,
             "#fdca26"
            ],
            [
             1,
             "#f0f921"
            ]
           ],
           "sequentialminus": [
            [
             0,
             "#0d0887"
            ],
            [
             0.1111111111111111,
             "#46039f"
            ],
            [
             0.2222222222222222,
             "#7201a8"
            ],
            [
             0.3333333333333333,
             "#9c179e"
            ],
            [
             0.4444444444444444,
             "#bd3786"
            ],
            [
             0.5555555555555556,
             "#d8576b"
            ],
            [
             0.6666666666666666,
             "#ed7953"
            ],
            [
             0.7777777777777778,
             "#fb9f3a"
            ],
            [
             0.8888888888888888,
             "#fdca26"
            ],
            [
             1,
             "#f0f921"
            ]
           ]
          },
          "colorway": [
           "#636efa",
           "#EF553B",
           "#00cc96",
           "#ab63fa",
           "#FFA15A",
           "#19d3f3",
           "#FF6692",
           "#B6E880",
           "#FF97FF",
           "#FECB52"
          ],
          "font": {
           "color": "#2a3f5f"
          },
          "geo": {
           "bgcolor": "white",
           "lakecolor": "white",
           "landcolor": "white",
           "showlakes": true,
           "showland": true,
           "subunitcolor": "#C8D4E3"
          },
          "hoverlabel": {
           "align": "left"
          },
          "hovermode": "closest",
          "mapbox": {
           "style": "light"
          },
          "paper_bgcolor": "white",
          "plot_bgcolor": "white",
          "polar": {
           "angularaxis": {
            "gridcolor": "#EBF0F8",
            "linecolor": "#EBF0F8",
            "ticks": ""
           },
           "bgcolor": "white",
           "radialaxis": {
            "gridcolor": "#EBF0F8",
            "linecolor": "#EBF0F8",
            "ticks": ""
           }
          },
          "scene": {
           "xaxis": {
            "backgroundcolor": "white",
            "gridcolor": "#DFE8F3",
            "gridwidth": 2,
            "linecolor": "#EBF0F8",
            "showbackground": true,
            "ticks": "",
            "zerolinecolor": "#EBF0F8"
           },
           "yaxis": {
            "backgroundcolor": "white",
            "gridcolor": "#DFE8F3",
            "gridwidth": 2,
            "linecolor": "#EBF0F8",
            "showbackground": true,
            "ticks": "",
            "zerolinecolor": "#EBF0F8"
           },
           "zaxis": {
            "backgroundcolor": "white",
            "gridcolor": "#DFE8F3",
            "gridwidth": 2,
            "linecolor": "#EBF0F8",
            "showbackground": true,
            "ticks": "",
            "zerolinecolor": "#EBF0F8"
           }
          },
          "shapedefaults": {
           "line": {
            "color": "#2a3f5f"
           }
          },
          "ternary": {
           "aaxis": {
            "gridcolor": "#DFE8F3",
            "linecolor": "#A2B1C6",
            "ticks": ""
           },
           "baxis": {
            "gridcolor": "#DFE8F3",
            "linecolor": "#A2B1C6",
            "ticks": ""
           },
           "bgcolor": "white",
           "caxis": {
            "gridcolor": "#DFE8F3",
            "linecolor": "#A2B1C6",
            "ticks": ""
           }
          },
          "title": {
           "x": 0.05
          },
          "xaxis": {
           "automargin": true,
           "gridcolor": "#EBF0F8",
           "linecolor": "#EBF0F8",
           "ticks": "",
           "title": {
            "standoff": 15
           },
           "zerolinecolor": "#EBF0F8",
           "zerolinewidth": 2
          },
          "yaxis": {
           "automargin": true,
           "gridcolor": "#EBF0F8",
           "linecolor": "#EBF0F8",
           "ticks": "",
           "title": {
            "standoff": 15
           },
           "zerolinecolor": "#EBF0F8",
           "zerolinewidth": 2
          }
         }
        },
        "width": 1400,
        "xaxis": {
         "anchor": "y",
         "domain": [
          0,
          1
         ],
         "range": [
          200,
          600
         ],
         "title": {
          "text": "Length (Amino Acids)"
         }
        },
        "yaxis": {
         "anchor": "x",
         "domain": [
          0,
          1
         ],
         "title": {
          "text": "Isoelectric Point"
         }
        }
       }
      },
      "text/html": [
       "<div>                            <div id=\"73f39992-ec8f-42e9-af32-eab81088bd07\" class=\"plotly-graph-div\" style=\"height:700px; width:1400px;\"></div>            <script type=\"text/javascript\">                require([\"plotly\"], function(Plotly) {                    window.PLOTLYENV=window.PLOTLYENV || {};                                    if (document.getElementById(\"73f39992-ec8f-42e9-af32-eab81088bd07\")) {                    Plotly.newPlot(                        \"73f39992-ec8f-42e9-af32-eab81088bd07\",                        [{\"hovertemplate\":\"DALI Cluster=0<br>Length (Amino Acids)=%{x}<br>Isoelectric Point=%{y}<extra></extra>\",\"legendgroup\":\"0\",\"marker\":{\"color\":\"#FA0087\",\"symbol\":\"circle\"},\"mode\":\"markers\",\"name\":\"0\",\"orientation\":\"v\",\"showlegend\":true,\"x\":[269,245,243,217,221],\"xaxis\":\"x\",\"y\":[5.021918296813964,5.283946037292479,5.283548164367674,5.574847984313963,5.539323616027831],\"yaxis\":\"y\",\"type\":\"scatter\"},{\"hovertemplate\":\"DALI Cluster=1<br>Length (Amino Acids)=%{x}<br>Isoelectric Point=%{y}<extra></extra>\",\"legendgroup\":\"1\",\"marker\":{\"color\":\"#FBE426\",\"symbol\":\"circle\"},\"mode\":\"markers\",\"name\":\"1\",\"orientation\":\"v\",\"showlegend\":true,\"x\":[305,306,302,269,305,305,303,305,305,305,306,305,305,305,305,305,305,305,305,305,305,305,305,305,305,305,305,305,302,302,302,302,303,301,301,301,307,307,302,302,303,303,303,303,303,303,303,304,304,302,302,302,302,302,302,302,301,302,302,302,303,303,303,302,302,302,303,302,302,303,303,302,303,301,301,301,301,302,302,301,302,303,303,303,304,303,303,303,303,303,303,303,303,302,303,302,302,302,302,307,302,302,302,302,302,302,302,302,302,302,302,302,297,300,303,302,302,302,301,302,302,301,302,302,302,303,303,303,301,302,302,302,303,302,302,308,301,302,302,302,302,302,305,305,305,304,302,303,300,301,302,303,301,302,302,312,312,312,302,304,304,302,302,303,303,303,303,305,300,302,302,302,302,300,300,303,303,307,307,306,306,306,303,284,302,302,303,303,302,302,302,304,305,306,305,302,302,303,303,301,302,303,302,303,302,292,303,304,304,294,288,289,320,305,299,307,306],\"xaxis\":\"x\",\"y\":[5.822893333435059,4.633537483215332,5.805614280700683,4.947231864929199,4.955132484436034,4.973150444030761,5.195731925964354,5.090750312805175,4.998216438293456,4.956326103210448,5.024078178405762,4.912560081481933,4.904602622985839,4.904602622985839,4.904602622985839,4.950187492370604,4.950187492370604,5.105585289001463,4.956326103210448,4.956326103210448,4.956326103210448,4.956326103210448,4.904602622985839,4.904602622985839,4.956326103210448,4.956326103210448,4.904602622985839,4.955132484436034,5.089727210998535,5.031978797912598,4.956326103210448,4.956326103210448,4.840772438049315,4.823379707336425,4.774611854553222,4.783308219909667,4.891984367370605,4.955644035339354,4.744941902160644,4.706291389465331,4.84014720916748,4.84014720916748,4.783308219909667,4.84014720916748,4.84014720916748,4.687761878967284,4.687761878967284,4.687761878967284,4.735677146911621,4.85026454925537,4.789276313781738,4.739428520202637,4.739428520202637,4.772736167907715,4.772736167907715,4.772736167907715,4.770689964294434,4.761993598937988,4.808260536193848,4.808260536193848,4.813432884216309,4.821049308776855,4.651043891906738,4.582041358947754,4.624386405944825,4.651043891906738,4.615235328674316,4.651043891906738,4.679236030578613,4.60682315826416,4.973093605041503,5.047097969055175,5.054032325744628,4.995317649841308,4.971899986267089,4.889710807800292,4.848900413513182,4.8536180496215815,4.906535148620605,4.877831459045409,4.719307518005371,4.792118263244629,4.747272300720215,4.738462257385254,4.79183406829834,4.880218696594238,4.880218696594238,4.880218696594238,4.880218696594238,4.738462257385254,4.884879493713378,4.884879493713378,4.696571922302245,4.722717857360839,4.876637840270996,4.744430351257324,4.780579948425292,4.845490074157714,4.845490074157714,4.783592414855956,4.7815462112426745,4.846115303039549,4.7815462112426745,4.780807304382324,4.788992118835449,4.6379709243774405,4.670028114318847,4.752956199645996,4.716749763488769,4.6660493850708,4.686284065246581,4.711179542541504,4.776203346252441,4.716749763488769,4.701289558410643,4.821560859680175,4.862314414978028,4.758867454528808,4.803940773010253,4.803940773010253,4.803940773010253,4.767506980895996,4.861632347106934,4.870158195495605,4.861632347106934,4.795187568664551,4.7191370010375975,4.817525291442871,4.860893440246582,4.712998390197753,4.881810188293457,4.767506980895996,4.738462257385254,4.895565223693848,4.962237358093262,4.901646995544433,5.117578315734862,4.710213279724121,4.710213279724121,4.9656476974487305,4.967011833190917,4.967011833190917,4.541060447692872,4.519859504699707,4.5394689559936525,4.85026454925537,4.693843650817871,4.686966133117674,4.738462257385254,4.876637840270996,4.674291038513183,5.029989433288574,4.962976264953612,4.764494514465332,4.764494514465332,4.638368797302246,4.732323646545409,4.783592414855956,4.704529380798339,4.885732078552246,4.876637840270996,4.988781166076659,4.988781166076659,4.747215461730956,4.790356254577637,4.8354295730590815,4.794221305847168,4.89550838470459,4.7567644119262695,4.917732429504394,5.188797569274901,4.900567054748534,4.873909568786621,4.808260536193848,4.865838432312012,4.912560081481933,4.769723701477051,4.798995780944825,4.7815462112426745,4.92898654937744,4.73806438446045,4.694412040710449,5.387051963806152,4.886584663391113,4.7237977981567365,4.893007469177246,4.959452247619628,5.00463924407959,4.989576911926269,4.980312156677246,5.062217140197753,4.953995704650878,4.903977394104003,4.750057411193848,4.965420341491699,5.388643455505371,5.203518867492675,5.197721290588378,5.190275382995604,5.107176780700683,4.803883934020996,4.969399070739747,5.063979148864745,5.079041481018065,5.015154457092284,4.900851249694824,5.485099220275878,5.649136543273925,5.222275733947753,4.956326103210448,4.921085929870604,4.921029090881347,5.131105995178221,4.79962100982666,4.800018882751465,4.898464012145996,4.750057411193848],\"yaxis\":\"y\",\"type\":\"scatter\"},{\"hovertemplate\":\"DALI Cluster=2<br>Length (Amino Acids)=%{x}<br>Isoelectric Point=%{y}<extra></extra>\",\"legendgroup\":\"2\",\"marker\":{\"color\":\"#B00068\",\"symbol\":\"circle\"},\"mode\":\"markers\",\"name\":\"2\",\"orientation\":\"v\",\"showlegend\":true,\"x\":[268],\"xaxis\":\"x\",\"y\":[8.61363697052002],\"yaxis\":\"y\",\"type\":\"scatter\"},{\"hovertemplate\":\"DALI Cluster=3<br>Length (Amino Acids)=%{x}<br>Isoelectric Point=%{y}<extra></extra>\",\"legendgroup\":\"3\",\"marker\":{\"color\":\"#FC1CBF\",\"symbol\":\"circle\"},\"mode\":\"markers\",\"name\":\"3\",\"orientation\":\"v\",\"showlegend\":true,\"x\":[369,294,331,341,130,94],\"xaxis\":\"x\",\"y\":[5.049939918518065,5.167369270324705,5.474868202209472,5.458157539367675,7.899843025207519,4.7555139541625975],\"yaxis\":\"y\",\"type\":\"scatter\"},{\"hovertemplate\":\"DALI Cluster=4<br>Length (Amino Acids)=%{x}<br>Isoelectric Point=%{y}<extra></extra>\",\"legendgroup\":\"4\",\"marker\":{\"color\":\"#C075A6\",\"symbol\":\"circle\"},\"mode\":\"markers\",\"name\":\"4\",\"orientation\":\"v\",\"showlegend\":true,\"x\":[370,388,398,390,392,391,416,383,383,383,340,340,312,312,348,346,350,350,350,352,352,352,354,335,342,301,287,333,321,355,343,333,331,316,319,318,319,319,321,318,323,323,314,313,319,320,320,323,317,320,318,314,295,315,321,321,331,331,314,297,335,303,361,389],\"xaxis\":\"x\",\"y\":[4.681793785095214,5.0589204788208,5.088647270202636,4.728231239318848,4.971217918395996,4.979289054870605,4.510594749450684,4.816615867614746,4.919267082214354,4.88226490020752,4.930464363098143,4.930464363098143,4.797745323181153,4.867714118957519,4.6895238876342775,4.782626152038574,4.723002052307128,4.781887245178221,4.714476203918457,4.5470853805542,4.634219551086425,4.588918876647949,5.870865440368651,5.410526466369628,5.771851921081542,5.118374061584471,6.1950181961059565,4.656102561950684,6.003072929382324,4.883742713928222,5.160946464538573,6.766022682189941,5.824769020080566,5.382050132751465,5.153159523010252,4.741020011901855,5.1192834854125975,5.227391242980955,5.041527748107909,4.9572355270385735,5.172825813293455,5.880755424499512,5.808001518249512,5.402284812927246,4.957065010070799,7.633158302307129,7.633158302307129,5.254673957824706,5.364145851135253,5.055339622497558,5.16566410064697,6.76062297821045,4.638141441345215,5.045620155334471,5.383471107482911,5.383471107482911,4.553394508361817,4.553394508361817,4.760231590270995,5.589285087585449,5.637370872497558,9.267797660827636,4.9423437118530265,5.007822227478028],\"yaxis\":\"y\",\"type\":\"scatter\"},{\"hovertemplate\":\"DALI Cluster=5<br>Length (Amino Acids)=%{x}<br>Isoelectric Point=%{y}<extra></extra>\",\"legendgroup\":\"5\",\"marker\":{\"color\":\"#B10DA1\",\"symbol\":\"circle\"},\"mode\":\"markers\",\"name\":\"5\",\"orientation\":\"v\",\"showlegend\":true,\"x\":[371,451,446,442,433,460,446,281],\"xaxis\":\"x\",\"y\":[5.358461952209471,4.951665306091308,4.966613960266113,4.789333152770996,5.841991233825683,5.343342781066894,4.831735038757324,5.425134086608886],\"yaxis\":\"y\",\"type\":\"scatter\"},{\"hovertemplate\":\"DALI Cluster=6<br>Length (Amino Acids)=%{x}<br>Isoelectric Point=%{y}<extra></extra>\",\"legendgroup\":\"6\",\"marker\":{\"color\":\"#2ED9FF\",\"symbol\":\"circle\"},\"mode\":\"markers\",\"name\":\"6\",\"orientation\":\"v\",\"showlegend\":true,\"x\":[477,477,477,477,477,477,477,477,466,477,477,477,457,458,457,419,457,432,406,427,427,423,468,466,461,427,456,511,360,457,457,457,457,457,457,450,392,394,397,397,397,388,388,388,388,393,394,395,390,397,388,394,392,392,395,397,395,395,388,388,388,387,387,388,387,387,394,391,394,392,391,390,391,392,391,373,403,405,417,408,407,423],\"xaxis\":\"x\",\"y\":[5.998071098327636,5.998071098327636,5.911505317687988,5.998071098327636,5.998071098327636,5.998071098327636,5.998071098327636,6.21673069000244,6.569928169250488,6.216332817077636,5.998071098327636,5.998071098327636,6.6389875411987305,6.100267601013182,5.826701545715332,5.009072685241699,5.874275779724121,5.707680702209472,5.402000617980956,5.481177330017089,5.481177330017089,5.81845989227295,5.303726005554199,5.883711051940917,5.48686122894287,5.400011253356933,5.913437843322753,6.286472129821779,5.45281467437744,6.6389875411987305,6.6389875411987305,6.6389875411987305,6.6389875411987305,6.6389875411987305,6.6389875411987305,5.997161674499511,5.024532890319825,5.2288122177124015,5.438889122009278,5.5032876968383775,5.438889122009278,5.131560707092285,5.354426383972168,5.354426383972168,5.354426383972168,5.376025199890138,5.354710578918457,5.217558097839355,6.264873313903809,5.62094440460205,5.550236701965332,5.639019203186035,5.033001899719238,5.033001899719238,5.113997459411621,5.5032876968383775,5.253821372985839,5.253821372985839,5.1577066421508775,5.376593589782716,5.277239036560058,5.447869682312012,5.352948570251464,5.29355182647705,5.708817481994629,5.372330665588379,5.4808931350708,5.483394050598144,5.480836296081542,5.351413917541504,5.321857643127441,5.108313560485839,5.321857643127441,5.16492519378662,5.321857643127441,5.278375816345213,6.662632560729982,6.962060356140137,6.471767234802246,6.269875144958497,6.481145668029785,5.795496940612793],\"yaxis\":\"y\",\"type\":\"scatter\"},{\"hovertemplate\":\"DALI Cluster=7<br>Length (Amino Acids)=%{x}<br>Isoelectric Point=%{y}<extra></extra>\",\"legendgroup\":\"7\",\"marker\":{\"color\":\"#1CFFCE\",\"symbol\":\"circle\"},\"mode\":\"markers\",\"name\":\"7\",\"orientation\":\"v\",\"showlegend\":true,\"x\":[182,210,267,232,232,477,485,218,338,343,266,294,246,256,266,259,263,211,216,216,256,232,236,228,236,232,234,240,243,243,231,241,239,347,335,451,386],\"xaxis\":\"x\",\"y\":[4.42260799407959,5.770999336242675,4.9991258621215815,5.983463478088378,5.983463478088378,6.102711677551268,5.375911521911622,4.813489723205566,5.498172187805174,4.839010429382324,4.940581703186035,5.123034858703612,7.5817758560180675,5.987499046325683,5.972038841247559,7.014352226257324,5.994774436950683,4.507184410095214,4.334905433654787,4.530715751647949,5.047439002990722,5.905650901794433,6.178762245178221,5.655843544006348,5.449631690979003,8.762301063537599,6.803536415100097,6.149092292785644,7.016171073913574,6.190982627868652,6.7975683212280265,6.180069541931151,6.9403478622436525,5.570585060119628,5.4097307205200185,5.41723346710205,5.632141685485839],\"yaxis\":\"y\",\"type\":\"scatter\"},{\"hovertemplate\":\"DALI Cluster=8<br>Length (Amino Acids)=%{x}<br>Isoelectric Point=%{y}<extra></extra>\",\"legendgroup\":\"8\",\"marker\":{\"color\":\"#F6222E\",\"symbol\":\"circle\"},\"mode\":\"markers\",\"name\":\"8\",\"orientation\":\"v\",\"showlegend\":true,\"x\":[264,266,266,271,271,271,278,272,268,264,264,264,264,269,269,264,264,264,265,265,265,265,271,267,264,268,274,270,274,264,263,263,263,270,268,268,268,275,267,275,261,267,264,265,269,273,261,272,268,267,347,336,361,270,270,270,270,270,279,281,270,269,269,271,270,271,277,282,287,364,372,371,346,356,355,352,354,351,358,358,359],\"xaxis\":\"x\",\"y\":[5.213977241516112,4.662241172790528,4.483766746520996,5.175724601745604,5.021236228942871,5.100924491882323,6.177398109436035,4.9576333999633775,4.780693626403808,4.686397743225096,4.731357383728027,4.7217515945434565,4.779158973693847,4.470295906066894,5.01919002532959,5.569505119323729,5.112178611755371,5.210794258117674,5.200392723083495,5.215966606140136,4.648145103454591,4.638198280334472,4.823948097229004,5.093364906311035,5.333907508850097,5.31304759979248,4.946549797058105,5.254276084899902,5.2942907333374025,4.844182777404785,4.762505149841308,4.681111717224121,4.681111717224121,4.753297233581542,4.965988731384278,5.077734184265136,4.958258628845214,4.898805046081542,5.584283256530762,4.97917537689209,5.365055274963378,5.210566902160643,4.895110511779785,4.9607027053833,5.000831031799316,5.274283409118652,5.584396934509278,4.808544731140137,4.641779136657715,4.9032384872436525,4.946379280090332,5.1385519027709945,5.23455295562744,4.869248771667479,4.869248771667479,4.869248771667479,5.321743965148925,5.43883228302002,5.115304756164551,5.117691993713378,4.9077856063842775,4.964681434631348,4.955587196350096,5.3135591506958,4.980425834655762,5.20727024078369,5.270702552795409,5.038003730773925,5.445596122741699,5.1665166854858375,5.038231086730956,5.310660362243652,5.287697410583495,5.144690513610839,5.413027381896971,5.34658260345459,5.32293758392334,5.093649101257324,5.158331871032714,5.097855186462401,5.031183052062987],\"yaxis\":\"y\",\"type\":\"scatter\"},{\"hovertemplate\":\"DALI Cluster=9<br>Length (Amino Acids)=%{x}<br>Isoelectric Point=%{y}<extra></extra>\",\"legendgroup\":\"9\",\"marker\":{\"color\":\"#90AD1C\",\"symbol\":\"circle\"},\"mode\":\"markers\",\"name\":\"9\",\"orientation\":\"v\",\"showlegend\":true,\"x\":[331,324,329,329,329,329,320,321,320,320,320,320,492,490,490,490,490,493,501,494,494,494,501,501,501,501,501,501,501,485,485,484,485,503,484,484,484,505,501,293,279,325,353,350,421,421,421,421,517,517,708,496,500],\"xaxis\":\"x\",\"y\":[5.529604148864746,5.791461372375489,5.420757484436035,5.418995475769043,5.425475120544433,5.425475120544433,5.347719383239746,6.043428611755371,5.867852973937987,5.867852973937987,5.616681480407714,5.874162101745605,4.960930061340331,5.460885810852051,5.336465263366699,5.393645286560059,5.264904975891112,5.21113529205322,5.508516883850096,5.259448432922363,5.383812141418457,5.323790168762207,5.364543724060058,5.21113529205322,5.508516883850096,5.364543724060058,5.304237556457519,5.612134361267089,5.4473581314086905,5.102629661560058,5.2453523635864245,5.024078178405762,5.289516258239746,5.337431526184082,5.095581626892089,5.058295249938964,5.121954917907714,4.682021141052245,5.301054573059082,4.717602348327636,4.617906761169433,4.882321739196779,4.986052894592285,4.60864200592041,5.719957923889161,5.719957923889161,5.624127388000488,5.719957923889161,5.1577066421508775,5.361474418640137,4.930180168151854,5.005832862854004,5.314241218566894],\"yaxis\":\"y\",\"type\":\"scatter\"},{\"hovertemplate\":\"DALI Cluster=10<br>Length (Amino Acids)=%{x}<br>Isoelectric Point=%{y}<extra></extra>\",\"legendgroup\":\"10\",\"marker\":{\"color\":\"#F8A19F\",\"symbol\":\"circle\"},\"mode\":\"markers\",\"name\":\"10\",\"orientation\":\"v\",\"showlegend\":true,\"x\":[302,302,302,302,306,306,304,302,303,306,349,306,306,306,306,349,349,349,315,299,322,322,393,393,390,381,389,412,412,412,388,327,319,320,327,327,353,353,352,352,334,308,305,301,301,301,297,324,331,329,329,322,329,324,282,290,283,323,273,272,282,286,302,294,293,294,281,296,292,291,369,283,325,313,279,281,292,300],\"xaxis\":\"x\",\"y\":[5.191525840759277,8.146112251281739,8.157523155212402,7.509192466735841,5.88700771331787,5.88700771331787,5.104334831237792,5.258311653137207,4.949505424499511,5.646124076843263,5.917643928527832,5.653399467468262,5.653399467468262,5.653399467468262,5.653399467468262,6.248162651062012,6.248162651062012,6.248162651062012,5.4331483840942365,5.71813907623291,4.9215406417846665,4.9215406417846665,5.333282279968262,5.607303047180175,5.996763801574706,4.883344841003418,4.5470853805542,5.467592811584471,5.467592811584471,5.467592811584471,5.48271198272705,5.115702629089356,7.624348258972168,5.348799324035644,8.819742393493652,8.819742393493652,5.149749183654785,4.96956958770752,4.890279197692871,4.729822731018066,5.317537879943848,4.615349006652831,5.245693397521971,4.713737297058105,4.869248771667479,5.016063880920409,4.960645866394042,4.8304845809936525,4.592386054992676,4.61796360015869,4.496498680114747,4.746476554870605,4.6921384811401365,4.707769203186035,4.497976493835449,4.676848793029785,4.890847587585449,4.656329917907715,5.659879112243652,6.303694343566895,5.045051765441894,5.526023292541503,5.16776714324951,5.132640647888183,4.971388435363769,5.360053443908691,5.899739646911621,4.869248771667479,4.546175956726075,4.9854845046997065,6.14164638519287,5.473163032531737,4.537763786315918,5.0926828384399405,5.388757133483887,4.910968589782715,4.717374992370605,4.689467048645019],\"yaxis\":\"y\",\"type\":\"scatter\"},{\"hovertemplate\":\"DALI Cluster=11<br>Length (Amino Acids)=%{x}<br>Isoelectric Point=%{y}<extra></extra>\",\"legendgroup\":\"11\",\"marker\":{\"color\":\"#FEAF16\",\"symbol\":\"circle\"},\"mode\":\"markers\",\"name\":\"11\",\"orientation\":\"v\",\"showlegend\":true,\"x\":[338,336,289,287,287,308,315,314,313,313,301,307,307,320,320,310,310,308,308,348,340,313,337,335,372,749,351,300,300,310,312,315,300,302,309,325,307,307,312,308,307,411,443,443,443,443,448,506,284,332,361,279,276,393,316,643,588,444,436,308,310,303,306,310,310,309,310,314,306,310,310,310,308,310,310,310,310,309,310,310,308,457,484,269,432,428,366,357,320,343,361,304,323,331,331,350,339,359,360,348,352,351,348,348,344,402,418,405,505,505,336,346,315],\"xaxis\":\"x\",\"y\":[4.792970848083496,4.871351814270019,5.326063728332519,5.825678443908691,5.817777824401856,4.932396888732909,5.391940116882325,5.391940116882325,5.147873497009276,5.225856590270994,5.115929985046387,4.931260108947753,4.9576333999633775,5.370796012878418,5.370796012878418,7.606841850280762,7.602465248107911,4.801383018493653,4.969399070739747,5.375968360900879,4.839578819274903,6.102484321594236,4.650361824035645,4.776942253112793,4.77648754119873,4.948937034606933,6.065538978576659,5.265416526794433,5.265416526794433,5.124057960510252,5.0896703720092775,5.575132179260252,5.997389030456542,4.98019847869873,5.318163108825684,5.578485679626463,5.123034858703612,5.279057884216308,5.3966577529907225,5.009982109069824,5.443322563171387,6.217640113830566,4.890279197692871,4.890279197692871,4.900339698791503,4.867032051086425,5.200392723083495,5.291391944885253,5.036412239074706,7.58717555999756,6.256461143493653,4.80951099395752,4.694809913635253,5.000944709777832,5.574791145324705,4.604094886779785,5.226424980163573,6.140282249450683,5.37932186126709,5.4915788650512685,5.685286140441894,6.106008338928221,5.466967582702637,5.844492149353028,5.364827919006348,5.340273475646971,5.577064704895019,5.334475898742675,5.110757637023925,5.872115898132324,6.130278587341309,5.583089637756348,5.030216789245605,5.457361793518066,5.450541114807128,5.324983787536621,5.304919624328612,5.738203239440918,5.231313133239746,5.539494132995604,6.103564262390136,6.21491184234619,6.160573768615721,4.962180519104003,6.009779930114745,6.01171245574951,5.289288902282714,4.950642204284667,4.364689064025879,5.245750236511229,5.284571266174315,4.9966249465942365,5.559671974182128,5.040277290344237,4.933363151550291,5.826076316833496,5.393758964538574,5.000433158874511,5.663403129577637,5.171859550476073,4.9576333999633775,4.662923240661621,4.901760673522949,5.173507881164549,5.415073585510252,6.538837242126465,4.782000923156737,4.955473518371581,5.0625581741333,5.115304756164551,5.302020835876465,4.641267585754394,4.716806602478028],\"yaxis\":\"y\",\"type\":\"scatter\"},{\"hovertemplate\":\"DALI Cluster=12<br>Length (Amino Acids)=%{x}<br>Isoelectric Point=%{y}<extra></extra>\",\"legendgroup\":\"12\",\"marker\":{\"color\":\"#325A9B\",\"symbol\":\"circle\"},\"mode\":\"markers\",\"name\":\"12\",\"orientation\":\"v\",\"showlegend\":true,\"x\":[389,397,408,412,402,405,393,404,425,402,414],\"xaxis\":\"x\",\"y\":[5.0663663864135735,4.766199684143066,5.667609214782716,5.496637535095213,6.102427482604979,5.637711906433105,4.884254264831543,5.901842689514161,4.904261589050292,6.973087120056152,5.816584205627441],\"yaxis\":\"y\",\"type\":\"scatter\"},{\"hovertemplate\":\"DALI Cluster=13<br>Length (Amino Acids)=%{x}<br>Isoelectric Point=%{y}<extra></extra>\",\"legendgroup\":\"13\",\"marker\":{\"color\":\"#FE00FA\",\"symbol\":\"circle\"},\"mode\":\"markers\",\"name\":\"13\",\"orientation\":\"v\",\"showlegend\":true,\"x\":[399,368,368,368,368,368,368,368,368,445,445,445,445,348,360],\"xaxis\":\"x\",\"y\":[5.180214881896972,5.7773653030395495,6.097255134582518,5.186353492736815,5.82079029083252,5.640667533874511,5.640667533874511,5.396941947937012,5.414221000671386,5.300940895080566,5.365339469909667,5.293438148498535,5.288208961486816,5.095922660827636,5.740874671936036],\"yaxis\":\"y\",\"type\":\"scatter\"},{\"hovertemplate\":\"DALI Cluster=14<br>Length (Amino Acids)=%{x}<br>Isoelectric Point=%{y}<extra></extra>\",\"legendgroup\":\"14\",\"marker\":{\"color\":\"#DEA0FD\",\"symbol\":\"circle\"},\"mode\":\"markers\",\"name\":\"14\",\"orientation\":\"v\",\"showlegend\":true,\"x\":[341,354,376,342,342,341,342,350,350,368,350,343,330,337,340,369,379],\"xaxis\":\"x\",\"y\":[4.8511171340942365,5.085066413879393,4.980027961730956,4.90716037750244,4.90716037750244,4.90716037750244,4.90716037750244,4.707541847229003,4.741815757751465,5.163958930969237,4.7013463973999015,5.22000217437744,4.716920280456542,4.705040931701659,4.896247291564941,4.975765037536621,5.012255668640137],\"yaxis\":\"y\",\"type\":\"scatter\"},{\"hovertemplate\":\"DALI Cluster=15<br>Length (Amino Acids)=%{x}<br>Isoelectric Point=%{y}<extra></extra>\",\"legendgroup\":\"15\",\"marker\":{\"color\":\"#C4451C\",\"symbol\":\"circle\"},\"mode\":\"markers\",\"name\":\"15\",\"orientation\":\"v\",\"showlegend\":true,\"x\":[412,336],\"xaxis\":\"x\",\"y\":[5.270134162902831,5.17998752593994],\"yaxis\":\"y\",\"type\":\"scatter\"},{\"hovertemplate\":\"DALI Cluster=16<br>Length (Amino Acids)=%{x}<br>Isoelectric Point=%{y}<extra></extra>\",\"legendgroup\":\"16\",\"marker\":{\"color\":\"#1CBE4F\",\"symbol\":\"circle\"},\"mode\":\"markers\",\"name\":\"16\",\"orientation\":\"v\",\"showlegend\":true,\"x\":[389,391,388,392,362,392,434,351,466,516,369,368,362,343,362,363,382,388,530,230,366,366,318,315,389,297,276,278,278,283,281],\"xaxis\":\"x\",\"y\":[5.110587120056152,5.000603675842284,5.108881950378417,5.214772987365721,5.049485206604003,4.921370124816893,5.252343559265136,5.363520622253417,4.933135795593261,4.958542823791503,6.09356060028076,5.252855110168456,5.5097673416137685,5.402796363830566,5.009186363220214,5.164527320861815,5.350561332702637,5.519543647766112,9.182763862609864,5.009697914123534,5.49595546722412,5.368465614318848,6.001765632629394,5.05266819000244,4.408682441711425,5.137983512878416,5.265871238708496,5.220059013366698,5.123773765563963,5.077393150329589,4.912673759460449],\"yaxis\":\"y\",\"type\":\"scatter\"}],                        {\"template\":{\"data\":{\"barpolar\":[{\"marker\":{\"line\":{\"color\":\"white\",\"width\":0.5},\"pattern\":{\"fillmode\":\"overlay\",\"size\":10,\"solidity\":0.2}},\"type\":\"barpolar\"}],\"bar\":[{\"error_x\":{\"color\":\"#2a3f5f\"},\"error_y\":{\"color\":\"#2a3f5f\"},\"marker\":{\"line\":{\"color\":\"white\",\"width\":0.5},\"pattern\":{\"fillmode\":\"overlay\",\"size\":10,\"solidity\":0.2}},\"type\":\"bar\"}],\"carpet\":[{\"aaxis\":{\"endlinecolor\":\"#2a3f5f\",\"gridcolor\":\"#C8D4E3\",\"linecolor\":\"#C8D4E3\",\"minorgridcolor\":\"#C8D4E3\",\"startlinecolor\":\"#2a3f5f\"},\"baxis\":{\"endlinecolor\":\"#2a3f5f\",\"gridcolor\":\"#C8D4E3\",\"linecolor\":\"#C8D4E3\",\"minorgridcolor\":\"#C8D4E3\",\"startlinecolor\":\"#2a3f5f\"},\"type\":\"carpet\"}],\"choropleth\":[{\"colorbar\":{\"outlinewidth\":0,\"ticks\":\"\"},\"type\":\"choropleth\"}],\"contourcarpet\":[{\"colorbar\":{\"outlinewidth\":0,\"ticks\":\"\"},\"type\":\"contourcarpet\"}],\"contour\":[{\"colorbar\":{\"outlinewidth\":0,\"ticks\":\"\"},\"colorscale\":[[0.0,\"#0d0887\"],[0.1111111111111111,\"#46039f\"],[0.2222222222222222,\"#7201a8\"],[0.3333333333333333,\"#9c179e\"],[0.4444444444444444,\"#bd3786\"],[0.5555555555555556,\"#d8576b\"],[0.6666666666666666,\"#ed7953\"],[0.7777777777777778,\"#fb9f3a\"],[0.8888888888888888,\"#fdca26\"],[1.0,\"#f0f921\"]],\"type\":\"contour\"}],\"heatmapgl\":[{\"colorbar\":{\"outlinewidth\":0,\"ticks\":\"\"},\"colorscale\":[[0.0,\"#0d0887\"],[0.1111111111111111,\"#46039f\"],[0.2222222222222222,\"#7201a8\"],[0.3333333333333333,\"#9c179e\"],[0.4444444444444444,\"#bd3786\"],[0.5555555555555556,\"#d8576b\"],[0.6666666666666666,\"#ed7953\"],[0.7777777777777778,\"#fb9f3a\"],[0.8888888888888888,\"#fdca26\"],[1.0,\"#f0f921\"]],\"type\":\"heatmapgl\"}],\"heatmap\":[{\"colorbar\":{\"outlinewidth\":0,\"ticks\":\"\"},\"colorscale\":[[0.0,\"#0d0887\"],[0.1111111111111111,\"#46039f\"],[0.2222222222222222,\"#7201a8\"],[0.3333333333333333,\"#9c179e\"],[0.4444444444444444,\"#bd3786\"],[0.5555555555555556,\"#d8576b\"],[0.6666666666666666,\"#ed7953\"],[0.7777777777777778,\"#fb9f3a\"],[0.8888888888888888,\"#fdca26\"],[1.0,\"#f0f921\"]],\"type\":\"heatmap\"}],\"histogram2dcontour\":[{\"colorbar\":{\"outlinewidth\":0,\"ticks\":\"\"},\"colorscale\":[[0.0,\"#0d0887\"],[0.1111111111111111,\"#46039f\"],[0.2222222222222222,\"#7201a8\"],[0.3333333333333333,\"#9c179e\"],[0.4444444444444444,\"#bd3786\"],[0.5555555555555556,\"#d8576b\"],[0.6666666666666666,\"#ed7953\"],[0.7777777777777778,\"#fb9f3a\"],[0.8888888888888888,\"#fdca26\"],[1.0,\"#f0f921\"]],\"type\":\"histogram2dcontour\"}],\"histogram2d\":[{\"colorbar\":{\"outlinewidth\":0,\"ticks\":\"\"},\"colorscale\":[[0.0,\"#0d0887\"],[0.1111111111111111,\"#46039f\"],[0.2222222222222222,\"#7201a8\"],[0.3333333333333333,\"#9c179e\"],[0.4444444444444444,\"#bd3786\"],[0.5555555555555556,\"#d8576b\"],[0.6666666666666666,\"#ed7953\"],[0.7777777777777778,\"#fb9f3a\"],[0.8888888888888888,\"#fdca26\"],[1.0,\"#f0f921\"]],\"type\":\"histogram2d\"}],\"histogram\":[{\"marker\":{\"pattern\":{\"fillmode\":\"overlay\",\"size\":10,\"solidity\":0.2}},\"type\":\"histogram\"}],\"mesh3d\":[{\"colorbar\":{\"outlinewidth\":0,\"ticks\":\"\"},\"type\":\"mesh3d\"}],\"parcoords\":[{\"line\":{\"colorbar\":{\"outlinewidth\":0,\"ticks\":\"\"}},\"type\":\"parcoords\"}],\"pie\":[{\"automargin\":true,\"type\":\"pie\"}],\"scatter3d\":[{\"line\":{\"colorbar\":{\"outlinewidth\":0,\"ticks\":\"\"}},\"marker\":{\"colorbar\":{\"outlinewidth\":0,\"ticks\":\"\"}},\"type\":\"scatter3d\"}],\"scattercarpet\":[{\"marker\":{\"colorbar\":{\"outlinewidth\":0,\"ticks\":\"\"}},\"type\":\"scattercarpet\"}],\"scattergeo\":[{\"marker\":{\"colorbar\":{\"outlinewidth\":0,\"ticks\":\"\"}},\"type\":\"scattergeo\"}],\"scattergl\":[{\"marker\":{\"colorbar\":{\"outlinewidth\":0,\"ticks\":\"\"}},\"type\":\"scattergl\"}],\"scattermapbox\":[{\"marker\":{\"colorbar\":{\"outlinewidth\":0,\"ticks\":\"\"}},\"type\":\"scattermapbox\"}],\"scatterpolargl\":[{\"marker\":{\"colorbar\":{\"outlinewidth\":0,\"ticks\":\"\"}},\"type\":\"scatterpolargl\"}],\"scatterpolar\":[{\"marker\":{\"colorbar\":{\"outlinewidth\":0,\"ticks\":\"\"}},\"type\":\"scatterpolar\"}],\"scatter\":[{\"fillpattern\":{\"fillmode\":\"overlay\",\"size\":10,\"solidity\":0.2},\"type\":\"scatter\"}],\"scatterternary\":[{\"marker\":{\"colorbar\":{\"outlinewidth\":0,\"ticks\":\"\"}},\"type\":\"scatterternary\"}],\"surface\":[{\"colorbar\":{\"outlinewidth\":0,\"ticks\":\"\"},\"colorscale\":[[0.0,\"#0d0887\"],[0.1111111111111111,\"#46039f\"],[0.2222222222222222,\"#7201a8\"],[0.3333333333333333,\"#9c179e\"],[0.4444444444444444,\"#bd3786\"],[0.5555555555555556,\"#d8576b\"],[0.6666666666666666,\"#ed7953\"],[0.7777777777777778,\"#fb9f3a\"],[0.8888888888888888,\"#fdca26\"],[1.0,\"#f0f921\"]],\"type\":\"surface\"}],\"table\":[{\"cells\":{\"fill\":{\"color\":\"#EBF0F8\"},\"line\":{\"color\":\"white\"}},\"header\":{\"fill\":{\"color\":\"#C8D4E3\"},\"line\":{\"color\":\"white\"}},\"type\":\"table\"}]},\"layout\":{\"annotationdefaults\":{\"arrowcolor\":\"#2a3f5f\",\"arrowhead\":0,\"arrowwidth\":1},\"autotypenumbers\":\"strict\",\"coloraxis\":{\"colorbar\":{\"outlinewidth\":0,\"ticks\":\"\"}},\"colorscale\":{\"diverging\":[[0,\"#8e0152\"],[0.1,\"#c51b7d\"],[0.2,\"#de77ae\"],[0.3,\"#f1b6da\"],[0.4,\"#fde0ef\"],[0.5,\"#f7f7f7\"],[0.6,\"#e6f5d0\"],[0.7,\"#b8e186\"],[0.8,\"#7fbc41\"],[0.9,\"#4d9221\"],[1,\"#276419\"]],\"sequential\":[[0.0,\"#0d0887\"],[0.1111111111111111,\"#46039f\"],[0.2222222222222222,\"#7201a8\"],[0.3333333333333333,\"#9c179e\"],[0.4444444444444444,\"#bd3786\"],[0.5555555555555556,\"#d8576b\"],[0.6666666666666666,\"#ed7953\"],[0.7777777777777778,\"#fb9f3a\"],[0.8888888888888888,\"#fdca26\"],[1.0,\"#f0f921\"]],\"sequentialminus\":[[0.0,\"#0d0887\"],[0.1111111111111111,\"#46039f\"],[0.2222222222222222,\"#7201a8\"],[0.3333333333333333,\"#9c179e\"],[0.4444444444444444,\"#bd3786\"],[0.5555555555555556,\"#d8576b\"],[0.6666666666666666,\"#ed7953\"],[0.7777777777777778,\"#fb9f3a\"],[0.8888888888888888,\"#fdca26\"],[1.0,\"#f0f921\"]]},\"colorway\":[\"#636efa\",\"#EF553B\",\"#00cc96\",\"#ab63fa\",\"#FFA15A\",\"#19d3f3\",\"#FF6692\",\"#B6E880\",\"#FF97FF\",\"#FECB52\"],\"font\":{\"color\":\"#2a3f5f\"},\"geo\":{\"bgcolor\":\"white\",\"lakecolor\":\"white\",\"landcolor\":\"white\",\"showlakes\":true,\"showland\":true,\"subunitcolor\":\"#C8D4E3\"},\"hoverlabel\":{\"align\":\"left\"},\"hovermode\":\"closest\",\"mapbox\":{\"style\":\"light\"},\"paper_bgcolor\":\"white\",\"plot_bgcolor\":\"white\",\"polar\":{\"angularaxis\":{\"gridcolor\":\"#EBF0F8\",\"linecolor\":\"#EBF0F8\",\"ticks\":\"\"},\"bgcolor\":\"white\",\"radialaxis\":{\"gridcolor\":\"#EBF0F8\",\"linecolor\":\"#EBF0F8\",\"ticks\":\"\"}},\"scene\":{\"xaxis\":{\"backgroundcolor\":\"white\",\"gridcolor\":\"#DFE8F3\",\"gridwidth\":2,\"linecolor\":\"#EBF0F8\",\"showbackground\":true,\"ticks\":\"\",\"zerolinecolor\":\"#EBF0F8\"},\"yaxis\":{\"backgroundcolor\":\"white\",\"gridcolor\":\"#DFE8F3\",\"gridwidth\":2,\"linecolor\":\"#EBF0F8\",\"showbackground\":true,\"ticks\":\"\",\"zerolinecolor\":\"#EBF0F8\"},\"zaxis\":{\"backgroundcolor\":\"white\",\"gridcolor\":\"#DFE8F3\",\"gridwidth\":2,\"linecolor\":\"#EBF0F8\",\"showbackground\":true,\"ticks\":\"\",\"zerolinecolor\":\"#EBF0F8\"}},\"shapedefaults\":{\"line\":{\"color\":\"#2a3f5f\"}},\"ternary\":{\"aaxis\":{\"gridcolor\":\"#DFE8F3\",\"linecolor\":\"#A2B1C6\",\"ticks\":\"\"},\"baxis\":{\"gridcolor\":\"#DFE8F3\",\"linecolor\":\"#A2B1C6\",\"ticks\":\"\"},\"bgcolor\":\"white\",\"caxis\":{\"gridcolor\":\"#DFE8F3\",\"linecolor\":\"#A2B1C6\",\"ticks\":\"\"}},\"title\":{\"x\":0.05},\"xaxis\":{\"automargin\":true,\"gridcolor\":\"#EBF0F8\",\"linecolor\":\"#EBF0F8\",\"ticks\":\"\",\"title\":{\"standoff\":15},\"zerolinecolor\":\"#EBF0F8\",\"zerolinewidth\":2},\"yaxis\":{\"automargin\":true,\"gridcolor\":\"#EBF0F8\",\"linecolor\":\"#EBF0F8\",\"ticks\":\"\",\"title\":{\"standoff\":15},\"zerolinecolor\":\"#EBF0F8\",\"zerolinewidth\":2}}},\"xaxis\":{\"anchor\":\"y\",\"domain\":[0.0,1.0],\"title\":{\"text\":\"Length (Amino Acids)\"},\"range\":[200,600]},\"yaxis\":{\"anchor\":\"x\",\"domain\":[0.0,1.0],\"title\":{\"text\":\"Isoelectric Point\"}},\"legend\":{\"title\":{\"text\":\"DALI Cluster\"},\"tracegroupgap\":0},\"margin\":{\"t\":60},\"font\":{\"size\":20},\"width\":1400,\"height\":700},                        {\"responsive\": true}                    ).then(function(){\n",
       "                            \n",
       "var gd = document.getElementById('73f39992-ec8f-42e9-af32-eab81088bd07');\n",
       "var x = new MutationObserver(function (mutations, observer) {{\n",
       "        var display = window.getComputedStyle(gd).display;\n",
       "        if (!display || display === 'none') {{\n",
       "            console.log([gd, 'removed!']);\n",
       "            Plotly.purge(gd);\n",
       "            observer.disconnect();\n",
       "        }}\n",
       "}});\n",
       "\n",
       "// Listen for the removal of the full notebook cells\n",
       "var notebookContainer = gd.closest('#notebook-container');\n",
       "if (notebookContainer) {{\n",
       "    x.observe(notebookContainer, {childList: true});\n",
       "}}\n",
       "\n",
       "// Listen for the clearing of the current output cell\n",
       "var outputEl = gd.closest('.output');\n",
       "if (outputEl) {{\n",
       "    x.observe(outputEl, {childList: true});\n",
       "}}\n",
       "\n",
       "                        })                };                });            </script>        </div>"
      ]
     },
     "metadata": {},
     "output_type": "display_data"
    }
   ],
   "source": [
    "colours = px.colors.qualitative.Alphabet_r\n",
    "fig = px.scatter(dali_df[dali_df[\"DALI Cluster\"] != \"Dissimilar\"], x=\"Length\", y=\"pI\", color=\"DALI Cluster\", color_discrete_sequence=colours, labels=dict(Length=\"Length (Amino Acids)\", pI=\"Isoelectric Point\"))\n",
    "\n",
    "fig.update_layout(template=\"plotly_white\", width=1400, height=700, font=dict(size=20))\n",
    "fig.update_xaxes(range=[200, 600])\n",
    "fig.write_image(\"DALI_clusters.png\")\n",
    "fig.show()"
   ]
  },
  {
   "attachments": {},
   "cell_type": "markdown",
   "metadata": {},
   "source": [
    "And now the Foldseek clusters:"
   ]
  },
  {
   "cell_type": "code",
   "execution_count": 42,
   "metadata": {},
   "outputs": [
    {
     "data": {
      "application/vnd.plotly.v1+json": {
       "config": {
        "plotlyServerURL": "https://plot.ly"
       },
       "data": [
        {
         "hovertemplate": "Foldseek Cluster=0<br>Length (Amino Acids)=%{x}<br>Isoelectric Point=%{y}<extra></extra>",
         "legendgroup": "0",
         "marker": {
          "color": "#FA0087",
          "symbol": "circle"
         },
         "mode": "markers",
         "name": "0",
         "orientation": "v",
         "showlegend": true,
         "type": "scatter",
         "x": [
          367,
          409
         ],
         "xaxis": "x",
         "y": [
          4.71800022125244,
          9.324723243713382
         ],
         "yaxis": "y"
        },
        {
         "hovertemplate": "Foldseek Cluster=1<br>Length (Amino Acids)=%{x}<br>Isoelectric Point=%{y}<extra></extra>",
         "legendgroup": "1",
         "marker": {
          "color": "#FBE426",
          "symbol": "circle"
         },
         "mode": "markers",
         "name": "1",
         "orientation": "v",
         "showlegend": true,
         "type": "scatter",
         "x": [
          283,
          272,
          328,
          331
         ],
         "xaxis": "x",
         "y": [
          5.408196067810058,
          5.413936805725096,
          5.252855110168456,
          5.079723548889159
         ],
         "yaxis": "y"
        },
        {
         "hovertemplate": "Foldseek Cluster=2<br>Length (Amino Acids)=%{x}<br>Isoelectric Point=%{y}<extra></extra>",
         "legendgroup": "2",
         "marker": {
          "color": "#B00068",
          "symbol": "circle"
         },
         "mode": "markers",
         "name": "2",
         "orientation": "v",
         "showlegend": true,
         "type": "scatter",
         "x": [
          463
         ],
         "xaxis": "x",
         "y": [
          4.544925498962402
         ],
         "yaxis": "y"
        },
        {
         "hovertemplate": "Foldseek Cluster=3<br>Length (Amino Acids)=%{x}<br>Isoelectric Point=%{y}<extra></extra>",
         "legendgroup": "3",
         "marker": {
          "color": "#FC1CBF",
          "symbol": "circle"
         },
         "mode": "markers",
         "name": "3",
         "orientation": "v",
         "showlegend": true,
         "type": "scatter",
         "x": [
          267,
          307,
          264,
          315,
          264,
          272,
          307,
          308,
          312,
          300,
          312,
          269,
          266,
          329,
          264,
          300,
          264,
          265,
          267,
          266,
          269,
          264,
          264,
          264,
          268,
          280,
          265,
          307,
          325,
          268,
          267,
          301,
          310,
          309,
          302,
          271,
          271,
          275,
          301,
          331,
          329,
          271,
          329,
          307,
          279,
          264,
          299,
          264,
          270,
          273,
          272,
          271,
          300,
          269,
          322,
          315,
          314,
          302,
          329,
          278,
          268,
          287
         ],
         "xaxis": "x",
         "y": [
          4.9991258621215815,
          5.279057884216308,
          4.779158973693847,
          5.575132179260252,
          4.686397743225096,
          4.9576333999633775,
          4.9576333999633775,
          5.009982109069824,
          5.3966577529907225,
          5.265416526794433,
          5.0896703720092775,
          5.402000617980956,
          4.483766746520996,
          4.646780967712403,
          4.750057411193848,
          5.265416526794433,
          4.7217515945434565,
          4.9607027053833,
          4.9032384872436525,
          4.662241172790528,
          4.470295906066894,
          5.213977241516112,
          4.731357383728027,
          5.333907508850097,
          4.641779136657715,
          4.313761329650879,
          4.763187217712402,
          5.123034858703612,
          5.578485679626463,
          5.31304759979248,
          5.093364906311035,
          5.115929985046387,
          5.124057960510252,
          5.318163108825684,
          4.98019847869873,
          5.021236228942871,
          5.100924491882323,
          4.97917537689209,
          4.869248771667479,
          4.592386054992676,
          4.496498680114747,
          4.823948097229004,
          4.6921384811401365,
          5.443322563171387,
          4.617906761169433,
          4.844182777404785,
          5.71813907623291,
          5.569505119323729,
          5.254276084899902,
          5.274283409118652,
          4.808544731140137,
          5.175724601745604,
          5.997389030456542,
          5.01919002532959,
          4.746476554870605,
          5.391940116882325,
          5.391940116882325,
          4.788992118835449,
          4.61796360015869,
          6.177398109436035,
          4.780693626403808,
          5.825678443908691
         ],
         "yaxis": "y"
        },
        {
         "hovertemplate": "Foldseek Cluster=4<br>Length (Amino Acids)=%{x}<br>Isoelectric Point=%{y}<extra></extra>",
         "legendgroup": "4",
         "marker": {
          "color": "#C075A6",
          "symbol": "circle"
         },
         "mode": "markers",
         "name": "4",
         "orientation": "v",
         "showlegend": true,
         "type": "scatter",
         "x": [
          375,
          375
         ],
         "xaxis": "x",
         "y": [
          9.41974964141846,
          9.465393257141116
         ],
         "yaxis": "y"
        },
        {
         "hovertemplate": "Foldseek Cluster=5<br>Length (Amino Acids)=%{x}<br>Isoelectric Point=%{y}<extra></extra>",
         "legendgroup": "5",
         "marker": {
          "color": "#B10DA1",
          "symbol": "circle"
         },
         "mode": "markers",
         "name": "5",
         "orientation": "v",
         "showlegend": true,
         "type": "scatter",
         "x": [
          343
         ],
         "xaxis": "x",
         "y": [
          5.138438224792479
         ],
         "yaxis": "y"
        },
        {
         "hovertemplate": "Foldseek Cluster=6<br>Length (Amino Acids)=%{x}<br>Isoelectric Point=%{y}<extra></extra>",
         "legendgroup": "6",
         "marker": {
          "color": "#2ED9FF",
          "symbol": "circle"
         },
         "mode": "markers",
         "name": "6",
         "orientation": "v",
         "showlegend": true,
         "type": "scatter",
         "x": [
          375
         ],
         "xaxis": "x",
         "y": [
          5.535515403747558
         ],
         "yaxis": "y"
        },
        {
         "hovertemplate": "Foldseek Cluster=7<br>Length (Amino Acids)=%{x}<br>Isoelectric Point=%{y}<extra></extra>",
         "legendgroup": "7",
         "marker": {
          "color": "#1CFFCE",
          "symbol": "circle"
         },
         "mode": "markers",
         "name": "7",
         "orientation": "v",
         "showlegend": true,
         "type": "scatter",
         "x": [
          349
         ],
         "xaxis": "x",
         "y": [
          5.884279441833496
         ],
         "yaxis": "y"
        },
        {
         "hovertemplate": "Foldseek Cluster=8<br>Length (Amino Acids)=%{x}<br>Isoelectric Point=%{y}<extra></extra>",
         "legendgroup": "8",
         "marker": {
          "color": "#F6222E",
          "symbol": "circle"
         },
         "mode": "markers",
         "name": "8",
         "orientation": "v",
         "showlegend": true,
         "type": "scatter",
         "x": [
          418
         ],
         "xaxis": "x",
         "y": [
          4.990997886657714
         ],
         "yaxis": "y"
        },
        {
         "hovertemplate": "Foldseek Cluster=9<br>Length (Amino Acids)=%{x}<br>Isoelectric Point=%{y}<extra></extra>",
         "legendgroup": "9",
         "marker": {
          "color": "#90AD1C",
          "symbol": "circle"
         },
         "mode": "markers",
         "name": "9",
         "orientation": "v",
         "showlegend": true,
         "type": "scatter",
         "x": [
          616
         ],
         "xaxis": "x",
         "y": [
          8.14624118804932
         ],
         "yaxis": "y"
        },
        {
         "hovertemplate": "Foldseek Cluster=10<br>Length (Amino Acids)=%{x}<br>Isoelectric Point=%{y}<extra></extra>",
         "legendgroup": "10",
         "marker": {
          "color": "#F8A19F",
          "symbol": "circle"
         },
         "mode": "markers",
         "name": "10",
         "orientation": "v",
         "showlegend": true,
         "type": "scatter",
         "x": [
          434,
          424,
          349,
          366,
          348,
          349,
          349,
          368,
          350,
          368,
          368,
          349,
          388,
          351,
          391,
          505,
          352,
          348,
          353,
          361,
          362,
          353,
          369,
          466,
          451,
          505,
          376,
          359,
          516,
          352,
          392,
          392,
          425,
          389
         ],
         "xaxis": "x",
         "y": [
          5.252343559265136,
          6.469834709167479,
          6.248162651062012,
          5.49595546722412,
          5.095922660827636,
          6.248162651062012,
          6.248162651062012,
          5.163958930969237,
          4.707541847229003,
          5.640667533874511,
          5.82079029083252,
          5.917643928527832,
          5.108881950378417,
          5.363520622253417,
          5.000603675842284,
          5.115304756164551,
          4.890279197692871,
          5.375968360900879,
          5.149749183654785,
          5.284571266174315,
          5.049485206604003,
          4.96956958770752,
          6.14164638519287,
          4.933135795593261,
          5.41723346710205,
          5.0625581741333,
          4.980027961730956,
          5.000433158874511,
          4.958542823791503,
          4.729822731018066,
          4.921370124816893,
          5.214772987365721,
          4.904261589050292,
          5.110587120056152
         ],
         "yaxis": "y"
        },
        {
         "hovertemplate": "Foldseek Cluster=11<br>Length (Amino Acids)=%{x}<br>Isoelectric Point=%{y}<extra></extra>",
         "legendgroup": "11",
         "marker": {
          "color": "#FEAF16",
          "symbol": "circle"
         },
         "mode": "markers",
         "name": "11",
         "orientation": "v",
         "showlegend": true,
         "type": "scatter",
         "x": [
          595
         ],
         "xaxis": "x",
         "y": [
          4.928077125549315
         ],
         "yaxis": "y"
        },
        {
         "hovertemplate": "Foldseek Cluster=12<br>Length (Amino Acids)=%{x}<br>Isoelectric Point=%{y}<extra></extra>",
         "legendgroup": "12",
         "marker": {
          "color": "#325A9B",
          "symbol": "circle"
         },
         "mode": "markers",
         "name": "12",
         "orientation": "v",
         "showlegend": true,
         "type": "scatter",
         "x": [
          291,
          291,
          291
         ],
         "xaxis": "x",
         "y": [
          5.762757682800292,
          5.767816352844237,
          5.762757682800292
         ],
         "yaxis": "y"
        },
        {
         "hovertemplate": "Foldseek Cluster=13<br>Length (Amino Acids)=%{x}<br>Isoelectric Point=%{y}<extra></extra>",
         "legendgroup": "13",
         "marker": {
          "color": "#FE00FA",
          "symbol": "circle"
         },
         "mode": "markers",
         "name": "13",
         "orientation": "v",
         "showlegend": true,
         "type": "scatter",
         "x": [
          316
         ],
         "xaxis": "x",
         "y": [
          5.341182899475096
         ],
         "yaxis": "y"
        },
        {
         "hovertemplate": "Foldseek Cluster=14<br>Length (Amino Acids)=%{x}<br>Isoelectric Point=%{y}<extra></extra>",
         "legendgroup": "14",
         "marker": {
          "color": "#DEA0FD",
          "symbol": "circle"
         },
         "mode": "markers",
         "name": "14",
         "orientation": "v",
         "showlegend": true,
         "type": "scatter",
         "x": [
          272
         ],
         "xaxis": "x",
         "y": [
          6.863046836853028
         ],
         "yaxis": "y"
        },
        {
         "hovertemplate": "Foldseek Cluster=15<br>Length (Amino Acids)=%{x}<br>Isoelectric Point=%{y}<extra></extra>",
         "legendgroup": "15",
         "marker": {
          "color": "#C4451C",
          "symbol": "circle"
         },
         "mode": "markers",
         "name": "15",
         "orientation": "v",
         "showlegend": true,
         "type": "scatter",
         "x": [
          283
         ],
         "xaxis": "x",
         "y": [
          5.982497215270995
         ],
         "yaxis": "y"
        },
        {
         "hovertemplate": "Foldseek Cluster=16<br>Length (Amino Acids)=%{x}<br>Isoelectric Point=%{y}<extra></extra>",
         "legendgroup": "16",
         "marker": {
          "color": "#1CBE4F",
          "symbol": "circle"
         },
         "mode": "markers",
         "name": "16",
         "orientation": "v",
         "showlegend": true,
         "type": "scatter",
         "x": [
          443,
          446,
          443,
          443,
          448,
          443,
          446,
          443,
          443,
          443,
          414,
          439,
          443,
          404,
          448
         ],
         "xaxis": "x",
         "y": [
          4.916766166687012,
          4.771769905090332,
          5.288493156433105,
          4.916766166687012,
          9.640424919128415,
          5.223241996765136,
          4.4691591262817365,
          5.093421745300293,
          4.916766166687012,
          5.223241996765136,
          5.791745567321779,
          6.293292808532715,
          4.752274131774903,
          5.230119514465331,
          5.267690086364746
         ],
         "yaxis": "y"
        },
        {
         "hovertemplate": "Foldseek Cluster=17<br>Length (Amino Acids)=%{x}<br>Isoelectric Point=%{y}<extra></extra>",
         "legendgroup": "17",
         "marker": {
          "color": "#E2E2E2",
          "symbol": "circle"
         },
         "mode": "markers",
         "name": "17",
         "orientation": "v",
         "showlegend": true,
         "type": "scatter",
         "x": [
          479
         ],
         "xaxis": "x",
         "y": [
          5.38034496307373
         ],
         "yaxis": "y"
        },
        {
         "hovertemplate": "Foldseek Cluster=18<br>Length (Amino Acids)=%{x}<br>Isoelectric Point=%{y}<extra></extra>",
         "legendgroup": "18",
         "marker": {
          "color": "#F7E1A0",
          "symbol": "circle"
         },
         "mode": "markers",
         "name": "18",
         "orientation": "v",
         "showlegend": true,
         "type": "scatter",
         "x": [
          476,
          469,
          484,
          477,
          418,
          485,
          457
         ],
         "xaxis": "x",
         "y": [
          5.464637184143067,
          6.415382957458497,
          6.160573768615721,
          6.102711677551268,
          4.782000923156737,
          5.375911521911622,
          6.21491184234619
         ],
         "yaxis": "y"
        },
        {
         "hovertemplate": "Foldseek Cluster=19<br>Length (Amino Acids)=%{x}<br>Isoelectric Point=%{y}<extra></extra>",
         "legendgroup": "19",
         "marker": {
          "color": "#16FF32",
          "symbol": "circle"
         },
         "mode": "markers",
         "name": "19",
         "orientation": "v",
         "showlegend": true,
         "type": "scatter",
         "x": [
          369,
          343,
          332,
          308,
          302,
          299,
          310,
          331,
          399,
          305,
          347,
          325,
          313,
          336,
          412,
          302,
          341,
          308,
          368,
          310,
          368,
          302,
          302
         ],
         "xaxis": "x",
         "y": [
          5.049939918518065,
          4.839010429382324,
          7.58717555999756,
          4.801383018493653,
          4.710213279724121,
          5.132981681823729,
          7.606841850280762,
          5.529604148864746,
          5.180214881896972,
          4.541060447692872,
          5.064377021789549,
          4.882321739196779,
          6.102484321594236,
          5.302020835876465,
          5.270134162902831,
          4.845490074157714,
          4.90716037750244,
          4.969399070739747,
          5.186353492736815,
          7.602465248107911,
          5.252855110168456,
          4.845490074157714,
          4.710213279724121
         ],
         "yaxis": "y"
        },
        {
         "hovertemplate": "Foldseek Cluster=20<br>Length (Amino Acids)=%{x}<br>Isoelectric Point=%{y}<extra></extra>",
         "legendgroup": "20",
         "marker": {
          "color": "#1C8356",
          "symbol": "circle"
         },
         "mode": "markers",
         "name": "20",
         "orientation": "v",
         "showlegend": true,
         "type": "scatter",
         "x": [
          450,
          361,
          388,
          443,
          530,
          501,
          493,
          490,
          501,
          443,
          501,
          490,
          490,
          443,
          501,
          494,
          517,
          501,
          443,
          501,
          494,
          496,
          517,
          494,
          448,
          393,
          444,
          411,
          501,
          501,
          485,
          369,
          501,
          484,
          484,
          503,
          484,
          490,
          492,
          436,
          484,
          511,
          485,
          500,
          505,
          506,
          485,
          372
         ],
         "xaxis": "x",
         "y": [
          4.703165245056151,
          6.256461143493653,
          5.519543647766112,
          4.867032051086425,
          9.182763862609864,
          5.364543724060058,
          5.21113529205322,
          5.264904975891112,
          5.21113529205322,
          4.890279197692871,
          5.304237556457519,
          5.336465263366699,
          5.460885810852051,
          4.890279197692871,
          5.508516883850096,
          5.259448432922363,
          5.1577066421508775,
          5.364543724060058,
          4.900339698791503,
          5.4473581314086905,
          5.323790168762207,
          5.005832862854004,
          5.361474418640137,
          5.383812141418457,
          5.200392723083495,
          5.000944709777832,
          6.140282249450683,
          6.217640113830566,
          5.301054573059082,
          5.612134361267089,
          5.102629661560058,
          6.09356060028076,
          5.508516883850096,
          5.058295249938964,
          5.024078178405762,
          5.337431526184082,
          5.121954917907714,
          5.393645286560059,
          4.960930061340331,
          5.37932186126709,
          5.095581626892089,
          6.286472129821779,
          5.289516258239746,
          5.314241218566894,
          4.682021141052245,
          5.291391944885253,
          5.2453523635864245,
          4.77648754119873
         ],
         "yaxis": "y"
        },
        {
         "hovertemplate": "Foldseek Cluster=21<br>Length (Amino Acids)=%{x}<br>Isoelectric Point=%{y}<extra></extra>",
         "legendgroup": "21",
         "marker": {
          "color": "#565656",
          "symbol": "circle"
         },
         "mode": "markers",
         "name": "21",
         "orientation": "v",
         "showlegend": true,
         "type": "scatter",
         "x": [
          328,
          321
         ],
         "xaxis": "x",
         "y": [
          4.687761878967284,
          4.560499382019044
         ],
         "yaxis": "y"
        },
        {
         "hovertemplate": "Foldseek Cluster=22<br>Length (Amino Acids)=%{x}<br>Isoelectric Point=%{y}<extra></extra>",
         "legendgroup": "22",
         "marker": {
          "color": "#782AB6",
          "symbol": "circle"
         },
         "mode": "markers",
         "name": "22",
         "orientation": "v",
         "showlegend": true,
         "type": "scatter",
         "x": [
          182,
          221,
          210,
          217,
          218
         ],
         "xaxis": "x",
         "y": [
          4.42260799407959,
          5.539323616027831,
          5.770999336242675,
          5.574847984313963,
          4.813489723205566
         ],
         "yaxis": "y"
        },
        {
         "hovertemplate": "Foldseek Cluster=23<br>Length (Amino Acids)=%{x}<br>Isoelectric Point=%{y}<extra></extra>",
         "legendgroup": "23",
         "marker": {
          "color": "#85660D",
          "symbol": "circle"
         },
         "mode": "markers",
         "name": "23",
         "orientation": "v",
         "showlegend": true,
         "type": "scatter",
         "x": [
          397
         ],
         "xaxis": "x",
         "y": [
          5.0338544845581055
         ],
         "yaxis": "y"
        },
        {
         "hovertemplate": "Foldseek Cluster=24<br>Length (Amino Acids)=%{x}<br>Isoelectric Point=%{y}<extra></extra>",
         "legendgroup": "24",
         "marker": {
          "color": "#3283FE",
          "symbol": "circle"
         },
         "mode": "markers",
         "name": "24",
         "orientation": "v",
         "showlegend": true,
         "type": "scatter",
         "x": [
          319,
          324,
          272,
          263,
          307,
          327,
          322,
          278,
          304,
          302,
          314,
          321,
          300,
          270,
          302,
          324,
          278,
          329,
          305,
          283,
          321,
          265,
          270,
          302,
          302,
          302,
          270,
          319,
          338,
          276,
          277,
          265,
          314,
          320,
          302,
          306,
          306,
          270,
          342,
          260,
          270,
          281,
          303,
          350,
          315,
          297,
          304,
          302,
          306,
          308,
          270,
          301,
          321,
          303,
          306,
          327,
          305,
          269,
          350,
          329,
          267,
          306,
          322,
          271,
          270,
          263,
          271,
          310,
          305,
          303,
          302,
          308,
          303,
          327,
          348,
          355,
          302,
          302,
          292,
          263,
          302,
          355,
          276,
          302,
          307,
          292,
          302,
          297,
          305,
          292,
          352,
          352,
          307,
          349,
          275,
          331,
          302,
          302,
          346,
          317,
          294,
          305,
          350,
          305,
          303,
          302,
          302,
          302,
          302,
          294,
          294,
          307,
          303,
          303,
          305,
          313,
          303,
          302,
          286,
          302,
          302,
          302,
          335,
          312,
          302,
          303,
          305,
          302,
          287,
          389,
          302,
          303,
          302,
          312,
          269,
          310,
          274,
          306,
          350,
          343,
          283,
          331,
          335,
          301,
          302,
          316,
          320,
          261,
          268,
          268,
          268,
          281,
          284,
          320,
          261,
          281,
          306,
          302,
          382,
          306,
          272,
          308,
          303,
          302,
          320,
          302,
          303,
          302,
          303,
          294,
          306,
          304,
          305,
          302,
          319,
          352,
          303,
          308,
          304,
          302,
          314,
          301,
          303,
          303,
          357,
          305,
          303,
          302,
          301,
          305,
          302,
          312,
          307,
          302,
          366,
          301,
          350,
          305,
          295,
          303,
          302,
          303,
          346,
          301,
          302,
          302,
          301,
          291,
          302,
          304,
          305,
          282,
          301,
          305,
          303,
          302,
          303,
          302,
          300,
          270,
          302,
          302,
          301,
          302,
          303,
          323,
          353,
          315,
          303,
          312,
          314,
          303,
          303,
          319,
          300,
          305,
          302,
          331,
          303,
          305,
          312,
          302,
          289,
          350,
          305,
          303,
          303,
          300,
          303,
          302,
          303,
          302,
          305,
          302,
          305,
          301,
          302,
          307,
          344,
          301,
          293,
          305,
          306,
          303,
          284,
          281,
          318,
          351,
          305,
          302,
          301,
          300,
          337,
          306,
          324,
          302,
          292,
          315,
          305,
          302,
          305,
          303,
          303,
          303,
          269,
          302,
          301,
          301,
          302,
          306,
          343,
          288,
          303,
          315,
          302,
          306,
          302,
          305,
          302,
          297,
          302,
          296,
          302,
          302,
          305,
          313,
          348,
          305,
          342,
          329,
          329,
          320,
          269,
          267,
          320,
          302,
          304,
          303,
          319,
          360,
          305,
          354,
          290,
          304,
          320,
          321,
          320,
          321,
          325,
          333,
          265,
          264,
          274,
          265,
          264,
          320,
          308,
          283,
          289,
          310,
          363,
          318,
          279,
          306,
          306,
          310,
          302,
          302,
          303,
          302,
          301,
          305,
          303,
          302,
          303,
          302,
          313,
          303,
          302,
          301,
          301,
          302,
          320,
          361,
          301,
          303,
          303,
          301,
          303,
          318,
          318,
          306,
          304,
          302,
          323,
          305,
          304,
          305,
          348,
          279,
          302,
          303,
          303,
          302,
          302,
          331,
          323,
          302,
          333,
          343,
          303,
          302,
          303,
          335,
          303,
          305,
          302,
          303,
          302,
          339,
          299,
          302,
          269,
          350,
          331,
          297,
          307,
          287,
          273,
          302,
          303,
          304,
          348,
          313,
          302,
          269,
          305,
          340,
          304,
          320,
          323,
          300,
          303,
          323,
          342,
          352
         ],
         "xaxis": "x",
         "y": [
          5.1192834854125975,
          5.791461372375489,
          5.330951881408691,
          4.681111717224121,
          4.931260108947753,
          8.819742393493652,
          4.9215406417846665,
          5.220059013366698,
          4.79183406829834,
          8.146112251281739,
          6.6642240524292005,
          5.041527748107909,
          4.689467048645019,
          4.869248771667479,
          8.157523155212402,
          6.351439094543457,
          4.74636287689209,
          5.425475120544433,
          4.904602622985839,
          5.077393150329589,
          6.003072929382324,
          4.638198280334472,
          5.321743965148925,
          5.388643455505371,
          7.509192466735841,
          4.739428520202637,
          5.43883228302002,
          7.624348258972168,
          5.498172187805174,
          4.694809913635253,
          5.270702552795409,
          4.648145103454591,
          6.76062297821045,
          5.867852973937987,
          5.098537254333496,
          5.646124076843263,
          5.88700771331787,
          4.9077856063842775,
          4.90716037750244,
          4.898122978210449,
          4.869248771667479,
          5.425134086608886,
          4.84014720916748,
          4.7013463973999015,
          5.05266819000244,
          5.137983512878416,
          4.85026454925537,
          4.780579948425292,
          5.653399467468262,
          4.615349006652831,
          4.869248771667479,
          4.823379707336425,
          6.043428611755371,
          9.267797660827636,
          5.88700771331787,
          8.819742393493652,
          5.822893333435059,
          4.964681434631348,
          4.741815757751465,
          5.418995475769043,
          5.210566902160643,
          5.653399467468262,
          4.9215406417846665,
          5.20727024078369,
          4.980425834655762,
          4.681111717224121,
          5.3135591506958,
          5.577064704895019,
          4.956326103210448,
          4.84014720916748,
          4.803940773010253,
          4.932396888732909,
          4.84014720916748,
          5.115702629089356,
          4.6895238876342775,
          4.883742713928222,
          4.85026454925537,
          4.989576911926269,
          4.546175956726075,
          4.762505149841308,
          4.693843650817871,
          4.936489295959471,
          5.4840192794799805,
          4.900567054748534,
          4.798995780944825,
          4.9741735458374015,
          4.789276313781738,
          5.589285087585449,
          5.090750312805175,
          4.900851249694824,
          4.588918876647949,
          4.5470853805542,
          4.783592414855956,
          4.8977251052856445,
          4.898805046081542,
          4.553394508361817,
          4.980312156677246,
          4.744430351257324,
          4.782626152038574,
          5.364145851135253,
          5.123034858703612,
          4.412320137023926,
          4.723002052307128,
          4.965420341491699,
          5.00463924407959,
          4.772736167907715,
          4.7815462112426745,
          4.772736167907715,
          4.752956199645996,
          5.132640647888183,
          5.360053443908691,
          4.898464012145996,
          4.789276313781738,
          4.84014720916748,
          4.956326103210448,
          4.927110862731933,
          4.821049308776855,
          4.893007469177246,
          5.526023292541503,
          4.772736167907715,
          4.956326103210448,
          5.062217140197753,
          4.776942253112793,
          4.797745323181153,
          4.772736167907715,
          5.387051963806152,
          4.955132484436034,
          4.704529380798339,
          6.1950181961059565,
          5.007822227478028,
          4.870158195495605,
          4.687761878967284,
          4.846115303039549,
          4.638368797302246,
          4.962180519104003,
          5.539494132995604,
          4.946549797058105,
          4.633537483215332,
          5.826076316833496,
          5.402796363830566,
          5.473163032531737,
          5.824769020080566,
          5.410526466369628,
          5.118374061584471,
          5.805614280700683,
          5.382050132751465,
          5.370796012878418,
          5.365055274963378,
          5.077734184265136,
          4.965988731384278,
          4.958258628845214,
          4.910968589782715,
          5.036412239074706,
          5.874162101745605,
          5.584396934509278,
          5.117691993713378,
          5.653399467468262,
          5.258311653137207,
          5.350561332702637,
          5.653399467468262,
          6.303694343566895,
          5.030216789245605,
          6.106008338928221,
          4.706291389465331,
          5.131105995178221,
          4.861632347106934,
          4.792118263244629,
          4.906535148620605,
          4.790356254577637,
          4.956326103210448,
          5.024078178405762,
          4.687761878967284,
          4.904602622985839,
          4.803940773010253,
          4.957065010070799,
          4.634219551086425,
          4.876637840270996,
          4.901646995544433,
          4.735677146911621,
          4.808260536193848,
          4.760231590270995,
          4.767506980895996,
          4.969399070739747,
          4.959452247619628,
          4.950642204284667,
          4.5394689559936525,
          4.701289558410643,
          4.962237358093262,
          4.803940773010253,
          4.998216438293456,
          4.808260536193848,
          4.783592414855956,
          4.891984367370605,
          4.674291038513183,
          5.289288902282714,
          4.877831459045409,
          4.781887245178221,
          5.105585289001463,
          4.638141441345215,
          4.747272300720215,
          4.711179542541504,
          5.195731925964354,
          4.641267585754394,
          4.713737297058105,
          4.651043891906738,
          4.686284065246581,
          4.783308219909667,
          4.9854845046997065,
          5.047097969055175,
          4.953995704650878,
          4.904602622985839,
          5.045051765441894,
          4.995317649841308,
          4.955132484436034,
          4.884879493713378,
          4.651043891906738,
          5.054032325744628,
          4.780807304382324,
          4.716749763488769,
          4.753297233581542,
          4.670028114318847,
          4.861632347106934,
          5.107176780700683,
          5.188797569274901,
          4.813432884216309,
          5.880755424499512,
          4.986052894592285,
          5.045620155334471,
          4.769723701477051,
          4.732323646545409,
          5.808001518249512,
          4.738462257385254,
          4.696571922302245,
          5.153159523010252,
          4.808260536193848,
          4.904602622985839,
          5.015154457092284,
          4.553394508361817,
          4.783308219909667,
          4.904602622985839,
          4.867714118957519,
          5.089727210998535,
          4.921029090881347,
          4.714476203918457,
          5.090750312805175,
          4.794221305847168,
          5.190275382995604,
          4.738462257385254,
          4.687761878967284,
          4.624386405944825,
          4.973093605041503,
          4.722717857360839,
          4.903977394104003,
          5.203518867492675,
          4.956326103210448,
          5.117578315734862,
          4.873909568786621,
          4.7815462112426745,
          5.415073585510252,
          4.971899986267089,
          4.717602348327636,
          4.89550838470459,
          4.92898654937744,
          4.686966133117674,
          4.886584663391113,
          5.899739646911621,
          5.16566410064697,
          4.662923240661621,
          4.956326103210448,
          5.031978797912598,
          4.889710807800292,
          4.865838432312012,
          4.650361824035645,
          4.73806438446045,
          4.707769203186035,
          4.967011833190917,
          4.717374992370605,
          5.4331483840942365,
          4.973150444030761,
          4.988781166076659,
          4.956326103210448,
          5.197721290588378,
          4.738462257385254,
          4.84014720916748,
          4.947231864929199,
          4.988781166076659,
          4.848900413513182,
          5.016063880920409,
          4.8536180496215815,
          4.750057411193848,
          5.245750236511229,
          4.921085929870604,
          4.912560081481933,
          4.716806602478028,
          4.679236030578613,
          4.694412040710449,
          5.16776714324951,
          4.956326103210448,
          4.956326103210448,
          4.776203346252441,
          4.967011833190917,
          4.869248771667479,
          4.9656476974487305,
          4.712998390197753,
          4.956326103210448,
          5.402284812927246,
          4.901760673522949,
          4.904602622985839,
          4.90716037750244,
          5.425475120544433,
          5.420757484436035,
          5.616681480407714,
          4.955587196350096,
          5.584283256530762,
          5.347719383239746,
          5.191525840759277,
          5.104334831237792,
          4.949505424499511,
          5.227391242980955,
          5.663403129577637,
          4.912560081481933,
          5.870865440368651,
          4.676848793029785,
          5.649136543273925,
          7.633158302307129,
          5.383471107482911,
          7.633158302307129,
          5.383471107482911,
          4.537763786315918,
          6.766022682189941,
          5.215966606140136,
          5.112178611755371,
          5.2942907333374025,
          5.200392723083495,
          5.210794258117674,
          5.867852973937987,
          5.4915788650512685,
          4.890847587585449,
          5.326063728332519,
          6.130278587341309,
          5.164527320861815,
          6.001765632629394,
          5.115304756164551,
          5.110757637023925,
          5.466967582702637,
          5.583089637756348,
          4.7237977981567365,
          4.862314414978028,
          4.795187568664551,
          4.821560859680175,
          4.770689964294434,
          4.950187492370604,
          4.60682315826416,
          4.917732429504394,
          4.840772438049315,
          4.767506980895996,
          5.0926828384399405,
          4.880218696594238,
          4.881810188293457,
          4.876637840270996,
          4.860893440246582,
          4.761993598937988,
          4.364689064025879,
          4.9423437118530265,
          4.962976264953612,
          5.079041481018065,
          4.880218696594238,
          4.774611854553222,
          5.029989433288574,
          4.9572355270385735,
          4.741020011901855,
          4.750057411193848,
          4.876637840270996,
          4.716749763488769,
          5.172825813293455,
          4.950187492370604,
          4.885732078552246,
          4.519859504699707,
          5.173507881164549,
          5.388757133483887,
          4.758867454528808,
          4.880218696594238,
          4.651043891906738,
          4.764494514465332,
          4.6660493850708,
          4.933363151550291,
          5.254673957824706,
          5.063979148864745,
          4.656102561950684,
          5.160946464538573,
          4.817525291442871,
          4.803883934020996,
          4.615235328674316,
          5.637370872497558,
          4.747215461730956,
          4.79962100982666,
          4.744941902160644,
          4.884879493713378,
          4.582041358947754,
          5.393758964538574,
          4.800018882751465,
          4.764494514465332,
          5.000831031799316,
          4.60864200592041,
          5.040277290344237,
          4.960645866394042,
          4.955644035339354,
          5.817777824401856,
          5.659879112243652,
          4.719307518005371,
          4.8354295730590815,
          5.222275733947753,
          5.171859550476073,
          5.225856590270994,
          4.895565223693848,
          5.021918296813964,
          5.245693397521971,
          4.839578819274903,
          4.9966249465942365,
          5.055339622497558,
          5.559671974182128,
          4.7567644119262695,
          4.880218696594238,
          4.656329917907715,
          5.771851921081542,
          4.9576333999633775
         ],
         "yaxis": "y"
        },
        {
         "hovertemplate": "Foldseek Cluster=25<br>Length (Amino Acids)=%{x}<br>Isoelectric Point=%{y}<extra></extra>",
         "legendgroup": "25",
         "marker": {
          "color": "#AA0DFE",
          "symbol": "circle"
         },
         "mode": "markers",
         "name": "25",
         "orientation": "v",
         "showlegend": true,
         "type": "scatter",
         "x": [
          259
         ],
         "xaxis": "x",
         "y": [
          4.671108055114746
         ],
         "yaxis": "y"
        },
        {
         "hovertemplate": "Foldseek Cluster=26<br>Length (Amino Acids)=%{x}<br>Isoelectric Point=%{y}<extra></extra>",
         "legendgroup": "26",
         "marker": {
          "color": "#FA0087",
          "symbol": "circle"
         },
         "mode": "markers",
         "name": "26",
         "orientation": "v",
         "showlegend": true,
         "type": "scatter",
         "x": [
          432,
          457,
          477,
          457,
          457,
          477,
          477,
          477,
          427,
          427,
          408,
          477,
          405,
          457,
          457,
          460,
          477,
          477,
          457,
          427,
          403,
          477,
          405,
          445,
          477,
          406,
          457,
          456,
          423,
          477,
          432,
          428,
          457,
          371,
          360,
          402,
          445,
          466,
          461,
          468,
          450,
          419,
          477,
          433,
          451,
          442,
          446,
          405,
          457,
          466,
          458,
          446
         ],
         "xaxis": "x",
         "y": [
          5.707680702209472,
          6.6389875411987305,
          5.998071098327636,
          6.6389875411987305,
          6.6389875411987305,
          5.998071098327636,
          6.21673069000244,
          5.998071098327636,
          5.481177330017089,
          5.481177330017089,
          6.1035074234008775,
          5.998071098327636,
          6.962060356140137,
          6.6389875411987305,
          6.6389875411987305,
          5.343342781066894,
          5.998071098327636,
          5.911505317687988,
          6.6389875411987305,
          5.400011253356933,
          6.909541130065918,
          5.998071098327636,
          6.962060356140137,
          5.288208961486816,
          5.998071098327636,
          5.402000617980956,
          6.6389875411987305,
          5.913437843322753,
          5.81845989227295,
          5.998071098327636,
          6.009779930114745,
          6.01171245574951,
          5.826701545715332,
          5.358461952209471,
          5.45281467437744,
          6.538837242126465,
          5.300940895080566,
          6.569928169250488,
          5.48686122894287,
          5.303726005554199,
          5.997161674499511,
          5.009072685241699,
          6.216332817077636,
          5.841991233825683,
          4.951665306091308,
          4.789333152770996,
          4.831735038757324,
          4.955473518371581,
          5.874275779724121,
          5.883711051940917,
          6.100267601013182,
          4.966613960266113
         ],
         "yaxis": "y"
        },
        {
         "hovertemplate": "Foldseek Cluster=27<br>Length (Amino Acids)=%{x}<br>Isoelectric Point=%{y}<extra></extra>",
         "legendgroup": "27",
         "marker": {
          "color": "#FBE426",
          "symbol": "circle"
         },
         "mode": "markers",
         "name": "27",
         "orientation": "v",
         "showlegend": true,
         "type": "scatter",
         "x": [
          503
         ],
         "xaxis": "x",
         "y": [
          9.299129295349118
         ],
         "yaxis": "y"
        },
        {
         "hovertemplate": "Foldseek Cluster=28<br>Length (Amino Acids)=%{x}<br>Isoelectric Point=%{y}<extra></extra>",
         "legendgroup": "28",
         "marker": {
          "color": "#B00068",
          "symbol": "circle"
         },
         "mode": "markers",
         "name": "28",
         "orientation": "v",
         "showlegend": true,
         "type": "scatter",
         "x": [
          386,
          412,
          421,
          421,
          421,
          368,
          405,
          327,
          310,
          393,
          390,
          310,
          412,
          393,
          347,
          421,
          412,
          342,
          362,
          332,
          362,
          412,
          334,
          388,
          324,
          310,
          414,
          310,
          310,
          389,
          368,
          360,
          310,
          310,
          309,
          393,
          445,
          445,
          314,
          397,
          408,
          389,
          309,
          402,
          320,
          381,
          402,
          404,
          389
         ],
         "xaxis": "x",
         "y": [
          5.632141685485839,
          5.467592811584471,
          5.624127388000488,
          5.719957923889161,
          5.719957923889161,
          5.640667533874511,
          5.637711906433105,
          8.819742393493652,
          5.304919624328612,
          5.607303047180175,
          5.996763801574706,
          5.685286140441894,
          5.467592811584471,
          5.333282279968262,
          5.570585060119628,
          5.719957923889161,
          5.467592811584471,
          4.90716037750244,
          5.009186363220214,
          6.101574897766112,
          5.5097673416137685,
          5.496637535095213,
          5.317537879943848,
          5.48271198272705,
          4.8304845809936525,
          5.364827919006348,
          5.816584205627441,
          5.450541114807128,
          5.231313133239746,
          5.0663663864135735,
          5.414221000671386,
          5.740874671936036,
          5.872115898132324,
          5.844492149353028,
          5.738203239440918,
          4.884254264831543,
          5.365339469909667,
          5.293438148498535,
          5.334475898742675,
          4.766199684143066,
          5.667609214782716,
          4.5470853805542,
          5.340273475646971,
          6.973087120056152,
          5.348799324035644,
          4.883344841003418,
          6.102427482604979,
          5.901842689514161,
          4.408682441711425
         ],
         "yaxis": "y"
        },
        {
         "hovertemplate": "Foldseek Cluster=29<br>Length (Amino Acids)=%{x}<br>Isoelectric Point=%{y}<extra></extra>",
         "legendgroup": "29",
         "marker": {
          "color": "#FC1CBF",
          "symbol": "circle"
         },
         "mode": "markers",
         "name": "29",
         "orientation": "v",
         "showlegend": true,
         "type": "scatter",
         "x": [
          316,
          388,
          320
         ],
         "xaxis": "x",
         "y": [
          7.668000602722168,
          6.276070594787597,
          5.370796012878418
         ],
         "yaxis": "y"
        },
        {
         "hovertemplate": "Foldseek Cluster=30<br>Length (Amino Acids)=%{x}<br>Isoelectric Point=%{y}<extra></extra>",
         "legendgroup": "30",
         "marker": {
          "color": "#C075A6",
          "symbol": "circle"
         },
         "mode": "markers",
         "name": "30",
         "orientation": "v",
         "showlegend": true,
         "type": "scatter",
         "x": [
          359
         ],
         "xaxis": "x",
         "y": [
          8.97465991973877
         ],
         "yaxis": "y"
        },
        {
         "hovertemplate": "Foldseek Cluster=31<br>Length (Amino Acids)=%{x}<br>Isoelectric Point=%{y}<extra></extra>",
         "legendgroup": "31",
         "marker": {
          "color": "#B10DA1",
          "symbol": "circle"
         },
         "mode": "markers",
         "name": "31",
         "orientation": "v",
         "showlegend": true,
         "type": "scatter",
         "x": [
          94
         ],
         "xaxis": "x",
         "y": [
          4.7555139541625975
         ],
         "yaxis": "y"
        },
        {
         "hovertemplate": "Foldseek Cluster=32<br>Length (Amino Acids)=%{x}<br>Isoelectric Point=%{y}<extra></extra>",
         "legendgroup": "32",
         "marker": {
          "color": "#2ED9FF",
          "symbol": "circle"
         },
         "mode": "markers",
         "name": "32",
         "orientation": "v",
         "showlegend": true,
         "type": "scatter",
         "x": [
          336,
          369,
          379,
          336,
          367,
          338,
          354,
          336,
          341,
          356,
          358,
          352,
          351,
          358,
          361,
          340,
          372,
          371,
          354,
          364,
          359,
          355,
          346,
          347,
          316,
          330,
          337,
          366,
          354,
          345,
          343,
          313
         ],
         "xaxis": "x",
         "y": [
          5.1385519027709945,
          4.975765037536621,
          5.012255668640137,
          5.17998752593994,
          9.19675350189209,
          4.792970848083496,
          8.625305747985841,
          4.871351814270019,
          4.8511171340942365,
          5.144690513610839,
          5.158331871032714,
          5.34658260345459,
          5.093649101257324,
          5.097855186462401,
          5.23455295562744,
          4.896247291564941,
          5.038231086730956,
          5.310660362243652,
          5.32293758392334,
          5.1665166854858375,
          5.031183052062987,
          5.413027381896971,
          5.287697410583495,
          4.946379280090332,
          5.574791145324705,
          4.716920280456542,
          4.705040931701659,
          5.368465614318848,
          5.085066413879393,
          5.554101753234862,
          5.22000217437744,
          5.147873497009276
         ],
         "yaxis": "y"
        },
        {
         "hovertemplate": "Foldseek Cluster=33<br>Length (Amino Acids)=%{x}<br>Isoelectric Point=%{y}<extra></extra>",
         "legendgroup": "33",
         "marker": {
          "color": "#1CFFCE",
          "symbol": "circle"
         },
         "mode": "markers",
         "name": "33",
         "orientation": "v",
         "showlegend": true,
         "type": "scatter",
         "x": [
          709
         ],
         "xaxis": "x",
         "y": [
          4.475809288024903
         ],
         "yaxis": "y"
        },
        {
         "hovertemplate": "Foldseek Cluster=34<br>Length (Amino Acids)=%{x}<br>Isoelectric Point=%{y}<extra></extra>",
         "legendgroup": "34",
         "marker": {
          "color": "#F6222E",
          "symbol": "circle"
         },
         "mode": "markers",
         "name": "34",
         "orientation": "v",
         "showlegend": true,
         "type": "scatter",
         "x": [
          480
         ],
         "xaxis": "x",
         "y": [
          4.163933753967284
         ],
         "yaxis": "y"
        },
        {
         "hovertemplate": "Foldseek Cluster=35<br>Length (Amino Acids)=%{x}<br>Isoelectric Point=%{y}<extra></extra>",
         "legendgroup": "35",
         "marker": {
          "color": "#90AD1C",
          "symbol": "circle"
         },
         "mode": "markers",
         "name": "35",
         "orientation": "v",
         "showlegend": true,
         "type": "scatter",
         "x": [
          388
         ],
         "xaxis": "x",
         "y": [
          5.923725700378417
         ],
         "yaxis": "y"
        },
        {
         "hovertemplate": "Foldseek Cluster=36<br>Length (Amino Acids)=%{x}<br>Isoelectric Point=%{y}<extra></extra>",
         "legendgroup": "36",
         "marker": {
          "color": "#F8A19F",
          "symbol": "circle"
         },
         "mode": "markers",
         "name": "36",
         "orientation": "v",
         "showlegend": true,
         "type": "scatter",
         "x": [
          300,
          310,
          310
         ],
         "xaxis": "x",
         "y": [
          7.003098106384278,
          5.324983787536621,
          5.457361793518066
         ],
         "yaxis": "y"
        },
        {
         "hovertemplate": "Foldseek Cluster=37<br>Length (Amino Acids)=%{x}<br>Isoelectric Point=%{y}<extra></extra>",
         "legendgroup": "37",
         "marker": {
          "color": "#FEAF16",
          "symbol": "circle"
         },
         "mode": "markers",
         "name": "37",
         "orientation": "v",
         "showlegend": true,
         "type": "scatter",
         "x": [
          849
         ],
         "xaxis": "x",
         "y": [
          7.548752403259278
         ],
         "yaxis": "y"
        },
        {
         "hovertemplate": "Foldseek Cluster=38<br>Length (Amino Acids)=%{x}<br>Isoelectric Point=%{y}<extra></extra>",
         "legendgroup": "38",
         "marker": {
          "color": "#325A9B",
          "symbol": "circle"
         },
         "mode": "markers",
         "name": "38",
         "orientation": "v",
         "showlegend": true,
         "type": "scatter",
         "x": [
          268
         ],
         "xaxis": "x",
         "y": [
          4.7278902053833
         ],
         "yaxis": "y"
        },
        {
         "hovertemplate": "Foldseek Cluster=39<br>Length (Amino Acids)=%{x}<br>Isoelectric Point=%{y}<extra></extra>",
         "legendgroup": "39",
         "marker": {
          "color": "#FE00FA",
          "symbol": "circle"
         },
         "mode": "markers",
         "name": "39",
         "orientation": "v",
         "showlegend": true,
         "type": "scatter",
         "x": [
          222,
          246
         ],
         "xaxis": "x",
         "y": [
          5.689946937561035,
          5.411890602111816
         ],
         "yaxis": "y"
        },
        {
         "hovertemplate": "Foldseek Cluster=40<br>Length (Amino Acids)=%{x}<br>Isoelectric Point=%{y}<extra></extra>",
         "legendgroup": "40",
         "marker": {
          "color": "#DEA0FD",
          "symbol": "circle"
         },
         "mode": "markers",
         "name": "40",
         "orientation": "v",
         "showlegend": true,
         "type": "scatter",
         "x": [
          439
         ],
         "xaxis": "x",
         "y": [
          4.767450141906737
         ],
         "yaxis": "y"
        },
        {
         "hovertemplate": "Foldseek Cluster=41<br>Length (Amino Acids)=%{x}<br>Isoelectric Point=%{y}<extra></extra>",
         "legendgroup": "41",
         "marker": {
          "color": "#C4451C",
          "symbol": "circle"
         },
         "mode": "markers",
         "name": "41",
         "orientation": "v",
         "showlegend": true,
         "type": "scatter",
         "x": [
          265
         ],
         "xaxis": "x",
         "y": [
          5.33981876373291
         ],
         "yaxis": "y"
        },
        {
         "hovertemplate": "Foldseek Cluster=42<br>Length (Amino Acids)=%{x}<br>Isoelectric Point=%{y}<extra></extra>",
         "legendgroup": "42",
         "marker": {
          "color": "#1CBE4F",
          "symbol": "circle"
         },
         "mode": "markers",
         "name": "42",
         "orientation": "v",
         "showlegend": true,
         "type": "scatter",
         "x": [
          256,
          268,
          230,
          230,
          243,
          259,
          232,
          218,
          263,
          236,
          216,
          266,
          234,
          228,
          256,
          266,
          239,
          305,
          240,
          211,
          245,
          232,
          232,
          232,
          241,
          236,
          231,
          243,
          243,
          216,
          246
         ],
         "xaxis": "x",
         "y": [
          5.047439002990722,
          8.61363697052002,
          5.009697914123534,
          5.40609302520752,
          6.190982627868652,
          7.014352226257324,
          5.905650901794433,
          4.397883033752441,
          5.994774436950683,
          5.449631690979003,
          4.530715751647949,
          5.972038841247559,
          6.803536415100097,
          5.655843544006348,
          5.987499046325683,
          4.940581703186035,
          6.9403478622436525,
          7.727624702453612,
          6.149092292785644,
          4.507184410095214,
          5.283946037292479,
          8.762301063537599,
          5.983463478088378,
          5.983463478088378,
          6.180069541931151,
          6.178762245178221,
          6.7975683212280265,
          5.283548164367674,
          7.016171073913574,
          4.334905433654787,
          7.5817758560180675
         ],
         "yaxis": "y"
        },
        {
         "hovertemplate": "Foldseek Cluster=43<br>Length (Amino Acids)=%{x}<br>Isoelectric Point=%{y}<extra></extra>",
         "legendgroup": "43",
         "marker": {
          "color": "#E2E2E2",
          "symbol": "circle"
         },
         "mode": "markers",
         "name": "43",
         "orientation": "v",
         "showlegend": true,
         "type": "scatter",
         "x": [
          643,
          637,
          588,
          797,
          749
         ],
         "xaxis": "x",
         "y": [
          4.604094886779785,
          5.4331483840942365,
          5.226424980163573,
          5.415812492370605,
          4.948937034606933
         ],
         "yaxis": "y"
        },
        {
         "hovertemplate": "Foldseek Cluster=44<br>Length (Amino Acids)=%{x}<br>Isoelectric Point=%{y}<extra></extra>",
         "legendgroup": "44",
         "marker": {
          "color": "#F7E1A0",
          "symbol": "circle"
         },
         "mode": "markers",
         "name": "44",
         "orientation": "v",
         "showlegend": true,
         "type": "scatter",
         "x": [
          351
         ],
         "xaxis": "x",
         "y": [
          6.065538978576659
         ],
         "yaxis": "y"
        },
        {
         "hovertemplate": "Foldseek Cluster=45<br>Length (Amino Acids)=%{x}<br>Isoelectric Point=%{y}<extra></extra>",
         "legendgroup": "45",
         "marker": {
          "color": "#16FF32",
          "symbol": "circle"
         },
         "mode": "markers",
         "name": "45",
         "orientation": "v",
         "showlegend": true,
         "type": "scatter",
         "x": [
          394,
          354,
          349
         ],
         "xaxis": "x",
         "y": [
          4.519518470764161,
          8.664824867248537,
          4.490587425231933
         ],
         "yaxis": "y"
        },
        {
         "hovertemplate": "Foldseek Cluster=46<br>Length (Amino Acids)=%{x}<br>Isoelectric Point=%{y}<extra></extra>",
         "legendgroup": "46",
         "marker": {
          "color": "#1C8356",
          "symbol": "circle"
         },
         "mode": "markers",
         "name": "46",
         "orientation": "v",
         "showlegend": true,
         "type": "scatter",
         "x": [
          681
         ],
         "xaxis": "x",
         "y": [
          5.140939140319824
         ],
         "yaxis": "y"
        },
        {
         "hovertemplate": "Foldseek Cluster=47<br>Length (Amino Acids)=%{x}<br>Isoelectric Point=%{y}<extra></extra>",
         "legendgroup": "47",
         "marker": {
          "color": "#565656",
          "symbol": "circle"
         },
         "mode": "markers",
         "name": "47",
         "orientation": "v",
         "showlegend": true,
         "type": "scatter",
         "x": [
          432
         ],
         "xaxis": "x",
         "y": [
          4.6193845748901365
         ],
         "yaxis": "y"
        },
        {
         "hovertemplate": "Foldseek Cluster=48<br>Length (Amino Acids)=%{x}<br>Isoelectric Point=%{y}<extra></extra>",
         "legendgroup": "48",
         "marker": {
          "color": "#782AB6",
          "symbol": "circle"
         },
         "mode": "markers",
         "name": "48",
         "orientation": "v",
         "showlegend": true,
         "type": "scatter",
         "x": [
          325,
          287,
          302
         ],
         "xaxis": "x",
         "y": [
          5.244613456726074,
          8.272470283508301,
          4.706802940368651
         ],
         "yaxis": "y"
        },
        {
         "hovertemplate": "Foldseek Cluster=49<br>Length (Amino Acids)=%{x}<br>Isoelectric Point=%{y}<extra></extra>",
         "legendgroup": "49",
         "marker": {
          "color": "#85660D",
          "symbol": "circle"
         },
         "mode": "markers",
         "name": "49",
         "orientation": "v",
         "showlegend": true,
         "type": "scatter",
         "x": [
          392,
          395
         ],
         "xaxis": "x",
         "y": [
          5.86364688873291,
          9.458817481994632
         ],
         "yaxis": "y"
        },
        {
         "hovertemplate": "Foldseek Cluster=50<br>Length (Amino Acids)=%{x}<br>Isoelectric Point=%{y}<extra></extra>",
         "legendgroup": "50",
         "marker": {
          "color": "#3283FE",
          "symbol": "circle"
         },
         "mode": "markers",
         "name": "50",
         "orientation": "v",
         "showlegend": true,
         "type": "scatter",
         "x": [
          362
         ],
         "xaxis": "x",
         "y": [
          9.081806373596194
         ],
         "yaxis": "y"
        },
        {
         "hovertemplate": "Foldseek Cluster=51<br>Length (Amino Acids)=%{x}<br>Isoelectric Point=%{y}<extra></extra>",
         "legendgroup": "51",
         "marker": {
          "color": "#AA0DFE",
          "symbol": "circle"
         },
         "mode": "markers",
         "name": "51",
         "orientation": "v",
         "showlegend": true,
         "type": "scatter",
         "x": [
          341,
          294,
          331,
          315
         ],
         "xaxis": "x",
         "y": [
          5.458157539367675,
          5.167369270324705,
          5.474868202209472,
          5.018451118469237
         ],
         "yaxis": "y"
        },
        {
         "hovertemplate": "Foldseek Cluster=52<br>Length (Amino Acids)=%{x}<br>Isoelectric Point=%{y}<extra></extra>",
         "legendgroup": "52",
         "marker": {
          "color": "#FA0087",
          "symbol": "circle"
         },
         "mode": "markers",
         "name": "52",
         "orientation": "v",
         "showlegend": true,
         "type": "scatter",
         "x": [
          819
         ],
         "xaxis": "x",
         "y": [
          5.023907661437988
         ],
         "yaxis": "y"
        },
        {
         "hovertemplate": "Foldseek Cluster=53<br>Length (Amino Acids)=%{x}<br>Isoelectric Point=%{y}<extra></extra>",
         "legendgroup": "53",
         "marker": {
          "color": "#FBE426",
          "symbol": "circle"
         },
         "mode": "markers",
         "name": "53",
         "orientation": "v",
         "showlegend": true,
         "type": "scatter",
         "x": [
          393
         ],
         "xaxis": "x",
         "y": [
          4.690376472473144
         ],
         "yaxis": "y"
        },
        {
         "hovertemplate": "Foldseek Cluster=54<br>Length (Amino Acids)=%{x}<br>Isoelectric Point=%{y}<extra></extra>",
         "legendgroup": "54",
         "marker": {
          "color": "#B00068",
          "symbol": "circle"
         },
         "mode": "markers",
         "name": "54",
         "orientation": "v",
         "showlegend": true,
         "type": "scatter",
         "x": [
          459,
          469,
          488,
          465,
          466,
          501,
          469,
          466,
          466
         ],
         "xaxis": "x",
         "y": [
          4.632514381408691,
          4.868225669860839,
          4.681054878234862,
          4.849070930480956,
          4.855039024353027,
          5.227220726013182,
          4.898236656188964,
          4.8997713088989245,
          4.855039024353027
         ],
         "yaxis": "y"
        },
        {
         "hovertemplate": "Foldseek Cluster=55<br>Length (Amino Acids)=%{x}<br>Isoelectric Point=%{y}<extra></extra>",
         "legendgroup": "55",
         "marker": {
          "color": "#FC1CBF",
          "symbol": "circle"
         },
         "mode": "markers",
         "name": "55",
         "orientation": "v",
         "showlegend": true,
         "type": "scatter",
         "x": [
          340,
          417,
          281,
          408,
          411,
          417,
          407,
          403,
          393,
          303,
          394,
          390,
          392,
          291,
          388,
          416,
          388,
          388,
          388,
          387,
          392,
          391,
          302,
          395,
          388,
          397,
          388,
          302,
          370,
          383,
          405,
          301,
          383,
          388,
          392,
          397,
          388,
          392,
          373,
          395,
          387,
          395,
          388,
          423,
          278,
          397,
          383,
          394,
          395,
          397,
          394,
          282,
          302,
          387,
          394,
          293,
          391,
          394,
          279,
          388,
          390,
          392,
          276,
          391,
          303,
          397,
          340,
          392,
          390,
          398,
          391,
          391,
          387,
          303,
          388
         ],
         "xaxis": "x",
         "y": [
          4.930464363098143,
          6.471767234802246,
          4.912673759460449,
          6.269875144958497,
          6.553672218322753,
          5.5584215164184565,
          6.481145668029785,
          6.662632560729982,
          5.376025199890138,
          4.738462257385254,
          5.2288122177124015,
          6.264873313903809,
          5.033001899719238,
          5.184250450134276,
          5.376593589782716,
          4.510594749450684,
          5.204996681213378,
          5.29355182647705,
          5.131560707092285,
          5.372330665588379,
          5.024532890319825,
          4.979289054870605,
          4.739428520202637,
          5.253821372985839,
          5.354426383972168,
          5.5032876968383775,
          5.354426383972168,
          4.7815462112426745,
          4.681793785095214,
          4.816615867614746,
          9.129319572448733,
          4.878570365905762,
          4.919267082214354,
          5.550236701965332,
          4.971217918395996,
          5.438889122009278,
          5.354426383972168,
          5.033001899719238,
          5.278375816345213,
          5.113997459411621,
          5.447869682312012,
          5.253821372985839,
          5.1577066421508775,
          5.795496940612793,
          5.123773765563963,
          5.438889122009278,
          4.88226490020752,
          5.480836296081542,
          5.217558097839355,
          5.5032876968383775,
          5.354710578918457,
          4.497976493835449,
          4.6379709243774405,
          5.352948570251464,
          5.4808931350708,
          4.971388435363769,
          5.483394050598144,
          5.639019203186035,
          4.80951099395752,
          5.277239036560058,
          4.728231239318848,
          5.16492519378662,
          5.265871238708496,
          5.321857643127441,
          4.7191370010375975,
          5.62094440460205,
          4.930464363098143,
          5.351413917541504,
          5.108313560485839,
          5.088647270202636,
          5.321857643127441,
          5.321857643127441,
          5.708817481994629,
          5.485099220275878,
          5.0589204788208
         ],
         "yaxis": "y"
        },
        {
         "hovertemplate": "Foldseek Cluster=56<br>Length (Amino Acids)=%{x}<br>Isoelectric Point=%{y}<extra></extra>",
         "legendgroup": "56",
         "marker": {
          "color": "#C075A6",
          "symbol": "circle"
         },
         "mode": "markers",
         "name": "56",
         "orientation": "v",
         "showlegend": true,
         "type": "scatter",
         "x": [
          708
         ],
         "xaxis": "x",
         "y": [
          4.930180168151854
         ],
         "yaxis": "y"
        },
        {
         "hovertemplate": "Foldseek Cluster=57<br>Length (Amino Acids)=%{x}<br>Isoelectric Point=%{y}<extra></extra>",
         "legendgroup": "57",
         "marker": {
          "color": "#B10DA1",
          "symbol": "circle"
         },
         "mode": "markers",
         "name": "57",
         "orientation": "v",
         "showlegend": true,
         "type": "scatter",
         "x": [
          675
         ],
         "xaxis": "x",
         "y": [
          4.9940103530883775
         ],
         "yaxis": "y"
        },
        {
         "hovertemplate": "Foldseek Cluster=58<br>Length (Amino Acids)=%{x}<br>Isoelectric Point=%{y}<extra></extra>",
         "legendgroup": "58",
         "marker": {
          "color": "#2ED9FF",
          "symbol": "circle"
         },
         "mode": "markers",
         "name": "58",
         "orientation": "v",
         "showlegend": true,
         "type": "scatter",
         "x": [
          363
         ],
         "xaxis": "x",
         "y": [
          4.753013038635253
         ],
         "yaxis": "y"
        },
        {
         "hovertemplate": "Foldseek Cluster=59<br>Length (Amino Acids)=%{x}<br>Isoelectric Point=%{y}<extra></extra>",
         "legendgroup": "59",
         "marker": {
          "color": "#1CFFCE",
          "symbol": "circle"
         },
         "mode": "markers",
         "name": "59",
         "orientation": "v",
         "showlegend": true,
         "type": "scatter",
         "x": [
          286
         ],
         "xaxis": "x",
         "y": [
          5.077904701232909
         ],
         "yaxis": "y"
        },
        {
         "hovertemplate": "Foldseek Cluster=60<br>Length (Amino Acids)=%{x}<br>Isoelectric Point=%{y}<extra></extra>",
         "legendgroup": "60",
         "marker": {
          "color": "#F6222E",
          "symbol": "circle"
         },
         "mode": "markers",
         "name": "60",
         "orientation": "v",
         "showlegend": true,
         "type": "scatter",
         "x": [
          130
         ],
         "xaxis": "x",
         "y": [
          7.899843025207519
         ],
         "yaxis": "y"
        },
        {
         "hovertemplate": "Foldseek Cluster=61<br>Length (Amino Acids)=%{x}<br>Isoelectric Point=%{y}<extra></extra>",
         "legendgroup": "61",
         "marker": {
          "color": "#90AD1C",
          "symbol": "circle"
         },
         "mode": "markers",
         "name": "61",
         "orientation": "v",
         "showlegend": true,
         "type": "scatter",
         "x": [
          403,
          365,
          369,
          335,
          368,
          368,
          368
         ],
         "xaxis": "x",
         "y": [
          4.78404712677002,
          4.59045352935791,
          5.272805595397949,
          5.4097307205200185,
          5.7773653030395495,
          6.097255134582518,
          5.396941947937012
         ],
         "yaxis": "y"
        }
       ],
       "layout": {
        "font": {
         "size": 20
        },
        "height": 700,
        "legend": {
         "title": {
          "text": "Foldseek Cluster"
         },
         "tracegroupgap": 0
        },
        "margin": {
         "t": 60
        },
        "template": {
         "data": {
          "bar": [
           {
            "error_x": {
             "color": "#2a3f5f"
            },
            "error_y": {
             "color": "#2a3f5f"
            },
            "marker": {
             "line": {
              "color": "white",
              "width": 0.5
             },
             "pattern": {
              "fillmode": "overlay",
              "size": 10,
              "solidity": 0.2
             }
            },
            "type": "bar"
           }
          ],
          "barpolar": [
           {
            "marker": {
             "line": {
              "color": "white",
              "width": 0.5
             },
             "pattern": {
              "fillmode": "overlay",
              "size": 10,
              "solidity": 0.2
             }
            },
            "type": "barpolar"
           }
          ],
          "carpet": [
           {
            "aaxis": {
             "endlinecolor": "#2a3f5f",
             "gridcolor": "#C8D4E3",
             "linecolor": "#C8D4E3",
             "minorgridcolor": "#C8D4E3",
             "startlinecolor": "#2a3f5f"
            },
            "baxis": {
             "endlinecolor": "#2a3f5f",
             "gridcolor": "#C8D4E3",
             "linecolor": "#C8D4E3",
             "minorgridcolor": "#C8D4E3",
             "startlinecolor": "#2a3f5f"
            },
            "type": "carpet"
           }
          ],
          "choropleth": [
           {
            "colorbar": {
             "outlinewidth": 0,
             "ticks": ""
            },
            "type": "choropleth"
           }
          ],
          "contour": [
           {
            "colorbar": {
             "outlinewidth": 0,
             "ticks": ""
            },
            "colorscale": [
             [
              0,
              "#0d0887"
             ],
             [
              0.1111111111111111,
              "#46039f"
             ],
             [
              0.2222222222222222,
              "#7201a8"
             ],
             [
              0.3333333333333333,
              "#9c179e"
             ],
             [
              0.4444444444444444,
              "#bd3786"
             ],
             [
              0.5555555555555556,
              "#d8576b"
             ],
             [
              0.6666666666666666,
              "#ed7953"
             ],
             [
              0.7777777777777778,
              "#fb9f3a"
             ],
             [
              0.8888888888888888,
              "#fdca26"
             ],
             [
              1,
              "#f0f921"
             ]
            ],
            "type": "contour"
           }
          ],
          "contourcarpet": [
           {
            "colorbar": {
             "outlinewidth": 0,
             "ticks": ""
            },
            "type": "contourcarpet"
           }
          ],
          "heatmap": [
           {
            "colorbar": {
             "outlinewidth": 0,
             "ticks": ""
            },
            "colorscale": [
             [
              0,
              "#0d0887"
             ],
             [
              0.1111111111111111,
              "#46039f"
             ],
             [
              0.2222222222222222,
              "#7201a8"
             ],
             [
              0.3333333333333333,
              "#9c179e"
             ],
             [
              0.4444444444444444,
              "#bd3786"
             ],
             [
              0.5555555555555556,
              "#d8576b"
             ],
             [
              0.6666666666666666,
              "#ed7953"
             ],
             [
              0.7777777777777778,
              "#fb9f3a"
             ],
             [
              0.8888888888888888,
              "#fdca26"
             ],
             [
              1,
              "#f0f921"
             ]
            ],
            "type": "heatmap"
           }
          ],
          "heatmapgl": [
           {
            "colorbar": {
             "outlinewidth": 0,
             "ticks": ""
            },
            "colorscale": [
             [
              0,
              "#0d0887"
             ],
             [
              0.1111111111111111,
              "#46039f"
             ],
             [
              0.2222222222222222,
              "#7201a8"
             ],
             [
              0.3333333333333333,
              "#9c179e"
             ],
             [
              0.4444444444444444,
              "#bd3786"
             ],
             [
              0.5555555555555556,
              "#d8576b"
             ],
             [
              0.6666666666666666,
              "#ed7953"
             ],
             [
              0.7777777777777778,
              "#fb9f3a"
             ],
             [
              0.8888888888888888,
              "#fdca26"
             ],
             [
              1,
              "#f0f921"
             ]
            ],
            "type": "heatmapgl"
           }
          ],
          "histogram": [
           {
            "marker": {
             "pattern": {
              "fillmode": "overlay",
              "size": 10,
              "solidity": 0.2
             }
            },
            "type": "histogram"
           }
          ],
          "histogram2d": [
           {
            "colorbar": {
             "outlinewidth": 0,
             "ticks": ""
            },
            "colorscale": [
             [
              0,
              "#0d0887"
             ],
             [
              0.1111111111111111,
              "#46039f"
             ],
             [
              0.2222222222222222,
              "#7201a8"
             ],
             [
              0.3333333333333333,
              "#9c179e"
             ],
             [
              0.4444444444444444,
              "#bd3786"
             ],
             [
              0.5555555555555556,
              "#d8576b"
             ],
             [
              0.6666666666666666,
              "#ed7953"
             ],
             [
              0.7777777777777778,
              "#fb9f3a"
             ],
             [
              0.8888888888888888,
              "#fdca26"
             ],
             [
              1,
              "#f0f921"
             ]
            ],
            "type": "histogram2d"
           }
          ],
          "histogram2dcontour": [
           {
            "colorbar": {
             "outlinewidth": 0,
             "ticks": ""
            },
            "colorscale": [
             [
              0,
              "#0d0887"
             ],
             [
              0.1111111111111111,
              "#46039f"
             ],
             [
              0.2222222222222222,
              "#7201a8"
             ],
             [
              0.3333333333333333,
              "#9c179e"
             ],
             [
              0.4444444444444444,
              "#bd3786"
             ],
             [
              0.5555555555555556,
              "#d8576b"
             ],
             [
              0.6666666666666666,
              "#ed7953"
             ],
             [
              0.7777777777777778,
              "#fb9f3a"
             ],
             [
              0.8888888888888888,
              "#fdca26"
             ],
             [
              1,
              "#f0f921"
             ]
            ],
            "type": "histogram2dcontour"
           }
          ],
          "mesh3d": [
           {
            "colorbar": {
             "outlinewidth": 0,
             "ticks": ""
            },
            "type": "mesh3d"
           }
          ],
          "parcoords": [
           {
            "line": {
             "colorbar": {
              "outlinewidth": 0,
              "ticks": ""
             }
            },
            "type": "parcoords"
           }
          ],
          "pie": [
           {
            "automargin": true,
            "type": "pie"
           }
          ],
          "scatter": [
           {
            "fillpattern": {
             "fillmode": "overlay",
             "size": 10,
             "solidity": 0.2
            },
            "type": "scatter"
           }
          ],
          "scatter3d": [
           {
            "line": {
             "colorbar": {
              "outlinewidth": 0,
              "ticks": ""
             }
            },
            "marker": {
             "colorbar": {
              "outlinewidth": 0,
              "ticks": ""
             }
            },
            "type": "scatter3d"
           }
          ],
          "scattercarpet": [
           {
            "marker": {
             "colorbar": {
              "outlinewidth": 0,
              "ticks": ""
             }
            },
            "type": "scattercarpet"
           }
          ],
          "scattergeo": [
           {
            "marker": {
             "colorbar": {
              "outlinewidth": 0,
              "ticks": ""
             }
            },
            "type": "scattergeo"
           }
          ],
          "scattergl": [
           {
            "marker": {
             "colorbar": {
              "outlinewidth": 0,
              "ticks": ""
             }
            },
            "type": "scattergl"
           }
          ],
          "scattermapbox": [
           {
            "marker": {
             "colorbar": {
              "outlinewidth": 0,
              "ticks": ""
             }
            },
            "type": "scattermapbox"
           }
          ],
          "scatterpolar": [
           {
            "marker": {
             "colorbar": {
              "outlinewidth": 0,
              "ticks": ""
             }
            },
            "type": "scatterpolar"
           }
          ],
          "scatterpolargl": [
           {
            "marker": {
             "colorbar": {
              "outlinewidth": 0,
              "ticks": ""
             }
            },
            "type": "scatterpolargl"
           }
          ],
          "scatterternary": [
           {
            "marker": {
             "colorbar": {
              "outlinewidth": 0,
              "ticks": ""
             }
            },
            "type": "scatterternary"
           }
          ],
          "surface": [
           {
            "colorbar": {
             "outlinewidth": 0,
             "ticks": ""
            },
            "colorscale": [
             [
              0,
              "#0d0887"
             ],
             [
              0.1111111111111111,
              "#46039f"
             ],
             [
              0.2222222222222222,
              "#7201a8"
             ],
             [
              0.3333333333333333,
              "#9c179e"
             ],
             [
              0.4444444444444444,
              "#bd3786"
             ],
             [
              0.5555555555555556,
              "#d8576b"
             ],
             [
              0.6666666666666666,
              "#ed7953"
             ],
             [
              0.7777777777777778,
              "#fb9f3a"
             ],
             [
              0.8888888888888888,
              "#fdca26"
             ],
             [
              1,
              "#f0f921"
             ]
            ],
            "type": "surface"
           }
          ],
          "table": [
           {
            "cells": {
             "fill": {
              "color": "#EBF0F8"
             },
             "line": {
              "color": "white"
             }
            },
            "header": {
             "fill": {
              "color": "#C8D4E3"
             },
             "line": {
              "color": "white"
             }
            },
            "type": "table"
           }
          ]
         },
         "layout": {
          "annotationdefaults": {
           "arrowcolor": "#2a3f5f",
           "arrowhead": 0,
           "arrowwidth": 1
          },
          "autotypenumbers": "strict",
          "coloraxis": {
           "colorbar": {
            "outlinewidth": 0,
            "ticks": ""
           }
          },
          "colorscale": {
           "diverging": [
            [
             0,
             "#8e0152"
            ],
            [
             0.1,
             "#c51b7d"
            ],
            [
             0.2,
             "#de77ae"
            ],
            [
             0.3,
             "#f1b6da"
            ],
            [
             0.4,
             "#fde0ef"
            ],
            [
             0.5,
             "#f7f7f7"
            ],
            [
             0.6,
             "#e6f5d0"
            ],
            [
             0.7,
             "#b8e186"
            ],
            [
             0.8,
             "#7fbc41"
            ],
            [
             0.9,
             "#4d9221"
            ],
            [
             1,
             "#276419"
            ]
           ],
           "sequential": [
            [
             0,
             "#0d0887"
            ],
            [
             0.1111111111111111,
             "#46039f"
            ],
            [
             0.2222222222222222,
             "#7201a8"
            ],
            [
             0.3333333333333333,
             "#9c179e"
            ],
            [
             0.4444444444444444,
             "#bd3786"
            ],
            [
             0.5555555555555556,
             "#d8576b"
            ],
            [
             0.6666666666666666,
             "#ed7953"
            ],
            [
             0.7777777777777778,
             "#fb9f3a"
            ],
            [
             0.8888888888888888,
             "#fdca26"
            ],
            [
             1,
             "#f0f921"
            ]
           ],
           "sequentialminus": [
            [
             0,
             "#0d0887"
            ],
            [
             0.1111111111111111,
             "#46039f"
            ],
            [
             0.2222222222222222,
             "#7201a8"
            ],
            [
             0.3333333333333333,
             "#9c179e"
            ],
            [
             0.4444444444444444,
             "#bd3786"
            ],
            [
             0.5555555555555556,
             "#d8576b"
            ],
            [
             0.6666666666666666,
             "#ed7953"
            ],
            [
             0.7777777777777778,
             "#fb9f3a"
            ],
            [
             0.8888888888888888,
             "#fdca26"
            ],
            [
             1,
             "#f0f921"
            ]
           ]
          },
          "colorway": [
           "#636efa",
           "#EF553B",
           "#00cc96",
           "#ab63fa",
           "#FFA15A",
           "#19d3f3",
           "#FF6692",
           "#B6E880",
           "#FF97FF",
           "#FECB52"
          ],
          "font": {
           "color": "#2a3f5f"
          },
          "geo": {
           "bgcolor": "white",
           "lakecolor": "white",
           "landcolor": "white",
           "showlakes": true,
           "showland": true,
           "subunitcolor": "#C8D4E3"
          },
          "hoverlabel": {
           "align": "left"
          },
          "hovermode": "closest",
          "mapbox": {
           "style": "light"
          },
          "paper_bgcolor": "white",
          "plot_bgcolor": "white",
          "polar": {
           "angularaxis": {
            "gridcolor": "#EBF0F8",
            "linecolor": "#EBF0F8",
            "ticks": ""
           },
           "bgcolor": "white",
           "radialaxis": {
            "gridcolor": "#EBF0F8",
            "linecolor": "#EBF0F8",
            "ticks": ""
           }
          },
          "scene": {
           "xaxis": {
            "backgroundcolor": "white",
            "gridcolor": "#DFE8F3",
            "gridwidth": 2,
            "linecolor": "#EBF0F8",
            "showbackground": true,
            "ticks": "",
            "zerolinecolor": "#EBF0F8"
           },
           "yaxis": {
            "backgroundcolor": "white",
            "gridcolor": "#DFE8F3",
            "gridwidth": 2,
            "linecolor": "#EBF0F8",
            "showbackground": true,
            "ticks": "",
            "zerolinecolor": "#EBF0F8"
           },
           "zaxis": {
            "backgroundcolor": "white",
            "gridcolor": "#DFE8F3",
            "gridwidth": 2,
            "linecolor": "#EBF0F8",
            "showbackground": true,
            "ticks": "",
            "zerolinecolor": "#EBF0F8"
           }
          },
          "shapedefaults": {
           "line": {
            "color": "#2a3f5f"
           }
          },
          "ternary": {
           "aaxis": {
            "gridcolor": "#DFE8F3",
            "linecolor": "#A2B1C6",
            "ticks": ""
           },
           "baxis": {
            "gridcolor": "#DFE8F3",
            "linecolor": "#A2B1C6",
            "ticks": ""
           },
           "bgcolor": "white",
           "caxis": {
            "gridcolor": "#DFE8F3",
            "linecolor": "#A2B1C6",
            "ticks": ""
           }
          },
          "title": {
           "x": 0.05
          },
          "xaxis": {
           "automargin": true,
           "gridcolor": "#EBF0F8",
           "linecolor": "#EBF0F8",
           "ticks": "",
           "title": {
            "standoff": 15
           },
           "zerolinecolor": "#EBF0F8",
           "zerolinewidth": 2
          },
          "yaxis": {
           "automargin": true,
           "gridcolor": "#EBF0F8",
           "linecolor": "#EBF0F8",
           "ticks": "",
           "title": {
            "standoff": 15
           },
           "zerolinecolor": "#EBF0F8",
           "zerolinewidth": 2
          }
         }
        },
        "width": 1400,
        "xaxis": {
         "anchor": "y",
         "domain": [
          0,
          1
         ],
         "range": [
          200,
          600
         ],
         "title": {
          "text": "Length (Amino Acids)"
         }
        },
        "yaxis": {
         "anchor": "x",
         "domain": [
          0,
          1
         ],
         "title": {
          "text": "Isoelectric Point"
         }
        }
       }
      },
      "text/html": [
       "<div>                            <div id=\"89a577c6-f3d8-4802-aeb4-9062053a12f9\" class=\"plotly-graph-div\" style=\"height:700px; width:1400px;\"></div>            <script type=\"text/javascript\">                require([\"plotly\"], function(Plotly) {                    window.PLOTLYENV=window.PLOTLYENV || {};                                    if (document.getElementById(\"89a577c6-f3d8-4802-aeb4-9062053a12f9\")) {                    Plotly.newPlot(                        \"89a577c6-f3d8-4802-aeb4-9062053a12f9\",                        [{\"hovertemplate\":\"Foldseek Cluster=0<br>Length (Amino Acids)=%{x}<br>Isoelectric Point=%{y}<extra></extra>\",\"legendgroup\":\"0\",\"marker\":{\"color\":\"#FA0087\",\"symbol\":\"circle\"},\"mode\":\"markers\",\"name\":\"0\",\"orientation\":\"v\",\"showlegend\":true,\"x\":[367,409],\"xaxis\":\"x\",\"y\":[4.71800022125244,9.324723243713382],\"yaxis\":\"y\",\"type\":\"scatter\"},{\"hovertemplate\":\"Foldseek Cluster=1<br>Length (Amino Acids)=%{x}<br>Isoelectric Point=%{y}<extra></extra>\",\"legendgroup\":\"1\",\"marker\":{\"color\":\"#FBE426\",\"symbol\":\"circle\"},\"mode\":\"markers\",\"name\":\"1\",\"orientation\":\"v\",\"showlegend\":true,\"x\":[283,272,328,331],\"xaxis\":\"x\",\"y\":[5.408196067810058,5.413936805725096,5.252855110168456,5.079723548889159],\"yaxis\":\"y\",\"type\":\"scatter\"},{\"hovertemplate\":\"Foldseek Cluster=2<br>Length (Amino Acids)=%{x}<br>Isoelectric Point=%{y}<extra></extra>\",\"legendgroup\":\"2\",\"marker\":{\"color\":\"#B00068\",\"symbol\":\"circle\"},\"mode\":\"markers\",\"name\":\"2\",\"orientation\":\"v\",\"showlegend\":true,\"x\":[463],\"xaxis\":\"x\",\"y\":[4.544925498962402],\"yaxis\":\"y\",\"type\":\"scatter\"},{\"hovertemplate\":\"Foldseek Cluster=3<br>Length (Amino Acids)=%{x}<br>Isoelectric Point=%{y}<extra></extra>\",\"legendgroup\":\"3\",\"marker\":{\"color\":\"#FC1CBF\",\"symbol\":\"circle\"},\"mode\":\"markers\",\"name\":\"3\",\"orientation\":\"v\",\"showlegend\":true,\"x\":[267,307,264,315,264,272,307,308,312,300,312,269,266,329,264,300,264,265,267,266,269,264,264,264,268,280,265,307,325,268,267,301,310,309,302,271,271,275,301,331,329,271,329,307,279,264,299,264,270,273,272,271,300,269,322,315,314,302,329,278,268,287],\"xaxis\":\"x\",\"y\":[4.9991258621215815,5.279057884216308,4.779158973693847,5.575132179260252,4.686397743225096,4.9576333999633775,4.9576333999633775,5.009982109069824,5.3966577529907225,5.265416526794433,5.0896703720092775,5.402000617980956,4.483766746520996,4.646780967712403,4.750057411193848,5.265416526794433,4.7217515945434565,4.9607027053833,4.9032384872436525,4.662241172790528,4.470295906066894,5.213977241516112,4.731357383728027,5.333907508850097,4.641779136657715,4.313761329650879,4.763187217712402,5.123034858703612,5.578485679626463,5.31304759979248,5.093364906311035,5.115929985046387,5.124057960510252,5.318163108825684,4.98019847869873,5.021236228942871,5.100924491882323,4.97917537689209,4.869248771667479,4.592386054992676,4.496498680114747,4.823948097229004,4.6921384811401365,5.443322563171387,4.617906761169433,4.844182777404785,5.71813907623291,5.569505119323729,5.254276084899902,5.274283409118652,4.808544731140137,5.175724601745604,5.997389030456542,5.01919002532959,4.746476554870605,5.391940116882325,5.391940116882325,4.788992118835449,4.61796360015869,6.177398109436035,4.780693626403808,5.825678443908691],\"yaxis\":\"y\",\"type\":\"scatter\"},{\"hovertemplate\":\"Foldseek Cluster=4<br>Length (Amino Acids)=%{x}<br>Isoelectric Point=%{y}<extra></extra>\",\"legendgroup\":\"4\",\"marker\":{\"color\":\"#C075A6\",\"symbol\":\"circle\"},\"mode\":\"markers\",\"name\":\"4\",\"orientation\":\"v\",\"showlegend\":true,\"x\":[375,375],\"xaxis\":\"x\",\"y\":[9.41974964141846,9.465393257141116],\"yaxis\":\"y\",\"type\":\"scatter\"},{\"hovertemplate\":\"Foldseek Cluster=5<br>Length (Amino Acids)=%{x}<br>Isoelectric Point=%{y}<extra></extra>\",\"legendgroup\":\"5\",\"marker\":{\"color\":\"#B10DA1\",\"symbol\":\"circle\"},\"mode\":\"markers\",\"name\":\"5\",\"orientation\":\"v\",\"showlegend\":true,\"x\":[343],\"xaxis\":\"x\",\"y\":[5.138438224792479],\"yaxis\":\"y\",\"type\":\"scatter\"},{\"hovertemplate\":\"Foldseek Cluster=6<br>Length (Amino Acids)=%{x}<br>Isoelectric Point=%{y}<extra></extra>\",\"legendgroup\":\"6\",\"marker\":{\"color\":\"#2ED9FF\",\"symbol\":\"circle\"},\"mode\":\"markers\",\"name\":\"6\",\"orientation\":\"v\",\"showlegend\":true,\"x\":[375],\"xaxis\":\"x\",\"y\":[5.535515403747558],\"yaxis\":\"y\",\"type\":\"scatter\"},{\"hovertemplate\":\"Foldseek Cluster=7<br>Length (Amino Acids)=%{x}<br>Isoelectric Point=%{y}<extra></extra>\",\"legendgroup\":\"7\",\"marker\":{\"color\":\"#1CFFCE\",\"symbol\":\"circle\"},\"mode\":\"markers\",\"name\":\"7\",\"orientation\":\"v\",\"showlegend\":true,\"x\":[349],\"xaxis\":\"x\",\"y\":[5.884279441833496],\"yaxis\":\"y\",\"type\":\"scatter\"},{\"hovertemplate\":\"Foldseek Cluster=8<br>Length (Amino Acids)=%{x}<br>Isoelectric Point=%{y}<extra></extra>\",\"legendgroup\":\"8\",\"marker\":{\"color\":\"#F6222E\",\"symbol\":\"circle\"},\"mode\":\"markers\",\"name\":\"8\",\"orientation\":\"v\",\"showlegend\":true,\"x\":[418],\"xaxis\":\"x\",\"y\":[4.990997886657714],\"yaxis\":\"y\",\"type\":\"scatter\"},{\"hovertemplate\":\"Foldseek Cluster=9<br>Length (Amino Acids)=%{x}<br>Isoelectric Point=%{y}<extra></extra>\",\"legendgroup\":\"9\",\"marker\":{\"color\":\"#90AD1C\",\"symbol\":\"circle\"},\"mode\":\"markers\",\"name\":\"9\",\"orientation\":\"v\",\"showlegend\":true,\"x\":[616],\"xaxis\":\"x\",\"y\":[8.14624118804932],\"yaxis\":\"y\",\"type\":\"scatter\"},{\"hovertemplate\":\"Foldseek Cluster=10<br>Length (Amino Acids)=%{x}<br>Isoelectric Point=%{y}<extra></extra>\",\"legendgroup\":\"10\",\"marker\":{\"color\":\"#F8A19F\",\"symbol\":\"circle\"},\"mode\":\"markers\",\"name\":\"10\",\"orientation\":\"v\",\"showlegend\":true,\"x\":[434,424,349,366,348,349,349,368,350,368,368,349,388,351,391,505,352,348,353,361,362,353,369,466,451,505,376,359,516,352,392,392,425,389],\"xaxis\":\"x\",\"y\":[5.252343559265136,6.469834709167479,6.248162651062012,5.49595546722412,5.095922660827636,6.248162651062012,6.248162651062012,5.163958930969237,4.707541847229003,5.640667533874511,5.82079029083252,5.917643928527832,5.108881950378417,5.363520622253417,5.000603675842284,5.115304756164551,4.890279197692871,5.375968360900879,5.149749183654785,5.284571266174315,5.049485206604003,4.96956958770752,6.14164638519287,4.933135795593261,5.41723346710205,5.0625581741333,4.980027961730956,5.000433158874511,4.958542823791503,4.729822731018066,4.921370124816893,5.214772987365721,4.904261589050292,5.110587120056152],\"yaxis\":\"y\",\"type\":\"scatter\"},{\"hovertemplate\":\"Foldseek Cluster=11<br>Length (Amino Acids)=%{x}<br>Isoelectric Point=%{y}<extra></extra>\",\"legendgroup\":\"11\",\"marker\":{\"color\":\"#FEAF16\",\"symbol\":\"circle\"},\"mode\":\"markers\",\"name\":\"11\",\"orientation\":\"v\",\"showlegend\":true,\"x\":[595],\"xaxis\":\"x\",\"y\":[4.928077125549315],\"yaxis\":\"y\",\"type\":\"scatter\"},{\"hovertemplate\":\"Foldseek Cluster=12<br>Length (Amino Acids)=%{x}<br>Isoelectric Point=%{y}<extra></extra>\",\"legendgroup\":\"12\",\"marker\":{\"color\":\"#325A9B\",\"symbol\":\"circle\"},\"mode\":\"markers\",\"name\":\"12\",\"orientation\":\"v\",\"showlegend\":true,\"x\":[291,291,291],\"xaxis\":\"x\",\"y\":[5.762757682800292,5.767816352844237,5.762757682800292],\"yaxis\":\"y\",\"type\":\"scatter\"},{\"hovertemplate\":\"Foldseek Cluster=13<br>Length (Amino Acids)=%{x}<br>Isoelectric Point=%{y}<extra></extra>\",\"legendgroup\":\"13\",\"marker\":{\"color\":\"#FE00FA\",\"symbol\":\"circle\"},\"mode\":\"markers\",\"name\":\"13\",\"orientation\":\"v\",\"showlegend\":true,\"x\":[316],\"xaxis\":\"x\",\"y\":[5.341182899475096],\"yaxis\":\"y\",\"type\":\"scatter\"},{\"hovertemplate\":\"Foldseek Cluster=14<br>Length (Amino Acids)=%{x}<br>Isoelectric Point=%{y}<extra></extra>\",\"legendgroup\":\"14\",\"marker\":{\"color\":\"#DEA0FD\",\"symbol\":\"circle\"},\"mode\":\"markers\",\"name\":\"14\",\"orientation\":\"v\",\"showlegend\":true,\"x\":[272],\"xaxis\":\"x\",\"y\":[6.863046836853028],\"yaxis\":\"y\",\"type\":\"scatter\"},{\"hovertemplate\":\"Foldseek Cluster=15<br>Length (Amino Acids)=%{x}<br>Isoelectric Point=%{y}<extra></extra>\",\"legendgroup\":\"15\",\"marker\":{\"color\":\"#C4451C\",\"symbol\":\"circle\"},\"mode\":\"markers\",\"name\":\"15\",\"orientation\":\"v\",\"showlegend\":true,\"x\":[283],\"xaxis\":\"x\",\"y\":[5.982497215270995],\"yaxis\":\"y\",\"type\":\"scatter\"},{\"hovertemplate\":\"Foldseek Cluster=16<br>Length (Amino Acids)=%{x}<br>Isoelectric Point=%{y}<extra></extra>\",\"legendgroup\":\"16\",\"marker\":{\"color\":\"#1CBE4F\",\"symbol\":\"circle\"},\"mode\":\"markers\",\"name\":\"16\",\"orientation\":\"v\",\"showlegend\":true,\"x\":[443,446,443,443,448,443,446,443,443,443,414,439,443,404,448],\"xaxis\":\"x\",\"y\":[4.916766166687012,4.771769905090332,5.288493156433105,4.916766166687012,9.640424919128415,5.223241996765136,4.4691591262817365,5.093421745300293,4.916766166687012,5.223241996765136,5.791745567321779,6.293292808532715,4.752274131774903,5.230119514465331,5.267690086364746],\"yaxis\":\"y\",\"type\":\"scatter\"},{\"hovertemplate\":\"Foldseek Cluster=17<br>Length (Amino Acids)=%{x}<br>Isoelectric Point=%{y}<extra></extra>\",\"legendgroup\":\"17\",\"marker\":{\"color\":\"#E2E2E2\",\"symbol\":\"circle\"},\"mode\":\"markers\",\"name\":\"17\",\"orientation\":\"v\",\"showlegend\":true,\"x\":[479],\"xaxis\":\"x\",\"y\":[5.38034496307373],\"yaxis\":\"y\",\"type\":\"scatter\"},{\"hovertemplate\":\"Foldseek Cluster=18<br>Length (Amino Acids)=%{x}<br>Isoelectric Point=%{y}<extra></extra>\",\"legendgroup\":\"18\",\"marker\":{\"color\":\"#F7E1A0\",\"symbol\":\"circle\"},\"mode\":\"markers\",\"name\":\"18\",\"orientation\":\"v\",\"showlegend\":true,\"x\":[476,469,484,477,418,485,457],\"xaxis\":\"x\",\"y\":[5.464637184143067,6.415382957458497,6.160573768615721,6.102711677551268,4.782000923156737,5.375911521911622,6.21491184234619],\"yaxis\":\"y\",\"type\":\"scatter\"},{\"hovertemplate\":\"Foldseek Cluster=19<br>Length (Amino Acids)=%{x}<br>Isoelectric Point=%{y}<extra></extra>\",\"legendgroup\":\"19\",\"marker\":{\"color\":\"#16FF32\",\"symbol\":\"circle\"},\"mode\":\"markers\",\"name\":\"19\",\"orientation\":\"v\",\"showlegend\":true,\"x\":[369,343,332,308,302,299,310,331,399,305,347,325,313,336,412,302,341,308,368,310,368,302,302],\"xaxis\":\"x\",\"y\":[5.049939918518065,4.839010429382324,7.58717555999756,4.801383018493653,4.710213279724121,5.132981681823729,7.606841850280762,5.529604148864746,5.180214881896972,4.541060447692872,5.064377021789549,4.882321739196779,6.102484321594236,5.302020835876465,5.270134162902831,4.845490074157714,4.90716037750244,4.969399070739747,5.186353492736815,7.602465248107911,5.252855110168456,4.845490074157714,4.710213279724121],\"yaxis\":\"y\",\"type\":\"scatter\"},{\"hovertemplate\":\"Foldseek Cluster=20<br>Length (Amino Acids)=%{x}<br>Isoelectric Point=%{y}<extra></extra>\",\"legendgroup\":\"20\",\"marker\":{\"color\":\"#1C8356\",\"symbol\":\"circle\"},\"mode\":\"markers\",\"name\":\"20\",\"orientation\":\"v\",\"showlegend\":true,\"x\":[450,361,388,443,530,501,493,490,501,443,501,490,490,443,501,494,517,501,443,501,494,496,517,494,448,393,444,411,501,501,485,369,501,484,484,503,484,490,492,436,484,511,485,500,505,506,485,372],\"xaxis\":\"x\",\"y\":[4.703165245056151,6.256461143493653,5.519543647766112,4.867032051086425,9.182763862609864,5.364543724060058,5.21113529205322,5.264904975891112,5.21113529205322,4.890279197692871,5.304237556457519,5.336465263366699,5.460885810852051,4.890279197692871,5.508516883850096,5.259448432922363,5.1577066421508775,5.364543724060058,4.900339698791503,5.4473581314086905,5.323790168762207,5.005832862854004,5.361474418640137,5.383812141418457,5.200392723083495,5.000944709777832,6.140282249450683,6.217640113830566,5.301054573059082,5.612134361267089,5.102629661560058,6.09356060028076,5.508516883850096,5.058295249938964,5.024078178405762,5.337431526184082,5.121954917907714,5.393645286560059,4.960930061340331,5.37932186126709,5.095581626892089,6.286472129821779,5.289516258239746,5.314241218566894,4.682021141052245,5.291391944885253,5.2453523635864245,4.77648754119873],\"yaxis\":\"y\",\"type\":\"scatter\"},{\"hovertemplate\":\"Foldseek Cluster=21<br>Length (Amino Acids)=%{x}<br>Isoelectric Point=%{y}<extra></extra>\",\"legendgroup\":\"21\",\"marker\":{\"color\":\"#565656\",\"symbol\":\"circle\"},\"mode\":\"markers\",\"name\":\"21\",\"orientation\":\"v\",\"showlegend\":true,\"x\":[328,321],\"xaxis\":\"x\",\"y\":[4.687761878967284,4.560499382019044],\"yaxis\":\"y\",\"type\":\"scatter\"},{\"hovertemplate\":\"Foldseek Cluster=22<br>Length (Amino Acids)=%{x}<br>Isoelectric Point=%{y}<extra></extra>\",\"legendgroup\":\"22\",\"marker\":{\"color\":\"#782AB6\",\"symbol\":\"circle\"},\"mode\":\"markers\",\"name\":\"22\",\"orientation\":\"v\",\"showlegend\":true,\"x\":[182,221,210,217,218],\"xaxis\":\"x\",\"y\":[4.42260799407959,5.539323616027831,5.770999336242675,5.574847984313963,4.813489723205566],\"yaxis\":\"y\",\"type\":\"scatter\"},{\"hovertemplate\":\"Foldseek Cluster=23<br>Length (Amino Acids)=%{x}<br>Isoelectric Point=%{y}<extra></extra>\",\"legendgroup\":\"23\",\"marker\":{\"color\":\"#85660D\",\"symbol\":\"circle\"},\"mode\":\"markers\",\"name\":\"23\",\"orientation\":\"v\",\"showlegend\":true,\"x\":[397],\"xaxis\":\"x\",\"y\":[5.0338544845581055],\"yaxis\":\"y\",\"type\":\"scatter\"},{\"hovertemplate\":\"Foldseek Cluster=24<br>Length (Amino Acids)=%{x}<br>Isoelectric Point=%{y}<extra></extra>\",\"legendgroup\":\"24\",\"marker\":{\"color\":\"#3283FE\",\"symbol\":\"circle\"},\"mode\":\"markers\",\"name\":\"24\",\"orientation\":\"v\",\"showlegend\":true,\"x\":[319,324,272,263,307,327,322,278,304,302,314,321,300,270,302,324,278,329,305,283,321,265,270,302,302,302,270,319,338,276,277,265,314,320,302,306,306,270,342,260,270,281,303,350,315,297,304,302,306,308,270,301,321,303,306,327,305,269,350,329,267,306,322,271,270,263,271,310,305,303,302,308,303,327,348,355,302,302,292,263,302,355,276,302,307,292,302,297,305,292,352,352,307,349,275,331,302,302,346,317,294,305,350,305,303,302,302,302,302,294,294,307,303,303,305,313,303,302,286,302,302,302,335,312,302,303,305,302,287,389,302,303,302,312,269,310,274,306,350,343,283,331,335,301,302,316,320,261,268,268,268,281,284,320,261,281,306,302,382,306,272,308,303,302,320,302,303,302,303,294,306,304,305,302,319,352,303,308,304,302,314,301,303,303,357,305,303,302,301,305,302,312,307,302,366,301,350,305,295,303,302,303,346,301,302,302,301,291,302,304,305,282,301,305,303,302,303,302,300,270,302,302,301,302,303,323,353,315,303,312,314,303,303,319,300,305,302,331,303,305,312,302,289,350,305,303,303,300,303,302,303,302,305,302,305,301,302,307,344,301,293,305,306,303,284,281,318,351,305,302,301,300,337,306,324,302,292,315,305,302,305,303,303,303,269,302,301,301,302,306,343,288,303,315,302,306,302,305,302,297,302,296,302,302,305,313,348,305,342,329,329,320,269,267,320,302,304,303,319,360,305,354,290,304,320,321,320,321,325,333,265,264,274,265,264,320,308,283,289,310,363,318,279,306,306,310,302,302,303,302,301,305,303,302,303,302,313,303,302,301,301,302,320,361,301,303,303,301,303,318,318,306,304,302,323,305,304,305,348,279,302,303,303,302,302,331,323,302,333,343,303,302,303,335,303,305,302,303,302,339,299,302,269,350,331,297,307,287,273,302,303,304,348,313,302,269,305,340,304,320,323,300,303,323,342,352],\"xaxis\":\"x\",\"y\":[5.1192834854125975,5.791461372375489,5.330951881408691,4.681111717224121,4.931260108947753,8.819742393493652,4.9215406417846665,5.220059013366698,4.79183406829834,8.146112251281739,6.6642240524292005,5.041527748107909,4.689467048645019,4.869248771667479,8.157523155212402,6.351439094543457,4.74636287689209,5.425475120544433,4.904602622985839,5.077393150329589,6.003072929382324,4.638198280334472,5.321743965148925,5.388643455505371,7.509192466735841,4.739428520202637,5.43883228302002,7.624348258972168,5.498172187805174,4.694809913635253,5.270702552795409,4.648145103454591,6.76062297821045,5.867852973937987,5.098537254333496,5.646124076843263,5.88700771331787,4.9077856063842775,4.90716037750244,4.898122978210449,4.869248771667479,5.425134086608886,4.84014720916748,4.7013463973999015,5.05266819000244,5.137983512878416,4.85026454925537,4.780579948425292,5.653399467468262,4.615349006652831,4.869248771667479,4.823379707336425,6.043428611755371,9.267797660827636,5.88700771331787,8.819742393493652,5.822893333435059,4.964681434631348,4.741815757751465,5.418995475769043,5.210566902160643,5.653399467468262,4.9215406417846665,5.20727024078369,4.980425834655762,4.681111717224121,5.3135591506958,5.577064704895019,4.956326103210448,4.84014720916748,4.803940773010253,4.932396888732909,4.84014720916748,5.115702629089356,4.6895238876342775,4.883742713928222,4.85026454925537,4.989576911926269,4.546175956726075,4.762505149841308,4.693843650817871,4.936489295959471,5.4840192794799805,4.900567054748534,4.798995780944825,4.9741735458374015,4.789276313781738,5.589285087585449,5.090750312805175,4.900851249694824,4.588918876647949,4.5470853805542,4.783592414855956,4.8977251052856445,4.898805046081542,4.553394508361817,4.980312156677246,4.744430351257324,4.782626152038574,5.364145851135253,5.123034858703612,4.412320137023926,4.723002052307128,4.965420341491699,5.00463924407959,4.772736167907715,4.7815462112426745,4.772736167907715,4.752956199645996,5.132640647888183,5.360053443908691,4.898464012145996,4.789276313781738,4.84014720916748,4.956326103210448,4.927110862731933,4.821049308776855,4.893007469177246,5.526023292541503,4.772736167907715,4.956326103210448,5.062217140197753,4.776942253112793,4.797745323181153,4.772736167907715,5.387051963806152,4.955132484436034,4.704529380798339,6.1950181961059565,5.007822227478028,4.870158195495605,4.687761878967284,4.846115303039549,4.638368797302246,4.962180519104003,5.539494132995604,4.946549797058105,4.633537483215332,5.826076316833496,5.402796363830566,5.473163032531737,5.824769020080566,5.410526466369628,5.118374061584471,5.805614280700683,5.382050132751465,5.370796012878418,5.365055274963378,5.077734184265136,4.965988731384278,4.958258628845214,4.910968589782715,5.036412239074706,5.874162101745605,5.584396934509278,5.117691993713378,5.653399467468262,5.258311653137207,5.350561332702637,5.653399467468262,6.303694343566895,5.030216789245605,6.106008338928221,4.706291389465331,5.131105995178221,4.861632347106934,4.792118263244629,4.906535148620605,4.790356254577637,4.956326103210448,5.024078178405762,4.687761878967284,4.904602622985839,4.803940773010253,4.957065010070799,4.634219551086425,4.876637840270996,4.901646995544433,4.735677146911621,4.808260536193848,4.760231590270995,4.767506980895996,4.969399070739747,4.959452247619628,4.950642204284667,4.5394689559936525,4.701289558410643,4.962237358093262,4.803940773010253,4.998216438293456,4.808260536193848,4.783592414855956,4.891984367370605,4.674291038513183,5.289288902282714,4.877831459045409,4.781887245178221,5.105585289001463,4.638141441345215,4.747272300720215,4.711179542541504,5.195731925964354,4.641267585754394,4.713737297058105,4.651043891906738,4.686284065246581,4.783308219909667,4.9854845046997065,5.047097969055175,4.953995704650878,4.904602622985839,5.045051765441894,4.995317649841308,4.955132484436034,4.884879493713378,4.651043891906738,5.054032325744628,4.780807304382324,4.716749763488769,4.753297233581542,4.670028114318847,4.861632347106934,5.107176780700683,5.188797569274901,4.813432884216309,5.880755424499512,4.986052894592285,5.045620155334471,4.769723701477051,4.732323646545409,5.808001518249512,4.738462257385254,4.696571922302245,5.153159523010252,4.808260536193848,4.904602622985839,5.015154457092284,4.553394508361817,4.783308219909667,4.904602622985839,4.867714118957519,5.089727210998535,4.921029090881347,4.714476203918457,5.090750312805175,4.794221305847168,5.190275382995604,4.738462257385254,4.687761878967284,4.624386405944825,4.973093605041503,4.722717857360839,4.903977394104003,5.203518867492675,4.956326103210448,5.117578315734862,4.873909568786621,4.7815462112426745,5.415073585510252,4.971899986267089,4.717602348327636,4.89550838470459,4.92898654937744,4.686966133117674,4.886584663391113,5.899739646911621,5.16566410064697,4.662923240661621,4.956326103210448,5.031978797912598,4.889710807800292,4.865838432312012,4.650361824035645,4.73806438446045,4.707769203186035,4.967011833190917,4.717374992370605,5.4331483840942365,4.973150444030761,4.988781166076659,4.956326103210448,5.197721290588378,4.738462257385254,4.84014720916748,4.947231864929199,4.988781166076659,4.848900413513182,5.016063880920409,4.8536180496215815,4.750057411193848,5.245750236511229,4.921085929870604,4.912560081481933,4.716806602478028,4.679236030578613,4.694412040710449,5.16776714324951,4.956326103210448,4.956326103210448,4.776203346252441,4.967011833190917,4.869248771667479,4.9656476974487305,4.712998390197753,4.956326103210448,5.402284812927246,4.901760673522949,4.904602622985839,4.90716037750244,5.425475120544433,5.420757484436035,5.616681480407714,4.955587196350096,5.584283256530762,5.347719383239746,5.191525840759277,5.104334831237792,4.949505424499511,5.227391242980955,5.663403129577637,4.912560081481933,5.870865440368651,4.676848793029785,5.649136543273925,7.633158302307129,5.383471107482911,7.633158302307129,5.383471107482911,4.537763786315918,6.766022682189941,5.215966606140136,5.112178611755371,5.2942907333374025,5.200392723083495,5.210794258117674,5.867852973937987,5.4915788650512685,4.890847587585449,5.326063728332519,6.130278587341309,5.164527320861815,6.001765632629394,5.115304756164551,5.110757637023925,5.466967582702637,5.583089637756348,4.7237977981567365,4.862314414978028,4.795187568664551,4.821560859680175,4.770689964294434,4.950187492370604,4.60682315826416,4.917732429504394,4.840772438049315,4.767506980895996,5.0926828384399405,4.880218696594238,4.881810188293457,4.876637840270996,4.860893440246582,4.761993598937988,4.364689064025879,4.9423437118530265,4.962976264953612,5.079041481018065,4.880218696594238,4.774611854553222,5.029989433288574,4.9572355270385735,4.741020011901855,4.750057411193848,4.876637840270996,4.716749763488769,5.172825813293455,4.950187492370604,4.885732078552246,4.519859504699707,5.173507881164549,5.388757133483887,4.758867454528808,4.880218696594238,4.651043891906738,4.764494514465332,4.6660493850708,4.933363151550291,5.254673957824706,5.063979148864745,4.656102561950684,5.160946464538573,4.817525291442871,4.803883934020996,4.615235328674316,5.637370872497558,4.747215461730956,4.79962100982666,4.744941902160644,4.884879493713378,4.582041358947754,5.393758964538574,4.800018882751465,4.764494514465332,5.000831031799316,4.60864200592041,5.040277290344237,4.960645866394042,4.955644035339354,5.817777824401856,5.659879112243652,4.719307518005371,4.8354295730590815,5.222275733947753,5.171859550476073,5.225856590270994,4.895565223693848,5.021918296813964,5.245693397521971,4.839578819274903,4.9966249465942365,5.055339622497558,5.559671974182128,4.7567644119262695,4.880218696594238,4.656329917907715,5.771851921081542,4.9576333999633775],\"yaxis\":\"y\",\"type\":\"scatter\"},{\"hovertemplate\":\"Foldseek Cluster=25<br>Length (Amino Acids)=%{x}<br>Isoelectric Point=%{y}<extra></extra>\",\"legendgroup\":\"25\",\"marker\":{\"color\":\"#AA0DFE\",\"symbol\":\"circle\"},\"mode\":\"markers\",\"name\":\"25\",\"orientation\":\"v\",\"showlegend\":true,\"x\":[259],\"xaxis\":\"x\",\"y\":[4.671108055114746],\"yaxis\":\"y\",\"type\":\"scatter\"},{\"hovertemplate\":\"Foldseek Cluster=26<br>Length (Amino Acids)=%{x}<br>Isoelectric Point=%{y}<extra></extra>\",\"legendgroup\":\"26\",\"marker\":{\"color\":\"#FA0087\",\"symbol\":\"circle\"},\"mode\":\"markers\",\"name\":\"26\",\"orientation\":\"v\",\"showlegend\":true,\"x\":[432,457,477,457,457,477,477,477,427,427,408,477,405,457,457,460,477,477,457,427,403,477,405,445,477,406,457,456,423,477,432,428,457,371,360,402,445,466,461,468,450,419,477,433,451,442,446,405,457,466,458,446],\"xaxis\":\"x\",\"y\":[5.707680702209472,6.6389875411987305,5.998071098327636,6.6389875411987305,6.6389875411987305,5.998071098327636,6.21673069000244,5.998071098327636,5.481177330017089,5.481177330017089,6.1035074234008775,5.998071098327636,6.962060356140137,6.6389875411987305,6.6389875411987305,5.343342781066894,5.998071098327636,5.911505317687988,6.6389875411987305,5.400011253356933,6.909541130065918,5.998071098327636,6.962060356140137,5.288208961486816,5.998071098327636,5.402000617980956,6.6389875411987305,5.913437843322753,5.81845989227295,5.998071098327636,6.009779930114745,6.01171245574951,5.826701545715332,5.358461952209471,5.45281467437744,6.538837242126465,5.300940895080566,6.569928169250488,5.48686122894287,5.303726005554199,5.997161674499511,5.009072685241699,6.216332817077636,5.841991233825683,4.951665306091308,4.789333152770996,4.831735038757324,4.955473518371581,5.874275779724121,5.883711051940917,6.100267601013182,4.966613960266113],\"yaxis\":\"y\",\"type\":\"scatter\"},{\"hovertemplate\":\"Foldseek Cluster=27<br>Length (Amino Acids)=%{x}<br>Isoelectric Point=%{y}<extra></extra>\",\"legendgroup\":\"27\",\"marker\":{\"color\":\"#FBE426\",\"symbol\":\"circle\"},\"mode\":\"markers\",\"name\":\"27\",\"orientation\":\"v\",\"showlegend\":true,\"x\":[503],\"xaxis\":\"x\",\"y\":[9.299129295349118],\"yaxis\":\"y\",\"type\":\"scatter\"},{\"hovertemplate\":\"Foldseek Cluster=28<br>Length (Amino Acids)=%{x}<br>Isoelectric Point=%{y}<extra></extra>\",\"legendgroup\":\"28\",\"marker\":{\"color\":\"#B00068\",\"symbol\":\"circle\"},\"mode\":\"markers\",\"name\":\"28\",\"orientation\":\"v\",\"showlegend\":true,\"x\":[386,412,421,421,421,368,405,327,310,393,390,310,412,393,347,421,412,342,362,332,362,412,334,388,324,310,414,310,310,389,368,360,310,310,309,393,445,445,314,397,408,389,309,402,320,381,402,404,389],\"xaxis\":\"x\",\"y\":[5.632141685485839,5.467592811584471,5.624127388000488,5.719957923889161,5.719957923889161,5.640667533874511,5.637711906433105,8.819742393493652,5.304919624328612,5.607303047180175,5.996763801574706,5.685286140441894,5.467592811584471,5.333282279968262,5.570585060119628,5.719957923889161,5.467592811584471,4.90716037750244,5.009186363220214,6.101574897766112,5.5097673416137685,5.496637535095213,5.317537879943848,5.48271198272705,4.8304845809936525,5.364827919006348,5.816584205627441,5.450541114807128,5.231313133239746,5.0663663864135735,5.414221000671386,5.740874671936036,5.872115898132324,5.844492149353028,5.738203239440918,4.884254264831543,5.365339469909667,5.293438148498535,5.334475898742675,4.766199684143066,5.667609214782716,4.5470853805542,5.340273475646971,6.973087120056152,5.348799324035644,4.883344841003418,6.102427482604979,5.901842689514161,4.408682441711425],\"yaxis\":\"y\",\"type\":\"scatter\"},{\"hovertemplate\":\"Foldseek Cluster=29<br>Length (Amino Acids)=%{x}<br>Isoelectric Point=%{y}<extra></extra>\",\"legendgroup\":\"29\",\"marker\":{\"color\":\"#FC1CBF\",\"symbol\":\"circle\"},\"mode\":\"markers\",\"name\":\"29\",\"orientation\":\"v\",\"showlegend\":true,\"x\":[316,388,320],\"xaxis\":\"x\",\"y\":[7.668000602722168,6.276070594787597,5.370796012878418],\"yaxis\":\"y\",\"type\":\"scatter\"},{\"hovertemplate\":\"Foldseek Cluster=30<br>Length (Amino Acids)=%{x}<br>Isoelectric Point=%{y}<extra></extra>\",\"legendgroup\":\"30\",\"marker\":{\"color\":\"#C075A6\",\"symbol\":\"circle\"},\"mode\":\"markers\",\"name\":\"30\",\"orientation\":\"v\",\"showlegend\":true,\"x\":[359],\"xaxis\":\"x\",\"y\":[8.97465991973877],\"yaxis\":\"y\",\"type\":\"scatter\"},{\"hovertemplate\":\"Foldseek Cluster=31<br>Length (Amino Acids)=%{x}<br>Isoelectric Point=%{y}<extra></extra>\",\"legendgroup\":\"31\",\"marker\":{\"color\":\"#B10DA1\",\"symbol\":\"circle\"},\"mode\":\"markers\",\"name\":\"31\",\"orientation\":\"v\",\"showlegend\":true,\"x\":[94],\"xaxis\":\"x\",\"y\":[4.7555139541625975],\"yaxis\":\"y\",\"type\":\"scatter\"},{\"hovertemplate\":\"Foldseek Cluster=32<br>Length (Amino Acids)=%{x}<br>Isoelectric Point=%{y}<extra></extra>\",\"legendgroup\":\"32\",\"marker\":{\"color\":\"#2ED9FF\",\"symbol\":\"circle\"},\"mode\":\"markers\",\"name\":\"32\",\"orientation\":\"v\",\"showlegend\":true,\"x\":[336,369,379,336,367,338,354,336,341,356,358,352,351,358,361,340,372,371,354,364,359,355,346,347,316,330,337,366,354,345,343,313],\"xaxis\":\"x\",\"y\":[5.1385519027709945,4.975765037536621,5.012255668640137,5.17998752593994,9.19675350189209,4.792970848083496,8.625305747985841,4.871351814270019,4.8511171340942365,5.144690513610839,5.158331871032714,5.34658260345459,5.093649101257324,5.097855186462401,5.23455295562744,4.896247291564941,5.038231086730956,5.310660362243652,5.32293758392334,5.1665166854858375,5.031183052062987,5.413027381896971,5.287697410583495,4.946379280090332,5.574791145324705,4.716920280456542,4.705040931701659,5.368465614318848,5.085066413879393,5.554101753234862,5.22000217437744,5.147873497009276],\"yaxis\":\"y\",\"type\":\"scatter\"},{\"hovertemplate\":\"Foldseek Cluster=33<br>Length (Amino Acids)=%{x}<br>Isoelectric Point=%{y}<extra></extra>\",\"legendgroup\":\"33\",\"marker\":{\"color\":\"#1CFFCE\",\"symbol\":\"circle\"},\"mode\":\"markers\",\"name\":\"33\",\"orientation\":\"v\",\"showlegend\":true,\"x\":[709],\"xaxis\":\"x\",\"y\":[4.475809288024903],\"yaxis\":\"y\",\"type\":\"scatter\"},{\"hovertemplate\":\"Foldseek Cluster=34<br>Length (Amino Acids)=%{x}<br>Isoelectric Point=%{y}<extra></extra>\",\"legendgroup\":\"34\",\"marker\":{\"color\":\"#F6222E\",\"symbol\":\"circle\"},\"mode\":\"markers\",\"name\":\"34\",\"orientation\":\"v\",\"showlegend\":true,\"x\":[480],\"xaxis\":\"x\",\"y\":[4.163933753967284],\"yaxis\":\"y\",\"type\":\"scatter\"},{\"hovertemplate\":\"Foldseek Cluster=35<br>Length (Amino Acids)=%{x}<br>Isoelectric Point=%{y}<extra></extra>\",\"legendgroup\":\"35\",\"marker\":{\"color\":\"#90AD1C\",\"symbol\":\"circle\"},\"mode\":\"markers\",\"name\":\"35\",\"orientation\":\"v\",\"showlegend\":true,\"x\":[388],\"xaxis\":\"x\",\"y\":[5.923725700378417],\"yaxis\":\"y\",\"type\":\"scatter\"},{\"hovertemplate\":\"Foldseek Cluster=36<br>Length (Amino Acids)=%{x}<br>Isoelectric Point=%{y}<extra></extra>\",\"legendgroup\":\"36\",\"marker\":{\"color\":\"#F8A19F\",\"symbol\":\"circle\"},\"mode\":\"markers\",\"name\":\"36\",\"orientation\":\"v\",\"showlegend\":true,\"x\":[300,310,310],\"xaxis\":\"x\",\"y\":[7.003098106384278,5.324983787536621,5.457361793518066],\"yaxis\":\"y\",\"type\":\"scatter\"},{\"hovertemplate\":\"Foldseek Cluster=37<br>Length (Amino Acids)=%{x}<br>Isoelectric Point=%{y}<extra></extra>\",\"legendgroup\":\"37\",\"marker\":{\"color\":\"#FEAF16\",\"symbol\":\"circle\"},\"mode\":\"markers\",\"name\":\"37\",\"orientation\":\"v\",\"showlegend\":true,\"x\":[849],\"xaxis\":\"x\",\"y\":[7.548752403259278],\"yaxis\":\"y\",\"type\":\"scatter\"},{\"hovertemplate\":\"Foldseek Cluster=38<br>Length (Amino Acids)=%{x}<br>Isoelectric Point=%{y}<extra></extra>\",\"legendgroup\":\"38\",\"marker\":{\"color\":\"#325A9B\",\"symbol\":\"circle\"},\"mode\":\"markers\",\"name\":\"38\",\"orientation\":\"v\",\"showlegend\":true,\"x\":[268],\"xaxis\":\"x\",\"y\":[4.7278902053833],\"yaxis\":\"y\",\"type\":\"scatter\"},{\"hovertemplate\":\"Foldseek Cluster=39<br>Length (Amino Acids)=%{x}<br>Isoelectric Point=%{y}<extra></extra>\",\"legendgroup\":\"39\",\"marker\":{\"color\":\"#FE00FA\",\"symbol\":\"circle\"},\"mode\":\"markers\",\"name\":\"39\",\"orientation\":\"v\",\"showlegend\":true,\"x\":[222,246],\"xaxis\":\"x\",\"y\":[5.689946937561035,5.411890602111816],\"yaxis\":\"y\",\"type\":\"scatter\"},{\"hovertemplate\":\"Foldseek Cluster=40<br>Length (Amino Acids)=%{x}<br>Isoelectric Point=%{y}<extra></extra>\",\"legendgroup\":\"40\",\"marker\":{\"color\":\"#DEA0FD\",\"symbol\":\"circle\"},\"mode\":\"markers\",\"name\":\"40\",\"orientation\":\"v\",\"showlegend\":true,\"x\":[439],\"xaxis\":\"x\",\"y\":[4.767450141906737],\"yaxis\":\"y\",\"type\":\"scatter\"},{\"hovertemplate\":\"Foldseek Cluster=41<br>Length (Amino Acids)=%{x}<br>Isoelectric Point=%{y}<extra></extra>\",\"legendgroup\":\"41\",\"marker\":{\"color\":\"#C4451C\",\"symbol\":\"circle\"},\"mode\":\"markers\",\"name\":\"41\",\"orientation\":\"v\",\"showlegend\":true,\"x\":[265],\"xaxis\":\"x\",\"y\":[5.33981876373291],\"yaxis\":\"y\",\"type\":\"scatter\"},{\"hovertemplate\":\"Foldseek Cluster=42<br>Length (Amino Acids)=%{x}<br>Isoelectric Point=%{y}<extra></extra>\",\"legendgroup\":\"42\",\"marker\":{\"color\":\"#1CBE4F\",\"symbol\":\"circle\"},\"mode\":\"markers\",\"name\":\"42\",\"orientation\":\"v\",\"showlegend\":true,\"x\":[256,268,230,230,243,259,232,218,263,236,216,266,234,228,256,266,239,305,240,211,245,232,232,232,241,236,231,243,243,216,246],\"xaxis\":\"x\",\"y\":[5.047439002990722,8.61363697052002,5.009697914123534,5.40609302520752,6.190982627868652,7.014352226257324,5.905650901794433,4.397883033752441,5.994774436950683,5.449631690979003,4.530715751647949,5.972038841247559,6.803536415100097,5.655843544006348,5.987499046325683,4.940581703186035,6.9403478622436525,7.727624702453612,6.149092292785644,4.507184410095214,5.283946037292479,8.762301063537599,5.983463478088378,5.983463478088378,6.180069541931151,6.178762245178221,6.7975683212280265,5.283548164367674,7.016171073913574,4.334905433654787,7.5817758560180675],\"yaxis\":\"y\",\"type\":\"scatter\"},{\"hovertemplate\":\"Foldseek Cluster=43<br>Length (Amino Acids)=%{x}<br>Isoelectric Point=%{y}<extra></extra>\",\"legendgroup\":\"43\",\"marker\":{\"color\":\"#E2E2E2\",\"symbol\":\"circle\"},\"mode\":\"markers\",\"name\":\"43\",\"orientation\":\"v\",\"showlegend\":true,\"x\":[643,637,588,797,749],\"xaxis\":\"x\",\"y\":[4.604094886779785,5.4331483840942365,5.226424980163573,5.415812492370605,4.948937034606933],\"yaxis\":\"y\",\"type\":\"scatter\"},{\"hovertemplate\":\"Foldseek Cluster=44<br>Length (Amino Acids)=%{x}<br>Isoelectric Point=%{y}<extra></extra>\",\"legendgroup\":\"44\",\"marker\":{\"color\":\"#F7E1A0\",\"symbol\":\"circle\"},\"mode\":\"markers\",\"name\":\"44\",\"orientation\":\"v\",\"showlegend\":true,\"x\":[351],\"xaxis\":\"x\",\"y\":[6.065538978576659],\"yaxis\":\"y\",\"type\":\"scatter\"},{\"hovertemplate\":\"Foldseek Cluster=45<br>Length (Amino Acids)=%{x}<br>Isoelectric Point=%{y}<extra></extra>\",\"legendgroup\":\"45\",\"marker\":{\"color\":\"#16FF32\",\"symbol\":\"circle\"},\"mode\":\"markers\",\"name\":\"45\",\"orientation\":\"v\",\"showlegend\":true,\"x\":[394,354,349],\"xaxis\":\"x\",\"y\":[4.519518470764161,8.664824867248537,4.490587425231933],\"yaxis\":\"y\",\"type\":\"scatter\"},{\"hovertemplate\":\"Foldseek Cluster=46<br>Length (Amino Acids)=%{x}<br>Isoelectric Point=%{y}<extra></extra>\",\"legendgroup\":\"46\",\"marker\":{\"color\":\"#1C8356\",\"symbol\":\"circle\"},\"mode\":\"markers\",\"name\":\"46\",\"orientation\":\"v\",\"showlegend\":true,\"x\":[681],\"xaxis\":\"x\",\"y\":[5.140939140319824],\"yaxis\":\"y\",\"type\":\"scatter\"},{\"hovertemplate\":\"Foldseek Cluster=47<br>Length (Amino Acids)=%{x}<br>Isoelectric Point=%{y}<extra></extra>\",\"legendgroup\":\"47\",\"marker\":{\"color\":\"#565656\",\"symbol\":\"circle\"},\"mode\":\"markers\",\"name\":\"47\",\"orientation\":\"v\",\"showlegend\":true,\"x\":[432],\"xaxis\":\"x\",\"y\":[4.6193845748901365],\"yaxis\":\"y\",\"type\":\"scatter\"},{\"hovertemplate\":\"Foldseek Cluster=48<br>Length (Amino Acids)=%{x}<br>Isoelectric Point=%{y}<extra></extra>\",\"legendgroup\":\"48\",\"marker\":{\"color\":\"#782AB6\",\"symbol\":\"circle\"},\"mode\":\"markers\",\"name\":\"48\",\"orientation\":\"v\",\"showlegend\":true,\"x\":[325,287,302],\"xaxis\":\"x\",\"y\":[5.244613456726074,8.272470283508301,4.706802940368651],\"yaxis\":\"y\",\"type\":\"scatter\"},{\"hovertemplate\":\"Foldseek Cluster=49<br>Length (Amino Acids)=%{x}<br>Isoelectric Point=%{y}<extra></extra>\",\"legendgroup\":\"49\",\"marker\":{\"color\":\"#85660D\",\"symbol\":\"circle\"},\"mode\":\"markers\",\"name\":\"49\",\"orientation\":\"v\",\"showlegend\":true,\"x\":[392,395],\"xaxis\":\"x\",\"y\":[5.86364688873291,9.458817481994632],\"yaxis\":\"y\",\"type\":\"scatter\"},{\"hovertemplate\":\"Foldseek Cluster=50<br>Length (Amino Acids)=%{x}<br>Isoelectric Point=%{y}<extra></extra>\",\"legendgroup\":\"50\",\"marker\":{\"color\":\"#3283FE\",\"symbol\":\"circle\"},\"mode\":\"markers\",\"name\":\"50\",\"orientation\":\"v\",\"showlegend\":true,\"x\":[362],\"xaxis\":\"x\",\"y\":[9.081806373596194],\"yaxis\":\"y\",\"type\":\"scatter\"},{\"hovertemplate\":\"Foldseek Cluster=51<br>Length (Amino Acids)=%{x}<br>Isoelectric Point=%{y}<extra></extra>\",\"legendgroup\":\"51\",\"marker\":{\"color\":\"#AA0DFE\",\"symbol\":\"circle\"},\"mode\":\"markers\",\"name\":\"51\",\"orientation\":\"v\",\"showlegend\":true,\"x\":[341,294,331,315],\"xaxis\":\"x\",\"y\":[5.458157539367675,5.167369270324705,5.474868202209472,5.018451118469237],\"yaxis\":\"y\",\"type\":\"scatter\"},{\"hovertemplate\":\"Foldseek Cluster=52<br>Length (Amino Acids)=%{x}<br>Isoelectric Point=%{y}<extra></extra>\",\"legendgroup\":\"52\",\"marker\":{\"color\":\"#FA0087\",\"symbol\":\"circle\"},\"mode\":\"markers\",\"name\":\"52\",\"orientation\":\"v\",\"showlegend\":true,\"x\":[819],\"xaxis\":\"x\",\"y\":[5.023907661437988],\"yaxis\":\"y\",\"type\":\"scatter\"},{\"hovertemplate\":\"Foldseek Cluster=53<br>Length (Amino Acids)=%{x}<br>Isoelectric Point=%{y}<extra></extra>\",\"legendgroup\":\"53\",\"marker\":{\"color\":\"#FBE426\",\"symbol\":\"circle\"},\"mode\":\"markers\",\"name\":\"53\",\"orientation\":\"v\",\"showlegend\":true,\"x\":[393],\"xaxis\":\"x\",\"y\":[4.690376472473144],\"yaxis\":\"y\",\"type\":\"scatter\"},{\"hovertemplate\":\"Foldseek Cluster=54<br>Length (Amino Acids)=%{x}<br>Isoelectric Point=%{y}<extra></extra>\",\"legendgroup\":\"54\",\"marker\":{\"color\":\"#B00068\",\"symbol\":\"circle\"},\"mode\":\"markers\",\"name\":\"54\",\"orientation\":\"v\",\"showlegend\":true,\"x\":[459,469,488,465,466,501,469,466,466],\"xaxis\":\"x\",\"y\":[4.632514381408691,4.868225669860839,4.681054878234862,4.849070930480956,4.855039024353027,5.227220726013182,4.898236656188964,4.8997713088989245,4.855039024353027],\"yaxis\":\"y\",\"type\":\"scatter\"},{\"hovertemplate\":\"Foldseek Cluster=55<br>Length (Amino Acids)=%{x}<br>Isoelectric Point=%{y}<extra></extra>\",\"legendgroup\":\"55\",\"marker\":{\"color\":\"#FC1CBF\",\"symbol\":\"circle\"},\"mode\":\"markers\",\"name\":\"55\",\"orientation\":\"v\",\"showlegend\":true,\"x\":[340,417,281,408,411,417,407,403,393,303,394,390,392,291,388,416,388,388,388,387,392,391,302,395,388,397,388,302,370,383,405,301,383,388,392,397,388,392,373,395,387,395,388,423,278,397,383,394,395,397,394,282,302,387,394,293,391,394,279,388,390,392,276,391,303,397,340,392,390,398,391,391,387,303,388],\"xaxis\":\"x\",\"y\":[4.930464363098143,6.471767234802246,4.912673759460449,6.269875144958497,6.553672218322753,5.5584215164184565,6.481145668029785,6.662632560729982,5.376025199890138,4.738462257385254,5.2288122177124015,6.264873313903809,5.033001899719238,5.184250450134276,5.376593589782716,4.510594749450684,5.204996681213378,5.29355182647705,5.131560707092285,5.372330665588379,5.024532890319825,4.979289054870605,4.739428520202637,5.253821372985839,5.354426383972168,5.5032876968383775,5.354426383972168,4.7815462112426745,4.681793785095214,4.816615867614746,9.129319572448733,4.878570365905762,4.919267082214354,5.550236701965332,4.971217918395996,5.438889122009278,5.354426383972168,5.033001899719238,5.278375816345213,5.113997459411621,5.447869682312012,5.253821372985839,5.1577066421508775,5.795496940612793,5.123773765563963,5.438889122009278,4.88226490020752,5.480836296081542,5.217558097839355,5.5032876968383775,5.354710578918457,4.497976493835449,4.6379709243774405,5.352948570251464,5.4808931350708,4.971388435363769,5.483394050598144,5.639019203186035,4.80951099395752,5.277239036560058,4.728231239318848,5.16492519378662,5.265871238708496,5.321857643127441,4.7191370010375975,5.62094440460205,4.930464363098143,5.351413917541504,5.108313560485839,5.088647270202636,5.321857643127441,5.321857643127441,5.708817481994629,5.485099220275878,5.0589204788208],\"yaxis\":\"y\",\"type\":\"scatter\"},{\"hovertemplate\":\"Foldseek Cluster=56<br>Length (Amino Acids)=%{x}<br>Isoelectric Point=%{y}<extra></extra>\",\"legendgroup\":\"56\",\"marker\":{\"color\":\"#C075A6\",\"symbol\":\"circle\"},\"mode\":\"markers\",\"name\":\"56\",\"orientation\":\"v\",\"showlegend\":true,\"x\":[708],\"xaxis\":\"x\",\"y\":[4.930180168151854],\"yaxis\":\"y\",\"type\":\"scatter\"},{\"hovertemplate\":\"Foldseek Cluster=57<br>Length (Amino Acids)=%{x}<br>Isoelectric Point=%{y}<extra></extra>\",\"legendgroup\":\"57\",\"marker\":{\"color\":\"#B10DA1\",\"symbol\":\"circle\"},\"mode\":\"markers\",\"name\":\"57\",\"orientation\":\"v\",\"showlegend\":true,\"x\":[675],\"xaxis\":\"x\",\"y\":[4.9940103530883775],\"yaxis\":\"y\",\"type\":\"scatter\"},{\"hovertemplate\":\"Foldseek Cluster=58<br>Length (Amino Acids)=%{x}<br>Isoelectric Point=%{y}<extra></extra>\",\"legendgroup\":\"58\",\"marker\":{\"color\":\"#2ED9FF\",\"symbol\":\"circle\"},\"mode\":\"markers\",\"name\":\"58\",\"orientation\":\"v\",\"showlegend\":true,\"x\":[363],\"xaxis\":\"x\",\"y\":[4.753013038635253],\"yaxis\":\"y\",\"type\":\"scatter\"},{\"hovertemplate\":\"Foldseek Cluster=59<br>Length (Amino Acids)=%{x}<br>Isoelectric Point=%{y}<extra></extra>\",\"legendgroup\":\"59\",\"marker\":{\"color\":\"#1CFFCE\",\"symbol\":\"circle\"},\"mode\":\"markers\",\"name\":\"59\",\"orientation\":\"v\",\"showlegend\":true,\"x\":[286],\"xaxis\":\"x\",\"y\":[5.077904701232909],\"yaxis\":\"y\",\"type\":\"scatter\"},{\"hovertemplate\":\"Foldseek Cluster=60<br>Length (Amino Acids)=%{x}<br>Isoelectric Point=%{y}<extra></extra>\",\"legendgroup\":\"60\",\"marker\":{\"color\":\"#F6222E\",\"symbol\":\"circle\"},\"mode\":\"markers\",\"name\":\"60\",\"orientation\":\"v\",\"showlegend\":true,\"x\":[130],\"xaxis\":\"x\",\"y\":[7.899843025207519],\"yaxis\":\"y\",\"type\":\"scatter\"},{\"hovertemplate\":\"Foldseek Cluster=61<br>Length (Amino Acids)=%{x}<br>Isoelectric Point=%{y}<extra></extra>\",\"legendgroup\":\"61\",\"marker\":{\"color\":\"#90AD1C\",\"symbol\":\"circle\"},\"mode\":\"markers\",\"name\":\"61\",\"orientation\":\"v\",\"showlegend\":true,\"x\":[403,365,369,335,368,368,368],\"xaxis\":\"x\",\"y\":[4.78404712677002,4.59045352935791,5.272805595397949,5.4097307205200185,5.7773653030395495,6.097255134582518,5.396941947937012],\"yaxis\":\"y\",\"type\":\"scatter\"}],                        {\"template\":{\"data\":{\"barpolar\":[{\"marker\":{\"line\":{\"color\":\"white\",\"width\":0.5},\"pattern\":{\"fillmode\":\"overlay\",\"size\":10,\"solidity\":0.2}},\"type\":\"barpolar\"}],\"bar\":[{\"error_x\":{\"color\":\"#2a3f5f\"},\"error_y\":{\"color\":\"#2a3f5f\"},\"marker\":{\"line\":{\"color\":\"white\",\"width\":0.5},\"pattern\":{\"fillmode\":\"overlay\",\"size\":10,\"solidity\":0.2}},\"type\":\"bar\"}],\"carpet\":[{\"aaxis\":{\"endlinecolor\":\"#2a3f5f\",\"gridcolor\":\"#C8D4E3\",\"linecolor\":\"#C8D4E3\",\"minorgridcolor\":\"#C8D4E3\",\"startlinecolor\":\"#2a3f5f\"},\"baxis\":{\"endlinecolor\":\"#2a3f5f\",\"gridcolor\":\"#C8D4E3\",\"linecolor\":\"#C8D4E3\",\"minorgridcolor\":\"#C8D4E3\",\"startlinecolor\":\"#2a3f5f\"},\"type\":\"carpet\"}],\"choropleth\":[{\"colorbar\":{\"outlinewidth\":0,\"ticks\":\"\"},\"type\":\"choropleth\"}],\"contourcarpet\":[{\"colorbar\":{\"outlinewidth\":0,\"ticks\":\"\"},\"type\":\"contourcarpet\"}],\"contour\":[{\"colorbar\":{\"outlinewidth\":0,\"ticks\":\"\"},\"colorscale\":[[0.0,\"#0d0887\"],[0.1111111111111111,\"#46039f\"],[0.2222222222222222,\"#7201a8\"],[0.3333333333333333,\"#9c179e\"],[0.4444444444444444,\"#bd3786\"],[0.5555555555555556,\"#d8576b\"],[0.6666666666666666,\"#ed7953\"],[0.7777777777777778,\"#fb9f3a\"],[0.8888888888888888,\"#fdca26\"],[1.0,\"#f0f921\"]],\"type\":\"contour\"}],\"heatmapgl\":[{\"colorbar\":{\"outlinewidth\":0,\"ticks\":\"\"},\"colorscale\":[[0.0,\"#0d0887\"],[0.1111111111111111,\"#46039f\"],[0.2222222222222222,\"#7201a8\"],[0.3333333333333333,\"#9c179e\"],[0.4444444444444444,\"#bd3786\"],[0.5555555555555556,\"#d8576b\"],[0.6666666666666666,\"#ed7953\"],[0.7777777777777778,\"#fb9f3a\"],[0.8888888888888888,\"#fdca26\"],[1.0,\"#f0f921\"]],\"type\":\"heatmapgl\"}],\"heatmap\":[{\"colorbar\":{\"outlinewidth\":0,\"ticks\":\"\"},\"colorscale\":[[0.0,\"#0d0887\"],[0.1111111111111111,\"#46039f\"],[0.2222222222222222,\"#7201a8\"],[0.3333333333333333,\"#9c179e\"],[0.4444444444444444,\"#bd3786\"],[0.5555555555555556,\"#d8576b\"],[0.6666666666666666,\"#ed7953\"],[0.7777777777777778,\"#fb9f3a\"],[0.8888888888888888,\"#fdca26\"],[1.0,\"#f0f921\"]],\"type\":\"heatmap\"}],\"histogram2dcontour\":[{\"colorbar\":{\"outlinewidth\":0,\"ticks\":\"\"},\"colorscale\":[[0.0,\"#0d0887\"],[0.1111111111111111,\"#46039f\"],[0.2222222222222222,\"#7201a8\"],[0.3333333333333333,\"#9c179e\"],[0.4444444444444444,\"#bd3786\"],[0.5555555555555556,\"#d8576b\"],[0.6666666666666666,\"#ed7953\"],[0.7777777777777778,\"#fb9f3a\"],[0.8888888888888888,\"#fdca26\"],[1.0,\"#f0f921\"]],\"type\":\"histogram2dcontour\"}],\"histogram2d\":[{\"colorbar\":{\"outlinewidth\":0,\"ticks\":\"\"},\"colorscale\":[[0.0,\"#0d0887\"],[0.1111111111111111,\"#46039f\"],[0.2222222222222222,\"#7201a8\"],[0.3333333333333333,\"#9c179e\"],[0.4444444444444444,\"#bd3786\"],[0.5555555555555556,\"#d8576b\"],[0.6666666666666666,\"#ed7953\"],[0.7777777777777778,\"#fb9f3a\"],[0.8888888888888888,\"#fdca26\"],[1.0,\"#f0f921\"]],\"type\":\"histogram2d\"}],\"histogram\":[{\"marker\":{\"pattern\":{\"fillmode\":\"overlay\",\"size\":10,\"solidity\":0.2}},\"type\":\"histogram\"}],\"mesh3d\":[{\"colorbar\":{\"outlinewidth\":0,\"ticks\":\"\"},\"type\":\"mesh3d\"}],\"parcoords\":[{\"line\":{\"colorbar\":{\"outlinewidth\":0,\"ticks\":\"\"}},\"type\":\"parcoords\"}],\"pie\":[{\"automargin\":true,\"type\":\"pie\"}],\"scatter3d\":[{\"line\":{\"colorbar\":{\"outlinewidth\":0,\"ticks\":\"\"}},\"marker\":{\"colorbar\":{\"outlinewidth\":0,\"ticks\":\"\"}},\"type\":\"scatter3d\"}],\"scattercarpet\":[{\"marker\":{\"colorbar\":{\"outlinewidth\":0,\"ticks\":\"\"}},\"type\":\"scattercarpet\"}],\"scattergeo\":[{\"marker\":{\"colorbar\":{\"outlinewidth\":0,\"ticks\":\"\"}},\"type\":\"scattergeo\"}],\"scattergl\":[{\"marker\":{\"colorbar\":{\"outlinewidth\":0,\"ticks\":\"\"}},\"type\":\"scattergl\"}],\"scattermapbox\":[{\"marker\":{\"colorbar\":{\"outlinewidth\":0,\"ticks\":\"\"}},\"type\":\"scattermapbox\"}],\"scatterpolargl\":[{\"marker\":{\"colorbar\":{\"outlinewidth\":0,\"ticks\":\"\"}},\"type\":\"scatterpolargl\"}],\"scatterpolar\":[{\"marker\":{\"colorbar\":{\"outlinewidth\":0,\"ticks\":\"\"}},\"type\":\"scatterpolar\"}],\"scatter\":[{\"fillpattern\":{\"fillmode\":\"overlay\",\"size\":10,\"solidity\":0.2},\"type\":\"scatter\"}],\"scatterternary\":[{\"marker\":{\"colorbar\":{\"outlinewidth\":0,\"ticks\":\"\"}},\"type\":\"scatterternary\"}],\"surface\":[{\"colorbar\":{\"outlinewidth\":0,\"ticks\":\"\"},\"colorscale\":[[0.0,\"#0d0887\"],[0.1111111111111111,\"#46039f\"],[0.2222222222222222,\"#7201a8\"],[0.3333333333333333,\"#9c179e\"],[0.4444444444444444,\"#bd3786\"],[0.5555555555555556,\"#d8576b\"],[0.6666666666666666,\"#ed7953\"],[0.7777777777777778,\"#fb9f3a\"],[0.8888888888888888,\"#fdca26\"],[1.0,\"#f0f921\"]],\"type\":\"surface\"}],\"table\":[{\"cells\":{\"fill\":{\"color\":\"#EBF0F8\"},\"line\":{\"color\":\"white\"}},\"header\":{\"fill\":{\"color\":\"#C8D4E3\"},\"line\":{\"color\":\"white\"}},\"type\":\"table\"}]},\"layout\":{\"annotationdefaults\":{\"arrowcolor\":\"#2a3f5f\",\"arrowhead\":0,\"arrowwidth\":1},\"autotypenumbers\":\"strict\",\"coloraxis\":{\"colorbar\":{\"outlinewidth\":0,\"ticks\":\"\"}},\"colorscale\":{\"diverging\":[[0,\"#8e0152\"],[0.1,\"#c51b7d\"],[0.2,\"#de77ae\"],[0.3,\"#f1b6da\"],[0.4,\"#fde0ef\"],[0.5,\"#f7f7f7\"],[0.6,\"#e6f5d0\"],[0.7,\"#b8e186\"],[0.8,\"#7fbc41\"],[0.9,\"#4d9221\"],[1,\"#276419\"]],\"sequential\":[[0.0,\"#0d0887\"],[0.1111111111111111,\"#46039f\"],[0.2222222222222222,\"#7201a8\"],[0.3333333333333333,\"#9c179e\"],[0.4444444444444444,\"#bd3786\"],[0.5555555555555556,\"#d8576b\"],[0.6666666666666666,\"#ed7953\"],[0.7777777777777778,\"#fb9f3a\"],[0.8888888888888888,\"#fdca26\"],[1.0,\"#f0f921\"]],\"sequentialminus\":[[0.0,\"#0d0887\"],[0.1111111111111111,\"#46039f\"],[0.2222222222222222,\"#7201a8\"],[0.3333333333333333,\"#9c179e\"],[0.4444444444444444,\"#bd3786\"],[0.5555555555555556,\"#d8576b\"],[0.6666666666666666,\"#ed7953\"],[0.7777777777777778,\"#fb9f3a\"],[0.8888888888888888,\"#fdca26\"],[1.0,\"#f0f921\"]]},\"colorway\":[\"#636efa\",\"#EF553B\",\"#00cc96\",\"#ab63fa\",\"#FFA15A\",\"#19d3f3\",\"#FF6692\",\"#B6E880\",\"#FF97FF\",\"#FECB52\"],\"font\":{\"color\":\"#2a3f5f\"},\"geo\":{\"bgcolor\":\"white\",\"lakecolor\":\"white\",\"landcolor\":\"white\",\"showlakes\":true,\"showland\":true,\"subunitcolor\":\"#C8D4E3\"},\"hoverlabel\":{\"align\":\"left\"},\"hovermode\":\"closest\",\"mapbox\":{\"style\":\"light\"},\"paper_bgcolor\":\"white\",\"plot_bgcolor\":\"white\",\"polar\":{\"angularaxis\":{\"gridcolor\":\"#EBF0F8\",\"linecolor\":\"#EBF0F8\",\"ticks\":\"\"},\"bgcolor\":\"white\",\"radialaxis\":{\"gridcolor\":\"#EBF0F8\",\"linecolor\":\"#EBF0F8\",\"ticks\":\"\"}},\"scene\":{\"xaxis\":{\"backgroundcolor\":\"white\",\"gridcolor\":\"#DFE8F3\",\"gridwidth\":2,\"linecolor\":\"#EBF0F8\",\"showbackground\":true,\"ticks\":\"\",\"zerolinecolor\":\"#EBF0F8\"},\"yaxis\":{\"backgroundcolor\":\"white\",\"gridcolor\":\"#DFE8F3\",\"gridwidth\":2,\"linecolor\":\"#EBF0F8\",\"showbackground\":true,\"ticks\":\"\",\"zerolinecolor\":\"#EBF0F8\"},\"zaxis\":{\"backgroundcolor\":\"white\",\"gridcolor\":\"#DFE8F3\",\"gridwidth\":2,\"linecolor\":\"#EBF0F8\",\"showbackground\":true,\"ticks\":\"\",\"zerolinecolor\":\"#EBF0F8\"}},\"shapedefaults\":{\"line\":{\"color\":\"#2a3f5f\"}},\"ternary\":{\"aaxis\":{\"gridcolor\":\"#DFE8F3\",\"linecolor\":\"#A2B1C6\",\"ticks\":\"\"},\"baxis\":{\"gridcolor\":\"#DFE8F3\",\"linecolor\":\"#A2B1C6\",\"ticks\":\"\"},\"bgcolor\":\"white\",\"caxis\":{\"gridcolor\":\"#DFE8F3\",\"linecolor\":\"#A2B1C6\",\"ticks\":\"\"}},\"title\":{\"x\":0.05},\"xaxis\":{\"automargin\":true,\"gridcolor\":\"#EBF0F8\",\"linecolor\":\"#EBF0F8\",\"ticks\":\"\",\"title\":{\"standoff\":15},\"zerolinecolor\":\"#EBF0F8\",\"zerolinewidth\":2},\"yaxis\":{\"automargin\":true,\"gridcolor\":\"#EBF0F8\",\"linecolor\":\"#EBF0F8\",\"ticks\":\"\",\"title\":{\"standoff\":15},\"zerolinecolor\":\"#EBF0F8\",\"zerolinewidth\":2}}},\"xaxis\":{\"anchor\":\"y\",\"domain\":[0.0,1.0],\"title\":{\"text\":\"Length (Amino Acids)\"},\"range\":[200,600]},\"yaxis\":{\"anchor\":\"x\",\"domain\":[0.0,1.0],\"title\":{\"text\":\"Isoelectric Point\"}},\"legend\":{\"title\":{\"text\":\"Foldseek Cluster\"},\"tracegroupgap\":0},\"margin\":{\"t\":60},\"font\":{\"size\":20},\"width\":1400,\"height\":700},                        {\"responsive\": true}                    ).then(function(){\n",
       "                            \n",
       "var gd = document.getElementById('89a577c6-f3d8-4802-aeb4-9062053a12f9');\n",
       "var x = new MutationObserver(function (mutations, observer) {{\n",
       "        var display = window.getComputedStyle(gd).display;\n",
       "        if (!display || display === 'none') {{\n",
       "            console.log([gd, 'removed!']);\n",
       "            Plotly.purge(gd);\n",
       "            observer.disconnect();\n",
       "        }}\n",
       "}});\n",
       "\n",
       "// Listen for the removal of the full notebook cells\n",
       "var notebookContainer = gd.closest('#notebook-container');\n",
       "if (notebookContainer) {{\n",
       "    x.observe(notebookContainer, {childList: true});\n",
       "}}\n",
       "\n",
       "// Listen for the clearing of the current output cell\n",
       "var outputEl = gd.closest('.output');\n",
       "if (outputEl) {{\n",
       "    x.observe(outputEl, {childList: true});\n",
       "}}\n",
       "\n",
       "                        })                };                });            </script>        </div>"
      ]
     },
     "metadata": {},
     "output_type": "display_data"
    }
   ],
   "source": [
    "colours = px.colors.qualitative.Alphabet_r\n",
    "fig = px.scatter(foldseek_df, x=\"Length\", y=\"pI\", color=\"Foldseek Cluster\", color_discrete_sequence=colours, labels=dict(Length=\"Length (Amino Acids)\", pI=\"Isoelectric Point\"))\n",
    "\n",
    "fig.update_layout(template=\"plotly_white\", width=1400, height=700, font=dict(size=20))\n",
    "fig.update_xaxes(range=[200, 600])\n",
    "fig.write_image(\"Foldseek_clusters.png\")\n",
    "fig.show()"
   ]
  },
  {
   "attachments": {},
   "cell_type": "markdown",
   "metadata": {},
   "source": [
    "Clusters look mostly the same in both analyses - most importantly the DALI clusters 6, 8, and 9 are preserved, which are the ones we've focused on in the paper so no need to worry here!"
   ]
  }
 ],
 "metadata": {
  "kernelspec": {
   "display_name": "jupyter",
   "language": "python",
   "name": "python3"
  },
  "language_info": {
   "codemirror_mode": {
    "name": "ipython",
    "version": 3
   },
   "file_extension": ".py",
   "mimetype": "text/x-python",
   "name": "python",
   "nbconvert_exporter": "python",
   "pygments_lexer": "ipython3",
   "version": "3.10.4"
  },
  "orig_nbformat": 4
 },
 "nbformat": 4,
 "nbformat_minor": 2
}
