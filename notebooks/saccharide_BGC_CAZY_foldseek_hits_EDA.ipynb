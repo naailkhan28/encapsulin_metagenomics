{
 "cells": [
  {
   "cell_type": "markdown",
   "metadata": {},
   "source": [
    "## Analyzing Saccharide BGC Glycosyltransferases using Foldseek\n",
    "\n",
    "As explained [in the docs](../docs/glycosyltransferase_analysis.md), we've searched our Saccharide BGC-associated glycosyltransferases by searching them against CAZY using Foldseek.\n",
    "\n",
    "Let's load this DataFrame:"
   ]
  },
  {
   "cell_type": "code",
   "execution_count": 8,
   "metadata": {},
   "outputs": [
    {
     "data": {
      "text/html": [
       "<div>\n",
       "<style scoped>\n",
       "    .dataframe tbody tr th:only-of-type {\n",
       "        vertical-align: middle;\n",
       "    }\n",
       "\n",
       "    .dataframe tbody tr th {\n",
       "        vertical-align: top;\n",
       "    }\n",
       "\n",
       "    .dataframe thead th {\n",
       "        text-align: right;\n",
       "    }\n",
       "</style>\n",
       "<table border=\"1\" class=\"dataframe\">\n",
       "  <thead>\n",
       "    <tr style=\"text-align: right;\">\n",
       "      <th></th>\n",
       "      <th>Query</th>\n",
       "      <th>Target</th>\n",
       "      <th>Identity</th>\n",
       "      <th>Aligned Length</th>\n",
       "      <th>Number of Mismatches</th>\n",
       "      <th>Gap Openings</th>\n",
       "      <th>Query Start</th>\n",
       "      <th>Query End</th>\n",
       "      <th>Target Start</th>\n",
       "      <th>Target End</th>\n",
       "      <th>E-Value</th>\n",
       "      <th>TM-Score</th>\n",
       "      <th>Probability</th>\n",
       "    </tr>\n",
       "  </thead>\n",
       "  <tbody>\n",
       "    <tr>\n",
       "      <th>0</th>\n",
       "      <td>MGYP001572126581</td>\n",
       "      <td>5MLZ</td>\n",
       "      <td>0.320</td>\n",
       "      <td>243</td>\n",
       "      <td>146</td>\n",
       "      <td>14</td>\n",
       "      <td>1</td>\n",
       "      <td>235</td>\n",
       "      <td>4</td>\n",
       "      <td>235</td>\n",
       "      <td>0.7405</td>\n",
       "      <td>0.88</td>\n",
       "      <td>0.995</td>\n",
       "    </tr>\n",
       "    <tr>\n",
       "      <th>1</th>\n",
       "      <td>MGYP001572126581</td>\n",
       "      <td>4DEC</td>\n",
       "      <td>0.119</td>\n",
       "      <td>252</td>\n",
       "      <td>177</td>\n",
       "      <td>21</td>\n",
       "      <td>1</td>\n",
       "      <td>233</td>\n",
       "      <td>25</td>\n",
       "      <td>250</td>\n",
       "      <td>0.7020</td>\n",
       "      <td>0.76</td>\n",
       "      <td>0.971</td>\n",
       "    </tr>\n",
       "    <tr>\n",
       "      <th>2</th>\n",
       "      <td>MGYP001572126581</td>\n",
       "      <td>7QCP</td>\n",
       "      <td>0.131</td>\n",
       "      <td>251</td>\n",
       "      <td>177</td>\n",
       "      <td>19</td>\n",
       "      <td>1</td>\n",
       "      <td>233</td>\n",
       "      <td>35</td>\n",
       "      <td>262</td>\n",
       "      <td>0.7002</td>\n",
       "      <td>0.76</td>\n",
       "      <td>0.971</td>\n",
       "    </tr>\n",
       "    <tr>\n",
       "      <th>3</th>\n",
       "      <td>MGYP001572126581</td>\n",
       "      <td>3F1Y</td>\n",
       "      <td>0.113</td>\n",
       "      <td>255</td>\n",
       "      <td>187</td>\n",
       "      <td>19</td>\n",
       "      <td>1</td>\n",
       "      <td>235</td>\n",
       "      <td>33</td>\n",
       "      <td>268</td>\n",
       "      <td>0.6987</td>\n",
       "      <td>0.79</td>\n",
       "      <td>0.981</td>\n",
       "    </tr>\n",
       "    <tr>\n",
       "      <th>4</th>\n",
       "      <td>MGYP001572126581</td>\n",
       "      <td>3BCV</td>\n",
       "      <td>0.153</td>\n",
       "      <td>222</td>\n",
       "      <td>139</td>\n",
       "      <td>13</td>\n",
       "      <td>1</td>\n",
       "      <td>201</td>\n",
       "      <td>3</td>\n",
       "      <td>196</td>\n",
       "      <td>0.6967</td>\n",
       "      <td>0.63</td>\n",
       "      <td>0.837</td>\n",
       "    </tr>\n",
       "    <tr>\n",
       "      <th>...</th>\n",
       "      <td>...</td>\n",
       "      <td>...</td>\n",
       "      <td>...</td>\n",
       "      <td>...</td>\n",
       "      <td>...</td>\n",
       "      <td>...</td>\n",
       "      <td>...</td>\n",
       "      <td>...</td>\n",
       "      <td>...</td>\n",
       "      <td>...</td>\n",
       "      <td>...</td>\n",
       "      <td>...</td>\n",
       "      <td>...</td>\n",
       "    </tr>\n",
       "    <tr>\n",
       "      <th>19888</th>\n",
       "      <td>MGYP003109256094</td>\n",
       "      <td>5MLZ</td>\n",
       "      <td>0.024</td>\n",
       "      <td>406</td>\n",
       "      <td>120</td>\n",
       "      <td>19</td>\n",
       "      <td>49</td>\n",
       "      <td>299</td>\n",
       "      <td>11</td>\n",
       "      <td>295</td>\n",
       "      <td>0.2221</td>\n",
       "      <td>0.21</td>\n",
       "      <td>0.034</td>\n",
       "    </tr>\n",
       "    <tr>\n",
       "      <th>19889</th>\n",
       "      <td>MGYP003109256094</td>\n",
       "      <td>7U4H</td>\n",
       "      <td>0.013</td>\n",
       "      <td>731</td>\n",
       "      <td>160</td>\n",
       "      <td>55</td>\n",
       "      <td>1</td>\n",
       "      <td>393</td>\n",
       "      <td>64</td>\n",
       "      <td>571</td>\n",
       "      <td>0.2213</td>\n",
       "      <td>0.25</td>\n",
       "      <td>0.057</td>\n",
       "    </tr>\n",
       "    <tr>\n",
       "      <th>19890</th>\n",
       "      <td>MGYP003109256094</td>\n",
       "      <td>3HZS</td>\n",
       "      <td>0.015</td>\n",
       "      <td>257</td>\n",
       "      <td>97</td>\n",
       "      <td>28</td>\n",
       "      <td>232</td>\n",
       "      <td>386</td>\n",
       "      <td>7</td>\n",
       "      <td>209</td>\n",
       "      <td>0.2191</td>\n",
       "      <td>0.16</td>\n",
       "      <td>0.014</td>\n",
       "    </tr>\n",
       "    <tr>\n",
       "      <th>19891</th>\n",
       "      <td>MGYP003109256094</td>\n",
       "      <td>7Y4I</td>\n",
       "      <td>0.026</td>\n",
       "      <td>491</td>\n",
       "      <td>155</td>\n",
       "      <td>36</td>\n",
       "      <td>53</td>\n",
       "      <td>355</td>\n",
       "      <td>206</td>\n",
       "      <td>561</td>\n",
       "      <td>0.2018</td>\n",
       "      <td>0.25</td>\n",
       "      <td>0.057</td>\n",
       "    </tr>\n",
       "    <tr>\n",
       "      <th>19892</th>\n",
       "      <td>MGYP003109256094</td>\n",
       "      <td>7POG</td>\n",
       "      <td>0.014</td>\n",
       "      <td>1558</td>\n",
       "      <td>203</td>\n",
       "      <td>73</td>\n",
       "      <td>7</td>\n",
       "      <td>393</td>\n",
       "      <td>562</td>\n",
       "      <td>1957</td>\n",
       "      <td>0.1965</td>\n",
       "      <td>0.31</td>\n",
       "      <td>0.098</td>\n",
       "    </tr>\n",
       "  </tbody>\n",
       "</table>\n",
       "<p>19893 rows × 13 columns</p>\n",
       "</div>"
      ],
      "text/plain": [
       "                  Query Target  Identity  Aligned Length  \\\n",
       "0      MGYP001572126581   5MLZ     0.320             243   \n",
       "1      MGYP001572126581   4DEC     0.119             252   \n",
       "2      MGYP001572126581   7QCP     0.131             251   \n",
       "3      MGYP001572126581   3F1Y     0.113             255   \n",
       "4      MGYP001572126581   3BCV     0.153             222   \n",
       "...                 ...    ...       ...             ...   \n",
       "19888  MGYP003109256094   5MLZ     0.024             406   \n",
       "19889  MGYP003109256094   7U4H     0.013             731   \n",
       "19890  MGYP003109256094   3HZS     0.015             257   \n",
       "19891  MGYP003109256094   7Y4I     0.026             491   \n",
       "19892  MGYP003109256094   7POG     0.014            1558   \n",
       "\n",
       "       Number of Mismatches  Gap Openings  Query Start  Query End  \\\n",
       "0                       146            14            1        235   \n",
       "1                       177            21            1        233   \n",
       "2                       177            19            1        233   \n",
       "3                       187            19            1        235   \n",
       "4                       139            13            1        201   \n",
       "...                     ...           ...          ...        ...   \n",
       "19888                   120            19           49        299   \n",
       "19889                   160            55            1        393   \n",
       "19890                    97            28          232        386   \n",
       "19891                   155            36           53        355   \n",
       "19892                   203            73            7        393   \n",
       "\n",
       "       Target Start  Target End  E-Value  TM-Score  Probability  \n",
       "0                 4         235   0.7405      0.88        0.995  \n",
       "1                25         250   0.7020      0.76        0.971  \n",
       "2                35         262   0.7002      0.76        0.971  \n",
       "3                33         268   0.6987      0.79        0.981  \n",
       "4                 3         196   0.6967      0.63        0.837  \n",
       "...             ...         ...      ...       ...          ...  \n",
       "19888            11         295   0.2221      0.21        0.034  \n",
       "19889            64         571   0.2213      0.25        0.057  \n",
       "19890             7         209   0.2191      0.16        0.014  \n",
       "19891           206         561   0.2018      0.25        0.057  \n",
       "19892           562        1957   0.1965      0.31        0.098  \n",
       "\n",
       "[19893 rows x 13 columns]"
      ]
     },
     "execution_count": 8,
     "metadata": {},
     "output_type": "execute_result"
    }
   ],
   "source": [
    "import pandas as pd\n",
    "\n",
    "foldseek_df = pd.read_csv(\"../metadata/cazy_foldseek_search.tsv\", sep=\"\\t\").rename(\n",
    "columns={\"query\": \"Query\", \"target\": \"Target\", \"fident\": \"Identity\", \"alnlen\": \"Aligned Length\", \"mismatch\": \"Number of Mismatches\",\n",
    "         \"gapopen\": \"Gap Openings\", \"qstart\": \"Query Start\", \"qend\": \"Query End\", \"tstart\": \"Target Start\",\n",
    "         \"tend\": \"Target End\", \"evalue\": \"E-Value\", \"bits\": \"TM-Score\", \"prob\": \"Probability\"})\n",
    "\n",
    "foldseek_df[\"Query\"] = foldseek_df[\"Query\"].str[:-4]\n",
    "foldseek_df[\"Target\"] = foldseek_df[\"Target\"].str[:-4]\n",
    "foldseek_df[\"TM-Score\"] = foldseek_df[\"TM-Score\"] / 100\n",
    "\n",
    "foldseek_df"
   ]
  },
  {
   "cell_type": "markdown",
   "metadata": {},
   "source": [
    "Note that we've got nearly 20,000 hits, because Foldseek just gives us back all hits for each query. Let's narrow this down to only the best hit:"
   ]
  },
  {
   "cell_type": "code",
   "execution_count": 9,
   "metadata": {},
   "outputs": [
    {
     "data": {
      "text/html": [
       "<div>\n",
       "<style scoped>\n",
       "    .dataframe tbody tr th:only-of-type {\n",
       "        vertical-align: middle;\n",
       "    }\n",
       "\n",
       "    .dataframe tbody tr th {\n",
       "        vertical-align: top;\n",
       "    }\n",
       "\n",
       "    .dataframe thead th {\n",
       "        text-align: right;\n",
       "    }\n",
       "</style>\n",
       "<table border=\"1\" class=\"dataframe\">\n",
       "  <thead>\n",
       "    <tr style=\"text-align: right;\">\n",
       "      <th></th>\n",
       "      <th>Query</th>\n",
       "      <th>Target</th>\n",
       "      <th>Identity</th>\n",
       "      <th>Aligned Length</th>\n",
       "      <th>Number of Mismatches</th>\n",
       "      <th>Gap Openings</th>\n",
       "      <th>Query Start</th>\n",
       "      <th>Query End</th>\n",
       "      <th>Target Start</th>\n",
       "      <th>Target End</th>\n",
       "      <th>E-Value</th>\n",
       "      <th>TM-Score</th>\n",
       "      <th>Probability</th>\n",
       "    </tr>\n",
       "  </thead>\n",
       "  <tbody>\n",
       "    <tr>\n",
       "      <th>0</th>\n",
       "      <td>MGYP001186727001</td>\n",
       "      <td>5VQM</td>\n",
       "      <td>0.096</td>\n",
       "      <td>52</td>\n",
       "      <td>43</td>\n",
       "      <td>3</td>\n",
       "      <td>7</td>\n",
       "      <td>56</td>\n",
       "      <td>39</td>\n",
       "      <td>88</td>\n",
       "      <td>0.3578</td>\n",
       "      <td>0.62</td>\n",
       "      <td>0.817</td>\n",
       "    </tr>\n",
       "    <tr>\n",
       "      <th>1</th>\n",
       "      <td>MGYP001196446441</td>\n",
       "      <td>6APL</td>\n",
       "      <td>0.161</td>\n",
       "      <td>236</td>\n",
       "      <td>145</td>\n",
       "      <td>13</td>\n",
       "      <td>1</td>\n",
       "      <td>203</td>\n",
       "      <td>78</td>\n",
       "      <td>293</td>\n",
       "      <td>0.6417</td>\n",
       "      <td>0.74</td>\n",
       "      <td>0.961</td>\n",
       "    </tr>\n",
       "    <tr>\n",
       "      <th>2</th>\n",
       "      <td>MGYP001316708597</td>\n",
       "      <td>7SP8</td>\n",
       "      <td>0.081</td>\n",
       "      <td>370</td>\n",
       "      <td>184</td>\n",
       "      <td>23</td>\n",
       "      <td>1</td>\n",
       "      <td>223</td>\n",
       "      <td>41</td>\n",
       "      <td>401</td>\n",
       "      <td>0.5862</td>\n",
       "      <td>0.79</td>\n",
       "      <td>0.981</td>\n",
       "    </tr>\n",
       "    <tr>\n",
       "      <th>3</th>\n",
       "      <td>MGYP001324906288</td>\n",
       "      <td>6E4R</td>\n",
       "      <td>0.108</td>\n",
       "      <td>294</td>\n",
       "      <td>191</td>\n",
       "      <td>17</td>\n",
       "      <td>1</td>\n",
       "      <td>239</td>\n",
       "      <td>67</td>\n",
       "      <td>344</td>\n",
       "      <td>0.5730</td>\n",
       "      <td>0.75</td>\n",
       "      <td>0.967</td>\n",
       "    </tr>\n",
       "    <tr>\n",
       "      <th>4</th>\n",
       "      <td>MGYP001364174740</td>\n",
       "      <td>6FSN</td>\n",
       "      <td>0.066</td>\n",
       "      <td>317</td>\n",
       "      <td>203</td>\n",
       "      <td>27</td>\n",
       "      <td>2</td>\n",
       "      <td>267</td>\n",
       "      <td>1</td>\n",
       "      <td>275</td>\n",
       "      <td>0.6753</td>\n",
       "      <td>0.68</td>\n",
       "      <td>0.912</td>\n",
       "    </tr>\n",
       "    <tr>\n",
       "      <th>...</th>\n",
       "      <td>...</td>\n",
       "      <td>...</td>\n",
       "      <td>...</td>\n",
       "      <td>...</td>\n",
       "      <td>...</td>\n",
       "      <td>...</td>\n",
       "      <td>...</td>\n",
       "      <td>...</td>\n",
       "      <td>...</td>\n",
       "      <td>...</td>\n",
       "      <td>...</td>\n",
       "      <td>...</td>\n",
       "      <td>...</td>\n",
       "    </tr>\n",
       "    <tr>\n",
       "      <th>93</th>\n",
       "      <td>MGYP003624946996</td>\n",
       "      <td>7D5K</td>\n",
       "      <td>0.036</td>\n",
       "      <td>463</td>\n",
       "      <td>232</td>\n",
       "      <td>23</td>\n",
       "      <td>1</td>\n",
       "      <td>265</td>\n",
       "      <td>88</td>\n",
       "      <td>534</td>\n",
       "      <td>0.5218</td>\n",
       "      <td>0.74</td>\n",
       "      <td>0.961</td>\n",
       "    </tr>\n",
       "    <tr>\n",
       "      <th>94</th>\n",
       "      <td>MGYP003626144850</td>\n",
       "      <td>3S28</td>\n",
       "      <td>0.051</td>\n",
       "      <td>603</td>\n",
       "      <td>298</td>\n",
       "      <td>37</td>\n",
       "      <td>9</td>\n",
       "      <td>343</td>\n",
       "      <td>157</td>\n",
       "      <td>753</td>\n",
       "      <td>0.5677</td>\n",
       "      <td>0.76</td>\n",
       "      <td>0.971</td>\n",
       "    </tr>\n",
       "    <tr>\n",
       "      <th>95</th>\n",
       "      <td>MGYP003626144883</td>\n",
       "      <td>3Q3E</td>\n",
       "      <td>0.034</td>\n",
       "      <td>435</td>\n",
       "      <td>143</td>\n",
       "      <td>26</td>\n",
       "      <td>8</td>\n",
       "      <td>199</td>\n",
       "      <td>179</td>\n",
       "      <td>579</td>\n",
       "      <td>0.3804</td>\n",
       "      <td>0.54</td>\n",
       "      <td>0.601</td>\n",
       "    </tr>\n",
       "    <tr>\n",
       "      <th>96</th>\n",
       "      <td>MGYP003631920257</td>\n",
       "      <td>6E4R</td>\n",
       "      <td>0.089</td>\n",
       "      <td>323</td>\n",
       "      <td>190</td>\n",
       "      <td>25</td>\n",
       "      <td>1</td>\n",
       "      <td>240</td>\n",
       "      <td>68</td>\n",
       "      <td>369</td>\n",
       "      <td>0.5751</td>\n",
       "      <td>0.76</td>\n",
       "      <td>0.971</td>\n",
       "    </tr>\n",
       "    <tr>\n",
       "      <th>97</th>\n",
       "      <td>MGYP003631929264</td>\n",
       "      <td>7STL</td>\n",
       "      <td>0.004</td>\n",
       "      <td>604</td>\n",
       "      <td>104</td>\n",
       "      <td>28</td>\n",
       "      <td>45</td>\n",
       "      <td>173</td>\n",
       "      <td>9</td>\n",
       "      <td>589</td>\n",
       "      <td>0.2236</td>\n",
       "      <td>0.33</td>\n",
       "      <td>0.116</td>\n",
       "    </tr>\n",
       "  </tbody>\n",
       "</table>\n",
       "<p>98 rows × 13 columns</p>\n",
       "</div>"
      ],
      "text/plain": [
       "               Query Target  Identity  Aligned Length  Number of Mismatches  \\\n",
       "0   MGYP001186727001   5VQM     0.096              52                    43   \n",
       "1   MGYP001196446441   6APL     0.161             236                   145   \n",
       "2   MGYP001316708597   7SP8     0.081             370                   184   \n",
       "3   MGYP001324906288   6E4R     0.108             294                   191   \n",
       "4   MGYP001364174740   6FSN     0.066             317                   203   \n",
       "..               ...    ...       ...             ...                   ...   \n",
       "93  MGYP003624946996   7D5K     0.036             463                   232   \n",
       "94  MGYP003626144850   3S28     0.051             603                   298   \n",
       "95  MGYP003626144883   3Q3E     0.034             435                   143   \n",
       "96  MGYP003631920257   6E4R     0.089             323                   190   \n",
       "97  MGYP003631929264   7STL     0.004             604                   104   \n",
       "\n",
       "    Gap Openings  Query Start  Query End  Target Start  Target End  E-Value  \\\n",
       "0              3            7         56            39          88   0.3578   \n",
       "1             13            1        203            78         293   0.6417   \n",
       "2             23            1        223            41         401   0.5862   \n",
       "3             17            1        239            67         344   0.5730   \n",
       "4             27            2        267             1         275   0.6753   \n",
       "..           ...          ...        ...           ...         ...      ...   \n",
       "93            23            1        265            88         534   0.5218   \n",
       "94            37            9        343           157         753   0.5677   \n",
       "95            26            8        199           179         579   0.3804   \n",
       "96            25            1        240            68         369   0.5751   \n",
       "97            28           45        173             9         589   0.2236   \n",
       "\n",
       "    TM-Score  Probability  \n",
       "0       0.62        0.817  \n",
       "1       0.74        0.961  \n",
       "2       0.79        0.981  \n",
       "3       0.75        0.967  \n",
       "4       0.68        0.912  \n",
       "..       ...          ...  \n",
       "93      0.74        0.961  \n",
       "94      0.76        0.971  \n",
       "95      0.54        0.601  \n",
       "96      0.76        0.971  \n",
       "97      0.33        0.116  \n",
       "\n",
       "[98 rows x 13 columns]"
      ]
     },
     "execution_count": 9,
     "metadata": {},
     "output_type": "execute_result"
    }
   ],
   "source": [
    "best_hits = foldseek_df.sort_values(by=\"Probability\", ascending=False).groupby(\"Query\").first().reset_index()\n",
    "best_hits"
   ]
  },
  {
   "cell_type": "markdown",
   "metadata": {},
   "source": [
    "Now, let's load our CAZY DataFrame, and add the CAZY family information to our Foldseek hits DataFrame:"
   ]
  },
  {
   "cell_type": "code",
   "execution_count": 10,
   "metadata": {},
   "outputs": [
    {
     "data": {
      "text/html": [
       "<div>\n",
       "<style scoped>\n",
       "    .dataframe tbody tr th:only-of-type {\n",
       "        vertical-align: middle;\n",
       "    }\n",
       "\n",
       "    .dataframe tbody tr th {\n",
       "        vertical-align: top;\n",
       "    }\n",
       "\n",
       "    .dataframe thead th {\n",
       "        text-align: right;\n",
       "    }\n",
       "</style>\n",
       "<table border=\"1\" class=\"dataframe\">\n",
       "  <thead>\n",
       "    <tr style=\"text-align: right;\">\n",
       "      <th></th>\n",
       "      <th>Query</th>\n",
       "      <th>Target</th>\n",
       "      <th>Identity</th>\n",
       "      <th>Aligned Length</th>\n",
       "      <th>Number of Mismatches</th>\n",
       "      <th>Gap Openings</th>\n",
       "      <th>Query Start</th>\n",
       "      <th>Query End</th>\n",
       "      <th>Target Start</th>\n",
       "      <th>Target End</th>\n",
       "      <th>...</th>\n",
       "      <th>Probability</th>\n",
       "      <th>PDB Code</th>\n",
       "      <th>Ligand</th>\n",
       "      <th>Resolution</th>\n",
       "      <th>Protein Name</th>\n",
       "      <th>EC#</th>\n",
       "      <th>Organism</th>\n",
       "      <th>GenBank</th>\n",
       "      <th>Uniprot</th>\n",
       "      <th>Family</th>\n",
       "    </tr>\n",
       "  </thead>\n",
       "  <tbody>\n",
       "    <tr>\n",
       "      <th>0</th>\n",
       "      <td>MGYP001186727001</td>\n",
       "      <td>5VQM</td>\n",
       "      <td>0.096</td>\n",
       "      <td>52</td>\n",
       "      <td>43</td>\n",
       "      <td>3</td>\n",
       "      <td>7</td>\n",
       "      <td>56</td>\n",
       "      <td>39</td>\n",
       "      <td>88</td>\n",
       "      <td>...</td>\n",
       "      <td>0.817</td>\n",
       "      <td>5VQM[A,B]</td>\n",
       "      <td>NaN</td>\n",
       "      <td>2.79</td>\n",
       "      <td>CDR20291_0582 (TcdB)</td>\n",
       "      <td>NaN</td>\n",
       "      <td>Clostridioides difficile R20291</td>\n",
       "      <td>CBE02479.1AVB36394.1</td>\n",
       "      <td>NaN</td>\n",
       "      <td>44</td>\n",
       "    </tr>\n",
       "    <tr>\n",
       "      <th>1</th>\n",
       "      <td>MGYP001196446441</td>\n",
       "      <td>6APL</td>\n",
       "      <td>0.161</td>\n",
       "      <td>236</td>\n",
       "      <td>145</td>\n",
       "      <td>13</td>\n",
       "      <td>1</td>\n",
       "      <td>203</td>\n",
       "      <td>78</td>\n",
       "      <td>293</td>\n",
       "      <td>...</td>\n",
       "      <td>0.961</td>\n",
       "      <td>6APL[A,B,C,D,E,F]</td>\n",
       "      <td>NaN</td>\n",
       "      <td>2.35</td>\n",
       "      <td>CMP-NeuAc:N-acetylgalactosaminide α-2,6-sialyl...</td>\n",
       "      <td>2.4.3.3</td>\n",
       "      <td>Homo sapiens</td>\n",
       "      <td>AAH40455.1AAA52228.1AAV38775.1CAB61434.1CAS916...</td>\n",
       "      <td>A0A024R8M1Q9UJ37</td>\n",
       "      <td>29</td>\n",
       "    </tr>\n",
       "    <tr>\n",
       "      <th>2</th>\n",
       "      <td>MGYP001316708597</td>\n",
       "      <td>7SP8</td>\n",
       "      <td>0.081</td>\n",
       "      <td>370</td>\n",
       "      <td>184</td>\n",
       "      <td>23</td>\n",
       "      <td>1</td>\n",
       "      <td>223</td>\n",
       "      <td>41</td>\n",
       "      <td>401</td>\n",
       "      <td>...</td>\n",
       "      <td>0.981</td>\n",
       "      <td>7SP8[A]</td>\n",
       "      <td>NaN</td>\n",
       "      <td>2.70</td>\n",
       "      <td>hyaluronan synthase (PBCVCZ2_118R;Cz-2_118R)</td>\n",
       "      <td>2.4.1.212</td>\n",
       "      <td>Paramecium bursaria Chlorella virus CZ-2</td>\n",
       "      <td>AGE52748.1</td>\n",
       "      <td>M1H2Q1</td>\n",
       "      <td>2</td>\n",
       "    </tr>\n",
       "    <tr>\n",
       "      <th>3</th>\n",
       "      <td>MGYP001379529187</td>\n",
       "      <td>7SP8</td>\n",
       "      <td>0.074</td>\n",
       "      <td>374</td>\n",
       "      <td>186</td>\n",
       "      <td>24</td>\n",
       "      <td>1</td>\n",
       "      <td>223</td>\n",
       "      <td>41</td>\n",
       "      <td>405</td>\n",
       "      <td>...</td>\n",
       "      <td>0.984</td>\n",
       "      <td>7SP8[A]</td>\n",
       "      <td>NaN</td>\n",
       "      <td>2.70</td>\n",
       "      <td>hyaluronan synthase (PBCVCZ2_118R;Cz-2_118R)</td>\n",
       "      <td>2.4.1.212</td>\n",
       "      <td>Paramecium bursaria Chlorella virus CZ-2</td>\n",
       "      <td>AGE52748.1</td>\n",
       "      <td>M1H2Q1</td>\n",
       "      <td>2</td>\n",
       "    </tr>\n",
       "    <tr>\n",
       "      <th>4</th>\n",
       "      <td>MGYP003324939103</td>\n",
       "      <td>7SP8</td>\n",
       "      <td>0.030</td>\n",
       "      <td>465</td>\n",
       "      <td>202</td>\n",
       "      <td>37</td>\n",
       "      <td>1</td>\n",
       "      <td>227</td>\n",
       "      <td>44</td>\n",
       "      <td>497</td>\n",
       "      <td>...</td>\n",
       "      <td>0.912</td>\n",
       "      <td>7SP8[A]</td>\n",
       "      <td>NaN</td>\n",
       "      <td>2.70</td>\n",
       "      <td>hyaluronan synthase (PBCVCZ2_118R;Cz-2_118R)</td>\n",
       "      <td>2.4.1.212</td>\n",
       "      <td>Paramecium bursaria Chlorella virus CZ-2</td>\n",
       "      <td>AGE52748.1</td>\n",
       "      <td>M1H2Q1</td>\n",
       "      <td>2</td>\n",
       "    </tr>\n",
       "    <tr>\n",
       "      <th>...</th>\n",
       "      <td>...</td>\n",
       "      <td>...</td>\n",
       "      <td>...</td>\n",
       "      <td>...</td>\n",
       "      <td>...</td>\n",
       "      <td>...</td>\n",
       "      <td>...</td>\n",
       "      <td>...</td>\n",
       "      <td>...</td>\n",
       "      <td>...</td>\n",
       "      <td>...</td>\n",
       "      <td>...</td>\n",
       "      <td>...</td>\n",
       "      <td>...</td>\n",
       "      <td>...</td>\n",
       "      <td>...</td>\n",
       "      <td>...</td>\n",
       "      <td>...</td>\n",
       "      <td>...</td>\n",
       "      <td>...</td>\n",
       "      <td>...</td>\n",
       "    </tr>\n",
       "    <tr>\n",
       "      <th>98</th>\n",
       "      <td>MGYP003341041315</td>\n",
       "      <td>1XV5</td>\n",
       "      <td>0.028</td>\n",
       "      <td>418</td>\n",
       "      <td>114</td>\n",
       "      <td>26</td>\n",
       "      <td>1</td>\n",
       "      <td>146</td>\n",
       "      <td>4</td>\n",
       "      <td>401</td>\n",
       "      <td>...</td>\n",
       "      <td>0.442</td>\n",
       "      <td>1XV5[A]</td>\n",
       "      <td>NaN</td>\n",
       "      <td>1.73</td>\n",
       "      <td>DNA α-glucosyltransferase (AGT;α-Gt)</td>\n",
       "      <td>2.4.1.26</td>\n",
       "      <td>Tequatrovirus T4</td>\n",
       "      <td>CAA25940.1AAC05390.1AAD42527.1NP_049673.1</td>\n",
       "      <td>D9IE91P04519</td>\n",
       "      <td>72</td>\n",
       "    </tr>\n",
       "    <tr>\n",
       "      <th>99</th>\n",
       "      <td>MGYP003388175355</td>\n",
       "      <td>4PHR</td>\n",
       "      <td>0.074</td>\n",
       "      <td>283</td>\n",
       "      <td>183</td>\n",
       "      <td>27</td>\n",
       "      <td>2</td>\n",
       "      <td>244</td>\n",
       "      <td>11</td>\n",
       "      <td>254</td>\n",
       "      <td>...</td>\n",
       "      <td>0.772</td>\n",
       "      <td>4PHR[A]</td>\n",
       "      <td>NaN</td>\n",
       "      <td>1.34</td>\n",
       "      <td>bimodular dual β-glycosyltransferase, N-term G...</td>\n",
       "      <td>2.4.1.-</td>\n",
       "      <td>Streptococcus parasanguinis FW213</td>\n",
       "      <td>ACF35268.1AFJ26875.1</td>\n",
       "      <td>B5A7M0I1ZPA1</td>\n",
       "      <td>101</td>\n",
       "    </tr>\n",
       "    <tr>\n",
       "      <th>100</th>\n",
       "      <td>MGYP003624946924</td>\n",
       "      <td>8D3T</td>\n",
       "      <td>0.046</td>\n",
       "      <td>323</td>\n",
       "      <td>194</td>\n",
       "      <td>24</td>\n",
       "      <td>1</td>\n",
       "      <td>278</td>\n",
       "      <td>132</td>\n",
       "      <td>385</td>\n",
       "      <td>...</td>\n",
       "      <td>0.632</td>\n",
       "      <td>8D3T[A,B,C,D]</td>\n",
       "      <td>D-1-deoxy-GlcpNAc</td>\n",
       "      <td>2.37</td>\n",
       "      <td>galactan β-1,4-galactosyltransferase (GalS1; G...</td>\n",
       "      <td>2.4.1.-2.4.2.-</td>\n",
       "      <td>Populus trichocarpa</td>\n",
       "      <td>XP_002307008.3</td>\n",
       "      <td>NaN</td>\n",
       "      <td>92</td>\n",
       "    </tr>\n",
       "    <tr>\n",
       "      <th>101</th>\n",
       "      <td>MGYP003624946928</td>\n",
       "      <td>5KWK</td>\n",
       "      <td>0.079</td>\n",
       "      <td>392</td>\n",
       "      <td>200</td>\n",
       "      <td>27</td>\n",
       "      <td>1</td>\n",
       "      <td>255</td>\n",
       "      <td>73</td>\n",
       "      <td>440</td>\n",
       "      <td>...</td>\n",
       "      <td>0.912</td>\n",
       "      <td>5KWK[A,B]</td>\n",
       "      <td>NaN</td>\n",
       "      <td>1.90</td>\n",
       "      <td>xyloglucan α-1,2-fucosyltransferase 1 (Fut1;Ft...</td>\n",
       "      <td>2.4.1.69</td>\n",
       "      <td>Arabidopsis thaliana</td>\n",
       "      <td>AAD41092.1AAC34480.1AAM98135.1AAO00837.1AAO300...</td>\n",
       "      <td>Q9SWH5W8PV36</td>\n",
       "      <td>37</td>\n",
       "    </tr>\n",
       "    <tr>\n",
       "      <th>102</th>\n",
       "      <td>MGYP003626144883</td>\n",
       "      <td>3Q3E</td>\n",
       "      <td>0.034</td>\n",
       "      <td>435</td>\n",
       "      <td>143</td>\n",
       "      <td>26</td>\n",
       "      <td>8</td>\n",
       "      <td>199</td>\n",
       "      <td>179</td>\n",
       "      <td>579</td>\n",
       "      <td>...</td>\n",
       "      <td>0.601</td>\n",
       "      <td>3Q3E[A,B]</td>\n",
       "      <td>NaN</td>\n",
       "      <td>2.10</td>\n",
       "      <td>UDP-Glc: protein N-β-glucosyltransferase (HMW1...</td>\n",
       "      <td>2.4.1.-</td>\n",
       "      <td>Actinobacillus pleuropneumoniae serovar 5b str...</td>\n",
       "      <td>ABN74719.1</td>\n",
       "      <td>A3N2T3</td>\n",
       "      <td>41</td>\n",
       "    </tr>\n",
       "  </tbody>\n",
       "</table>\n",
       "<p>103 rows × 22 columns</p>\n",
       "</div>"
      ],
      "text/plain": [
       "                Query Target  Identity  Aligned Length  Number of Mismatches  \\\n",
       "0    MGYP001186727001   5VQM     0.096              52                    43   \n",
       "1    MGYP001196446441   6APL     0.161             236                   145   \n",
       "2    MGYP001316708597   7SP8     0.081             370                   184   \n",
       "3    MGYP001379529187   7SP8     0.074             374                   186   \n",
       "4    MGYP003324939103   7SP8     0.030             465                   202   \n",
       "..                ...    ...       ...             ...                   ...   \n",
       "98   MGYP003341041315   1XV5     0.028             418                   114   \n",
       "99   MGYP003388175355   4PHR     0.074             283                   183   \n",
       "100  MGYP003624946924   8D3T     0.046             323                   194   \n",
       "101  MGYP003624946928   5KWK     0.079             392                   200   \n",
       "102  MGYP003626144883   3Q3E     0.034             435                   143   \n",
       "\n",
       "     Gap Openings  Query Start  Query End  Target Start  Target End  ...  \\\n",
       "0               3            7         56            39          88  ...   \n",
       "1              13            1        203            78         293  ...   \n",
       "2              23            1        223            41         401  ...   \n",
       "3              24            1        223            41         405  ...   \n",
       "4              37            1        227            44         497  ...   \n",
       "..            ...          ...        ...           ...         ...  ...   \n",
       "98             26            1        146             4         401  ...   \n",
       "99             27            2        244            11         254  ...   \n",
       "100            24            1        278           132         385  ...   \n",
       "101            27            1        255            73         440  ...   \n",
       "102            26            8        199           179         579  ...   \n",
       "\n",
       "     Probability           PDB Code               Ligand Resolution  \\\n",
       "0          0.817          5VQM[A,B]                  NaN       2.79   \n",
       "1          0.961  6APL[A,B,C,D,E,F]                  NaN       2.35   \n",
       "2          0.981            7SP8[A]                  NaN       2.70   \n",
       "3          0.984            7SP8[A]                  NaN       2.70   \n",
       "4          0.912            7SP8[A]                  NaN       2.70   \n",
       "..           ...                ...                  ...        ...   \n",
       "98         0.442            1XV5[A]                  NaN       1.73   \n",
       "99         0.772            4PHR[A]                  NaN       1.34   \n",
       "100        0.632      8D3T[A,B,C,D]  D-1-deoxy-GlcpNAc         2.37   \n",
       "101        0.912          5KWK[A,B]                  NaN       1.90   \n",
       "102        0.601          3Q3E[A,B]                  NaN       2.10   \n",
       "\n",
       "                                          Protein Name             EC#  \\\n",
       "0                                 CDR20291_0582 (TcdB)             NaN   \n",
       "1    CMP-NeuAc:N-acetylgalactosaminide α-2,6-sialyl...         2.4.3.3   \n",
       "2         hyaluronan synthase (PBCVCZ2_118R;Cz-2_118R)       2.4.1.212   \n",
       "3         hyaluronan synthase (PBCVCZ2_118R;Cz-2_118R)       2.4.1.212   \n",
       "4         hyaluronan synthase (PBCVCZ2_118R;Cz-2_118R)       2.4.1.212   \n",
       "..                                                 ...             ...   \n",
       "98                DNA α-glucosyltransferase (AGT;α-Gt)        2.4.1.26   \n",
       "99   bimodular dual β-glycosyltransferase, N-term G...         2.4.1.-   \n",
       "100  galactan β-1,4-galactosyltransferase (GalS1; G...  2.4.1.-2.4.2.-   \n",
       "101  xyloglucan α-1,2-fucosyltransferase 1 (Fut1;Ft...        2.4.1.69   \n",
       "102  UDP-Glc: protein N-β-glucosyltransferase (HMW1...         2.4.1.-   \n",
       "\n",
       "                                              Organism  \\\n",
       "0                      Clostridioides difficile R20291   \n",
       "1                                         Homo sapiens   \n",
       "2             Paramecium bursaria Chlorella virus CZ-2   \n",
       "3             Paramecium bursaria Chlorella virus CZ-2   \n",
       "4             Paramecium bursaria Chlorella virus CZ-2   \n",
       "..                                                 ...   \n",
       "98                                    Tequatrovirus T4   \n",
       "99                   Streptococcus parasanguinis FW213   \n",
       "100                                Populus trichocarpa   \n",
       "101                               Arabidopsis thaliana   \n",
       "102  Actinobacillus pleuropneumoniae serovar 5b str...   \n",
       "\n",
       "                                               GenBank           Uniprot  \\\n",
       "0                                 CBE02479.1AVB36394.1               NaN   \n",
       "1    AAH40455.1AAA52228.1AAV38775.1CAB61434.1CAS916...  A0A024R8M1Q9UJ37   \n",
       "2                                           AGE52748.1            M1H2Q1   \n",
       "3                                           AGE52748.1            M1H2Q1   \n",
       "4                                           AGE52748.1            M1H2Q1   \n",
       "..                                                 ...               ...   \n",
       "98           CAA25940.1AAC05390.1AAD42527.1NP_049673.1      D9IE91P04519   \n",
       "99                                ACF35268.1AFJ26875.1      B5A7M0I1ZPA1   \n",
       "100                                     XP_002307008.3               NaN   \n",
       "101  AAD41092.1AAC34480.1AAM98135.1AAO00837.1AAO300...      Q9SWH5W8PV36   \n",
       "102                                         ABN74719.1            A3N2T3   \n",
       "\n",
       "    Family  \n",
       "0       44  \n",
       "1       29  \n",
       "2        2  \n",
       "3        2  \n",
       "4        2  \n",
       "..     ...  \n",
       "98      72  \n",
       "99     101  \n",
       "100     92  \n",
       "101     37  \n",
       "102     41  \n",
       "\n",
       "[103 rows x 22 columns]"
      ]
     },
     "execution_count": 10,
     "metadata": {},
     "output_type": "execute_result"
    }
   ],
   "source": [
    "cazy_df = pd.read_csv(\"../metadata/cazy_structures.csv\")\n",
    "cazy_df[\"Target\"] = cazy_df[\"PDB Code\"].str.split(\"[\").str[0]\n",
    "best_hits = best_hits.merge(cazy_df, on=\"Target\")\n",
    "best_hits"
   ]
  },
  {
   "cell_type": "markdown",
   "metadata": {},
   "source": [
    "Our hits contain a lot of fairly poor-quality hits, so let's filter by TM-Score:"
   ]
  },
  {
   "cell_type": "code",
   "execution_count": 13,
   "metadata": {},
   "outputs": [
    {
     "data": {
      "text/html": [
       "<div>\n",
       "<style scoped>\n",
       "    .dataframe tbody tr th:only-of-type {\n",
       "        vertical-align: middle;\n",
       "    }\n",
       "\n",
       "    .dataframe tbody tr th {\n",
       "        vertical-align: top;\n",
       "    }\n",
       "\n",
       "    .dataframe thead th {\n",
       "        text-align: right;\n",
       "    }\n",
       "</style>\n",
       "<table border=\"1\" class=\"dataframe\">\n",
       "  <thead>\n",
       "    <tr style=\"text-align: right;\">\n",
       "      <th></th>\n",
       "      <th>Query</th>\n",
       "      <th>Target</th>\n",
       "      <th>Identity</th>\n",
       "      <th>Aligned Length</th>\n",
       "      <th>Number of Mismatches</th>\n",
       "      <th>Gap Openings</th>\n",
       "      <th>Query Start</th>\n",
       "      <th>Query End</th>\n",
       "      <th>Target Start</th>\n",
       "      <th>Target End</th>\n",
       "      <th>...</th>\n",
       "      <th>Probability</th>\n",
       "      <th>PDB Code</th>\n",
       "      <th>Ligand</th>\n",
       "      <th>Resolution</th>\n",
       "      <th>Protein Name</th>\n",
       "      <th>EC#</th>\n",
       "      <th>Organism</th>\n",
       "      <th>GenBank</th>\n",
       "      <th>Uniprot</th>\n",
       "      <th>Family</th>\n",
       "    </tr>\n",
       "  </thead>\n",
       "  <tbody>\n",
       "    <tr>\n",
       "      <th>1</th>\n",
       "      <td>MGYP001196446441</td>\n",
       "      <td>6APL</td>\n",
       "      <td>0.161</td>\n",
       "      <td>236</td>\n",
       "      <td>145</td>\n",
       "      <td>13</td>\n",
       "      <td>1</td>\n",
       "      <td>203</td>\n",
       "      <td>78</td>\n",
       "      <td>293</td>\n",
       "      <td>...</td>\n",
       "      <td>0.961</td>\n",
       "      <td>6APL[A,B,C,D,E,F]</td>\n",
       "      <td>NaN</td>\n",
       "      <td>2.35</td>\n",
       "      <td>CMP-NeuAc:N-acetylgalactosaminide α-2,6-sialyl...</td>\n",
       "      <td>2.4.3.3</td>\n",
       "      <td>Homo sapiens</td>\n",
       "      <td>AAH40455.1AAA52228.1AAV38775.1CAB61434.1CAS916...</td>\n",
       "      <td>A0A024R8M1Q9UJ37</td>\n",
       "      <td>29</td>\n",
       "    </tr>\n",
       "    <tr>\n",
       "      <th>2</th>\n",
       "      <td>MGYP001316708597</td>\n",
       "      <td>7SP8</td>\n",
       "      <td>0.081</td>\n",
       "      <td>370</td>\n",
       "      <td>184</td>\n",
       "      <td>23</td>\n",
       "      <td>1</td>\n",
       "      <td>223</td>\n",
       "      <td>41</td>\n",
       "      <td>401</td>\n",
       "      <td>...</td>\n",
       "      <td>0.981</td>\n",
       "      <td>7SP8[A]</td>\n",
       "      <td>NaN</td>\n",
       "      <td>2.70</td>\n",
       "      <td>hyaluronan synthase (PBCVCZ2_118R;Cz-2_118R)</td>\n",
       "      <td>2.4.1.212</td>\n",
       "      <td>Paramecium bursaria Chlorella virus CZ-2</td>\n",
       "      <td>AGE52748.1</td>\n",
       "      <td>M1H2Q1</td>\n",
       "      <td>2</td>\n",
       "    </tr>\n",
       "    <tr>\n",
       "      <th>3</th>\n",
       "      <td>MGYP001379529187</td>\n",
       "      <td>7SP8</td>\n",
       "      <td>0.074</td>\n",
       "      <td>374</td>\n",
       "      <td>186</td>\n",
       "      <td>24</td>\n",
       "      <td>1</td>\n",
       "      <td>223</td>\n",
       "      <td>41</td>\n",
       "      <td>405</td>\n",
       "      <td>...</td>\n",
       "      <td>0.984</td>\n",
       "      <td>7SP8[A]</td>\n",
       "      <td>NaN</td>\n",
       "      <td>2.70</td>\n",
       "      <td>hyaluronan synthase (PBCVCZ2_118R;Cz-2_118R)</td>\n",
       "      <td>2.4.1.212</td>\n",
       "      <td>Paramecium bursaria Chlorella virus CZ-2</td>\n",
       "      <td>AGE52748.1</td>\n",
       "      <td>M1H2Q1</td>\n",
       "      <td>2</td>\n",
       "    </tr>\n",
       "    <tr>\n",
       "      <th>7</th>\n",
       "      <td>MGYP001324906288</td>\n",
       "      <td>6E4R</td>\n",
       "      <td>0.108</td>\n",
       "      <td>294</td>\n",
       "      <td>191</td>\n",
       "      <td>17</td>\n",
       "      <td>1</td>\n",
       "      <td>239</td>\n",
       "      <td>67</td>\n",
       "      <td>344</td>\n",
       "      <td>...</td>\n",
       "      <td>0.967</td>\n",
       "      <td>6E4R[A,B]</td>\n",
       "      <td>NaN</td>\n",
       "      <td>2.06</td>\n",
       "      <td>UDP-GalNAc: polypeptide α-N-acetylgalactosamin...</td>\n",
       "      <td>2.4.1.41</td>\n",
       "      <td>Drosophila melanogaster</td>\n",
       "      <td>AAF57964.2AAF57964.3AAF57966.2AAM51988.1ABL756...</td>\n",
       "      <td>Q8MRC9</td>\n",
       "      <td>27</td>\n",
       "    </tr>\n",
       "    <tr>\n",
       "      <th>8</th>\n",
       "      <td>MGYP003111233659</td>\n",
       "      <td>6E4R</td>\n",
       "      <td>0.075</td>\n",
       "      <td>331</td>\n",
       "      <td>220</td>\n",
       "      <td>30</td>\n",
       "      <td>1</td>\n",
       "      <td>265</td>\n",
       "      <td>63</td>\n",
       "      <td>373</td>\n",
       "      <td>...</td>\n",
       "      <td>0.967</td>\n",
       "      <td>6E4R[A,B]</td>\n",
       "      <td>NaN</td>\n",
       "      <td>2.06</td>\n",
       "      <td>UDP-GalNAc: polypeptide α-N-acetylgalactosamin...</td>\n",
       "      <td>2.4.1.41</td>\n",
       "      <td>Drosophila melanogaster</td>\n",
       "      <td>AAF57964.2AAF57964.3AAF57966.2AAM51988.1ABL756...</td>\n",
       "      <td>Q8MRC9</td>\n",
       "      <td>27</td>\n",
       "    </tr>\n",
       "  </tbody>\n",
       "</table>\n",
       "<p>5 rows × 22 columns</p>\n",
       "</div>"
      ],
      "text/plain": [
       "              Query Target  Identity  Aligned Length  Number of Mismatches  \\\n",
       "1  MGYP001196446441   6APL     0.161             236                   145   \n",
       "2  MGYP001316708597   7SP8     0.081             370                   184   \n",
       "3  MGYP001379529187   7SP8     0.074             374                   186   \n",
       "7  MGYP001324906288   6E4R     0.108             294                   191   \n",
       "8  MGYP003111233659   6E4R     0.075             331                   220   \n",
       "\n",
       "   Gap Openings  Query Start  Query End  Target Start  Target End  ...  \\\n",
       "1            13            1        203            78         293  ...   \n",
       "2            23            1        223            41         401  ...   \n",
       "3            24            1        223            41         405  ...   \n",
       "7            17            1        239            67         344  ...   \n",
       "8            30            1        265            63         373  ...   \n",
       "\n",
       "   Probability           PDB Code  Ligand Resolution  \\\n",
       "1        0.961  6APL[A,B,C,D,E,F]     NaN       2.35   \n",
       "2        0.981            7SP8[A]     NaN       2.70   \n",
       "3        0.984            7SP8[A]     NaN       2.70   \n",
       "7        0.967          6E4R[A,B]     NaN       2.06   \n",
       "8        0.967          6E4R[A,B]     NaN       2.06   \n",
       "\n",
       "                                        Protein Name        EC#  \\\n",
       "1  CMP-NeuAc:N-acetylgalactosaminide α-2,6-sialyl...    2.4.3.3   \n",
       "2       hyaluronan synthase (PBCVCZ2_118R;Cz-2_118R)  2.4.1.212   \n",
       "3       hyaluronan synthase (PBCVCZ2_118R;Cz-2_118R)  2.4.1.212   \n",
       "7  UDP-GalNAc: polypeptide α-N-acetylgalactosamin...   2.4.1.41   \n",
       "8  UDP-GalNAc: polypeptide α-N-acetylgalactosamin...   2.4.1.41   \n",
       "\n",
       "                                   Organism  \\\n",
       "1                              Homo sapiens   \n",
       "2  Paramecium bursaria Chlorella virus CZ-2   \n",
       "3  Paramecium bursaria Chlorella virus CZ-2   \n",
       "7                   Drosophila melanogaster   \n",
       "8                   Drosophila melanogaster   \n",
       "\n",
       "                                             GenBank           Uniprot Family  \n",
       "1  AAH40455.1AAA52228.1AAV38775.1CAB61434.1CAS916...  A0A024R8M1Q9UJ37     29  \n",
       "2                                         AGE52748.1            M1H2Q1      2  \n",
       "3                                         AGE52748.1            M1H2Q1      2  \n",
       "7  AAF57964.2AAF57964.3AAF57966.2AAM51988.1ABL756...            Q8MRC9     27  \n",
       "8  AAF57964.2AAF57964.3AAF57966.2AAM51988.1ABL756...            Q8MRC9     27  \n",
       "\n",
       "[5 rows x 22 columns]"
      ]
     },
     "execution_count": 13,
     "metadata": {},
     "output_type": "execute_result"
    }
   ],
   "source": [
    "best_hits = best_hits[best_hits[\"TM-Score\"] > 0.7]\n",
    "best_hits.head()"
   ]
  },
  {
   "cell_type": "markdown",
   "metadata": {},
   "source": [
    "What distribution of glycosyltransferase families do we have in our data?"
   ]
  },
  {
   "cell_type": "code",
   "execution_count": 17,
   "metadata": {},
   "outputs": [
    {
     "data": {
      "application/vnd.plotly.v1+json": {
       "config": {
        "plotlyServerURL": "https://plot.ly"
       },
       "data": [
        {
         "alignmentgroup": "True",
         "bingroup": "x",
         "hovertemplate": "Family=%{x}<br>count=%{y}<extra></extra>",
         "legendgroup": "",
         "marker": {
          "color": "rgb(95, 70, 144)",
          "pattern": {
           "shape": ""
          }
         },
         "name": "",
         "offsetgroup": "",
         "orientation": "v",
         "showlegend": false,
         "type": "histogram",
         "x": [
          "29",
          "2",
          "2",
          "27",
          "27",
          "27",
          "27",
          "27",
          "4",
          "4",
          "4",
          "4",
          "4",
          "4",
          "4",
          "4",
          "4",
          "4",
          "4",
          "4",
          "4",
          "4",
          "4",
          "2",
          "35",
          "44",
          "4",
          "2",
          "2",
          "68",
          "4",
          "35",
          "35",
          "2",
          "2",
          "2",
          "2",
          "2",
          "2",
          "2",
          "2",
          "2",
          "2",
          "44",
          "8",
          "111",
          "5",
          "4",
          "4",
          "4",
          "4",
          "27",
          "27",
          "Unclassified",
          "27"
         ],
         "xaxis": "x",
         "yaxis": "y"
        }
       ],
       "layout": {
        "barmode": "relative",
        "font": {
         "size": 16
        },
        "height": 600,
        "legend": {
         "tracegroupgap": 0
        },
        "margin": {
         "t": 60
        },
        "template": {
         "data": {
          "bar": [
           {
            "error_x": {
             "color": "#2a3f5f"
            },
            "error_y": {
             "color": "#2a3f5f"
            },
            "marker": {
             "line": {
              "color": "white",
              "width": 0.5
             },
             "pattern": {
              "fillmode": "overlay",
              "size": 10,
              "solidity": 0.2
             }
            },
            "type": "bar"
           }
          ],
          "barpolar": [
           {
            "marker": {
             "line": {
              "color": "white",
              "width": 0.5
             },
             "pattern": {
              "fillmode": "overlay",
              "size": 10,
              "solidity": 0.2
             }
            },
            "type": "barpolar"
           }
          ],
          "carpet": [
           {
            "aaxis": {
             "endlinecolor": "#2a3f5f",
             "gridcolor": "#C8D4E3",
             "linecolor": "#C8D4E3",
             "minorgridcolor": "#C8D4E3",
             "startlinecolor": "#2a3f5f"
            },
            "baxis": {
             "endlinecolor": "#2a3f5f",
             "gridcolor": "#C8D4E3",
             "linecolor": "#C8D4E3",
             "minorgridcolor": "#C8D4E3",
             "startlinecolor": "#2a3f5f"
            },
            "type": "carpet"
           }
          ],
          "choropleth": [
           {
            "colorbar": {
             "outlinewidth": 0,
             "ticks": ""
            },
            "type": "choropleth"
           }
          ],
          "contour": [
           {
            "colorbar": {
             "outlinewidth": 0,
             "ticks": ""
            },
            "colorscale": [
             [
              0,
              "#0d0887"
             ],
             [
              0.1111111111111111,
              "#46039f"
             ],
             [
              0.2222222222222222,
              "#7201a8"
             ],
             [
              0.3333333333333333,
              "#9c179e"
             ],
             [
              0.4444444444444444,
              "#bd3786"
             ],
             [
              0.5555555555555556,
              "#d8576b"
             ],
             [
              0.6666666666666666,
              "#ed7953"
             ],
             [
              0.7777777777777778,
              "#fb9f3a"
             ],
             [
              0.8888888888888888,
              "#fdca26"
             ],
             [
              1,
              "#f0f921"
             ]
            ],
            "type": "contour"
           }
          ],
          "contourcarpet": [
           {
            "colorbar": {
             "outlinewidth": 0,
             "ticks": ""
            },
            "type": "contourcarpet"
           }
          ],
          "heatmap": [
           {
            "colorbar": {
             "outlinewidth": 0,
             "ticks": ""
            },
            "colorscale": [
             [
              0,
              "#0d0887"
             ],
             [
              0.1111111111111111,
              "#46039f"
             ],
             [
              0.2222222222222222,
              "#7201a8"
             ],
             [
              0.3333333333333333,
              "#9c179e"
             ],
             [
              0.4444444444444444,
              "#bd3786"
             ],
             [
              0.5555555555555556,
              "#d8576b"
             ],
             [
              0.6666666666666666,
              "#ed7953"
             ],
             [
              0.7777777777777778,
              "#fb9f3a"
             ],
             [
              0.8888888888888888,
              "#fdca26"
             ],
             [
              1,
              "#f0f921"
             ]
            ],
            "type": "heatmap"
           }
          ],
          "heatmapgl": [
           {
            "colorbar": {
             "outlinewidth": 0,
             "ticks": ""
            },
            "colorscale": [
             [
              0,
              "#0d0887"
             ],
             [
              0.1111111111111111,
              "#46039f"
             ],
             [
              0.2222222222222222,
              "#7201a8"
             ],
             [
              0.3333333333333333,
              "#9c179e"
             ],
             [
              0.4444444444444444,
              "#bd3786"
             ],
             [
              0.5555555555555556,
              "#d8576b"
             ],
             [
              0.6666666666666666,
              "#ed7953"
             ],
             [
              0.7777777777777778,
              "#fb9f3a"
             ],
             [
              0.8888888888888888,
              "#fdca26"
             ],
             [
              1,
              "#f0f921"
             ]
            ],
            "type": "heatmapgl"
           }
          ],
          "histogram": [
           {
            "marker": {
             "pattern": {
              "fillmode": "overlay",
              "size": 10,
              "solidity": 0.2
             }
            },
            "type": "histogram"
           }
          ],
          "histogram2d": [
           {
            "colorbar": {
             "outlinewidth": 0,
             "ticks": ""
            },
            "colorscale": [
             [
              0,
              "#0d0887"
             ],
             [
              0.1111111111111111,
              "#46039f"
             ],
             [
              0.2222222222222222,
              "#7201a8"
             ],
             [
              0.3333333333333333,
              "#9c179e"
             ],
             [
              0.4444444444444444,
              "#bd3786"
             ],
             [
              0.5555555555555556,
              "#d8576b"
             ],
             [
              0.6666666666666666,
              "#ed7953"
             ],
             [
              0.7777777777777778,
              "#fb9f3a"
             ],
             [
              0.8888888888888888,
              "#fdca26"
             ],
             [
              1,
              "#f0f921"
             ]
            ],
            "type": "histogram2d"
           }
          ],
          "histogram2dcontour": [
           {
            "colorbar": {
             "outlinewidth": 0,
             "ticks": ""
            },
            "colorscale": [
             [
              0,
              "#0d0887"
             ],
             [
              0.1111111111111111,
              "#46039f"
             ],
             [
              0.2222222222222222,
              "#7201a8"
             ],
             [
              0.3333333333333333,
              "#9c179e"
             ],
             [
              0.4444444444444444,
              "#bd3786"
             ],
             [
              0.5555555555555556,
              "#d8576b"
             ],
             [
              0.6666666666666666,
              "#ed7953"
             ],
             [
              0.7777777777777778,
              "#fb9f3a"
             ],
             [
              0.8888888888888888,
              "#fdca26"
             ],
             [
              1,
              "#f0f921"
             ]
            ],
            "type": "histogram2dcontour"
           }
          ],
          "mesh3d": [
           {
            "colorbar": {
             "outlinewidth": 0,
             "ticks": ""
            },
            "type": "mesh3d"
           }
          ],
          "parcoords": [
           {
            "line": {
             "colorbar": {
              "outlinewidth": 0,
              "ticks": ""
             }
            },
            "type": "parcoords"
           }
          ],
          "pie": [
           {
            "automargin": true,
            "type": "pie"
           }
          ],
          "scatter": [
           {
            "fillpattern": {
             "fillmode": "overlay",
             "size": 10,
             "solidity": 0.2
            },
            "type": "scatter"
           }
          ],
          "scatter3d": [
           {
            "line": {
             "colorbar": {
              "outlinewidth": 0,
              "ticks": ""
             }
            },
            "marker": {
             "colorbar": {
              "outlinewidth": 0,
              "ticks": ""
             }
            },
            "type": "scatter3d"
           }
          ],
          "scattercarpet": [
           {
            "marker": {
             "colorbar": {
              "outlinewidth": 0,
              "ticks": ""
             }
            },
            "type": "scattercarpet"
           }
          ],
          "scattergeo": [
           {
            "marker": {
             "colorbar": {
              "outlinewidth": 0,
              "ticks": ""
             }
            },
            "type": "scattergeo"
           }
          ],
          "scattergl": [
           {
            "marker": {
             "colorbar": {
              "outlinewidth": 0,
              "ticks": ""
             }
            },
            "type": "scattergl"
           }
          ],
          "scattermapbox": [
           {
            "marker": {
             "colorbar": {
              "outlinewidth": 0,
              "ticks": ""
             }
            },
            "type": "scattermapbox"
           }
          ],
          "scatterpolar": [
           {
            "marker": {
             "colorbar": {
              "outlinewidth": 0,
              "ticks": ""
             }
            },
            "type": "scatterpolar"
           }
          ],
          "scatterpolargl": [
           {
            "marker": {
             "colorbar": {
              "outlinewidth": 0,
              "ticks": ""
             }
            },
            "type": "scatterpolargl"
           }
          ],
          "scatterternary": [
           {
            "marker": {
             "colorbar": {
              "outlinewidth": 0,
              "ticks": ""
             }
            },
            "type": "scatterternary"
           }
          ],
          "surface": [
           {
            "colorbar": {
             "outlinewidth": 0,
             "ticks": ""
            },
            "colorscale": [
             [
              0,
              "#0d0887"
             ],
             [
              0.1111111111111111,
              "#46039f"
             ],
             [
              0.2222222222222222,
              "#7201a8"
             ],
             [
              0.3333333333333333,
              "#9c179e"
             ],
             [
              0.4444444444444444,
              "#bd3786"
             ],
             [
              0.5555555555555556,
              "#d8576b"
             ],
             [
              0.6666666666666666,
              "#ed7953"
             ],
             [
              0.7777777777777778,
              "#fb9f3a"
             ],
             [
              0.8888888888888888,
              "#fdca26"
             ],
             [
              1,
              "#f0f921"
             ]
            ],
            "type": "surface"
           }
          ],
          "table": [
           {
            "cells": {
             "fill": {
              "color": "#EBF0F8"
             },
             "line": {
              "color": "white"
             }
            },
            "header": {
             "fill": {
              "color": "#C8D4E3"
             },
             "line": {
              "color": "white"
             }
            },
            "type": "table"
           }
          ]
         },
         "layout": {
          "annotationdefaults": {
           "arrowcolor": "#2a3f5f",
           "arrowhead": 0,
           "arrowwidth": 1
          },
          "autotypenumbers": "strict",
          "coloraxis": {
           "colorbar": {
            "outlinewidth": 0,
            "ticks": ""
           }
          },
          "colorscale": {
           "diverging": [
            [
             0,
             "#8e0152"
            ],
            [
             0.1,
             "#c51b7d"
            ],
            [
             0.2,
             "#de77ae"
            ],
            [
             0.3,
             "#f1b6da"
            ],
            [
             0.4,
             "#fde0ef"
            ],
            [
             0.5,
             "#f7f7f7"
            ],
            [
             0.6,
             "#e6f5d0"
            ],
            [
             0.7,
             "#b8e186"
            ],
            [
             0.8,
             "#7fbc41"
            ],
            [
             0.9,
             "#4d9221"
            ],
            [
             1,
             "#276419"
            ]
           ],
           "sequential": [
            [
             0,
             "#0d0887"
            ],
            [
             0.1111111111111111,
             "#46039f"
            ],
            [
             0.2222222222222222,
             "#7201a8"
            ],
            [
             0.3333333333333333,
             "#9c179e"
            ],
            [
             0.4444444444444444,
             "#bd3786"
            ],
            [
             0.5555555555555556,
             "#d8576b"
            ],
            [
             0.6666666666666666,
             "#ed7953"
            ],
            [
             0.7777777777777778,
             "#fb9f3a"
            ],
            [
             0.8888888888888888,
             "#fdca26"
            ],
            [
             1,
             "#f0f921"
            ]
           ],
           "sequentialminus": [
            [
             0,
             "#0d0887"
            ],
            [
             0.1111111111111111,
             "#46039f"
            ],
            [
             0.2222222222222222,
             "#7201a8"
            ],
            [
             0.3333333333333333,
             "#9c179e"
            ],
            [
             0.4444444444444444,
             "#bd3786"
            ],
            [
             0.5555555555555556,
             "#d8576b"
            ],
            [
             0.6666666666666666,
             "#ed7953"
            ],
            [
             0.7777777777777778,
             "#fb9f3a"
            ],
            [
             0.8888888888888888,
             "#fdca26"
            ],
            [
             1,
             "#f0f921"
            ]
           ]
          },
          "colorway": [
           "#636efa",
           "#EF553B",
           "#00cc96",
           "#ab63fa",
           "#FFA15A",
           "#19d3f3",
           "#FF6692",
           "#B6E880",
           "#FF97FF",
           "#FECB52"
          ],
          "font": {
           "color": "#2a3f5f"
          },
          "geo": {
           "bgcolor": "white",
           "lakecolor": "white",
           "landcolor": "white",
           "showlakes": true,
           "showland": true,
           "subunitcolor": "#C8D4E3"
          },
          "hoverlabel": {
           "align": "left"
          },
          "hovermode": "closest",
          "mapbox": {
           "style": "light"
          },
          "paper_bgcolor": "white",
          "plot_bgcolor": "white",
          "polar": {
           "angularaxis": {
            "gridcolor": "#EBF0F8",
            "linecolor": "#EBF0F8",
            "ticks": ""
           },
           "bgcolor": "white",
           "radialaxis": {
            "gridcolor": "#EBF0F8",
            "linecolor": "#EBF0F8",
            "ticks": ""
           }
          },
          "scene": {
           "xaxis": {
            "backgroundcolor": "white",
            "gridcolor": "#DFE8F3",
            "gridwidth": 2,
            "linecolor": "#EBF0F8",
            "showbackground": true,
            "ticks": "",
            "zerolinecolor": "#EBF0F8"
           },
           "yaxis": {
            "backgroundcolor": "white",
            "gridcolor": "#DFE8F3",
            "gridwidth": 2,
            "linecolor": "#EBF0F8",
            "showbackground": true,
            "ticks": "",
            "zerolinecolor": "#EBF0F8"
           },
           "zaxis": {
            "backgroundcolor": "white",
            "gridcolor": "#DFE8F3",
            "gridwidth": 2,
            "linecolor": "#EBF0F8",
            "showbackground": true,
            "ticks": "",
            "zerolinecolor": "#EBF0F8"
           }
          },
          "shapedefaults": {
           "line": {
            "color": "#2a3f5f"
           }
          },
          "ternary": {
           "aaxis": {
            "gridcolor": "#DFE8F3",
            "linecolor": "#A2B1C6",
            "ticks": ""
           },
           "baxis": {
            "gridcolor": "#DFE8F3",
            "linecolor": "#A2B1C6",
            "ticks": ""
           },
           "bgcolor": "white",
           "caxis": {
            "gridcolor": "#DFE8F3",
            "linecolor": "#A2B1C6",
            "ticks": ""
           }
          },
          "title": {
           "x": 0.05
          },
          "xaxis": {
           "automargin": true,
           "gridcolor": "#EBF0F8",
           "linecolor": "#EBF0F8",
           "ticks": "",
           "title": {
            "standoff": 15
           },
           "zerolinecolor": "#EBF0F8",
           "zerolinewidth": 2
          },
          "yaxis": {
           "automargin": true,
           "gridcolor": "#EBF0F8",
           "linecolor": "#EBF0F8",
           "ticks": "",
           "title": {
            "standoff": 15
           },
           "zerolinecolor": "#EBF0F8",
           "zerolinewidth": 2
          }
         }
        },
        "width": 1200,
        "xaxis": {
         "anchor": "y",
         "domain": [
          0,
          1
         ],
         "title": {
          "text": "Family"
         }
        },
        "yaxis": {
         "anchor": "x",
         "domain": [
          0,
          1
         ],
         "title": {
          "text": "count"
         }
        }
       }
      },
      "text/html": [
       "<div>                            <div id=\"a01407b0-643c-42e9-83f7-0dcd39693d7b\" class=\"plotly-graph-div\" style=\"height:600px; width:1200px;\"></div>            <script type=\"text/javascript\">                require([\"plotly\"], function(Plotly) {                    window.PLOTLYENV=window.PLOTLYENV || {};                                    if (document.getElementById(\"a01407b0-643c-42e9-83f7-0dcd39693d7b\")) {                    Plotly.newPlot(                        \"a01407b0-643c-42e9-83f7-0dcd39693d7b\",                        [{\"alignmentgroup\":\"True\",\"bingroup\":\"x\",\"hovertemplate\":\"Family=%{x}<br>count=%{y}<extra></extra>\",\"legendgroup\":\"\",\"marker\":{\"color\":\"rgb(95, 70, 144)\",\"pattern\":{\"shape\":\"\"}},\"name\":\"\",\"offsetgroup\":\"\",\"orientation\":\"v\",\"showlegend\":false,\"x\":[\"29\",\"2\",\"2\",\"27\",\"27\",\"27\",\"27\",\"27\",\"4\",\"4\",\"4\",\"4\",\"4\",\"4\",\"4\",\"4\",\"4\",\"4\",\"4\",\"4\",\"4\",\"4\",\"4\",\"2\",\"35\",\"44\",\"4\",\"2\",\"2\",\"68\",\"4\",\"35\",\"35\",\"2\",\"2\",\"2\",\"2\",\"2\",\"2\",\"2\",\"2\",\"2\",\"2\",\"44\",\"8\",\"111\",\"5\",\"4\",\"4\",\"4\",\"4\",\"27\",\"27\",\"Unclassified\",\"27\"],\"xaxis\":\"x\",\"yaxis\":\"y\",\"type\":\"histogram\"}],                        {\"template\":{\"data\":{\"barpolar\":[{\"marker\":{\"line\":{\"color\":\"white\",\"width\":0.5},\"pattern\":{\"fillmode\":\"overlay\",\"size\":10,\"solidity\":0.2}},\"type\":\"barpolar\"}],\"bar\":[{\"error_x\":{\"color\":\"#2a3f5f\"},\"error_y\":{\"color\":\"#2a3f5f\"},\"marker\":{\"line\":{\"color\":\"white\",\"width\":0.5},\"pattern\":{\"fillmode\":\"overlay\",\"size\":10,\"solidity\":0.2}},\"type\":\"bar\"}],\"carpet\":[{\"aaxis\":{\"endlinecolor\":\"#2a3f5f\",\"gridcolor\":\"#C8D4E3\",\"linecolor\":\"#C8D4E3\",\"minorgridcolor\":\"#C8D4E3\",\"startlinecolor\":\"#2a3f5f\"},\"baxis\":{\"endlinecolor\":\"#2a3f5f\",\"gridcolor\":\"#C8D4E3\",\"linecolor\":\"#C8D4E3\",\"minorgridcolor\":\"#C8D4E3\",\"startlinecolor\":\"#2a3f5f\"},\"type\":\"carpet\"}],\"choropleth\":[{\"colorbar\":{\"outlinewidth\":0,\"ticks\":\"\"},\"type\":\"choropleth\"}],\"contourcarpet\":[{\"colorbar\":{\"outlinewidth\":0,\"ticks\":\"\"},\"type\":\"contourcarpet\"}],\"contour\":[{\"colorbar\":{\"outlinewidth\":0,\"ticks\":\"\"},\"colorscale\":[[0.0,\"#0d0887\"],[0.1111111111111111,\"#46039f\"],[0.2222222222222222,\"#7201a8\"],[0.3333333333333333,\"#9c179e\"],[0.4444444444444444,\"#bd3786\"],[0.5555555555555556,\"#d8576b\"],[0.6666666666666666,\"#ed7953\"],[0.7777777777777778,\"#fb9f3a\"],[0.8888888888888888,\"#fdca26\"],[1.0,\"#f0f921\"]],\"type\":\"contour\"}],\"heatmapgl\":[{\"colorbar\":{\"outlinewidth\":0,\"ticks\":\"\"},\"colorscale\":[[0.0,\"#0d0887\"],[0.1111111111111111,\"#46039f\"],[0.2222222222222222,\"#7201a8\"],[0.3333333333333333,\"#9c179e\"],[0.4444444444444444,\"#bd3786\"],[0.5555555555555556,\"#d8576b\"],[0.6666666666666666,\"#ed7953\"],[0.7777777777777778,\"#fb9f3a\"],[0.8888888888888888,\"#fdca26\"],[1.0,\"#f0f921\"]],\"type\":\"heatmapgl\"}],\"heatmap\":[{\"colorbar\":{\"outlinewidth\":0,\"ticks\":\"\"},\"colorscale\":[[0.0,\"#0d0887\"],[0.1111111111111111,\"#46039f\"],[0.2222222222222222,\"#7201a8\"],[0.3333333333333333,\"#9c179e\"],[0.4444444444444444,\"#bd3786\"],[0.5555555555555556,\"#d8576b\"],[0.6666666666666666,\"#ed7953\"],[0.7777777777777778,\"#fb9f3a\"],[0.8888888888888888,\"#fdca26\"],[1.0,\"#f0f921\"]],\"type\":\"heatmap\"}],\"histogram2dcontour\":[{\"colorbar\":{\"outlinewidth\":0,\"ticks\":\"\"},\"colorscale\":[[0.0,\"#0d0887\"],[0.1111111111111111,\"#46039f\"],[0.2222222222222222,\"#7201a8\"],[0.3333333333333333,\"#9c179e\"],[0.4444444444444444,\"#bd3786\"],[0.5555555555555556,\"#d8576b\"],[0.6666666666666666,\"#ed7953\"],[0.7777777777777778,\"#fb9f3a\"],[0.8888888888888888,\"#fdca26\"],[1.0,\"#f0f921\"]],\"type\":\"histogram2dcontour\"}],\"histogram2d\":[{\"colorbar\":{\"outlinewidth\":0,\"ticks\":\"\"},\"colorscale\":[[0.0,\"#0d0887\"],[0.1111111111111111,\"#46039f\"],[0.2222222222222222,\"#7201a8\"],[0.3333333333333333,\"#9c179e\"],[0.4444444444444444,\"#bd3786\"],[0.5555555555555556,\"#d8576b\"],[0.6666666666666666,\"#ed7953\"],[0.7777777777777778,\"#fb9f3a\"],[0.8888888888888888,\"#fdca26\"],[1.0,\"#f0f921\"]],\"type\":\"histogram2d\"}],\"histogram\":[{\"marker\":{\"pattern\":{\"fillmode\":\"overlay\",\"size\":10,\"solidity\":0.2}},\"type\":\"histogram\"}],\"mesh3d\":[{\"colorbar\":{\"outlinewidth\":0,\"ticks\":\"\"},\"type\":\"mesh3d\"}],\"parcoords\":[{\"line\":{\"colorbar\":{\"outlinewidth\":0,\"ticks\":\"\"}},\"type\":\"parcoords\"}],\"pie\":[{\"automargin\":true,\"type\":\"pie\"}],\"scatter3d\":[{\"line\":{\"colorbar\":{\"outlinewidth\":0,\"ticks\":\"\"}},\"marker\":{\"colorbar\":{\"outlinewidth\":0,\"ticks\":\"\"}},\"type\":\"scatter3d\"}],\"scattercarpet\":[{\"marker\":{\"colorbar\":{\"outlinewidth\":0,\"ticks\":\"\"}},\"type\":\"scattercarpet\"}],\"scattergeo\":[{\"marker\":{\"colorbar\":{\"outlinewidth\":0,\"ticks\":\"\"}},\"type\":\"scattergeo\"}],\"scattergl\":[{\"marker\":{\"colorbar\":{\"outlinewidth\":0,\"ticks\":\"\"}},\"type\":\"scattergl\"}],\"scattermapbox\":[{\"marker\":{\"colorbar\":{\"outlinewidth\":0,\"ticks\":\"\"}},\"type\":\"scattermapbox\"}],\"scatterpolargl\":[{\"marker\":{\"colorbar\":{\"outlinewidth\":0,\"ticks\":\"\"}},\"type\":\"scatterpolargl\"}],\"scatterpolar\":[{\"marker\":{\"colorbar\":{\"outlinewidth\":0,\"ticks\":\"\"}},\"type\":\"scatterpolar\"}],\"scatter\":[{\"fillpattern\":{\"fillmode\":\"overlay\",\"size\":10,\"solidity\":0.2},\"type\":\"scatter\"}],\"scatterternary\":[{\"marker\":{\"colorbar\":{\"outlinewidth\":0,\"ticks\":\"\"}},\"type\":\"scatterternary\"}],\"surface\":[{\"colorbar\":{\"outlinewidth\":0,\"ticks\":\"\"},\"colorscale\":[[0.0,\"#0d0887\"],[0.1111111111111111,\"#46039f\"],[0.2222222222222222,\"#7201a8\"],[0.3333333333333333,\"#9c179e\"],[0.4444444444444444,\"#bd3786\"],[0.5555555555555556,\"#d8576b\"],[0.6666666666666666,\"#ed7953\"],[0.7777777777777778,\"#fb9f3a\"],[0.8888888888888888,\"#fdca26\"],[1.0,\"#f0f921\"]],\"type\":\"surface\"}],\"table\":[{\"cells\":{\"fill\":{\"color\":\"#EBF0F8\"},\"line\":{\"color\":\"white\"}},\"header\":{\"fill\":{\"color\":\"#C8D4E3\"},\"line\":{\"color\":\"white\"}},\"type\":\"table\"}]},\"layout\":{\"annotationdefaults\":{\"arrowcolor\":\"#2a3f5f\",\"arrowhead\":0,\"arrowwidth\":1},\"autotypenumbers\":\"strict\",\"coloraxis\":{\"colorbar\":{\"outlinewidth\":0,\"ticks\":\"\"}},\"colorscale\":{\"diverging\":[[0,\"#8e0152\"],[0.1,\"#c51b7d\"],[0.2,\"#de77ae\"],[0.3,\"#f1b6da\"],[0.4,\"#fde0ef\"],[0.5,\"#f7f7f7\"],[0.6,\"#e6f5d0\"],[0.7,\"#b8e186\"],[0.8,\"#7fbc41\"],[0.9,\"#4d9221\"],[1,\"#276419\"]],\"sequential\":[[0.0,\"#0d0887\"],[0.1111111111111111,\"#46039f\"],[0.2222222222222222,\"#7201a8\"],[0.3333333333333333,\"#9c179e\"],[0.4444444444444444,\"#bd3786\"],[0.5555555555555556,\"#d8576b\"],[0.6666666666666666,\"#ed7953\"],[0.7777777777777778,\"#fb9f3a\"],[0.8888888888888888,\"#fdca26\"],[1.0,\"#f0f921\"]],\"sequentialminus\":[[0.0,\"#0d0887\"],[0.1111111111111111,\"#46039f\"],[0.2222222222222222,\"#7201a8\"],[0.3333333333333333,\"#9c179e\"],[0.4444444444444444,\"#bd3786\"],[0.5555555555555556,\"#d8576b\"],[0.6666666666666666,\"#ed7953\"],[0.7777777777777778,\"#fb9f3a\"],[0.8888888888888888,\"#fdca26\"],[1.0,\"#f0f921\"]]},\"colorway\":[\"#636efa\",\"#EF553B\",\"#00cc96\",\"#ab63fa\",\"#FFA15A\",\"#19d3f3\",\"#FF6692\",\"#B6E880\",\"#FF97FF\",\"#FECB52\"],\"font\":{\"color\":\"#2a3f5f\"},\"geo\":{\"bgcolor\":\"white\",\"lakecolor\":\"white\",\"landcolor\":\"white\",\"showlakes\":true,\"showland\":true,\"subunitcolor\":\"#C8D4E3\"},\"hoverlabel\":{\"align\":\"left\"},\"hovermode\":\"closest\",\"mapbox\":{\"style\":\"light\"},\"paper_bgcolor\":\"white\",\"plot_bgcolor\":\"white\",\"polar\":{\"angularaxis\":{\"gridcolor\":\"#EBF0F8\",\"linecolor\":\"#EBF0F8\",\"ticks\":\"\"},\"bgcolor\":\"white\",\"radialaxis\":{\"gridcolor\":\"#EBF0F8\",\"linecolor\":\"#EBF0F8\",\"ticks\":\"\"}},\"scene\":{\"xaxis\":{\"backgroundcolor\":\"white\",\"gridcolor\":\"#DFE8F3\",\"gridwidth\":2,\"linecolor\":\"#EBF0F8\",\"showbackground\":true,\"ticks\":\"\",\"zerolinecolor\":\"#EBF0F8\"},\"yaxis\":{\"backgroundcolor\":\"white\",\"gridcolor\":\"#DFE8F3\",\"gridwidth\":2,\"linecolor\":\"#EBF0F8\",\"showbackground\":true,\"ticks\":\"\",\"zerolinecolor\":\"#EBF0F8\"},\"zaxis\":{\"backgroundcolor\":\"white\",\"gridcolor\":\"#DFE8F3\",\"gridwidth\":2,\"linecolor\":\"#EBF0F8\",\"showbackground\":true,\"ticks\":\"\",\"zerolinecolor\":\"#EBF0F8\"}},\"shapedefaults\":{\"line\":{\"color\":\"#2a3f5f\"}},\"ternary\":{\"aaxis\":{\"gridcolor\":\"#DFE8F3\",\"linecolor\":\"#A2B1C6\",\"ticks\":\"\"},\"baxis\":{\"gridcolor\":\"#DFE8F3\",\"linecolor\":\"#A2B1C6\",\"ticks\":\"\"},\"bgcolor\":\"white\",\"caxis\":{\"gridcolor\":\"#DFE8F3\",\"linecolor\":\"#A2B1C6\",\"ticks\":\"\"}},\"title\":{\"x\":0.05},\"xaxis\":{\"automargin\":true,\"gridcolor\":\"#EBF0F8\",\"linecolor\":\"#EBF0F8\",\"ticks\":\"\",\"title\":{\"standoff\":15},\"zerolinecolor\":\"#EBF0F8\",\"zerolinewidth\":2},\"yaxis\":{\"automargin\":true,\"gridcolor\":\"#EBF0F8\",\"linecolor\":\"#EBF0F8\",\"ticks\":\"\",\"title\":{\"standoff\":15},\"zerolinecolor\":\"#EBF0F8\",\"zerolinewidth\":2}}},\"xaxis\":{\"anchor\":\"y\",\"domain\":[0.0,1.0],\"title\":{\"text\":\"Family\"}},\"yaxis\":{\"anchor\":\"x\",\"domain\":[0.0,1.0],\"title\":{\"text\":\"count\"}},\"legend\":{\"tracegroupgap\":0},\"margin\":{\"t\":60},\"barmode\":\"relative\",\"font\":{\"size\":16},\"width\":1200,\"height\":600},                        {\"responsive\": true}                    ).then(function(){\n",
       "                            \n",
       "var gd = document.getElementById('a01407b0-643c-42e9-83f7-0dcd39693d7b');\n",
       "var x = new MutationObserver(function (mutations, observer) {{\n",
       "        var display = window.getComputedStyle(gd).display;\n",
       "        if (!display || display === 'none') {{\n",
       "            console.log([gd, 'removed!']);\n",
       "            Plotly.purge(gd);\n",
       "            observer.disconnect();\n",
       "        }}\n",
       "}});\n",
       "\n",
       "// Listen for the removal of the full notebook cells\n",
       "var notebookContainer = gd.closest('#notebook-container');\n",
       "if (notebookContainer) {{\n",
       "    x.observe(notebookContainer, {childList: true});\n",
       "}}\n",
       "\n",
       "// Listen for the clearing of the current output cell\n",
       "var outputEl = gd.closest('.output');\n",
       "if (outputEl) {{\n",
       "    x.observe(outputEl, {childList: true});\n",
       "}}\n",
       "\n",
       "                        })                };                });            </script>        </div>"
      ]
     },
     "metadata": {},
     "output_type": "display_data"
    }
   ],
   "source": [
    "import plotly.express as px\n",
    "colours = px.colors.qualitative.Prism\n",
    "\n",
    "fig = px.histogram(best_hits, x=\"Family\", color_discrete_sequence=colours)\n",
    "\n",
    "fig.update_layout(\n",
    "    width=1200,\n",
    "    height=600,\n",
    "    font=dict(size=16),\n",
    "    template='plotly_white'\n",
    ")\n",
    "\n",
    "fig.show()"
   ]
  },
  {
   "cell_type": "markdown",
   "metadata": {},
   "source": [
    "Looks like Family 4 is the most common one - there's a lot more reading we could do on this but an initial skim of [this review papepr](https://www.annualreviews.org/doi/10.1146/annurev.biochem.76.061005.092322) says that family 4 is mainly found in Archaea and has the GT-B fold. Glycosyltransferases only tend to have one of two folds - GT-A or GT-B.\n",
    "\n",
    "## Matching glycosyltransferase MGYPs to encapsulin MGYPs\n",
    "\n",
    "You'll note that even with this filtered DataFrame we still have ≈55 hits, but we only have 29 Saccharide BGCs. Let's add a column denoting which Saccharide BGC-associated Encapsulin MGYP each glycosyltransferase is associated with.\n",
    "\n",
    "Unfortunately because of an oversight, the `operon_df_filtered.csv` DataFrame only contains MGYPs 10 genes either side of the Encapsulin MGYP, so some of the glycosyltransferases are too far away and won't be able to be matched with their encapsulin this way.\n",
    "\n",
    "Let's load the DeepBGC DataFrame and see if we can do it another way:"
   ]
  },
  {
   "cell_type": "code",
   "execution_count": 32,
   "metadata": {},
   "outputs": [
    {
     "data": {
      "text/html": [
       "<div>\n",
       "<style scoped>\n",
       "    .dataframe tbody tr th:only-of-type {\n",
       "        vertical-align: middle;\n",
       "    }\n",
       "\n",
       "    .dataframe tbody tr th {\n",
       "        vertical-align: top;\n",
       "    }\n",
       "\n",
       "    .dataframe thead th {\n",
       "        text-align: right;\n",
       "    }\n",
       "</style>\n",
       "<table border=\"1\" class=\"dataframe\">\n",
       "  <thead>\n",
       "    <tr style=\"text-align: right;\">\n",
       "      <th></th>\n",
       "      <th>Cluster Start</th>\n",
       "      <th>Cluster End</th>\n",
       "      <th>Cluster Length</th>\n",
       "      <th>num_proteins</th>\n",
       "      <th>num_domains</th>\n",
       "      <th>num_bio_domains</th>\n",
       "      <th>deepbgc_score</th>\n",
       "      <th>product_activity</th>\n",
       "      <th>product_class</th>\n",
       "      <th>protein_ids</th>\n",
       "      <th>bio_pfam_ids</th>\n",
       "      <th>pfam_ids</th>\n",
       "      <th>MGYP</th>\n",
       "      <th>ERZ</th>\n",
       "      <th>MGYC</th>\n",
       "      <th>Encapsulin Start</th>\n",
       "      <th>Encapsulin End</th>\n",
       "      <th>Strand</th>\n",
       "      <th>MGYA</th>\n",
       "    </tr>\n",
       "  </thead>\n",
       "  <tbody>\n",
       "    <tr>\n",
       "      <th>0</th>\n",
       "      <td>1545</td>\n",
       "      <td>26938</td>\n",
       "      <td>25393</td>\n",
       "      <td>19</td>\n",
       "      <td>9</td>\n",
       "      <td>2</td>\n",
       "      <td>0.75971</td>\n",
       "      <td>antibacterial</td>\n",
       "      <td>Saccharide</td>\n",
       "      <td>ERZ2772546.64-NODE-64-length-43846-cov-5.80870...</td>\n",
       "      <td>PF04055;PF00534</td>\n",
       "      <td>PF01165;PF07068;PF13884;PF13884;PF00534;PF1369...</td>\n",
       "      <td>MGYP003110882604</td>\n",
       "      <td>ERZ2772546</td>\n",
       "      <td>MGYC001052550128</td>\n",
       "      <td>3131</td>\n",
       "      <td>4792</td>\n",
       "      <td>1</td>\n",
       "      <td>MGYA00587038</td>\n",
       "    </tr>\n",
       "    <tr>\n",
       "      <th>8</th>\n",
       "      <td>425</td>\n",
       "      <td>21038</td>\n",
       "      <td>20613</td>\n",
       "      <td>31</td>\n",
       "      <td>16</td>\n",
       "      <td>1</td>\n",
       "      <td>0.92256</td>\n",
       "      <td>antibacterial</td>\n",
       "      <td>Saccharide</td>\n",
       "      <td>ERZ3421540.2866-NODE-2866-length-21688-cov-8.9...</td>\n",
       "      <td>PF00534</td>\n",
       "      <td>PF00166;PF10124;PF13640;PF13759;PF13759;PF1364...</td>\n",
       "      <td>MGYP003662477660</td>\n",
       "      <td>ERZ3421540</td>\n",
       "      <td>MGYC001322393915</td>\n",
       "      <td>3020</td>\n",
       "      <td>3922</td>\n",
       "      <td>1</td>\n",
       "      <td>MGYA00592989</td>\n",
       "    </tr>\n",
       "    <tr>\n",
       "      <th>11</th>\n",
       "      <td>3313</td>\n",
       "      <td>15247</td>\n",
       "      <td>11934</td>\n",
       "      <td>15</td>\n",
       "      <td>6</td>\n",
       "      <td>1</td>\n",
       "      <td>0.60569</td>\n",
       "      <td>antibacterial</td>\n",
       "      <td>Saccharide</td>\n",
       "      <td>ERZ2944945.141-NODE-141-length-16210-cov-4.472...</td>\n",
       "      <td>PF00534</td>\n",
       "      <td>PF02557;PF03452;PF17236;PF13524;PF13692;PF00534</td>\n",
       "      <td>MGYP003332394819</td>\n",
       "      <td>ERZ2944945</td>\n",
       "      <td>MGYC001149463221</td>\n",
       "      <td>6101</td>\n",
       "      <td>7063</td>\n",
       "      <td>-1</td>\n",
       "      <td>MGYA00589540</td>\n",
       "    </tr>\n",
       "    <tr>\n",
       "      <th>30</th>\n",
       "      <td>0</td>\n",
       "      <td>37790</td>\n",
       "      <td>37790</td>\n",
       "      <td>45</td>\n",
       "      <td>37</td>\n",
       "      <td>5</td>\n",
       "      <td>0.93696</td>\n",
       "      <td>antibacterial</td>\n",
       "      <td>Saccharide</td>\n",
       "      <td>ERZ3421807.161-NODE-161-length-37790-cov-6.082...</td>\n",
       "      <td>PF01041;PF01370;PF02719;PF04321;PF00535</td>\n",
       "      <td>PF13585;PF07068;PF10111;PF00535;PF02562;PF1360...</td>\n",
       "      <td>MGYP003662771788</td>\n",
       "      <td>ERZ3421807</td>\n",
       "      <td>MGYC001322140633</td>\n",
       "      <td>2702</td>\n",
       "      <td>4441</td>\n",
       "      <td>1</td>\n",
       "      <td>MGYA00592987</td>\n",
       "    </tr>\n",
       "    <tr>\n",
       "      <th>35</th>\n",
       "      <td>11</td>\n",
       "      <td>57424</td>\n",
       "      <td>57413</td>\n",
       "      <td>45</td>\n",
       "      <td>41</td>\n",
       "      <td>10</td>\n",
       "      <td>0.80509</td>\n",
       "      <td>antibacterial</td>\n",
       "      <td>Saccharide</td>\n",
       "      <td>ERZ2772579.11-NODE-11-length-58335-cov-17.9337...</td>\n",
       "      <td>PF02719;PF01041;PF04321;PF00534;PF01370;PF0865...</td>\n",
       "      <td>PF13551;PF13365;PF13638;PF02562;PF13604;PF1324...</td>\n",
       "      <td>MGYP003131556693</td>\n",
       "      <td>ERZ2772579</td>\n",
       "      <td>MGYC001062169542</td>\n",
       "      <td>45288</td>\n",
       "      <td>46466</td>\n",
       "      <td>1</td>\n",
       "      <td>MGYA00587109</td>\n",
       "    </tr>\n",
       "  </tbody>\n",
       "</table>\n",
       "</div>"
      ],
      "text/plain": [
       "    Cluster Start  Cluster End  Cluster Length  num_proteins  num_domains  \\\n",
       "0            1545        26938           25393            19            9   \n",
       "8             425        21038           20613            31           16   \n",
       "11           3313        15247           11934            15            6   \n",
       "30              0        37790           37790            45           37   \n",
       "35             11        57424           57413            45           41   \n",
       "\n",
       "    num_bio_domains  deepbgc_score product_activity product_class  \\\n",
       "0                 2        0.75971    antibacterial    Saccharide   \n",
       "8                 1        0.92256    antibacterial    Saccharide   \n",
       "11                1        0.60569    antibacterial    Saccharide   \n",
       "30                5        0.93696    antibacterial    Saccharide   \n",
       "35               10        0.80509    antibacterial    Saccharide   \n",
       "\n",
       "                                          protein_ids  \\\n",
       "0   ERZ2772546.64-NODE-64-length-43846-cov-5.80870...   \n",
       "8   ERZ3421540.2866-NODE-2866-length-21688-cov-8.9...   \n",
       "11  ERZ2944945.141-NODE-141-length-16210-cov-4.472...   \n",
       "30  ERZ3421807.161-NODE-161-length-37790-cov-6.082...   \n",
       "35  ERZ2772579.11-NODE-11-length-58335-cov-17.9337...   \n",
       "\n",
       "                                         bio_pfam_ids  \\\n",
       "0                                     PF04055;PF00534   \n",
       "8                                             PF00534   \n",
       "11                                            PF00534   \n",
       "30            PF01041;PF01370;PF02719;PF04321;PF00535   \n",
       "35  PF02719;PF01041;PF04321;PF00534;PF01370;PF0865...   \n",
       "\n",
       "                                             pfam_ids              MGYP  \\\n",
       "0   PF01165;PF07068;PF13884;PF13884;PF00534;PF1369...  MGYP003110882604   \n",
       "8   PF00166;PF10124;PF13640;PF13759;PF13759;PF1364...  MGYP003662477660   \n",
       "11    PF02557;PF03452;PF17236;PF13524;PF13692;PF00534  MGYP003332394819   \n",
       "30  PF13585;PF07068;PF10111;PF00535;PF02562;PF1360...  MGYP003662771788   \n",
       "35  PF13551;PF13365;PF13638;PF02562;PF13604;PF1324...  MGYP003131556693   \n",
       "\n",
       "           ERZ              MGYC  Encapsulin Start  Encapsulin End  Strand  \\\n",
       "0   ERZ2772546  MGYC001052550128              3131            4792       1   \n",
       "8   ERZ3421540  MGYC001322393915              3020            3922       1   \n",
       "11  ERZ2944945  MGYC001149463221              6101            7063      -1   \n",
       "30  ERZ3421807  MGYC001322140633              2702            4441       1   \n",
       "35  ERZ2772579  MGYC001062169542             45288           46466       1   \n",
       "\n",
       "            MGYA  \n",
       "0   MGYA00587038  \n",
       "8   MGYA00592989  \n",
       "11  MGYA00589540  \n",
       "30  MGYA00592987  \n",
       "35  MGYA00587109  "
      ]
     },
     "execution_count": 32,
     "metadata": {},
     "output_type": "execute_result"
    }
   ],
   "source": [
    "#We can drop a bunch of unnecessary columns from the CSV file\n",
    "deepbgc_df = pd.read_csv(\"../metadata/deepbgc_hits.csv\").drop(\n",
    "    [\"detector\", \"detector_version\", \"detector_label\", \"bgc_candidate_id\", \"antibacterial\", \"cytotoxic\",\n",
    "     \"inhibitor\", \"antifungal\",\"Alkaloid\", \"NRP\", \"Other\", \"Polyketide\", \"RiPP\", \"Saccharide\", \"Terpene\", \"Hit?\", \"Contig\"],\n",
    "axis=1).query(\"product_class == 'Saccharide'\")\n",
    "\n",
    "deepbgc_df.head()"
   ]
  },
  {
   "cell_type": "markdown",
   "metadata": {},
   "source": [
    "Now, we need to add in the Pfam description labels using the same block of code as before:"
   ]
  },
  {
   "cell_type": "code",
   "execution_count": 33,
   "metadata": {},
   "outputs": [],
   "source": [
    "import gzip\n",
    "import json\n",
    "\n",
    "with open(\"../DBs/label_descriptions.json.gz\", 'rb') as f:\n",
    "    with gzip.GzipFile(fileobj=f, mode='rb') as gzip_file:\n",
    "      labels_dict = json.load(gzip_file)\n",
    "\n",
    "labels_dict[\"PF19821\"] = \"Phage capsid protein\"\n",
    "labels_dict[\"PF19307\"] = \"Phage capsid-like protein\"\n",
    "labels_dict['PF19289'] = \"PmbA/TldA metallopeptidase C-terminal domain\"\n",
    "labels_dict['PF19290'] = \"PmbA/TldA metallopeptidase central domain\"\n",
    "labels_dict['PF20211'] = \"Family of unknown function (DUF6571)\"\n",
    "labels_dict['PF19782'] = \"Family of unknown function (DUF6267)\"\n",
    "labels_dict['PF19343'] = \"Family of unknown function (DUF5923)\"\n",
    "labels_dict['PF20036'] = \"Major capsid protein 13-like\"\n",
    "labels_dict['PF18960'] = \"Family of unknown function (DUF5702)\"\n",
    "labels_dict['PF18906'] = \"Phage tail tube protein\"\n",
    "labels_dict['PF19753'] = \"Family of unknown function (DUF6240)\"\n",
    "\n",
    "def get_label(pfam):\n",
    "    try:\n",
    "        return(labels_dict[pfam])\n",
    "    except KeyError:\n",
    "        return(None)\n",
    "    \n",
    "pattern = r\"Glycosyl\\s*transferase\"\n",
    "\n",
    "#This function will access the Pfam family lists for each DataFrame entry and convert it to a free text description\n",
    "def get_pfam_list_labels(pfam_list):\n",
    "    pfam_list = pfam_list.split(\";\")\n",
    "\n",
    "    try:\n",
    "        return(\" | \".join([get_label(pfam) for pfam in pfam_list]))\n",
    "    except TypeError:\n",
    "        return(\"None\")\n",
    "\n",
    "deepbgc_df[\"bio_pfam_ids\"] = deepbgc_df[\"bio_pfam_ids\"].fillna(\"None\")\n",
    "deepbgc_df[\"Descriptions\"] = deepbgc_df[\"bio_pfam_ids\"].apply(get_pfam_list_labels)"
   ]
  },
  {
   "cell_type": "markdown",
   "metadata": {},
   "source": [
    "Now, let's filter down our DataFrame to only include the CDS name of each glycosyltransferase from its contig:"
   ]
  },
  {
   "cell_type": "code",
   "execution_count": 34,
   "metadata": {},
   "outputs": [],
   "source": [
    "import re\n",
    "\n",
    "#Make a list of all glycosyltransferase proteins\n",
    "#This list contains the CDS name from the contig, in the format ERZ.contigname_CDSnumber\n",
    "proteins = []\n",
    "for row in deepbgc_df.to_dict(orient=\"records\"):\n",
    "    mgya = row[\"MGYA\"]\n",
    "    erz = row[\"ERZ\"]\n",
    "    mgyp  = row[\"MGYP\"]\n",
    "    protein_ids = row[\"protein_ids\"].split(\";\")\n",
    "    pfam_df = pd.read_csv(f\"../deepbgc/{mgya}-{erz}/{mgya}-{erz}.pfam.tsv\", sep=\"\\t\").query(\"protein_id in @protein_ids\").query(\"deepbgc_score > 0.5\")\n",
    "\n",
    "    for i, protein in enumerate(protein_ids):\n",
    "        pfams = pfam_df[pfam_df[\"protein_id\"] == protein][\"pfam_id\"].values\n",
    "        if len(pfams) > 0:  \n",
    "            pfam_labels = \" | \".join([get_label(pfam) for pfam in pfams])\n",
    "        \n",
    "        if re.match(pattern, pfam_labels):\n",
    "            proteins.append(protein)"
   ]
  },
  {
   "cell_type": "markdown",
   "metadata": {},
   "source": [
    "Let's make a dictionary mapping glycosyltransferase MGYP to glycosyltransferase CDS name:"
   ]
  },
  {
   "cell_type": "code",
   "execution_count": 35,
   "metadata": {},
   "outputs": [],
   "source": [
    "from Bio import SeqIO\n",
    "from glob import glob\n",
    "\n",
    "#Load the metadata mapping MGYPs to their ERZ, start, end, and strand data\n",
    "#We'll also filter this DataFrame to make it easier to process\n",
    "metadata_df = pd.read_csv(\"../metadata/cargo_seq_metadata_filtered.csv\")\n",
    "\n",
    "erzs = [protein.split(\".\")[0] for protein in proteins]\n",
    "metadata_df = metadata_df.query(\"ERZ in @erzs\")\n",
    "\n",
    "#Now, we need to map each CDS name to its ERZ, start, end, and strand\n",
    "#The ERZ is in the CDS name itself but the start, end, and strand data needs to be loaded from the CDS FASTA header\n",
    "#We can load these FASTA headers from the FASTA files containing all CDSes from each contig\n",
    "protein_names = [f\"{protein.split('_')[1]}_{protein.split('_')[2]}\" for protein in proteins]\n",
    "erz_dict = {}\n",
    "\n",
    "for protein_name in protein_names:\n",
    "    erz = protein_name.split(\".\")[0]\n",
    "    seq_records = SeqIO.parse(glob(f\"../contigs/CDS/*-{erz}_CDS.fasta\")[0], \"fasta\")\n",
    "\n",
    "    fasta_header = [str(record.description) for record in seq_records if str(record.description).split()[0] == protein_name][0]\n",
    "\n",
    "    start = fasta_header.split(\" # \")[1]\n",
    "    end = fasta_header.split(\" # \")[2]\n",
    "    strand = fasta_header.split(\" # \")[3]\n",
    "\n",
    "    erz_dict[\"_\".join((erz, start, end, strand))] = protein_name\n",
    "\n",
    "\n",
    "#And now FINALLY we can make a dictionary mapping the CDS names to MGYPs\n",
    "mgyp_dict = {}\n",
    "\n",
    "for _, row in metadata_df.iterrows():\n",
    "    try:\n",
    "        mgyp_dict[row[\"MGYP\"]] = erz_dict[\"_\".join((row[\"ERZ\"], str(row[\"Start\"]), str(row[\"End\"]), str(row[\"Strand\"])))]\n",
    "    except KeyError:\n",
    "        continue"
   ]
  },
  {
   "cell_type": "markdown",
   "metadata": {},
   "source": [
    "And FINALLY in this very long-winded and convoluted process, let's write a function to map glycosyltransferase MGYP to encapsulin MGYP, via the DeepBGC DataFrame:"
   ]
  },
  {
   "cell_type": "code",
   "execution_count": 40,
   "metadata": {},
   "outputs": [],
   "source": [
    "def get_enc_mgyp(cargo_mgyp):\n",
    "    cargo_cds_name = mgyp_dict[cargo_mgyp]\n",
    "    return(deepbgc_df[deepbgc_df[\"protein_ids\"].str.contains(cargo_cds_name)][\"MGYP\"].unique()[0])"
   ]
  },
  {
   "cell_type": "markdown",
   "metadata": {},
   "source": [
    "And let's add this column to our DataFrame!"
   ]
  },
  {
   "cell_type": "code",
   "execution_count": 42,
   "metadata": {},
   "outputs": [
    {
     "data": {
      "text/html": [
       "<div>\n",
       "<style scoped>\n",
       "    .dataframe tbody tr th:only-of-type {\n",
       "        vertical-align: middle;\n",
       "    }\n",
       "\n",
       "    .dataframe tbody tr th {\n",
       "        vertical-align: top;\n",
       "    }\n",
       "\n",
       "    .dataframe thead th {\n",
       "        text-align: right;\n",
       "    }\n",
       "</style>\n",
       "<table border=\"1\" class=\"dataframe\">\n",
       "  <thead>\n",
       "    <tr style=\"text-align: right;\">\n",
       "      <th></th>\n",
       "      <th>Query</th>\n",
       "      <th>Target</th>\n",
       "      <th>Identity</th>\n",
       "      <th>Aligned Length</th>\n",
       "      <th>Number of Mismatches</th>\n",
       "      <th>Gap Openings</th>\n",
       "      <th>Query Start</th>\n",
       "      <th>Query End</th>\n",
       "      <th>Target Start</th>\n",
       "      <th>Target End</th>\n",
       "      <th>...</th>\n",
       "      <th>PDB Code</th>\n",
       "      <th>Ligand</th>\n",
       "      <th>Resolution</th>\n",
       "      <th>Protein Name</th>\n",
       "      <th>EC#</th>\n",
       "      <th>Organism</th>\n",
       "      <th>GenBank</th>\n",
       "      <th>Uniprot</th>\n",
       "      <th>Family</th>\n",
       "      <th>Encapsulin MGYP</th>\n",
       "    </tr>\n",
       "  </thead>\n",
       "  <tbody>\n",
       "    <tr>\n",
       "      <th>1</th>\n",
       "      <td>MGYP001196446441</td>\n",
       "      <td>6APL</td>\n",
       "      <td>0.161</td>\n",
       "      <td>236</td>\n",
       "      <td>145</td>\n",
       "      <td>13</td>\n",
       "      <td>1</td>\n",
       "      <td>203</td>\n",
       "      <td>78</td>\n",
       "      <td>293</td>\n",
       "      <td>...</td>\n",
       "      <td>6APL[A,B,C,D,E,F]</td>\n",
       "      <td>NaN</td>\n",
       "      <td>2.35</td>\n",
       "      <td>CMP-NeuAc:N-acetylgalactosaminide α-2,6-sialyl...</td>\n",
       "      <td>2.4.3.3</td>\n",
       "      <td>Homo sapiens</td>\n",
       "      <td>AAH40455.1AAA52228.1AAV38775.1CAB61434.1CAS916...</td>\n",
       "      <td>A0A024R8M1Q9UJ37</td>\n",
       "      <td>29</td>\n",
       "      <td>MGYP001178754852</td>\n",
       "    </tr>\n",
       "    <tr>\n",
       "      <th>2</th>\n",
       "      <td>MGYP001316708597</td>\n",
       "      <td>7SP8</td>\n",
       "      <td>0.081</td>\n",
       "      <td>370</td>\n",
       "      <td>184</td>\n",
       "      <td>23</td>\n",
       "      <td>1</td>\n",
       "      <td>223</td>\n",
       "      <td>41</td>\n",
       "      <td>401</td>\n",
       "      <td>...</td>\n",
       "      <td>7SP8[A]</td>\n",
       "      <td>NaN</td>\n",
       "      <td>2.70</td>\n",
       "      <td>hyaluronan synthase (PBCVCZ2_118R;Cz-2_118R)</td>\n",
       "      <td>2.4.1.212</td>\n",
       "      <td>Paramecium bursaria Chlorella virus CZ-2</td>\n",
       "      <td>AGE52748.1</td>\n",
       "      <td>M1H2Q1</td>\n",
       "      <td>2</td>\n",
       "      <td>MGYP001178754852</td>\n",
       "    </tr>\n",
       "    <tr>\n",
       "      <th>3</th>\n",
       "      <td>MGYP001379529187</td>\n",
       "      <td>7SP8</td>\n",
       "      <td>0.074</td>\n",
       "      <td>374</td>\n",
       "      <td>186</td>\n",
       "      <td>24</td>\n",
       "      <td>1</td>\n",
       "      <td>223</td>\n",
       "      <td>41</td>\n",
       "      <td>405</td>\n",
       "      <td>...</td>\n",
       "      <td>7SP8[A]</td>\n",
       "      <td>NaN</td>\n",
       "      <td>2.70</td>\n",
       "      <td>hyaluronan synthase (PBCVCZ2_118R;Cz-2_118R)</td>\n",
       "      <td>2.4.1.212</td>\n",
       "      <td>Paramecium bursaria Chlorella virus CZ-2</td>\n",
       "      <td>AGE52748.1</td>\n",
       "      <td>M1H2Q1</td>\n",
       "      <td>2</td>\n",
       "      <td>MGYP003111298200</td>\n",
       "    </tr>\n",
       "    <tr>\n",
       "      <th>7</th>\n",
       "      <td>MGYP001324906288</td>\n",
       "      <td>6E4R</td>\n",
       "      <td>0.108</td>\n",
       "      <td>294</td>\n",
       "      <td>191</td>\n",
       "      <td>17</td>\n",
       "      <td>1</td>\n",
       "      <td>239</td>\n",
       "      <td>67</td>\n",
       "      <td>344</td>\n",
       "      <td>...</td>\n",
       "      <td>6E4R[A,B]</td>\n",
       "      <td>NaN</td>\n",
       "      <td>2.06</td>\n",
       "      <td>UDP-GalNAc: polypeptide α-N-acetylgalactosamin...</td>\n",
       "      <td>2.4.1.41</td>\n",
       "      <td>Drosophila melanogaster</td>\n",
       "      <td>AAF57964.2AAF57964.3AAF57966.2AAM51988.1ABL756...</td>\n",
       "      <td>Q8MRC9</td>\n",
       "      <td>27</td>\n",
       "      <td>MGYP001412933479</td>\n",
       "    </tr>\n",
       "    <tr>\n",
       "      <th>8</th>\n",
       "      <td>MGYP003111233659</td>\n",
       "      <td>6E4R</td>\n",
       "      <td>0.075</td>\n",
       "      <td>331</td>\n",
       "      <td>220</td>\n",
       "      <td>30</td>\n",
       "      <td>1</td>\n",
       "      <td>265</td>\n",
       "      <td>63</td>\n",
       "      <td>373</td>\n",
       "      <td>...</td>\n",
       "      <td>6E4R[A,B]</td>\n",
       "      <td>NaN</td>\n",
       "      <td>2.06</td>\n",
       "      <td>UDP-GalNAc: polypeptide α-N-acetylgalactosamin...</td>\n",
       "      <td>2.4.1.41</td>\n",
       "      <td>Drosophila melanogaster</td>\n",
       "      <td>AAF57964.2AAF57964.3AAF57966.2AAM51988.1ABL756...</td>\n",
       "      <td>Q8MRC9</td>\n",
       "      <td>27</td>\n",
       "      <td>MGYP003111233400</td>\n",
       "    </tr>\n",
       "  </tbody>\n",
       "</table>\n",
       "<p>5 rows × 23 columns</p>\n",
       "</div>"
      ],
      "text/plain": [
       "              Query Target  Identity  Aligned Length  Number of Mismatches  \\\n",
       "1  MGYP001196446441   6APL     0.161             236                   145   \n",
       "2  MGYP001316708597   7SP8     0.081             370                   184   \n",
       "3  MGYP001379529187   7SP8     0.074             374                   186   \n",
       "7  MGYP001324906288   6E4R     0.108             294                   191   \n",
       "8  MGYP003111233659   6E4R     0.075             331                   220   \n",
       "\n",
       "   Gap Openings  Query Start  Query End  Target Start  Target End  ...  \\\n",
       "1            13            1        203            78         293  ...   \n",
       "2            23            1        223            41         401  ...   \n",
       "3            24            1        223            41         405  ...   \n",
       "7            17            1        239            67         344  ...   \n",
       "8            30            1        265            63         373  ...   \n",
       "\n",
       "            PDB Code  Ligand  Resolution  \\\n",
       "1  6APL[A,B,C,D,E,F]     NaN        2.35   \n",
       "2            7SP8[A]     NaN        2.70   \n",
       "3            7SP8[A]     NaN        2.70   \n",
       "7          6E4R[A,B]     NaN        2.06   \n",
       "8          6E4R[A,B]     NaN        2.06   \n",
       "\n",
       "                                        Protein Name        EC#  \\\n",
       "1  CMP-NeuAc:N-acetylgalactosaminide α-2,6-sialyl...    2.4.3.3   \n",
       "2       hyaluronan synthase (PBCVCZ2_118R;Cz-2_118R)  2.4.1.212   \n",
       "3       hyaluronan synthase (PBCVCZ2_118R;Cz-2_118R)  2.4.1.212   \n",
       "7  UDP-GalNAc: polypeptide α-N-acetylgalactosamin...   2.4.1.41   \n",
       "8  UDP-GalNAc: polypeptide α-N-acetylgalactosamin...   2.4.1.41   \n",
       "\n",
       "                                   Organism  \\\n",
       "1                              Homo sapiens   \n",
       "2  Paramecium bursaria Chlorella virus CZ-2   \n",
       "3  Paramecium bursaria Chlorella virus CZ-2   \n",
       "7                   Drosophila melanogaster   \n",
       "8                   Drosophila melanogaster   \n",
       "\n",
       "                                             GenBank           Uniprot Family  \\\n",
       "1  AAH40455.1AAA52228.1AAV38775.1CAB61434.1CAS916...  A0A024R8M1Q9UJ37     29   \n",
       "2                                         AGE52748.1            M1H2Q1      2   \n",
       "3                                         AGE52748.1            M1H2Q1      2   \n",
       "7  AAF57964.2AAF57964.3AAF57966.2AAM51988.1ABL756...            Q8MRC9     27   \n",
       "8  AAF57964.2AAF57964.3AAF57966.2AAM51988.1ABL756...            Q8MRC9     27   \n",
       "\n",
       "    Encapsulin MGYP  \n",
       "1  MGYP001178754852  \n",
       "2  MGYP001178754852  \n",
       "3  MGYP003111298200  \n",
       "7  MGYP001412933479  \n",
       "8  MGYP003111233400  \n",
       "\n",
       "[5 rows x 23 columns]"
      ]
     },
     "execution_count": 42,
     "metadata": {},
     "output_type": "execute_result"
    }
   ],
   "source": [
    "best_hits[\"Encapsulin MGYP\"] = best_hits[\"Query\"].apply(get_enc_mgyp)\n",
    "best_hits.head()"
   ]
  },
  {
   "cell_type": "code",
   "execution_count": 55,
   "metadata": {},
   "outputs": [
    {
     "name": "stdout",
     "output_type": "stream",
     "text": [
      "MGYP001178754852\n",
      "MGYP001196446441 - CMP-NeuAc:N-acetylgalactosaminide α-2,6-sialyltransferase II (ST6GalNAc II;Sia7b;SThM) Family 29 TM-Score 0.74 (Homo sapiens) A0A024R8M1Q9UJ37\n",
      "MGYP001316708597 - hyaluronan synthase (PBCVCZ2_118R;Cz-2_118R) Family 2 TM-Score 0.79 (Paramecium bursaria Chlorella virus CZ-2) M1H2Q1\n",
      "MGYP001422618815 - sucrose synthase 1 (Sus1;AtSus1;At5g20830) Family 4 TM-Score 0.74 (Arabidopsis thaliana) P49040\n",
      "\n",
      "MGYP001238560740\n",
      "MGYP001418685844 - sucrose synthase 1 (Sus1;AtSus1;At5g20830) Family 4 TM-Score 0.78 (Arabidopsis thaliana) P49040\n",
      "MGYP003123774632 - NY2A_B736L Family 4 TM-Score 0.74 (Paramecium bursaria Chlorella virus NY2A) nan\n",
      "\n",
      "MGYP001412933479\n",
      "MGYP001324906288 - UDP-GalNAc: polypeptide α-N-acetylgalactosaminyltransferase (PGANT9A; PGANT9B; CG30463) Family 27 TM-Score 0.75 (Drosophila melanogaster) Q8MRC9\n",
      "MGYP001383139300 - UDP-GalNAc: polypeptide N-acetylgalactosaminyltransferase 10 (GalNT10;ppGalNAcT10;pp-GalNAc-T10) Family 27 TM-Score 0.73 (Homo sapiens) Q4G0E1Q86SR1Q86SR1\n",
      "MGYP003121125337 - sucrose synthase 1 (Sus1;AtSus1;At5g20830) Family 4 TM-Score 0.77 (Arabidopsis thaliana) P49040\n",
      "MGYP003121125678 - bimodular LPS [galactan I] α-1,3-galactopyranosyltransferase / β-1,3-galactofuranosyltransferase (WbbM;RfbC) Family 8 TM-Score 0.75 (Klebsiella pneumoniae 01:K20 / 889/50) Q48484\n",
      "MGYP003121125678 - bimodular LPS [galactan I] α-1,3-galactopyranosyltransferase / β-1,3-galactofuranosyltransferase (WbbM;RfbC) Family 111 TM-Score 0.75 (Klebsiella pneumoniae 01:K20 / 889/50) Q48484Q79E50\n",
      "MGYP003121125766 - glycogen synthase 1 (GlgA) Family 5 TM-Score 0.74 (Agrobacterium tumefaciens A348) P0A3F3P39670\n",
      "\n",
      "MGYP001581572508\n",
      "MGYP001561091420 - UDP-GalNAc: polypeptide N-acetylgalactosaminyltransferase 10 (GalNT10;ppGalNAcT10;pp-GalNAc-T10) Family 27 TM-Score 0.82 (Homo sapiens) Q4G0E1Q86SR1Q86SR1\n",
      "MGYP001557959829 - sucrose synthase 1 (Sus1;AtSus1;At5g20830) Family 4 TM-Score 0.79 (Arabidopsis thaliana) P49040\n",
      "\n",
      "MGYP001595624303\n",
      "MGYP001558243036 - sucrose synthase 1 (Sus1;AtSus1;At5g20830) Family 4 TM-Score 0.84 (Arabidopsis thaliana) P49040\n",
      "MGYP001558586866 - sucrose synthase 1 (Sus1;AtSus1;At5g20830) Family 4 TM-Score 0.84 (Arabidopsis thaliana) P49040\n",
      "MGYP001563014911 - sucrose synthase 1 (Sus1;AtSus1;At5g20830) Family 4 TM-Score 0.84 (Arabidopsis thaliana) P49040\n",
      "MGYP001568944321 - sucrose synthase 1 (Sus1;AtSus1;At5g20830) Family 4 TM-Score 0.89 (Arabidopsis thaliana) P49040\n",
      "MGYP001569263360 - sucrose synthase 1 (Sus1;AtSus1;At5g20830) Family 4 TM-Score 0.82 (Arabidopsis thaliana) P49040\n",
      "MGYP001588450346 - sucrose synthase 1 (Sus1;AtSus1;At5g20830) Family 4 TM-Score 0.83 (Arabidopsis thaliana) P49040\n",
      "MGYP001563980993 - α-glucan phosphorylase (PHS2;AtPHS2;At3g46970) Family 35 TM-Score 0.8 (Arabidopsis thaliana) nan\n",
      "MGYP001569984048 - UDP-GlcNAc: L-malate α-N?acetylglucosaminyltransferase (BshA;USA300HOU_1396) Family 4 TM-Score 0.88 (Staphylococcus aureus subsp. aureus USA300_TCH1516) A0A068A5A2A8Z438T1Y9F7\n",
      "MGYP001571534905 - GDP-Man: dolichyl-phosphate β-mannosyltransferase / dolichylphosphate mannose synthase (PfDPMS; PF0058) Family 2 TM-Score 0.82 (Pyrococcus furiosus DSM 3638) nan\n",
      "MGYP001572126581 - GDP-Man: dolichyl-phosphate β-mannosyltransferase / dolichylphosphate mannose synthase (PfDPMS; PF0058) Family 2 TM-Score 0.88 (Pyrococcus furiosus DSM 3638) nan\n",
      "MGYP001578263727 - GDP-L-Fuc: protein O-fucosyltransferase 2 (POFUT2; C21orf80; FUT13; KIAA0958) Family 68 TM-Score 0.72 (Homo sapiens) A8K3W7B4DH78B4DNV6Q9Y2G5S6FMI4S6FW71\n",
      "MGYP001588652737 - sucrose synthase (Ss2;SuSyNe;NE1214) Family 4 TM-Score 0.8 (Nitrosomonas europaea ATCC 19718) Q820M5\n",
      "\n",
      "MGYP003110546203\n",
      "MGYP003110545466 - UDP-Galf; galactan b-(1,5)- / b-(1,6)-galactofuranosyltransferase (GlfT2;GlfT;Rv3808c) Family 2 TM-Score 0.88 (Mycobacterium tuberculosis H37Rv) O53585\n",
      "MGYP003110545618 - chondroitin polymerase (KfoC; K4CP) Family 2 TM-Score 0.76 (Escherichia coli K4) Q8L0V4\n",
      "MGYP003110545618 - chondroitin polymerase (KfoC; K4CP) Family 2 TM-Score 0.76 (Escherichia coli K4) Q8L0V4\n",
      "\n",
      "MGYP003111233400\n",
      "MGYP003111233659 - UDP-GalNAc: polypeptide α-N-acetylgalactosaminyltransferase (PGANT9A; PGANT9B; CG30463) Family 27 TM-Score 0.75 (Drosophila melanogaster) Q8MRC9\n",
      "MGYP003111233796 - sucrose synthase 1 (Sus1;AtSus1;At5g20830) Family 4 TM-Score 0.76 (Arabidopsis thaliana) P49040\n",
      "MGYP003110814064 - chondroitin polymerase (KfoC; K4CP) Family 2 TM-Score 0.84 (Escherichia coli K4) Q8L0V4\n",
      "MGYP003110814064 - chondroitin polymerase (KfoC; K4CP) Family 2 TM-Score 0.84 (Escherichia coli K4) Q8L0V4\n",
      "MGYP003110814157 - cellulose synthase (CESA7) Family 2 TM-Score 0.76 (Gossypium hirsutum) L7NUA2\n",
      "\n",
      "MGYP003111298200\n",
      "MGYP001379529187 - hyaluronan synthase (PBCVCZ2_118R;Cz-2_118R) Family 2 TM-Score 0.8 (Paramecium bursaria Chlorella virus CZ-2) M1H2Q1\n",
      "\n",
      "MGYP003131024615\n",
      "MGYP003108819511 - KPHS_49390 Family 35 TM-Score 0.83 (Klebsiella pneumoniae subsp. pneumoniae HS11286) nan\n",
      "\n",
      "MGYP003131556693\n",
      "MGYP003131556077 - sucrose synthase 1 (Sus1;AtSus1;At5g20830) Family 4 TM-Score 0.81 (Arabidopsis thaliana) P49040\n",
      "MGYP003131556091 - NY2A_B736L Family 4 TM-Score 0.76 (Paramecium bursaria Chlorella virus NY2A) nan\n",
      "\n",
      "MGYP003134444350\n",
      "MGYP003134444702 - sucrose synthase 1 (Sus1;AtSus1;At5g20830) Family 4 TM-Score 0.73 (Arabidopsis thaliana) P49040\n",
      "MGYP003134444684 - cellulose synthase (CESA7) Family 2 TM-Score 0.76 (Gossypium hirsutum) L7NUA2\n",
      "MGYP003134444826 - ADP-Glc-dependent α-maltose-1-phosphate synthase (GlgA;MSMEG_5080) Family 4 TM-Score 0.83 (Mycolicibacterium smegmatis MC2 155) A0R2E2\n",
      "MGYP003134444929 - UDP-GalNAc: polypeptide N-acetylgalactosaminyltransferase 12 (ppGalNAcT12; Galnt12) Family 27 TM-Score 0.82 (Homo sapiens) Q58A70Q68VJ1Q8IXK2Q8IXK2\n",
      "\n",
      "MGYP003331015935\n",
      "MGYP003331015461 - chondroitin polymerase (KfoC; K4CP) Family 2 TM-Score 0.81 (Escherichia coli K4) Q8L0V4\n",
      "MGYP003331015461 - chondroitin polymerase (KfoC; K4CP) Family 2 TM-Score 0.81 (Escherichia coli K4) Q8L0V4\n",
      "\n",
      "MGYP003332394819\n",
      "MGYP003331016224 - sucrose synthase 1 (Sus1;AtSus1;At5g20830) Family 4 TM-Score 0.81 (Arabidopsis thaliana) P49040\n",
      "\n",
      "MGYP003341041167\n",
      "MGYP003332756897 - CDIF27147_00738 (TcdA) Family 44 TM-Score 0.74 (Clostridioides difficile R20291) nan\n",
      "MGYP003333785714 - cytotoxin L / UDP-Glc: Ras/Rho [GTP-binding protein] glucosyltransferase (TcdL) Family 44 TM-Score 0.74 (Paeniclostridium sordellii 6018) Q46342\n",
      "MGYP003332756948 - UDP-GalNAc:polypeptide N-acetylgalactosaminyltransferase 7 (GALNT7;GALNAC-T7;GalNAcT7) Family 27 TM-Score 0.78 (Homo sapiens) B3KQU3B4DIB4Q4W5F7Q86SF2Q86SF2\n",
      "MGYP003333519427 - [inverting] GDP-α-D-lincosamide: ergothioneine β-D-lincosaminyltransferase (SLINC_0253) Family Unclassified TM-Score 0.82 (Streptomyces lincolnensis NRRL 2936) nan\n",
      "MGYP003334185446 - UDP-GalNAc:polypeptide α-N-acetylgalactosaminyltransferase T3 (Galnt3; TgGalNAc-T3) Family 27 TM-Score 0.71 (Taeniopygia guttata) nan\n",
      "\n",
      "MGYP003626144734\n",
      "MGYP003626144850 - sucrose synthase 1 (Sus1;AtSus1;At5g20830) Family 4 TM-Score 0.76 (Arabidopsis thaliana) P49040\n",
      "\n",
      "MGYP003636931262\n",
      "MGYP003624946996 - cellulose synthase (CESA7) Family 2 TM-Score 0.74 (Gossypium hirsutum) L7NUA2\n",
      "MGYP003624946991 - UDP-GlcNAc: protein [Serine] α-N-acetylglucosaminyltransferase (GtfA;OGT;SP1758) Family 4 TM-Score 0.76 (Streptococcus pneumoniae TIGR4) A0A0H2URG7Q97P84\n",
      "\n",
      "MGYP003638549746\n",
      "MGYP003631920257 - UDP-GalNAc: polypeptide α-N-acetylgalactosaminyltransferase (PGANT9A; PGANT9B; CG30463) Family 27 TM-Score 0.76 (Drosophila melanogaster) Q8MRC9\n",
      "MGYP003388175338 - glycogen phosphorylase (muscle) (PigM) Family 35 TM-Score 0.73 (Homo sapiens) A0A0M4FEM1B2RB32B4DRQ4B4DRW6P11217\n",
      "\n",
      "MGYP003662771788\n",
      "MGYP003624593695 - cellulose synthase (CESA7) Family 2 TM-Score 0.76 (Gossypium hirsutum) L7NUA2\n",
      "\n"
     ]
    }
   ],
   "source": [
    "for name, group in best_hits.groupby(\"Encapsulin MGYP\"):\n",
    "    print(name)\n",
    "\n",
    "    for record in group.to_dict(orient=\"records\"):\n",
    "        print(f\"{record['Query']} - {record['Protein Name']} Family {record['Family']} TM-Score {record['TM-Score']} ({record['Organism']}) {record['Uniprot']}\")\n",
    "\n",
    "    print()"
   ]
  },
  {
   "cell_type": "code",
   "execution_count": null,
   "metadata": {},
   "outputs": [],
   "source": []
  }
 ],
 "metadata": {
  "kernelspec": {
   "display_name": "jupyter",
   "language": "python",
   "name": "python3"
  },
  "language_info": {
   "codemirror_mode": {
    "name": "ipython",
    "version": 3
   },
   "file_extension": ".py",
   "mimetype": "text/x-python",
   "name": "python",
   "nbconvert_exporter": "python",
   "pygments_lexer": "ipython3",
   "version": "3.10.4"
  }
 },
 "nbformat": 4,
 "nbformat_minor": 2
}
