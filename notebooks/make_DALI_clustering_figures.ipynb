{
 "cells": [
  {
   "attachments": {},
   "cell_type": "markdown",
   "metadata": {},
   "source": [
    "# Making Protein Structure Clustering Figures\n",
    "\n",
    "We already have other notebooks for exploring and analyzing the DALI protein structure clustering analysis data - namely `DALI_data_analysis.ipynb` and `structure_cluster_analysis.ipynb`. I don't want to clutter those notebooks with figures and code to make them look pretty so this notebook is exclusively for making figures and getting them to look exactly how I want them to.\n",
    "\n",
    "First, the Clustermap (this one is a pain) - let's import and process the similarity matrix, and then create a figure without actually displaying it to save memory."
   ]
  },
  {
   "cell_type": "code",
   "execution_count": 1,
   "metadata": {},
   "outputs": [],
   "source": [
    "import numpy as np\n",
    "import dash_bio\n",
    "import plotly.express as px\n",
    "\n",
    "#We need to skip the first column and the first row of the input file since this is where the labels are\n",
    "columns = tuple(range(1, 952))\n",
    "similarity_matrix = np.loadtxt(\"../DALI/ordered\", usecols=columns, skiprows=1)\n",
    "\n",
    "#The first 130 columns contain structures with low similarity to all the rest so I've manually removed these into their own cluster\n",
    "similar_submatrix = similarity_matrix[130:, 130:]\n",
    "\n",
    "heatmap_colours = px.colors.sequential.Purples\n",
    "\n",
    "fig = dash_bio.Clustergram(\n",
    "    data=similar_submatrix,\n",
    "    color_map=heatmap_colours,\n",
    "    color_threshold={\n",
    "        \"row\": 150,\n",
    "        \"col\": 150\n",
    "    },\n",
    "    hidden_labels=[\"row\", \"col\"],\n",
    "    width=1200,\n",
    "    height=800,\n",
    "    paper_bg_color=\"#FFFFFF\"\n",
    ")"
   ]
  },
  {
   "attachments": {},
   "cell_type": "markdown",
   "metadata": {},
   "source": [
    "By looping through the figure's `data` key we can see that each dendrogram point has a defined colour:"
   ]
  },
  {
   "cell_type": "code",
   "execution_count": 2,
   "metadata": {},
   "outputs": [
    {
     "data": {
      "image/png": "[encoded data removed]",
      "text/plain": [
       "<Figure size 504x72 with 1 Axes>"
      ]
     },
     "metadata": {
      "needs_background": "light"
     },
     "output_type": "display_data"
    }
   ],
   "source": [
    "from plotly.exceptions import PlotlyKeyError\n",
    "import seaborn as sns\n",
    "\n",
    "all_colours = []\n",
    "\n",
    "for data_point in fig[\"data\"]:\n",
    "    try:\n",
    "        all_colours.append(data_point[\"marker\"][\"color\"])\n",
    "    except PlotlyKeyError:\n",
    "        continue\n",
    "\n",
    "colour_tuples = set(all_colours)\n",
    "colour_tuples = np.array([tuple([int(item) for item in colour.split(\"(\")[1][:-1].split(\",\")]) for colour in colour_tuples]) / 255\n",
    "sns.palplot(colour_tuples)"
   ]
  },
  {
   "attachments": {},
   "cell_type": "markdown",
   "metadata": {},
   "source": [
    "This is the colour palette we'd like to use, `plotly.express.colors.qualitative.Dark24`:"
   ]
  },
  {
   "cell_type": "code",
   "execution_count": 3,
   "metadata": {},
   "outputs": [
    {
     "data": {
      "image/png": "[encoded data removed]",
      "text/plain": [
       "<Figure size 1728x72 with 1 Axes>"
      ]
     },
     "metadata": {
      "needs_background": "light"
     },
     "output_type": "display_data"
    }
   ],
   "source": [
    "cluster_colours = px.colors.qualitative.Dark24\n",
    "colour_tuples = cluster_colours\n",
    "colour_tuples = np.array([tuple(int(colour[i+1:i+3], 16) for i in (0, 2, 4)) for colour in colour_tuples]) / 255\n",
    "sns.palplot(colour_tuples)"
   ]
  },
  {
   "attachments": {},
   "cell_type": "markdown",
   "metadata": {},
   "source": [
    "We can loop through the data points and replace colours at will, but there's an issue. We can replace that root blue colour with any colour we choose, but ideally we'd like a different colour for each cluster - this is tough since in the original figure the colours cycle and so multiple clusters share the same colour."
   ]
  },
  {
   "cell_type": "code",
   "execution_count": 4,
   "metadata": {},
   "outputs": [
    {
     "name": "stdout",
     "output_type": "stream",
     "text": [
      "rgb(0,116,217)\n",
      "rgb(61,153,112)\n",
      "rgb(61,153,112)\n",
      "rgb(0,116,217)\n",
      "rgb(61,153,112)\n",
      "rgb(61,153,112)\n",
      "rgb(255,65,54)\n",
      "rgb(255,65,54)\n",
      "rgb(255,65,54)\n",
      "rgb(255,65,54)\n",
      "rgb(255,65,54)\n",
      "rgb(255,65,54)\n",
      "rgb(255,65,54)\n",
      "rgb(255,65,54)\n",
      "rgb(255,65,54)\n",
      "rgb(255,65,54)\n",
      "rgb(255,65,54)\n",
      "rgb(255,65,54)\n",
      "rgb(255,65,54)\n",
      "rgb(255,65,54)\n"
     ]
    }
   ],
   "source": [
    "for i, data_point in enumerate(fig[\"data\"][:20]):\n",
    "    print(data_point[\"marker\"][\"color\"])"
   ]
  },
  {
   "cell_type": "code",
   "execution_count": 5,
   "metadata": {},
   "outputs": [],
   "source": [
    "blue = \"rgb(0,116,217)\"\n",
    "\n",
    "seen_colours = []\n",
    "prev_colour = \"\"\n",
    "\n",
    "new_fig = fig\n",
    "\n",
    "for data_point in new_fig[\"data\"]:\n",
    "    try:\n",
    "        colour = data_point[\"marker\"][\"color\"]\n",
    "    except PlotlyKeyError:\n",
    "        continue\n",
    "\n",
    "    if colour == blue:\n",
    "        data_point[\"marker\"][\"color\"] = cluster_colours[0]\n",
    "        continue\n",
    "    \n",
    "    elif colour != prev_colour:\n",
    "        seen_colours.append(colour)\n",
    "        prev_colour = colour\n",
    "\n",
    "    try:\n",
    "        data_point[\"marker\"][\"color\"] = cluster_colours[len(seen_colours) - seen_colours[::-1].index(colour)]\n",
    "    except IndexError:\n",
    "        data_point[\"marker\"][\"color\"] = cluster_colours[-1]"
   ]
  },
  {
   "cell_type": "code",
   "execution_count": 6,
   "metadata": {},
   "outputs": [],
   "source": [
    "new_fig.update_layout(width=1200, height=900)\n",
    "new_fig.write_image(\"../plots/fig3_clustermap.svg\")\n",
    "# new_fig"
   ]
  },
  {
   "attachments": {},
   "cell_type": "markdown",
   "metadata": {},
   "source": [
    "Now let's also plot that length vs pI graph with the clusters labelled:"
   ]
  },
  {
   "cell_type": "code",
   "execution_count": 7,
   "metadata": {},
   "outputs": [],
   "source": [
    "from Bio import SeqIO\n",
    "from Bio.SeqUtils.ProtParam import ProteinAnalysis\n",
    "\n",
    "#Load all of our encapsulin hit sequences into a dictionary for access\n",
    "seq_record_dict = {str(record.id).split()[0]: str(record.seq) for record in SeqIO.parse(\"../seqs/encapsulin_hits_filtered.fasta\", \"fasta\")}\n",
    "\n",
    "#Add the experimentally solved structures to this dictionary\n",
    "for record in SeqIO.parse(\"../seqs/experimental.fasta\", \"fasta\"):\n",
    "    seq_record_dict[str(record.id)] = str(record.seq)\n",
    "\n",
    "def get_sequence_length(mgyp):\n",
    "    return(len(seq_record_dict[mgyp]))\n",
    "\n",
    "def get_sequence_pI(mgyp):\n",
    "    return(ProteinAnalysis(seq_record_dict[mgyp].replace(\"X\", \"\")).isoelectric_point())"
   ]
  },
  {
   "cell_type": "code",
   "execution_count": 8,
   "metadata": {},
   "outputs": [],
   "source": [
    "def get_opacity(cluster):\n",
    "    if cluster in ['1' '10' '11' '16' '3' '4' '6' '7' '8' 'Dissimilar']:\n",
    "        return 0.8\n",
    "    else:\n",
    "        return 0.7"
   ]
  },
  {
   "cell_type": "code",
   "execution_count": 15,
   "metadata": {},
   "outputs": [
    {
     "data": {
      "application/vnd.plotly.v1+json": {
       "config": {
        "plotlyServerURL": "https://plot.ly"
       },
       "data": [
        {
         "hovertemplate": "Cluster=0<br>Length (Amino Acids)=%{x}<br>Isoelectric Point=%{y}<extra></extra>",
         "legendgroup": "0",
         "marker": {
          "color": "#2E91E5",
          "symbol": "circle"
         },
         "mode": "markers",
         "name": "0",
         "orientation": "v",
         "showlegend": true,
         "type": "scatter",
         "x": [
          269,
          245,
          243,
          217,
          221
         ],
         "xaxis": "x",
         "y": [
          5.021918296813964,
          5.283946037292479,
          5.283548164367674,
          5.574847984313963,
          5.539323616027831
         ],
         "yaxis": "y"
        },
        {
         "hovertemplate": "Cluster=1<br>Length (Amino Acids)=%{x}<br>Isoelectric Point=%{y}<extra></extra>",
         "legendgroup": "1",
         "marker": {
          "color": "#E15F99",
          "symbol": "circle"
         },
         "mode": "markers",
         "name": "1",
         "orientation": "v",
         "showlegend": true,
         "type": "scatter",
         "x": [
          305,
          306,
          302,
          269,
          305,
          305,
          303,
          305,
          305,
          305,
          306,
          305,
          305,
          305,
          305,
          305,
          305,
          305,
          305,
          305,
          305,
          305,
          305,
          305,
          305,
          305,
          305,
          305,
          302,
          302,
          302,
          302,
          303,
          301,
          301,
          301,
          307,
          307,
          302,
          302,
          303,
          303,
          303,
          303,
          303,
          303,
          303,
          304,
          304,
          302,
          302,
          302,
          302,
          302,
          302,
          302,
          301,
          302,
          302,
          302,
          303,
          303,
          303,
          302,
          302,
          302,
          303,
          302,
          302,
          303,
          303,
          302,
          303,
          301,
          301,
          301,
          301,
          302,
          302,
          301,
          302,
          303,
          303,
          303,
          304,
          303,
          303,
          303,
          303,
          303,
          303,
          303,
          303,
          302,
          303,
          302,
          302,
          302,
          302,
          307,
          302,
          302,
          302,
          302,
          302,
          302,
          302,
          302,
          302,
          302,
          302,
          302,
          297,
          300,
          303,
          302,
          302,
          302,
          301,
          302,
          302,
          301,
          302,
          302,
          302,
          303,
          303,
          303,
          301,
          302,
          302,
          302,
          303,
          302,
          302,
          308,
          301,
          302,
          302,
          302,
          302,
          302,
          305,
          305,
          305,
          304,
          302,
          303,
          300,
          301,
          302,
          303,
          301,
          302,
          302,
          312,
          312,
          312,
          302,
          304,
          304,
          302,
          302,
          303,
          303,
          303,
          303,
          305,
          300,
          302,
          302,
          302,
          302,
          300,
          300,
          303,
          303,
          307,
          307,
          306,
          306,
          306,
          303,
          284,
          302,
          302,
          303,
          303,
          302,
          302,
          302,
          304,
          305,
          306,
          305,
          302,
          302,
          303,
          303,
          301,
          302,
          303,
          302,
          303,
          302,
          292,
          303,
          304,
          304,
          294,
          288,
          289,
          320,
          305,
          299,
          307,
          306
         ],
         "xaxis": "x",
         "y": [
          5.822893333435059,
          4.633537483215332,
          5.805614280700683,
          4.947231864929199,
          4.955132484436034,
          4.973150444030761,
          5.195731925964354,
          5.090750312805175,
          4.998216438293456,
          4.956326103210448,
          5.024078178405762,
          4.912560081481933,
          4.904602622985839,
          4.904602622985839,
          4.904602622985839,
          4.950187492370604,
          4.950187492370604,
          5.105585289001463,
          4.956326103210448,
          4.956326103210448,
          4.956326103210448,
          4.956326103210448,
          4.904602622985839,
          4.904602622985839,
          4.956326103210448,
          4.956326103210448,
          4.904602622985839,
          4.955132484436034,
          5.089727210998535,
          5.031978797912598,
          4.956326103210448,
          4.956326103210448,
          4.840772438049315,
          4.823379707336425,
          4.774611854553222,
          4.783308219909667,
          4.891984367370605,
          4.955644035339354,
          4.744941902160644,
          4.706291389465331,
          4.84014720916748,
          4.84014720916748,
          4.783308219909667,
          4.84014720916748,
          4.84014720916748,
          4.687761878967284,
          4.687761878967284,
          4.687761878967284,
          4.735677146911621,
          4.85026454925537,
          4.789276313781738,
          4.739428520202637,
          4.739428520202637,
          4.772736167907715,
          4.772736167907715,
          4.772736167907715,
          4.770689964294434,
          4.761993598937988,
          4.808260536193848,
          4.808260536193848,
          4.813432884216309,
          4.821049308776855,
          4.651043891906738,
          4.582041358947754,
          4.624386405944825,
          4.651043891906738,
          4.615235328674316,
          4.651043891906738,
          4.679236030578613,
          4.60682315826416,
          4.973093605041503,
          5.047097969055175,
          5.054032325744628,
          4.995317649841308,
          4.971899986267089,
          4.889710807800292,
          4.848900413513182,
          4.8536180496215815,
          4.906535148620605,
          4.877831459045409,
          4.719307518005371,
          4.792118263244629,
          4.747272300720215,
          4.738462257385254,
          4.79183406829834,
          4.880218696594238,
          4.880218696594238,
          4.880218696594238,
          4.880218696594238,
          4.738462257385254,
          4.884879493713378,
          4.884879493713378,
          4.696571922302245,
          4.722717857360839,
          4.876637840270996,
          4.744430351257324,
          4.780579948425292,
          4.845490074157714,
          4.845490074157714,
          4.783592414855956,
          4.7815462112426745,
          4.846115303039549,
          4.7815462112426745,
          4.780807304382324,
          4.788992118835449,
          4.6379709243774405,
          4.670028114318847,
          4.752956199645996,
          4.716749763488769,
          4.6660493850708,
          4.686284065246581,
          4.711179542541504,
          4.776203346252441,
          4.716749763488769,
          4.701289558410643,
          4.821560859680175,
          4.862314414978028,
          4.758867454528808,
          4.803940773010253,
          4.803940773010253,
          4.803940773010253,
          4.767506980895996,
          4.861632347106934,
          4.870158195495605,
          4.861632347106934,
          4.795187568664551,
          4.7191370010375975,
          4.817525291442871,
          4.860893440246582,
          4.712998390197753,
          4.881810188293457,
          4.767506980895996,
          4.738462257385254,
          4.895565223693848,
          4.962237358093262,
          4.901646995544433,
          5.117578315734862,
          4.710213279724121,
          4.710213279724121,
          4.9656476974487305,
          4.967011833190917,
          4.967011833190917,
          4.541060447692872,
          4.519859504699707,
          4.5394689559936525,
          4.85026454925537,
          4.693843650817871,
          4.686966133117674,
          4.738462257385254,
          4.876637840270996,
          4.674291038513183,
          5.029989433288574,
          4.962976264953612,
          4.764494514465332,
          4.764494514465332,
          4.638368797302246,
          4.732323646545409,
          4.783592414855956,
          4.704529380798339,
          4.885732078552246,
          4.876637840270996,
          4.988781166076659,
          4.988781166076659,
          4.747215461730956,
          4.790356254577637,
          4.8354295730590815,
          4.794221305847168,
          4.89550838470459,
          4.7567644119262695,
          4.917732429504394,
          5.188797569274901,
          4.900567054748534,
          4.873909568786621,
          4.808260536193848,
          4.865838432312012,
          4.912560081481933,
          4.769723701477051,
          4.798995780944825,
          4.7815462112426745,
          4.92898654937744,
          4.73806438446045,
          4.694412040710449,
          5.387051963806152,
          4.886584663391113,
          4.7237977981567365,
          4.893007469177246,
          4.959452247619628,
          5.00463924407959,
          4.989576911926269,
          4.980312156677246,
          5.062217140197753,
          4.953995704650878,
          4.903977394104003,
          4.750057411193848,
          4.965420341491699,
          5.388643455505371,
          5.203518867492675,
          5.197721290588378,
          5.190275382995604,
          5.107176780700683,
          4.803883934020996,
          4.969399070739747,
          5.063979148864745,
          5.079041481018065,
          5.015154457092284,
          4.900851249694824,
          5.485099220275878,
          5.649136543273925,
          5.222275733947753,
          4.956326103210448,
          4.921085929870604,
          4.921029090881347,
          5.131105995178221,
          4.79962100982666,
          4.800018882751465,
          4.898464012145996,
          4.750057411193848
         ],
         "yaxis": "y"
        },
        {
         "hovertemplate": "Cluster=2<br>Length (Amino Acids)=%{x}<br>Isoelectric Point=%{y}<extra></extra>",
         "legendgroup": "2",
         "marker": {
          "color": "#1CA71C",
          "symbol": "circle"
         },
         "mode": "markers",
         "name": "2",
         "orientation": "v",
         "showlegend": true,
         "type": "scatter",
         "x": [
          268
         ],
         "xaxis": "x",
         "y": [
          8.61363697052002
         ],
         "yaxis": "y"
        },
        {
         "hovertemplate": "Cluster=3<br>Length (Amino Acids)=%{x}<br>Isoelectric Point=%{y}<extra></extra>",
         "legendgroup": "3",
         "marker": {
          "color": "#FB0D0D",
          "symbol": "circle"
         },
         "mode": "markers",
         "name": "3",
         "orientation": "v",
         "showlegend": true,
         "type": "scatter",
         "x": [
          369,
          294,
          331,
          341,
          130,
          94
         ],
         "xaxis": "x",
         "y": [
          5.049939918518065,
          5.167369270324705,
          5.474868202209472,
          5.458157539367675,
          7.899843025207519,
          4.7555139541625975
         ],
         "yaxis": "y"
        },
        {
         "hovertemplate": "Cluster=4<br>Length (Amino Acids)=%{x}<br>Isoelectric Point=%{y}<extra></extra>",
         "legendgroup": "4",
         "marker": {
          "color": "#DA16FF",
          "symbol": "circle"
         },
         "mode": "markers",
         "name": "4",
         "orientation": "v",
         "showlegend": true,
         "type": "scatter",
         "x": [
          370,
          388,
          398,
          390,
          392,
          391,
          416,
          383,
          383,
          383,
          340,
          340,
          312,
          312,
          348,
          346,
          350,
          350,
          350,
          352,
          352,
          352,
          354,
          335,
          342,
          301,
          287,
          333,
          321,
          355,
          343,
          333,
          331,
          316,
          319,
          318,
          319,
          319,
          321,
          318,
          323,
          323,
          314,
          313,
          319,
          320,
          320,
          323,
          317,
          320,
          318,
          314,
          295,
          315,
          321,
          321,
          331,
          331,
          314,
          297,
          335,
          303,
          361,
          389
         ],
         "xaxis": "x",
         "y": [
          4.681793785095214,
          5.0589204788208,
          5.088647270202636,
          4.728231239318848,
          4.971217918395996,
          4.979289054870605,
          4.510594749450684,
          4.816615867614746,
          4.919267082214354,
          4.88226490020752,
          4.930464363098143,
          4.930464363098143,
          4.797745323181153,
          4.867714118957519,
          4.6895238876342775,
          4.782626152038574,
          4.723002052307128,
          4.781887245178221,
          4.714476203918457,
          4.5470853805542,
          4.634219551086425,
          4.588918876647949,
          5.870865440368651,
          5.410526466369628,
          5.771851921081542,
          5.118374061584471,
          6.1950181961059565,
          4.656102561950684,
          6.003072929382324,
          4.883742713928222,
          5.160946464538573,
          6.766022682189941,
          5.824769020080566,
          5.382050132751465,
          5.153159523010252,
          4.741020011901855,
          5.1192834854125975,
          5.227391242980955,
          5.041527748107909,
          4.9572355270385735,
          5.172825813293455,
          5.880755424499512,
          5.808001518249512,
          5.402284812927246,
          4.957065010070799,
          7.633158302307129,
          7.633158302307129,
          5.254673957824706,
          5.364145851135253,
          5.055339622497558,
          5.16566410064697,
          6.76062297821045,
          4.638141441345215,
          5.045620155334471,
          5.383471107482911,
          5.383471107482911,
          4.553394508361817,
          4.553394508361817,
          4.760231590270995,
          5.589285087585449,
          5.637370872497558,
          9.267797660827636,
          4.9423437118530265,
          5.007822227478028
         ],
         "yaxis": "y"
        },
        {
         "hovertemplate": "Cluster=5<br>Length (Amino Acids)=%{x}<br>Isoelectric Point=%{y}<extra></extra>",
         "legendgroup": "5",
         "marker": {
          "color": "#222A2A",
          "symbol": "circle"
         },
         "mode": "markers",
         "name": "5",
         "orientation": "v",
         "showlegend": true,
         "type": "scatter",
         "x": [
          371,
          451,
          446,
          442,
          433,
          460,
          446,
          281
         ],
         "xaxis": "x",
         "y": [
          5.358461952209471,
          4.951665306091308,
          4.966613960266113,
          4.789333152770996,
          5.841991233825683,
          5.343342781066894,
          4.831735038757324,
          5.425134086608886
         ],
         "yaxis": "y"
        },
        {
         "hovertemplate": "Cluster=6<br>Length (Amino Acids)=%{x}<br>Isoelectric Point=%{y}<extra></extra>",
         "legendgroup": "6",
         "marker": {
          "color": "#B68100",
          "symbol": "circle"
         },
         "mode": "markers",
         "name": "6",
         "orientation": "v",
         "showlegend": true,
         "type": "scatter",
         "x": [
          477,
          477,
          477,
          477,
          477,
          477,
          477,
          477,
          466,
          477,
          477,
          477,
          457,
          458,
          457,
          419,
          457,
          432,
          406,
          427,
          427,
          423,
          468,
          466,
          461,
          427,
          456,
          511,
          360,
          457,
          457,
          457,
          457,
          457,
          457,
          450,
          392,
          394,
          397,
          397,
          397,
          388,
          388,
          388,
          388,
          393,
          394,
          395,
          390,
          397,
          388,
          394,
          392,
          392,
          395,
          397,
          395,
          395,
          388,
          388,
          388,
          387,
          387,
          388,
          387,
          387,
          394,
          391,
          394,
          392,
          391,
          390,
          391,
          392,
          391,
          373,
          403,
          405,
          417,
          408,
          407,
          423
         ],
         "xaxis": "x",
         "y": [
          5.998071098327636,
          5.998071098327636,
          5.911505317687988,
          5.998071098327636,
          5.998071098327636,
          5.998071098327636,
          5.998071098327636,
          6.21673069000244,
          6.569928169250488,
          6.216332817077636,
          5.998071098327636,
          5.998071098327636,
          6.6389875411987305,
          6.100267601013182,
          5.826701545715332,
          5.009072685241699,
          5.874275779724121,
          5.707680702209472,
          5.402000617980956,
          5.481177330017089,
          5.481177330017089,
          5.81845989227295,
          5.303726005554199,
          5.883711051940917,
          5.48686122894287,
          5.400011253356933,
          5.913437843322753,
          6.286472129821779,
          5.45281467437744,
          6.6389875411987305,
          6.6389875411987305,
          6.6389875411987305,
          6.6389875411987305,
          6.6389875411987305,
          6.6389875411987305,
          5.997161674499511,
          5.024532890319825,
          5.2288122177124015,
          5.438889122009278,
          5.5032876968383775,
          5.438889122009278,
          5.131560707092285,
          5.354426383972168,
          5.354426383972168,
          5.354426383972168,
          5.376025199890138,
          5.354710578918457,
          5.217558097839355,
          6.264873313903809,
          5.62094440460205,
          5.550236701965332,
          5.639019203186035,
          5.033001899719238,
          5.033001899719238,
          5.113997459411621,
          5.5032876968383775,
          5.253821372985839,
          5.253821372985839,
          5.1577066421508775,
          5.376593589782716,
          5.277239036560058,
          5.447869682312012,
          5.352948570251464,
          5.29355182647705,
          5.708817481994629,
          5.372330665588379,
          5.4808931350708,
          5.483394050598144,
          5.480836296081542,
          5.351413917541504,
          5.321857643127441,
          5.108313560485839,
          5.321857643127441,
          5.16492519378662,
          5.321857643127441,
          5.278375816345213,
          6.662632560729982,
          6.962060356140137,
          6.471767234802246,
          6.269875144958497,
          6.481145668029785,
          5.795496940612793
         ],
         "yaxis": "y"
        },
        {
         "hovertemplate": "Cluster=7<br>Length (Amino Acids)=%{x}<br>Isoelectric Point=%{y}<extra></extra>",
         "legendgroup": "7",
         "marker": {
          "color": "#750D86",
          "symbol": "circle"
         },
         "mode": "markers",
         "name": "7",
         "orientation": "v",
         "showlegend": true,
         "type": "scatter",
         "x": [
          182,
          210,
          267,
          232,
          232,
          477,
          485,
          218,
          338,
          343,
          266,
          294,
          246,
          256,
          266,
          259,
          263,
          211,
          216,
          216,
          256,
          232,
          236,
          228,
          236,
          232,
          234,
          240,
          243,
          243,
          231,
          241,
          239,
          347,
          335,
          451,
          386
         ],
         "xaxis": "x",
         "y": [
          4.42260799407959,
          5.770999336242675,
          4.9991258621215815,
          5.983463478088378,
          5.983463478088378,
          6.102711677551268,
          5.375911521911622,
          4.813489723205566,
          5.498172187805174,
          4.839010429382324,
          4.940581703186035,
          5.123034858703612,
          7.5817758560180675,
          5.987499046325683,
          5.972038841247559,
          7.014352226257324,
          5.994774436950683,
          4.507184410095214,
          4.334905433654787,
          4.530715751647949,
          5.047439002990722,
          5.905650901794433,
          6.178762245178221,
          5.655843544006348,
          5.449631690979003,
          8.762301063537599,
          6.803536415100097,
          6.149092292785644,
          7.016171073913574,
          6.190982627868652,
          6.7975683212280265,
          6.180069541931151,
          6.9403478622436525,
          5.570585060119628,
          5.4097307205200185,
          5.41723346710205,
          5.632141685485839
         ],
         "yaxis": "y"
        },
        {
         "hovertemplate": "Cluster=8<br>Length (Amino Acids)=%{x}<br>Isoelectric Point=%{y}<extra></extra>",
         "legendgroup": "8",
         "marker": {
          "color": "#EB663B",
          "symbol": "circle"
         },
         "mode": "markers",
         "name": "8",
         "orientation": "v",
         "showlegend": true,
         "type": "scatter",
         "x": [
          264,
          266,
          266,
          271,
          271,
          271,
          278,
          272,
          268,
          264,
          264,
          264,
          264,
          269,
          269,
          264,
          264,
          264,
          265,
          265,
          265,
          265,
          271,
          267,
          264,
          268,
          274,
          270,
          274,
          264,
          263,
          263,
          263,
          270,
          268,
          268,
          268,
          275,
          267,
          275,
          261,
          267,
          264,
          265,
          269,
          273,
          261,
          272,
          268,
          267,
          347,
          336,
          361,
          270,
          270,
          270,
          270,
          270,
          279,
          281,
          270,
          269,
          269,
          271,
          270,
          271,
          277,
          282,
          287,
          364,
          372,
          371,
          346,
          356,
          355,
          352,
          354,
          351,
          358,
          358,
          359
         ],
         "xaxis": "x",
         "y": [
          5.213977241516112,
          4.662241172790528,
          4.483766746520996,
          5.175724601745604,
          5.021236228942871,
          5.100924491882323,
          6.177398109436035,
          4.9576333999633775,
          4.780693626403808,
          4.686397743225096,
          4.731357383728027,
          4.7217515945434565,
          4.779158973693847,
          4.470295906066894,
          5.01919002532959,
          5.569505119323729,
          5.112178611755371,
          5.210794258117674,
          5.200392723083495,
          5.215966606140136,
          4.648145103454591,
          4.638198280334472,
          4.823948097229004,
          5.093364906311035,
          5.333907508850097,
          5.31304759979248,
          4.946549797058105,
          5.254276084899902,
          5.2942907333374025,
          4.844182777404785,
          4.762505149841308,
          4.681111717224121,
          4.681111717224121,
          4.753297233581542,
          4.965988731384278,
          5.077734184265136,
          4.958258628845214,
          4.898805046081542,
          5.584283256530762,
          4.97917537689209,
          5.365055274963378,
          5.210566902160643,
          4.895110511779785,
          4.9607027053833,
          5.000831031799316,
          5.274283409118652,
          5.584396934509278,
          4.808544731140137,
          4.641779136657715,
          4.9032384872436525,
          4.946379280090332,
          5.1385519027709945,
          5.23455295562744,
          4.869248771667479,
          4.869248771667479,
          4.869248771667479,
          5.321743965148925,
          5.43883228302002,
          5.115304756164551,
          5.117691993713378,
          4.9077856063842775,
          4.964681434631348,
          4.955587196350096,
          5.3135591506958,
          4.980425834655762,
          5.20727024078369,
          5.270702552795409,
          5.038003730773925,
          5.445596122741699,
          5.1665166854858375,
          5.038231086730956,
          5.310660362243652,
          5.287697410583495,
          5.144690513610839,
          5.413027381896971,
          5.34658260345459,
          5.32293758392334,
          5.093649101257324,
          5.158331871032714,
          5.097855186462401,
          5.031183052062987
         ],
         "yaxis": "y"
        },
        {
         "hovertemplate": "Cluster=9<br>Length (Amino Acids)=%{x}<br>Isoelectric Point=%{y}<extra></extra>",
         "legendgroup": "9",
         "marker": {
          "color": "#511CFB",
          "symbol": "circle"
         },
         "mode": "markers",
         "name": "9",
         "orientation": "v",
         "showlegend": true,
         "type": "scatter",
         "x": [
          331,
          324,
          329,
          329,
          329,
          329,
          320,
          321,
          320,
          320,
          320,
          320,
          492,
          490,
          490,
          490,
          490,
          493,
          501,
          494,
          494,
          494,
          501,
          501,
          501,
          501,
          501,
          501,
          501,
          485,
          485,
          484,
          485,
          503,
          484,
          484,
          484,
          505,
          501,
          293,
          279,
          325,
          353,
          350,
          421,
          421,
          421,
          421,
          517,
          517,
          708,
          496,
          500
         ],
         "xaxis": "x",
         "y": [
          5.529604148864746,
          5.791461372375489,
          5.420757484436035,
          5.418995475769043,
          5.425475120544433,
          5.425475120544433,
          5.347719383239746,
          6.043428611755371,
          5.867852973937987,
          5.867852973937987,
          5.616681480407714,
          5.874162101745605,
          4.960930061340331,
          5.460885810852051,
          5.336465263366699,
          5.393645286560059,
          5.264904975891112,
          5.21113529205322,
          5.508516883850096,
          5.259448432922363,
          5.383812141418457,
          5.323790168762207,
          5.364543724060058,
          5.21113529205322,
          5.508516883850096,
          5.364543724060058,
          5.304237556457519,
          5.612134361267089,
          5.4473581314086905,
          5.102629661560058,
          5.2453523635864245,
          5.024078178405762,
          5.289516258239746,
          5.337431526184082,
          5.095581626892089,
          5.058295249938964,
          5.121954917907714,
          4.682021141052245,
          5.301054573059082,
          4.717602348327636,
          4.617906761169433,
          4.882321739196779,
          4.986052894592285,
          4.60864200592041,
          5.719957923889161,
          5.719957923889161,
          5.624127388000488,
          5.719957923889161,
          5.1577066421508775,
          5.361474418640137,
          4.930180168151854,
          5.005832862854004,
          5.314241218566894
         ],
         "yaxis": "y"
        },
        {
         "hovertemplate": "Cluster=10<br>Length (Amino Acids)=%{x}<br>Isoelectric Point=%{y}<extra></extra>",
         "legendgroup": "10",
         "marker": {
          "color": "#00A08B",
          "symbol": "circle"
         },
         "mode": "markers",
         "name": "10",
         "orientation": "v",
         "showlegend": true,
         "type": "scatter",
         "x": [
          302,
          302,
          302,
          302,
          306,
          306,
          304,
          302,
          303,
          306,
          349,
          306,
          306,
          306,
          306,
          349,
          349,
          349,
          315,
          299,
          322,
          322,
          393,
          393,
          390,
          381,
          389,
          412,
          412,
          412,
          388,
          327,
          319,
          320,
          327,
          327,
          353,
          353,
          352,
          352,
          334,
          308,
          305,
          301,
          301,
          301,
          297,
          324,
          331,
          329,
          329,
          322,
          329,
          324,
          282,
          290,
          283,
          323,
          273,
          272,
          282,
          286,
          302,
          294,
          293,
          294,
          281,
          296,
          292,
          291,
          369,
          283,
          325,
          313,
          279,
          281,
          292,
          300
         ],
         "xaxis": "x",
         "y": [
          5.191525840759277,
          8.146112251281739,
          8.157523155212402,
          7.509192466735841,
          5.88700771331787,
          5.88700771331787,
          5.104334831237792,
          5.258311653137207,
          4.949505424499511,
          5.646124076843263,
          5.917643928527832,
          5.653399467468262,
          5.653399467468262,
          5.653399467468262,
          5.653399467468262,
          6.248162651062012,
          6.248162651062012,
          6.248162651062012,
          5.4331483840942365,
          5.71813907623291,
          4.9215406417846665,
          4.9215406417846665,
          5.333282279968262,
          5.607303047180175,
          5.996763801574706,
          4.883344841003418,
          4.5470853805542,
          5.467592811584471,
          5.467592811584471,
          5.467592811584471,
          5.48271198272705,
          5.115702629089356,
          7.624348258972168,
          5.348799324035644,
          8.819742393493652,
          8.819742393493652,
          5.149749183654785,
          4.96956958770752,
          4.890279197692871,
          4.729822731018066,
          5.317537879943848,
          4.615349006652831,
          5.245693397521971,
          4.713737297058105,
          4.869248771667479,
          5.016063880920409,
          4.960645866394042,
          4.8304845809936525,
          4.592386054992676,
          4.61796360015869,
          4.496498680114747,
          4.746476554870605,
          4.6921384811401365,
          4.707769203186035,
          4.497976493835449,
          4.676848793029785,
          4.890847587585449,
          4.656329917907715,
          5.659879112243652,
          6.303694343566895,
          5.045051765441894,
          5.526023292541503,
          5.16776714324951,
          5.132640647888183,
          4.971388435363769,
          5.360053443908691,
          5.899739646911621,
          4.869248771667479,
          4.546175956726075,
          4.9854845046997065,
          6.14164638519287,
          5.473163032531737,
          4.537763786315918,
          5.0926828384399405,
          5.388757133483887,
          4.910968589782715,
          4.717374992370605,
          4.689467048645019
         ],
         "yaxis": "y"
        },
        {
         "hovertemplate": "Cluster=11<br>Length (Amino Acids)=%{x}<br>Isoelectric Point=%{y}<extra></extra>",
         "legendgroup": "11",
         "marker": {
          "color": "#FB00D1",
          "symbol": "circle"
         },
         "mode": "markers",
         "name": "11",
         "orientation": "v",
         "showlegend": true,
         "type": "scatter",
         "x": [
          338,
          336,
          289,
          287,
          287,
          308,
          315,
          314,
          313,
          313,
          301,
          307,
          307,
          320,
          320,
          310,
          310,
          308,
          308,
          348,
          340,
          313,
          337,
          335,
          372,
          749,
          351,
          300,
          300,
          310,
          312,
          315,
          300,
          302,
          309,
          325,
          307,
          307,
          312,
          308,
          307,
          411,
          443,
          443,
          443,
          443,
          448,
          506,
          284,
          332,
          361,
          279,
          276,
          393,
          316,
          643,
          588,
          444,
          436,
          308,
          310,
          303,
          306,
          310,
          310,
          309,
          310,
          314,
          306,
          310,
          310,
          310,
          308,
          310,
          310,
          310,
          310,
          309,
          310,
          310,
          308,
          457,
          484,
          269,
          432,
          428,
          366,
          357,
          320,
          343,
          361,
          304,
          323,
          331,
          331,
          350,
          339,
          359,
          360,
          348,
          352,
          351,
          348,
          348,
          344,
          402,
          418,
          405,
          505,
          505,
          336,
          346,
          315
         ],
         "xaxis": "x",
         "y": [
          4.792970848083496,
          4.871351814270019,
          5.326063728332519,
          5.825678443908691,
          5.817777824401856,
          4.932396888732909,
          5.391940116882325,
          5.391940116882325,
          5.147873497009276,
          5.225856590270994,
          5.115929985046387,
          4.931260108947753,
          4.9576333999633775,
          5.370796012878418,
          5.370796012878418,
          7.606841850280762,
          7.602465248107911,
          4.801383018493653,
          4.969399070739747,
          5.375968360900879,
          4.839578819274903,
          6.102484321594236,
          4.650361824035645,
          4.776942253112793,
          4.77648754119873,
          4.948937034606933,
          6.065538978576659,
          5.265416526794433,
          5.265416526794433,
          5.124057960510252,
          5.0896703720092775,
          5.575132179260252,
          5.997389030456542,
          4.98019847869873,
          5.318163108825684,
          5.578485679626463,
          5.123034858703612,
          5.279057884216308,
          5.3966577529907225,
          5.009982109069824,
          5.443322563171387,
          6.217640113830566,
          4.890279197692871,
          4.890279197692871,
          4.900339698791503,
          4.867032051086425,
          5.200392723083495,
          5.291391944885253,
          5.036412239074706,
          7.58717555999756,
          6.256461143493653,
          4.80951099395752,
          4.694809913635253,
          5.000944709777832,
          5.574791145324705,
          4.604094886779785,
          5.226424980163573,
          6.140282249450683,
          5.37932186126709,
          5.4915788650512685,
          5.685286140441894,
          6.106008338928221,
          5.466967582702637,
          5.844492149353028,
          5.364827919006348,
          5.340273475646971,
          5.577064704895019,
          5.334475898742675,
          5.110757637023925,
          5.872115898132324,
          6.130278587341309,
          5.583089637756348,
          5.030216789245605,
          5.457361793518066,
          5.450541114807128,
          5.324983787536621,
          5.304919624328612,
          5.738203239440918,
          5.231313133239746,
          5.539494132995604,
          6.103564262390136,
          6.21491184234619,
          6.160573768615721,
          4.962180519104003,
          6.009779930114745,
          6.01171245574951,
          5.289288902282714,
          4.950642204284667,
          4.364689064025879,
          5.245750236511229,
          5.284571266174315,
          4.9966249465942365,
          5.559671974182128,
          5.040277290344237,
          4.933363151550291,
          5.826076316833496,
          5.393758964538574,
          5.000433158874511,
          5.663403129577637,
          5.171859550476073,
          4.9576333999633775,
          4.662923240661621,
          4.901760673522949,
          5.173507881164549,
          5.415073585510252,
          6.538837242126465,
          4.782000923156737,
          4.955473518371581,
          5.0625581741333,
          5.115304756164551,
          5.302020835876465,
          4.641267585754394,
          4.716806602478028
         ],
         "yaxis": "y"
        },
        {
         "hovertemplate": "Cluster=12<br>Length (Amino Acids)=%{x}<br>Isoelectric Point=%{y}<extra></extra>",
         "legendgroup": "12",
         "marker": {
          "color": "#FC0080",
          "symbol": "circle"
         },
         "mode": "markers",
         "name": "12",
         "orientation": "v",
         "showlegend": true,
         "type": "scatter",
         "x": [
          389,
          397,
          408,
          412,
          402,
          405,
          393,
          404,
          425,
          402,
          414
         ],
         "xaxis": "x",
         "y": [
          5.0663663864135735,
          4.766199684143066,
          5.667609214782716,
          5.496637535095213,
          6.102427482604979,
          5.637711906433105,
          4.884254264831543,
          5.901842689514161,
          4.904261589050292,
          6.973087120056152,
          5.816584205627441
         ],
         "yaxis": "y"
        },
        {
         "hovertemplate": "Cluster=13<br>Length (Amino Acids)=%{x}<br>Isoelectric Point=%{y}<extra></extra>",
         "legendgroup": "13",
         "marker": {
          "color": "#B2828D",
          "symbol": "circle"
         },
         "mode": "markers",
         "name": "13",
         "orientation": "v",
         "showlegend": true,
         "type": "scatter",
         "x": [
          399,
          368,
          368,
          368,
          368,
          368,
          368,
          368,
          368,
          445,
          445,
          445,
          445,
          348,
          360
         ],
         "xaxis": "x",
         "y": [
          5.180214881896972,
          5.7773653030395495,
          6.097255134582518,
          5.186353492736815,
          5.82079029083252,
          5.640667533874511,
          5.640667533874511,
          5.396941947937012,
          5.414221000671386,
          5.300940895080566,
          5.365339469909667,
          5.293438148498535,
          5.288208961486816,
          5.095922660827636,
          5.740874671936036
         ],
         "yaxis": "y"
        },
        {
         "hovertemplate": "Cluster=14<br>Length (Amino Acids)=%{x}<br>Isoelectric Point=%{y}<extra></extra>",
         "legendgroup": "14",
         "marker": {
          "color": "#6C7C32",
          "symbol": "circle"
         },
         "mode": "markers",
         "name": "14",
         "orientation": "v",
         "showlegend": true,
         "type": "scatter",
         "x": [
          341,
          354,
          376,
          342,
          342,
          341,
          342,
          350,
          350,
          368,
          350,
          343,
          330,
          337,
          340,
          369,
          379
         ],
         "xaxis": "x",
         "y": [
          4.8511171340942365,
          5.085066413879393,
          4.980027961730956,
          4.90716037750244,
          4.90716037750244,
          4.90716037750244,
          4.90716037750244,
          4.707541847229003,
          4.741815757751465,
          5.163958930969237,
          4.7013463973999015,
          5.22000217437744,
          4.716920280456542,
          4.705040931701659,
          4.896247291564941,
          4.975765037536621,
          5.012255668640137
         ],
         "yaxis": "y"
        },
        {
         "hovertemplate": "Cluster=15<br>Length (Amino Acids)=%{x}<br>Isoelectric Point=%{y}<extra></extra>",
         "legendgroup": "15",
         "marker": {
          "color": "#778AAE",
          "symbol": "circle"
         },
         "mode": "markers",
         "name": "15",
         "orientation": "v",
         "showlegend": true,
         "type": "scatter",
         "x": [
          412,
          336
         ],
         "xaxis": "x",
         "y": [
          5.270134162902831,
          5.17998752593994
         ],
         "yaxis": "y"
        },
        {
         "hovertemplate": "Cluster=16<br>Length (Amino Acids)=%{x}<br>Isoelectric Point=%{y}<extra></extra>",
         "legendgroup": "16",
         "marker": {
          "color": "#862A16",
          "symbol": "circle"
         },
         "mode": "markers",
         "name": "16",
         "orientation": "v",
         "showlegend": true,
         "type": "scatter",
         "x": [
          389,
          391,
          388,
          392,
          362,
          392,
          434,
          351,
          466,
          516,
          369,
          368,
          362,
          343,
          362,
          363,
          382,
          388,
          530,
          230,
          366,
          366,
          318,
          315,
          389,
          297,
          276,
          278,
          278,
          283,
          281
         ],
         "xaxis": "x",
         "y": [
          5.110587120056152,
          5.000603675842284,
          5.108881950378417,
          5.214772987365721,
          5.049485206604003,
          4.921370124816893,
          5.252343559265136,
          5.363520622253417,
          4.933135795593261,
          4.958542823791503,
          6.09356060028076,
          5.252855110168456,
          5.5097673416137685,
          5.402796363830566,
          5.009186363220214,
          5.164527320861815,
          5.350561332702637,
          5.519543647766112,
          9.182763862609864,
          5.009697914123534,
          5.49595546722412,
          5.368465614318848,
          6.001765632629394,
          5.05266819000244,
          4.408682441711425,
          5.137983512878416,
          5.265871238708496,
          5.220059013366698,
          5.123773765563963,
          5.077393150329589,
          4.912673759460449
         ],
         "yaxis": "y"
        },
        {
         "line": {
          "color": "#511CFB"
         },
         "mode": "lines",
         "showlegend": false,
         "type": "scatter",
         "x": [
          480,
          480,
          520,
          520,
          480
         ],
         "y": [
          4.6,
          5.7,
          5.7,
          4.6,
          4.6
         ]
        },
        {
         "line": {
          "color": "#EB663B"
         },
         "mode": "lines",
         "showlegend": false,
         "type": "scatter",
         "x": [
          260,
          260,
          280,
          280,
          260
         ],
         "y": [
          4.4,
          5.6,
          5.6,
          4.4,
          4.4
         ]
        },
        {
         "line": {
          "color": "#E15F99"
         },
         "mode": "lines",
         "showlegend": false,
         "type": "scatter",
         "x": [
          298,
          298,
          310,
          310,
          298
         ],
         "y": [
          4.3,
          6,
          6,
          4.3,
          4.3
         ]
        },
        {
         "line": {
          "color": "#B68100"
         },
         "mode": "lines",
         "showlegend": false,
         "type": "scatter",
         "x": [
          385,
          385,
          405,
          405,
          385
         ],
         "y": [
          4,
          7.5,
          7.5,
          4,
          4
         ]
        }
       ],
       "layout": {
        "font": {
         "size": 20
        },
        "height": 700,
        "legend": {
         "title": {
          "text": "Cluster"
         },
         "tracegroupgap": 0
        },
        "margin": {
         "t": 60
        },
        "template": {
         "data": {
          "bar": [
           {
            "error_x": {
             "color": "#2a3f5f"
            },
            "error_y": {
             "color": "#2a3f5f"
            },
            "marker": {
             "line": {
              "color": "white",
              "width": 0.5
             },
             "pattern": {
              "fillmode": "overlay",
              "size": 10,
              "solidity": 0.2
             }
            },
            "type": "bar"
           }
          ],
          "barpolar": [
           {
            "marker": {
             "line": {
              "color": "white",
              "width": 0.5
             },
             "pattern": {
              "fillmode": "overlay",
              "size": 10,
              "solidity": 0.2
             }
            },
            "type": "barpolar"
           }
          ],
          "carpet": [
           {
            "aaxis": {
             "endlinecolor": "#2a3f5f",
             "gridcolor": "#C8D4E3",
             "linecolor": "#C8D4E3",
             "minorgridcolor": "#C8D4E3",
             "startlinecolor": "#2a3f5f"
            },
            "baxis": {
             "endlinecolor": "#2a3f5f",
             "gridcolor": "#C8D4E3",
             "linecolor": "#C8D4E3",
             "minorgridcolor": "#C8D4E3",
             "startlinecolor": "#2a3f5f"
            },
            "type": "carpet"
           }
          ],
          "choropleth": [
           {
            "colorbar": {
             "outlinewidth": 0,
             "ticks": ""
            },
            "type": "choropleth"
           }
          ],
          "contour": [
           {
            "colorbar": {
             "outlinewidth": 0,
             "ticks": ""
            },
            "colorscale": [
             [
              0,
              "#0d0887"
             ],
             [
              0.1111111111111111,
              "#46039f"
             ],
             [
              0.2222222222222222,
              "#7201a8"
             ],
             [
              0.3333333333333333,
              "#9c179e"
             ],
             [
              0.4444444444444444,
              "#bd3786"
             ],
             [
              0.5555555555555556,
              "#d8576b"
             ],
             [
              0.6666666666666666,
              "#ed7953"
             ],
             [
              0.7777777777777778,
              "#fb9f3a"
             ],
             [
              0.8888888888888888,
              "#fdca26"
             ],
             [
              1,
              "#f0f921"
             ]
            ],
            "type": "contour"
           }
          ],
          "contourcarpet": [
           {
            "colorbar": {
             "outlinewidth": 0,
             "ticks": ""
            },
            "type": "contourcarpet"
           }
          ],
          "heatmap": [
           {
            "colorbar": {
             "outlinewidth": 0,
             "ticks": ""
            },
            "colorscale": [
             [
              0,
              "#0d0887"
             ],
             [
              0.1111111111111111,
              "#46039f"
             ],
             [
              0.2222222222222222,
              "#7201a8"
             ],
             [
              0.3333333333333333,
              "#9c179e"
             ],
             [
              0.4444444444444444,
              "#bd3786"
             ],
             [
              0.5555555555555556,
              "#d8576b"
             ],
             [
              0.6666666666666666,
              "#ed7953"
             ],
             [
              0.7777777777777778,
              "#fb9f3a"
             ],
             [
              0.8888888888888888,
              "#fdca26"
             ],
             [
              1,
              "#f0f921"
             ]
            ],
            "type": "heatmap"
           }
          ],
          "heatmapgl": [
           {
            "colorbar": {
             "outlinewidth": 0,
             "ticks": ""
            },
            "colorscale": [
             [
              0,
              "#0d0887"
             ],
             [
              0.1111111111111111,
              "#46039f"
             ],
             [
              0.2222222222222222,
              "#7201a8"
             ],
             [
              0.3333333333333333,
              "#9c179e"
             ],
             [
              0.4444444444444444,
              "#bd3786"
             ],
             [
              0.5555555555555556,
              "#d8576b"
             ],
             [
              0.6666666666666666,
              "#ed7953"
             ],
             [
              0.7777777777777778,
              "#fb9f3a"
             ],
             [
              0.8888888888888888,
              "#fdca26"
             ],
             [
              1,
              "#f0f921"
             ]
            ],
            "type": "heatmapgl"
           }
          ],
          "histogram": [
           {
            "marker": {
             "pattern": {
              "fillmode": "overlay",
              "size": 10,
              "solidity": 0.2
             }
            },
            "type": "histogram"
           }
          ],
          "histogram2d": [
           {
            "colorbar": {
             "outlinewidth": 0,
             "ticks": ""
            },
            "colorscale": [
             [
              0,
              "#0d0887"
             ],
             [
              0.1111111111111111,
              "#46039f"
             ],
             [
              0.2222222222222222,
              "#7201a8"
             ],
             [
              0.3333333333333333,
              "#9c179e"
             ],
             [
              0.4444444444444444,
              "#bd3786"
             ],
             [
              0.5555555555555556,
              "#d8576b"
             ],
             [
              0.6666666666666666,
              "#ed7953"
             ],
             [
              0.7777777777777778,
              "#fb9f3a"
             ],
             [
              0.8888888888888888,
              "#fdca26"
             ],
             [
              1,
              "#f0f921"
             ]
            ],
            "type": "histogram2d"
           }
          ],
          "histogram2dcontour": [
           {
            "colorbar": {
             "outlinewidth": 0,
             "ticks": ""
            },
            "colorscale": [
             [
              0,
              "#0d0887"
             ],
             [
              0.1111111111111111,
              "#46039f"
             ],
             [
              0.2222222222222222,
              "#7201a8"
             ],
             [
              0.3333333333333333,
              "#9c179e"
             ],
             [
              0.4444444444444444,
              "#bd3786"
             ],
             [
              0.5555555555555556,
              "#d8576b"
             ],
             [
              0.6666666666666666,
              "#ed7953"
             ],
             [
              0.7777777777777778,
              "#fb9f3a"
             ],
             [
              0.8888888888888888,
              "#fdca26"
             ],
             [
              1,
              "#f0f921"
             ]
            ],
            "type": "histogram2dcontour"
           }
          ],
          "mesh3d": [
           {
            "colorbar": {
             "outlinewidth": 0,
             "ticks": ""
            },
            "type": "mesh3d"
           }
          ],
          "parcoords": [
           {
            "line": {
             "colorbar": {
              "outlinewidth": 0,
              "ticks": ""
             }
            },
            "type": "parcoords"
           }
          ],
          "pie": [
           {
            "automargin": true,
            "type": "pie"
           }
          ],
          "scatter": [
           {
            "fillpattern": {
             "fillmode": "overlay",
             "size": 10,
             "solidity": 0.2
            },
            "type": "scatter"
           }
          ],
          "scatter3d": [
           {
            "line": {
             "colorbar": {
              "outlinewidth": 0,
              "ticks": ""
             }
            },
            "marker": {
             "colorbar": {
              "outlinewidth": 0,
              "ticks": ""
             }
            },
            "type": "scatter3d"
           }
          ],
          "scattercarpet": [
           {
            "marker": {
             "colorbar": {
              "outlinewidth": 0,
              "ticks": ""
             }
            },
            "type": "scattercarpet"
           }
          ],
          "scattergeo": [
           {
            "marker": {
             "colorbar": {
              "outlinewidth": 0,
              "ticks": ""
             }
            },
            "type": "scattergeo"
           }
          ],
          "scattergl": [
           {
            "marker": {
             "colorbar": {
              "outlinewidth": 0,
              "ticks": ""
             }
            },
            "type": "scattergl"
           }
          ],
          "scattermapbox": [
           {
            "marker": {
             "colorbar": {
              "outlinewidth": 0,
              "ticks": ""
             }
            },
            "type": "scattermapbox"
           }
          ],
          "scatterpolar": [
           {
            "marker": {
             "colorbar": {
              "outlinewidth": 0,
              "ticks": ""
             }
            },
            "type": "scatterpolar"
           }
          ],
          "scatterpolargl": [
           {
            "marker": {
             "colorbar": {
              "outlinewidth": 0,
              "ticks": ""
             }
            },
            "type": "scatterpolargl"
           }
          ],
          "scatterternary": [
           {
            "marker": {
             "colorbar": {
              "outlinewidth": 0,
              "ticks": ""
             }
            },
            "type": "scatterternary"
           }
          ],
          "surface": [
           {
            "colorbar": {
             "outlinewidth": 0,
             "ticks": ""
            },
            "colorscale": [
             [
              0,
              "#0d0887"
             ],
             [
              0.1111111111111111,
              "#46039f"
             ],
             [
              0.2222222222222222,
              "#7201a8"
             ],
             [
              0.3333333333333333,
              "#9c179e"
             ],
             [
              0.4444444444444444,
              "#bd3786"
             ],
             [
              0.5555555555555556,
              "#d8576b"
             ],
             [
              0.6666666666666666,
              "#ed7953"
             ],
             [
              0.7777777777777778,
              "#fb9f3a"
             ],
             [
              0.8888888888888888,
              "#fdca26"
             ],
             [
              1,
              "#f0f921"
             ]
            ],
            "type": "surface"
           }
          ],
          "table": [
           {
            "cells": {
             "fill": {
              "color": "#EBF0F8"
             },
             "line": {
              "color": "white"
             }
            },
            "header": {
             "fill": {
              "color": "#C8D4E3"
             },
             "line": {
              "color": "white"
             }
            },
            "type": "table"
           }
          ]
         },
         "layout": {
          "annotationdefaults": {
           "arrowcolor": "#2a3f5f",
           "arrowhead": 0,
           "arrowwidth": 1
          },
          "autotypenumbers": "strict",
          "coloraxis": {
           "colorbar": {
            "outlinewidth": 0,
            "ticks": ""
           }
          },
          "colorscale": {
           "diverging": [
            [
             0,
             "#8e0152"
            ],
            [
             0.1,
             "#c51b7d"
            ],
            [
             0.2,
             "#de77ae"
            ],
            [
             0.3,
             "#f1b6da"
            ],
            [
             0.4,
             "#fde0ef"
            ],
            [
             0.5,
             "#f7f7f7"
            ],
            [
             0.6,
             "#e6f5d0"
            ],
            [
             0.7,
             "#b8e186"
            ],
            [
             0.8,
             "#7fbc41"
            ],
            [
             0.9,
             "#4d9221"
            ],
            [
             1,
             "#276419"
            ]
           ],
           "sequential": [
            [
             0,
             "#0d0887"
            ],
            [
             0.1111111111111111,
             "#46039f"
            ],
            [
             0.2222222222222222,
             "#7201a8"
            ],
            [
             0.3333333333333333,
             "#9c179e"
            ],
            [
             0.4444444444444444,
             "#bd3786"
            ],
            [
             0.5555555555555556,
             "#d8576b"
            ],
            [
             0.6666666666666666,
             "#ed7953"
            ],
            [
             0.7777777777777778,
             "#fb9f3a"
            ],
            [
             0.8888888888888888,
             "#fdca26"
            ],
            [
             1,
             "#f0f921"
            ]
           ],
           "sequentialminus": [
            [
             0,
             "#0d0887"
            ],
            [
             0.1111111111111111,
             "#46039f"
            ],
            [
             0.2222222222222222,
             "#7201a8"
            ],
            [
             0.3333333333333333,
             "#9c179e"
            ],
            [
             0.4444444444444444,
             "#bd3786"
            ],
            [
             0.5555555555555556,
             "#d8576b"
            ],
            [
             0.6666666666666666,
             "#ed7953"
            ],
            [
             0.7777777777777778,
             "#fb9f3a"
            ],
            [
             0.8888888888888888,
             "#fdca26"
            ],
            [
             1,
             "#f0f921"
            ]
           ]
          },
          "colorway": [
           "#636efa",
           "#EF553B",
           "#00cc96",
           "#ab63fa",
           "#FFA15A",
           "#19d3f3",
           "#FF6692",
           "#B6E880",
           "#FF97FF",
           "#FECB52"
          ],
          "font": {
           "color": "#2a3f5f"
          },
          "geo": {
           "bgcolor": "white",
           "lakecolor": "white",
           "landcolor": "white",
           "showlakes": true,
           "showland": true,
           "subunitcolor": "#C8D4E3"
          },
          "hoverlabel": {
           "align": "left"
          },
          "hovermode": "closest",
          "mapbox": {
           "style": "light"
          },
          "paper_bgcolor": "white",
          "plot_bgcolor": "white",
          "polar": {
           "angularaxis": {
            "gridcolor": "#EBF0F8",
            "linecolor": "#EBF0F8",
            "ticks": ""
           },
           "bgcolor": "white",
           "radialaxis": {
            "gridcolor": "#EBF0F8",
            "linecolor": "#EBF0F8",
            "ticks": ""
           }
          },
          "scene": {
           "xaxis": {
            "backgroundcolor": "white",
            "gridcolor": "#DFE8F3",
            "gridwidth": 2,
            "linecolor": "#EBF0F8",
            "showbackground": true,
            "ticks": "",
            "zerolinecolor": "#EBF0F8"
           },
           "yaxis": {
            "backgroundcolor": "white",
            "gridcolor": "#DFE8F3",
            "gridwidth": 2,
            "linecolor": "#EBF0F8",
            "showbackground": true,
            "ticks": "",
            "zerolinecolor": "#EBF0F8"
           },
           "zaxis": {
            "backgroundcolor": "white",
            "gridcolor": "#DFE8F3",
            "gridwidth": 2,
            "linecolor": "#EBF0F8",
            "showbackground": true,
            "ticks": "",
            "zerolinecolor": "#EBF0F8"
           }
          },
          "shapedefaults": {
           "line": {
            "color": "#2a3f5f"
           }
          },
          "ternary": {
           "aaxis": {
            "gridcolor": "#DFE8F3",
            "linecolor": "#A2B1C6",
            "ticks": ""
           },
           "baxis": {
            "gridcolor": "#DFE8F3",
            "linecolor": "#A2B1C6",
            "ticks": ""
           },
           "bgcolor": "white",
           "caxis": {
            "gridcolor": "#DFE8F3",
            "linecolor": "#A2B1C6",
            "ticks": ""
           }
          },
          "title": {
           "x": 0.05
          },
          "xaxis": {
           "automargin": true,
           "gridcolor": "#EBF0F8",
           "linecolor": "#EBF0F8",
           "ticks": "",
           "title": {
            "standoff": 15
           },
           "zerolinecolor": "#EBF0F8",
           "zerolinewidth": 2
          },
          "yaxis": {
           "automargin": true,
           "gridcolor": "#EBF0F8",
           "linecolor": "#EBF0F8",
           "ticks": "",
           "title": {
            "standoff": 15
           },
           "zerolinecolor": "#EBF0F8",
           "zerolinewidth": 2
          }
         }
        },
        "width": 1400,
        "xaxis": {
         "anchor": "y",
         "domain": [
          0,
          1
         ],
         "range": [
          200,
          600
         ],
         "title": {
          "text": "Length (Amino Acids)"
         }
        },
        "yaxis": {
         "anchor": "x",
         "domain": [
          0,
          1
         ],
         "title": {
          "text": "Isoelectric Point"
         }
        }
       }
      },
      "text/html": [
       "<div>                            <div id=\"452de8d5-a45e-486f-b216-621633912bb7\" class=\"plotly-graph-div\" style=\"height:700px; width:1400px;\"></div>            <script type=\"text/javascript\">                require([\"plotly\"], function(Plotly) {                    window.PLOTLYENV=window.PLOTLYENV || {};                                    if (document.getElementById(\"452de8d5-a45e-486f-b216-621633912bb7\")) {                    Plotly.newPlot(                        \"452de8d5-a45e-486f-b216-621633912bb7\",                        [{\"hovertemplate\":\"Cluster=0<br>Length (Amino Acids)=%{x}<br>Isoelectric Point=%{y}<extra></extra>\",\"legendgroup\":\"0\",\"marker\":{\"color\":\"#2E91E5\",\"symbol\":\"circle\"},\"mode\":\"markers\",\"name\":\"0\",\"orientation\":\"v\",\"showlegend\":true,\"x\":[269,245,243,217,221],\"xaxis\":\"x\",\"y\":[5.021918296813964,5.283946037292479,5.283548164367674,5.574847984313963,5.539323616027831],\"yaxis\":\"y\",\"type\":\"scatter\"},{\"hovertemplate\":\"Cluster=1<br>Length (Amino Acids)=%{x}<br>Isoelectric Point=%{y}<extra></extra>\",\"legendgroup\":\"1\",\"marker\":{\"color\":\"#E15F99\",\"symbol\":\"circle\"},\"mode\":\"markers\",\"name\":\"1\",\"orientation\":\"v\",\"showlegend\":true,\"x\":[305,306,302,269,305,305,303,305,305,305,306,305,305,305,305,305,305,305,305,305,305,305,305,305,305,305,305,305,302,302,302,302,303,301,301,301,307,307,302,302,303,303,303,303,303,303,303,304,304,302,302,302,302,302,302,302,301,302,302,302,303,303,303,302,302,302,303,302,302,303,303,302,303,301,301,301,301,302,302,301,302,303,303,303,304,303,303,303,303,303,303,303,303,302,303,302,302,302,302,307,302,302,302,302,302,302,302,302,302,302,302,302,297,300,303,302,302,302,301,302,302,301,302,302,302,303,303,303,301,302,302,302,303,302,302,308,301,302,302,302,302,302,305,305,305,304,302,303,300,301,302,303,301,302,302,312,312,312,302,304,304,302,302,303,303,303,303,305,300,302,302,302,302,300,300,303,303,307,307,306,306,306,303,284,302,302,303,303,302,302,302,304,305,306,305,302,302,303,303,301,302,303,302,303,302,292,303,304,304,294,288,289,320,305,299,307,306],\"xaxis\":\"x\",\"y\":[5.822893333435059,4.633537483215332,5.805614280700683,4.947231864929199,4.955132484436034,4.973150444030761,5.195731925964354,5.090750312805175,4.998216438293456,4.956326103210448,5.024078178405762,4.912560081481933,4.904602622985839,4.904602622985839,4.904602622985839,4.950187492370604,4.950187492370604,5.105585289001463,4.956326103210448,4.956326103210448,4.956326103210448,4.956326103210448,4.904602622985839,4.904602622985839,4.956326103210448,4.956326103210448,4.904602622985839,4.955132484436034,5.089727210998535,5.031978797912598,4.956326103210448,4.956326103210448,4.840772438049315,4.823379707336425,4.774611854553222,4.783308219909667,4.891984367370605,4.955644035339354,4.744941902160644,4.706291389465331,4.84014720916748,4.84014720916748,4.783308219909667,4.84014720916748,4.84014720916748,4.687761878967284,4.687761878967284,4.687761878967284,4.735677146911621,4.85026454925537,4.789276313781738,4.739428520202637,4.739428520202637,4.772736167907715,4.772736167907715,4.772736167907715,4.770689964294434,4.761993598937988,4.808260536193848,4.808260536193848,4.813432884216309,4.821049308776855,4.651043891906738,4.582041358947754,4.624386405944825,4.651043891906738,4.615235328674316,4.651043891906738,4.679236030578613,4.60682315826416,4.973093605041503,5.047097969055175,5.054032325744628,4.995317649841308,4.971899986267089,4.889710807800292,4.848900413513182,4.8536180496215815,4.906535148620605,4.877831459045409,4.719307518005371,4.792118263244629,4.747272300720215,4.738462257385254,4.79183406829834,4.880218696594238,4.880218696594238,4.880218696594238,4.880218696594238,4.738462257385254,4.884879493713378,4.884879493713378,4.696571922302245,4.722717857360839,4.876637840270996,4.744430351257324,4.780579948425292,4.845490074157714,4.845490074157714,4.783592414855956,4.7815462112426745,4.846115303039549,4.7815462112426745,4.780807304382324,4.788992118835449,4.6379709243774405,4.670028114318847,4.752956199645996,4.716749763488769,4.6660493850708,4.686284065246581,4.711179542541504,4.776203346252441,4.716749763488769,4.701289558410643,4.821560859680175,4.862314414978028,4.758867454528808,4.803940773010253,4.803940773010253,4.803940773010253,4.767506980895996,4.861632347106934,4.870158195495605,4.861632347106934,4.795187568664551,4.7191370010375975,4.817525291442871,4.860893440246582,4.712998390197753,4.881810188293457,4.767506980895996,4.738462257385254,4.895565223693848,4.962237358093262,4.901646995544433,5.117578315734862,4.710213279724121,4.710213279724121,4.9656476974487305,4.967011833190917,4.967011833190917,4.541060447692872,4.519859504699707,4.5394689559936525,4.85026454925537,4.693843650817871,4.686966133117674,4.738462257385254,4.876637840270996,4.674291038513183,5.029989433288574,4.962976264953612,4.764494514465332,4.764494514465332,4.638368797302246,4.732323646545409,4.783592414855956,4.704529380798339,4.885732078552246,4.876637840270996,4.988781166076659,4.988781166076659,4.747215461730956,4.790356254577637,4.8354295730590815,4.794221305847168,4.89550838470459,4.7567644119262695,4.917732429504394,5.188797569274901,4.900567054748534,4.873909568786621,4.808260536193848,4.865838432312012,4.912560081481933,4.769723701477051,4.798995780944825,4.7815462112426745,4.92898654937744,4.73806438446045,4.694412040710449,5.387051963806152,4.886584663391113,4.7237977981567365,4.893007469177246,4.959452247619628,5.00463924407959,4.989576911926269,4.980312156677246,5.062217140197753,4.953995704650878,4.903977394104003,4.750057411193848,4.965420341491699,5.388643455505371,5.203518867492675,5.197721290588378,5.190275382995604,5.107176780700683,4.803883934020996,4.969399070739747,5.063979148864745,5.079041481018065,5.015154457092284,4.900851249694824,5.485099220275878,5.649136543273925,5.222275733947753,4.956326103210448,4.921085929870604,4.921029090881347,5.131105995178221,4.79962100982666,4.800018882751465,4.898464012145996,4.750057411193848],\"yaxis\":\"y\",\"type\":\"scatter\"},{\"hovertemplate\":\"Cluster=2<br>Length (Amino Acids)=%{x}<br>Isoelectric Point=%{y}<extra></extra>\",\"legendgroup\":\"2\",\"marker\":{\"color\":\"#1CA71C\",\"symbol\":\"circle\"},\"mode\":\"markers\",\"name\":\"2\",\"orientation\":\"v\",\"showlegend\":true,\"x\":[268],\"xaxis\":\"x\",\"y\":[8.61363697052002],\"yaxis\":\"y\",\"type\":\"scatter\"},{\"hovertemplate\":\"Cluster=3<br>Length (Amino Acids)=%{x}<br>Isoelectric Point=%{y}<extra></extra>\",\"legendgroup\":\"3\",\"marker\":{\"color\":\"#FB0D0D\",\"symbol\":\"circle\"},\"mode\":\"markers\",\"name\":\"3\",\"orientation\":\"v\",\"showlegend\":true,\"x\":[369,294,331,341,130,94],\"xaxis\":\"x\",\"y\":[5.049939918518065,5.167369270324705,5.474868202209472,5.458157539367675,7.899843025207519,4.7555139541625975],\"yaxis\":\"y\",\"type\":\"scatter\"},{\"hovertemplate\":\"Cluster=4<br>Length (Amino Acids)=%{x}<br>Isoelectric Point=%{y}<extra></extra>\",\"legendgroup\":\"4\",\"marker\":{\"color\":\"#DA16FF\",\"symbol\":\"circle\"},\"mode\":\"markers\",\"name\":\"4\",\"orientation\":\"v\",\"showlegend\":true,\"x\":[370,388,398,390,392,391,416,383,383,383,340,340,312,312,348,346,350,350,350,352,352,352,354,335,342,301,287,333,321,355,343,333,331,316,319,318,319,319,321,318,323,323,314,313,319,320,320,323,317,320,318,314,295,315,321,321,331,331,314,297,335,303,361,389],\"xaxis\":\"x\",\"y\":[4.681793785095214,5.0589204788208,5.088647270202636,4.728231239318848,4.971217918395996,4.979289054870605,4.510594749450684,4.816615867614746,4.919267082214354,4.88226490020752,4.930464363098143,4.930464363098143,4.797745323181153,4.867714118957519,4.6895238876342775,4.782626152038574,4.723002052307128,4.781887245178221,4.714476203918457,4.5470853805542,4.634219551086425,4.588918876647949,5.870865440368651,5.410526466369628,5.771851921081542,5.118374061584471,6.1950181961059565,4.656102561950684,6.003072929382324,4.883742713928222,5.160946464538573,6.766022682189941,5.824769020080566,5.382050132751465,5.153159523010252,4.741020011901855,5.1192834854125975,5.227391242980955,5.041527748107909,4.9572355270385735,5.172825813293455,5.880755424499512,5.808001518249512,5.402284812927246,4.957065010070799,7.633158302307129,7.633158302307129,5.254673957824706,5.364145851135253,5.055339622497558,5.16566410064697,6.76062297821045,4.638141441345215,5.045620155334471,5.383471107482911,5.383471107482911,4.553394508361817,4.553394508361817,4.760231590270995,5.589285087585449,5.637370872497558,9.267797660827636,4.9423437118530265,5.007822227478028],\"yaxis\":\"y\",\"type\":\"scatter\"},{\"hovertemplate\":\"Cluster=5<br>Length (Amino Acids)=%{x}<br>Isoelectric Point=%{y}<extra></extra>\",\"legendgroup\":\"5\",\"marker\":{\"color\":\"#222A2A\",\"symbol\":\"circle\"},\"mode\":\"markers\",\"name\":\"5\",\"orientation\":\"v\",\"showlegend\":true,\"x\":[371,451,446,442,433,460,446,281],\"xaxis\":\"x\",\"y\":[5.358461952209471,4.951665306091308,4.966613960266113,4.789333152770996,5.841991233825683,5.343342781066894,4.831735038757324,5.425134086608886],\"yaxis\":\"y\",\"type\":\"scatter\"},{\"hovertemplate\":\"Cluster=6<br>Length (Amino Acids)=%{x}<br>Isoelectric Point=%{y}<extra></extra>\",\"legendgroup\":\"6\",\"marker\":{\"color\":\"#B68100\",\"symbol\":\"circle\"},\"mode\":\"markers\",\"name\":\"6\",\"orientation\":\"v\",\"showlegend\":true,\"x\":[477,477,477,477,477,477,477,477,466,477,477,477,457,458,457,419,457,432,406,427,427,423,468,466,461,427,456,511,360,457,457,457,457,457,457,450,392,394,397,397,397,388,388,388,388,393,394,395,390,397,388,394,392,392,395,397,395,395,388,388,388,387,387,388,387,387,394,391,394,392,391,390,391,392,391,373,403,405,417,408,407,423],\"xaxis\":\"x\",\"y\":[5.998071098327636,5.998071098327636,5.911505317687988,5.998071098327636,5.998071098327636,5.998071098327636,5.998071098327636,6.21673069000244,6.569928169250488,6.216332817077636,5.998071098327636,5.998071098327636,6.6389875411987305,6.100267601013182,5.826701545715332,5.009072685241699,5.874275779724121,5.707680702209472,5.402000617980956,5.481177330017089,5.481177330017089,5.81845989227295,5.303726005554199,5.883711051940917,5.48686122894287,5.400011253356933,5.913437843322753,6.286472129821779,5.45281467437744,6.6389875411987305,6.6389875411987305,6.6389875411987305,6.6389875411987305,6.6389875411987305,6.6389875411987305,5.997161674499511,5.024532890319825,5.2288122177124015,5.438889122009278,5.5032876968383775,5.438889122009278,5.131560707092285,5.354426383972168,5.354426383972168,5.354426383972168,5.376025199890138,5.354710578918457,5.217558097839355,6.264873313903809,5.62094440460205,5.550236701965332,5.639019203186035,5.033001899719238,5.033001899719238,5.113997459411621,5.5032876968383775,5.253821372985839,5.253821372985839,5.1577066421508775,5.376593589782716,5.277239036560058,5.447869682312012,5.352948570251464,5.29355182647705,5.708817481994629,5.372330665588379,5.4808931350708,5.483394050598144,5.480836296081542,5.351413917541504,5.321857643127441,5.108313560485839,5.321857643127441,5.16492519378662,5.321857643127441,5.278375816345213,6.662632560729982,6.962060356140137,6.471767234802246,6.269875144958497,6.481145668029785,5.795496940612793],\"yaxis\":\"y\",\"type\":\"scatter\"},{\"hovertemplate\":\"Cluster=7<br>Length (Amino Acids)=%{x}<br>Isoelectric Point=%{y}<extra></extra>\",\"legendgroup\":\"7\",\"marker\":{\"color\":\"#750D86\",\"symbol\":\"circle\"},\"mode\":\"markers\",\"name\":\"7\",\"orientation\":\"v\",\"showlegend\":true,\"x\":[182,210,267,232,232,477,485,218,338,343,266,294,246,256,266,259,263,211,216,216,256,232,236,228,236,232,234,240,243,243,231,241,239,347,335,451,386],\"xaxis\":\"x\",\"y\":[4.42260799407959,5.770999336242675,4.9991258621215815,5.983463478088378,5.983463478088378,6.102711677551268,5.375911521911622,4.813489723205566,5.498172187805174,4.839010429382324,4.940581703186035,5.123034858703612,7.5817758560180675,5.987499046325683,5.972038841247559,7.014352226257324,5.994774436950683,4.507184410095214,4.334905433654787,4.530715751647949,5.047439002990722,5.905650901794433,6.178762245178221,5.655843544006348,5.449631690979003,8.762301063537599,6.803536415100097,6.149092292785644,7.016171073913574,6.190982627868652,6.7975683212280265,6.180069541931151,6.9403478622436525,5.570585060119628,5.4097307205200185,5.41723346710205,5.632141685485839],\"yaxis\":\"y\",\"type\":\"scatter\"},{\"hovertemplate\":\"Cluster=8<br>Length (Amino Acids)=%{x}<br>Isoelectric Point=%{y}<extra></extra>\",\"legendgroup\":\"8\",\"marker\":{\"color\":\"#EB663B\",\"symbol\":\"circle\"},\"mode\":\"markers\",\"name\":\"8\",\"orientation\":\"v\",\"showlegend\":true,\"x\":[264,266,266,271,271,271,278,272,268,264,264,264,264,269,269,264,264,264,265,265,265,265,271,267,264,268,274,270,274,264,263,263,263,270,268,268,268,275,267,275,261,267,264,265,269,273,261,272,268,267,347,336,361,270,270,270,270,270,279,281,270,269,269,271,270,271,277,282,287,364,372,371,346,356,355,352,354,351,358,358,359],\"xaxis\":\"x\",\"y\":[5.213977241516112,4.662241172790528,4.483766746520996,5.175724601745604,5.021236228942871,5.100924491882323,6.177398109436035,4.9576333999633775,4.780693626403808,4.686397743225096,4.731357383728027,4.7217515945434565,4.779158973693847,4.470295906066894,5.01919002532959,5.569505119323729,5.112178611755371,5.210794258117674,5.200392723083495,5.215966606140136,4.648145103454591,4.638198280334472,4.823948097229004,5.093364906311035,5.333907508850097,5.31304759979248,4.946549797058105,5.254276084899902,5.2942907333374025,4.844182777404785,4.762505149841308,4.681111717224121,4.681111717224121,4.753297233581542,4.965988731384278,5.077734184265136,4.958258628845214,4.898805046081542,5.584283256530762,4.97917537689209,5.365055274963378,5.210566902160643,4.895110511779785,4.9607027053833,5.000831031799316,5.274283409118652,5.584396934509278,4.808544731140137,4.641779136657715,4.9032384872436525,4.946379280090332,5.1385519027709945,5.23455295562744,4.869248771667479,4.869248771667479,4.869248771667479,5.321743965148925,5.43883228302002,5.115304756164551,5.117691993713378,4.9077856063842775,4.964681434631348,4.955587196350096,5.3135591506958,4.980425834655762,5.20727024078369,5.270702552795409,5.038003730773925,5.445596122741699,5.1665166854858375,5.038231086730956,5.310660362243652,5.287697410583495,5.144690513610839,5.413027381896971,5.34658260345459,5.32293758392334,5.093649101257324,5.158331871032714,5.097855186462401,5.031183052062987],\"yaxis\":\"y\",\"type\":\"scatter\"},{\"hovertemplate\":\"Cluster=9<br>Length (Amino Acids)=%{x}<br>Isoelectric Point=%{y}<extra></extra>\",\"legendgroup\":\"9\",\"marker\":{\"color\":\"#511CFB\",\"symbol\":\"circle\"},\"mode\":\"markers\",\"name\":\"9\",\"orientation\":\"v\",\"showlegend\":true,\"x\":[331,324,329,329,329,329,320,321,320,320,320,320,492,490,490,490,490,493,501,494,494,494,501,501,501,501,501,501,501,485,485,484,485,503,484,484,484,505,501,293,279,325,353,350,421,421,421,421,517,517,708,496,500],\"xaxis\":\"x\",\"y\":[5.529604148864746,5.791461372375489,5.420757484436035,5.418995475769043,5.425475120544433,5.425475120544433,5.347719383239746,6.043428611755371,5.867852973937987,5.867852973937987,5.616681480407714,5.874162101745605,4.960930061340331,5.460885810852051,5.336465263366699,5.393645286560059,5.264904975891112,5.21113529205322,5.508516883850096,5.259448432922363,5.383812141418457,5.323790168762207,5.364543724060058,5.21113529205322,5.508516883850096,5.364543724060058,5.304237556457519,5.612134361267089,5.4473581314086905,5.102629661560058,5.2453523635864245,5.024078178405762,5.289516258239746,5.337431526184082,5.095581626892089,5.058295249938964,5.121954917907714,4.682021141052245,5.301054573059082,4.717602348327636,4.617906761169433,4.882321739196779,4.986052894592285,4.60864200592041,5.719957923889161,5.719957923889161,5.624127388000488,5.719957923889161,5.1577066421508775,5.361474418640137,4.930180168151854,5.005832862854004,5.314241218566894],\"yaxis\":\"y\",\"type\":\"scatter\"},{\"hovertemplate\":\"Cluster=10<br>Length (Amino Acids)=%{x}<br>Isoelectric Point=%{y}<extra></extra>\",\"legendgroup\":\"10\",\"marker\":{\"color\":\"#00A08B\",\"symbol\":\"circle\"},\"mode\":\"markers\",\"name\":\"10\",\"orientation\":\"v\",\"showlegend\":true,\"x\":[302,302,302,302,306,306,304,302,303,306,349,306,306,306,306,349,349,349,315,299,322,322,393,393,390,381,389,412,412,412,388,327,319,320,327,327,353,353,352,352,334,308,305,301,301,301,297,324,331,329,329,322,329,324,282,290,283,323,273,272,282,286,302,294,293,294,281,296,292,291,369,283,325,313,279,281,292,300],\"xaxis\":\"x\",\"y\":[5.191525840759277,8.146112251281739,8.157523155212402,7.509192466735841,5.88700771331787,5.88700771331787,5.104334831237792,5.258311653137207,4.949505424499511,5.646124076843263,5.917643928527832,5.653399467468262,5.653399467468262,5.653399467468262,5.653399467468262,6.248162651062012,6.248162651062012,6.248162651062012,5.4331483840942365,5.71813907623291,4.9215406417846665,4.9215406417846665,5.333282279968262,5.607303047180175,5.996763801574706,4.883344841003418,4.5470853805542,5.467592811584471,5.467592811584471,5.467592811584471,5.48271198272705,5.115702629089356,7.624348258972168,5.348799324035644,8.819742393493652,8.819742393493652,5.149749183654785,4.96956958770752,4.890279197692871,4.729822731018066,5.317537879943848,4.615349006652831,5.245693397521971,4.713737297058105,4.869248771667479,5.016063880920409,4.960645866394042,4.8304845809936525,4.592386054992676,4.61796360015869,4.496498680114747,4.746476554870605,4.6921384811401365,4.707769203186035,4.497976493835449,4.676848793029785,4.890847587585449,4.656329917907715,5.659879112243652,6.303694343566895,5.045051765441894,5.526023292541503,5.16776714324951,5.132640647888183,4.971388435363769,5.360053443908691,5.899739646911621,4.869248771667479,4.546175956726075,4.9854845046997065,6.14164638519287,5.473163032531737,4.537763786315918,5.0926828384399405,5.388757133483887,4.910968589782715,4.717374992370605,4.689467048645019],\"yaxis\":\"y\",\"type\":\"scatter\"},{\"hovertemplate\":\"Cluster=11<br>Length (Amino Acids)=%{x}<br>Isoelectric Point=%{y}<extra></extra>\",\"legendgroup\":\"11\",\"marker\":{\"color\":\"#FB00D1\",\"symbol\":\"circle\"},\"mode\":\"markers\",\"name\":\"11\",\"orientation\":\"v\",\"showlegend\":true,\"x\":[338,336,289,287,287,308,315,314,313,313,301,307,307,320,320,310,310,308,308,348,340,313,337,335,372,749,351,300,300,310,312,315,300,302,309,325,307,307,312,308,307,411,443,443,443,443,448,506,284,332,361,279,276,393,316,643,588,444,436,308,310,303,306,310,310,309,310,314,306,310,310,310,308,310,310,310,310,309,310,310,308,457,484,269,432,428,366,357,320,343,361,304,323,331,331,350,339,359,360,348,352,351,348,348,344,402,418,405,505,505,336,346,315],\"xaxis\":\"x\",\"y\":[4.792970848083496,4.871351814270019,5.326063728332519,5.825678443908691,5.817777824401856,4.932396888732909,5.391940116882325,5.391940116882325,5.147873497009276,5.225856590270994,5.115929985046387,4.931260108947753,4.9576333999633775,5.370796012878418,5.370796012878418,7.606841850280762,7.602465248107911,4.801383018493653,4.969399070739747,5.375968360900879,4.839578819274903,6.102484321594236,4.650361824035645,4.776942253112793,4.77648754119873,4.948937034606933,6.065538978576659,5.265416526794433,5.265416526794433,5.124057960510252,5.0896703720092775,5.575132179260252,5.997389030456542,4.98019847869873,5.318163108825684,5.578485679626463,5.123034858703612,5.279057884216308,5.3966577529907225,5.009982109069824,5.443322563171387,6.217640113830566,4.890279197692871,4.890279197692871,4.900339698791503,4.867032051086425,5.200392723083495,5.291391944885253,5.036412239074706,7.58717555999756,6.256461143493653,4.80951099395752,4.694809913635253,5.000944709777832,5.574791145324705,4.604094886779785,5.226424980163573,6.140282249450683,5.37932186126709,5.4915788650512685,5.685286140441894,6.106008338928221,5.466967582702637,5.844492149353028,5.364827919006348,5.340273475646971,5.577064704895019,5.334475898742675,5.110757637023925,5.872115898132324,6.130278587341309,5.583089637756348,5.030216789245605,5.457361793518066,5.450541114807128,5.324983787536621,5.304919624328612,5.738203239440918,5.231313133239746,5.539494132995604,6.103564262390136,6.21491184234619,6.160573768615721,4.962180519104003,6.009779930114745,6.01171245574951,5.289288902282714,4.950642204284667,4.364689064025879,5.245750236511229,5.284571266174315,4.9966249465942365,5.559671974182128,5.040277290344237,4.933363151550291,5.826076316833496,5.393758964538574,5.000433158874511,5.663403129577637,5.171859550476073,4.9576333999633775,4.662923240661621,4.901760673522949,5.173507881164549,5.415073585510252,6.538837242126465,4.782000923156737,4.955473518371581,5.0625581741333,5.115304756164551,5.302020835876465,4.641267585754394,4.716806602478028],\"yaxis\":\"y\",\"type\":\"scatter\"},{\"hovertemplate\":\"Cluster=12<br>Length (Amino Acids)=%{x}<br>Isoelectric Point=%{y}<extra></extra>\",\"legendgroup\":\"12\",\"marker\":{\"color\":\"#FC0080\",\"symbol\":\"circle\"},\"mode\":\"markers\",\"name\":\"12\",\"orientation\":\"v\",\"showlegend\":true,\"x\":[389,397,408,412,402,405,393,404,425,402,414],\"xaxis\":\"x\",\"y\":[5.0663663864135735,4.766199684143066,5.667609214782716,5.496637535095213,6.102427482604979,5.637711906433105,4.884254264831543,5.901842689514161,4.904261589050292,6.973087120056152,5.816584205627441],\"yaxis\":\"y\",\"type\":\"scatter\"},{\"hovertemplate\":\"Cluster=13<br>Length (Amino Acids)=%{x}<br>Isoelectric Point=%{y}<extra></extra>\",\"legendgroup\":\"13\",\"marker\":{\"color\":\"#B2828D\",\"symbol\":\"circle\"},\"mode\":\"markers\",\"name\":\"13\",\"orientation\":\"v\",\"showlegend\":true,\"x\":[399,368,368,368,368,368,368,368,368,445,445,445,445,348,360],\"xaxis\":\"x\",\"y\":[5.180214881896972,5.7773653030395495,6.097255134582518,5.186353492736815,5.82079029083252,5.640667533874511,5.640667533874511,5.396941947937012,5.414221000671386,5.300940895080566,5.365339469909667,5.293438148498535,5.288208961486816,5.095922660827636,5.740874671936036],\"yaxis\":\"y\",\"type\":\"scatter\"},{\"hovertemplate\":\"Cluster=14<br>Length (Amino Acids)=%{x}<br>Isoelectric Point=%{y}<extra></extra>\",\"legendgroup\":\"14\",\"marker\":{\"color\":\"#6C7C32\",\"symbol\":\"circle\"},\"mode\":\"markers\",\"name\":\"14\",\"orientation\":\"v\",\"showlegend\":true,\"x\":[341,354,376,342,342,341,342,350,350,368,350,343,330,337,340,369,379],\"xaxis\":\"x\",\"y\":[4.8511171340942365,5.085066413879393,4.980027961730956,4.90716037750244,4.90716037750244,4.90716037750244,4.90716037750244,4.707541847229003,4.741815757751465,5.163958930969237,4.7013463973999015,5.22000217437744,4.716920280456542,4.705040931701659,4.896247291564941,4.975765037536621,5.012255668640137],\"yaxis\":\"y\",\"type\":\"scatter\"},{\"hovertemplate\":\"Cluster=15<br>Length (Amino Acids)=%{x}<br>Isoelectric Point=%{y}<extra></extra>\",\"legendgroup\":\"15\",\"marker\":{\"color\":\"#778AAE\",\"symbol\":\"circle\"},\"mode\":\"markers\",\"name\":\"15\",\"orientation\":\"v\",\"showlegend\":true,\"x\":[412,336],\"xaxis\":\"x\",\"y\":[5.270134162902831,5.17998752593994],\"yaxis\":\"y\",\"type\":\"scatter\"},{\"hovertemplate\":\"Cluster=16<br>Length (Amino Acids)=%{x}<br>Isoelectric Point=%{y}<extra></extra>\",\"legendgroup\":\"16\",\"marker\":{\"color\":\"#862A16\",\"symbol\":\"circle\"},\"mode\":\"markers\",\"name\":\"16\",\"orientation\":\"v\",\"showlegend\":true,\"x\":[389,391,388,392,362,392,434,351,466,516,369,368,362,343,362,363,382,388,530,230,366,366,318,315,389,297,276,278,278,283,281],\"xaxis\":\"x\",\"y\":[5.110587120056152,5.000603675842284,5.108881950378417,5.214772987365721,5.049485206604003,4.921370124816893,5.252343559265136,5.363520622253417,4.933135795593261,4.958542823791503,6.09356060028076,5.252855110168456,5.5097673416137685,5.402796363830566,5.009186363220214,5.164527320861815,5.350561332702637,5.519543647766112,9.182763862609864,5.009697914123534,5.49595546722412,5.368465614318848,6.001765632629394,5.05266819000244,4.408682441711425,5.137983512878416,5.265871238708496,5.220059013366698,5.123773765563963,5.077393150329589,4.912673759460449],\"yaxis\":\"y\",\"type\":\"scatter\"},{\"line\":{\"color\":\"#511CFB\"},\"mode\":\"lines\",\"showlegend\":false,\"x\":[480,480,520,520,480],\"y\":[4.6,5.7,5.7,4.6,4.6],\"type\":\"scatter\"},{\"line\":{\"color\":\"#EB663B\"},\"mode\":\"lines\",\"showlegend\":false,\"x\":[260,260,280,280,260],\"y\":[4.4,5.6,5.6,4.4,4.4],\"type\":\"scatter\"},{\"line\":{\"color\":\"#E15F99\"},\"mode\":\"lines\",\"showlegend\":false,\"x\":[298,298,310,310,298],\"y\":[4.3,6,6,4.3,4.3],\"type\":\"scatter\"},{\"line\":{\"color\":\"#B68100\"},\"mode\":\"lines\",\"showlegend\":false,\"x\":[385,385,405,405,385],\"y\":[4,7.5,7.5,4,4],\"type\":\"scatter\"}],                        {\"template\":{\"data\":{\"barpolar\":[{\"marker\":{\"line\":{\"color\":\"white\",\"width\":0.5},\"pattern\":{\"fillmode\":\"overlay\",\"size\":10,\"solidity\":0.2}},\"type\":\"barpolar\"}],\"bar\":[{\"error_x\":{\"color\":\"#2a3f5f\"},\"error_y\":{\"color\":\"#2a3f5f\"},\"marker\":{\"line\":{\"color\":\"white\",\"width\":0.5},\"pattern\":{\"fillmode\":\"overlay\",\"size\":10,\"solidity\":0.2}},\"type\":\"bar\"}],\"carpet\":[{\"aaxis\":{\"endlinecolor\":\"#2a3f5f\",\"gridcolor\":\"#C8D4E3\",\"linecolor\":\"#C8D4E3\",\"minorgridcolor\":\"#C8D4E3\",\"startlinecolor\":\"#2a3f5f\"},\"baxis\":{\"endlinecolor\":\"#2a3f5f\",\"gridcolor\":\"#C8D4E3\",\"linecolor\":\"#C8D4E3\",\"minorgridcolor\":\"#C8D4E3\",\"startlinecolor\":\"#2a3f5f\"},\"type\":\"carpet\"}],\"choropleth\":[{\"colorbar\":{\"outlinewidth\":0,\"ticks\":\"\"},\"type\":\"choropleth\"}],\"contourcarpet\":[{\"colorbar\":{\"outlinewidth\":0,\"ticks\":\"\"},\"type\":\"contourcarpet\"}],\"contour\":[{\"colorbar\":{\"outlinewidth\":0,\"ticks\":\"\"},\"colorscale\":[[0.0,\"#0d0887\"],[0.1111111111111111,\"#46039f\"],[0.2222222222222222,\"#7201a8\"],[0.3333333333333333,\"#9c179e\"],[0.4444444444444444,\"#bd3786\"],[0.5555555555555556,\"#d8576b\"],[0.6666666666666666,\"#ed7953\"],[0.7777777777777778,\"#fb9f3a\"],[0.8888888888888888,\"#fdca26\"],[1.0,\"#f0f921\"]],\"type\":\"contour\"}],\"heatmapgl\":[{\"colorbar\":{\"outlinewidth\":0,\"ticks\":\"\"},\"colorscale\":[[0.0,\"#0d0887\"],[0.1111111111111111,\"#46039f\"],[0.2222222222222222,\"#7201a8\"],[0.3333333333333333,\"#9c179e\"],[0.4444444444444444,\"#bd3786\"],[0.5555555555555556,\"#d8576b\"],[0.6666666666666666,\"#ed7953\"],[0.7777777777777778,\"#fb9f3a\"],[0.8888888888888888,\"#fdca26\"],[1.0,\"#f0f921\"]],\"type\":\"heatmapgl\"}],\"heatmap\":[{\"colorbar\":{\"outlinewidth\":0,\"ticks\":\"\"},\"colorscale\":[[0.0,\"#0d0887\"],[0.1111111111111111,\"#46039f\"],[0.2222222222222222,\"#7201a8\"],[0.3333333333333333,\"#9c179e\"],[0.4444444444444444,\"#bd3786\"],[0.5555555555555556,\"#d8576b\"],[0.6666666666666666,\"#ed7953\"],[0.7777777777777778,\"#fb9f3a\"],[0.8888888888888888,\"#fdca26\"],[1.0,\"#f0f921\"]],\"type\":\"heatmap\"}],\"histogram2dcontour\":[{\"colorbar\":{\"outlinewidth\":0,\"ticks\":\"\"},\"colorscale\":[[0.0,\"#0d0887\"],[0.1111111111111111,\"#46039f\"],[0.2222222222222222,\"#7201a8\"],[0.3333333333333333,\"#9c179e\"],[0.4444444444444444,\"#bd3786\"],[0.5555555555555556,\"#d8576b\"],[0.6666666666666666,\"#ed7953\"],[0.7777777777777778,\"#fb9f3a\"],[0.8888888888888888,\"#fdca26\"],[1.0,\"#f0f921\"]],\"type\":\"histogram2dcontour\"}],\"histogram2d\":[{\"colorbar\":{\"outlinewidth\":0,\"ticks\":\"\"},\"colorscale\":[[0.0,\"#0d0887\"],[0.1111111111111111,\"#46039f\"],[0.2222222222222222,\"#7201a8\"],[0.3333333333333333,\"#9c179e\"],[0.4444444444444444,\"#bd3786\"],[0.5555555555555556,\"#d8576b\"],[0.6666666666666666,\"#ed7953\"],[0.7777777777777778,\"#fb9f3a\"],[0.8888888888888888,\"#fdca26\"],[1.0,\"#f0f921\"]],\"type\":\"histogram2d\"}],\"histogram\":[{\"marker\":{\"pattern\":{\"fillmode\":\"overlay\",\"size\":10,\"solidity\":0.2}},\"type\":\"histogram\"}],\"mesh3d\":[{\"colorbar\":{\"outlinewidth\":0,\"ticks\":\"\"},\"type\":\"mesh3d\"}],\"parcoords\":[{\"line\":{\"colorbar\":{\"outlinewidth\":0,\"ticks\":\"\"}},\"type\":\"parcoords\"}],\"pie\":[{\"automargin\":true,\"type\":\"pie\"}],\"scatter3d\":[{\"line\":{\"colorbar\":{\"outlinewidth\":0,\"ticks\":\"\"}},\"marker\":{\"colorbar\":{\"outlinewidth\":0,\"ticks\":\"\"}},\"type\":\"scatter3d\"}],\"scattercarpet\":[{\"marker\":{\"colorbar\":{\"outlinewidth\":0,\"ticks\":\"\"}},\"type\":\"scattercarpet\"}],\"scattergeo\":[{\"marker\":{\"colorbar\":{\"outlinewidth\":0,\"ticks\":\"\"}},\"type\":\"scattergeo\"}],\"scattergl\":[{\"marker\":{\"colorbar\":{\"outlinewidth\":0,\"ticks\":\"\"}},\"type\":\"scattergl\"}],\"scattermapbox\":[{\"marker\":{\"colorbar\":{\"outlinewidth\":0,\"ticks\":\"\"}},\"type\":\"scattermapbox\"}],\"scatterpolargl\":[{\"marker\":{\"colorbar\":{\"outlinewidth\":0,\"ticks\":\"\"}},\"type\":\"scatterpolargl\"}],\"scatterpolar\":[{\"marker\":{\"colorbar\":{\"outlinewidth\":0,\"ticks\":\"\"}},\"type\":\"scatterpolar\"}],\"scatter\":[{\"fillpattern\":{\"fillmode\":\"overlay\",\"size\":10,\"solidity\":0.2},\"type\":\"scatter\"}],\"scatterternary\":[{\"marker\":{\"colorbar\":{\"outlinewidth\":0,\"ticks\":\"\"}},\"type\":\"scatterternary\"}],\"surface\":[{\"colorbar\":{\"outlinewidth\":0,\"ticks\":\"\"},\"colorscale\":[[0.0,\"#0d0887\"],[0.1111111111111111,\"#46039f\"],[0.2222222222222222,\"#7201a8\"],[0.3333333333333333,\"#9c179e\"],[0.4444444444444444,\"#bd3786\"],[0.5555555555555556,\"#d8576b\"],[0.6666666666666666,\"#ed7953\"],[0.7777777777777778,\"#fb9f3a\"],[0.8888888888888888,\"#fdca26\"],[1.0,\"#f0f921\"]],\"type\":\"surface\"}],\"table\":[{\"cells\":{\"fill\":{\"color\":\"#EBF0F8\"},\"line\":{\"color\":\"white\"}},\"header\":{\"fill\":{\"color\":\"#C8D4E3\"},\"line\":{\"color\":\"white\"}},\"type\":\"table\"}]},\"layout\":{\"annotationdefaults\":{\"arrowcolor\":\"#2a3f5f\",\"arrowhead\":0,\"arrowwidth\":1},\"autotypenumbers\":\"strict\",\"coloraxis\":{\"colorbar\":{\"outlinewidth\":0,\"ticks\":\"\"}},\"colorscale\":{\"diverging\":[[0,\"#8e0152\"],[0.1,\"#c51b7d\"],[0.2,\"#de77ae\"],[0.3,\"#f1b6da\"],[0.4,\"#fde0ef\"],[0.5,\"#f7f7f7\"],[0.6,\"#e6f5d0\"],[0.7,\"#b8e186\"],[0.8,\"#7fbc41\"],[0.9,\"#4d9221\"],[1,\"#276419\"]],\"sequential\":[[0.0,\"#0d0887\"],[0.1111111111111111,\"#46039f\"],[0.2222222222222222,\"#7201a8\"],[0.3333333333333333,\"#9c179e\"],[0.4444444444444444,\"#bd3786\"],[0.5555555555555556,\"#d8576b\"],[0.6666666666666666,\"#ed7953\"],[0.7777777777777778,\"#fb9f3a\"],[0.8888888888888888,\"#fdca26\"],[1.0,\"#f0f921\"]],\"sequentialminus\":[[0.0,\"#0d0887\"],[0.1111111111111111,\"#46039f\"],[0.2222222222222222,\"#7201a8\"],[0.3333333333333333,\"#9c179e\"],[0.4444444444444444,\"#bd3786\"],[0.5555555555555556,\"#d8576b\"],[0.6666666666666666,\"#ed7953\"],[0.7777777777777778,\"#fb9f3a\"],[0.8888888888888888,\"#fdca26\"],[1.0,\"#f0f921\"]]},\"colorway\":[\"#636efa\",\"#EF553B\",\"#00cc96\",\"#ab63fa\",\"#FFA15A\",\"#19d3f3\",\"#FF6692\",\"#B6E880\",\"#FF97FF\",\"#FECB52\"],\"font\":{\"color\":\"#2a3f5f\"},\"geo\":{\"bgcolor\":\"white\",\"lakecolor\":\"white\",\"landcolor\":\"white\",\"showlakes\":true,\"showland\":true,\"subunitcolor\":\"#C8D4E3\"},\"hoverlabel\":{\"align\":\"left\"},\"hovermode\":\"closest\",\"mapbox\":{\"style\":\"light\"},\"paper_bgcolor\":\"white\",\"plot_bgcolor\":\"white\",\"polar\":{\"angularaxis\":{\"gridcolor\":\"#EBF0F8\",\"linecolor\":\"#EBF0F8\",\"ticks\":\"\"},\"bgcolor\":\"white\",\"radialaxis\":{\"gridcolor\":\"#EBF0F8\",\"linecolor\":\"#EBF0F8\",\"ticks\":\"\"}},\"scene\":{\"xaxis\":{\"backgroundcolor\":\"white\",\"gridcolor\":\"#DFE8F3\",\"gridwidth\":2,\"linecolor\":\"#EBF0F8\",\"showbackground\":true,\"ticks\":\"\",\"zerolinecolor\":\"#EBF0F8\"},\"yaxis\":{\"backgroundcolor\":\"white\",\"gridcolor\":\"#DFE8F3\",\"gridwidth\":2,\"linecolor\":\"#EBF0F8\",\"showbackground\":true,\"ticks\":\"\",\"zerolinecolor\":\"#EBF0F8\"},\"zaxis\":{\"backgroundcolor\":\"white\",\"gridcolor\":\"#DFE8F3\",\"gridwidth\":2,\"linecolor\":\"#EBF0F8\",\"showbackground\":true,\"ticks\":\"\",\"zerolinecolor\":\"#EBF0F8\"}},\"shapedefaults\":{\"line\":{\"color\":\"#2a3f5f\"}},\"ternary\":{\"aaxis\":{\"gridcolor\":\"#DFE8F3\",\"linecolor\":\"#A2B1C6\",\"ticks\":\"\"},\"baxis\":{\"gridcolor\":\"#DFE8F3\",\"linecolor\":\"#A2B1C6\",\"ticks\":\"\"},\"bgcolor\":\"white\",\"caxis\":{\"gridcolor\":\"#DFE8F3\",\"linecolor\":\"#A2B1C6\",\"ticks\":\"\"}},\"title\":{\"x\":0.05},\"xaxis\":{\"automargin\":true,\"gridcolor\":\"#EBF0F8\",\"linecolor\":\"#EBF0F8\",\"ticks\":\"\",\"title\":{\"standoff\":15},\"zerolinecolor\":\"#EBF0F8\",\"zerolinewidth\":2},\"yaxis\":{\"automargin\":true,\"gridcolor\":\"#EBF0F8\",\"linecolor\":\"#EBF0F8\",\"ticks\":\"\",\"title\":{\"standoff\":15},\"zerolinecolor\":\"#EBF0F8\",\"zerolinewidth\":2}}},\"xaxis\":{\"anchor\":\"y\",\"domain\":[0.0,1.0],\"title\":{\"text\":\"Length (Amino Acids)\"},\"range\":[200,600]},\"yaxis\":{\"anchor\":\"x\",\"domain\":[0.0,1.0],\"title\":{\"text\":\"Isoelectric Point\"}},\"legend\":{\"title\":{\"text\":\"Cluster\"},\"tracegroupgap\":0},\"margin\":{\"t\":60},\"font\":{\"size\":20},\"width\":1400,\"height\":700},                        {\"responsive\": true}                    ).then(function(){\n",
       "                            \n",
       "var gd = document.getElementById('452de8d5-a45e-486f-b216-621633912bb7');\n",
       "var x = new MutationObserver(function (mutations, observer) {{\n",
       "        var display = window.getComputedStyle(gd).display;\n",
       "        if (!display || display === 'none') {{\n",
       "            console.log([gd, 'removed!']);\n",
       "            Plotly.purge(gd);\n",
       "            observer.disconnect();\n",
       "        }}\n",
       "}});\n",
       "\n",
       "// Listen for the removal of the full notebook cells\n",
       "var notebookContainer = gd.closest('#notebook-container');\n",
       "if (notebookContainer) {{\n",
       "    x.observe(notebookContainer, {childList: true});\n",
       "}}\n",
       "\n",
       "// Listen for the clearing of the current output cell\n",
       "var outputEl = gd.closest('.output');\n",
       "if (outputEl) {{\n",
       "    x.observe(outputEl, {childList: true});\n",
       "}}\n",
       "\n",
       "                        })                };                });            </script>        </div>"
      ]
     },
     "metadata": {},
     "output_type": "display_data"
    }
   ],
   "source": [
    "import pandas as pd \n",
    "import plotly.graph_objects as go \n",
    "\n",
    "colours = cluster_colours\n",
    "\n",
    "cluster_df = pd.read_csv(\"../metadata/DALI_cluster_table_2.csv\")\n",
    "cluster_df[\"Annotated\"] = cluster_df[\"Cluster\"].apply(get_opacity)\n",
    "\n",
    "fig = px.scatter(cluster_df[cluster_df[\"Cluster\"] != \"Dissimilar\"], x=\"Length\", y=\"pI\", color=\"Cluster\", color_discrete_sequence=colours, labels=dict(Length=\"Length (Amino Acids)\", pI=\"Isoelectric Point\"))\n",
    "\n",
    "fig.add_trace(go.Scatter(x=[480,480,520,520,480], y=[4.6,5.7,5.7,4.6,4.6], mode=\"lines\", line=go.scatter.Line(color=colours[9]), showlegend=False))\n",
    "fig.add_trace(go.Scatter(x=[260,260,280,280,260], y=[4.4,5.6,5.6,4.4,4.4], mode=\"lines\", line=go.scatter.Line(color=colours[8]), showlegend=False))\n",
    "fig.add_trace(go.Scatter(x=[298,298,310,310,298], y=[4.3,6,6,4.3,4.3], mode=\"lines\", line=go.scatter.Line(color=colours[1]), showlegend=False))\n",
    "fig.add_trace(go.Scatter(x=[385,385,405,405,385], y=[4,7.5,7.5,4,4], mode=\"lines\", line=go.scatter.Line(color=colours[6]), showlegend=False))\n",
    "\n",
    "\n",
    "\n",
    "# for natural_structure in [\"T_maritima_T1\", \"S_elongatus_T1\", \"M_xanthus_T3\", \"Q_thermotolerans_T4\"]:\n",
    "#     x = get_sequence_length(natural_structure)\n",
    "#     y = get_sequence_pI(natural_structure)\n",
    "#     cluster = int(cluster_df[cluster_df[\"MGYP\"] == natural_structure][\"Cluster\"].values[0])\n",
    "\n",
    "#     fig.add_annotation(x=x, y=y,\n",
    "#             text=natural_structure.replace(\"_\", \" \"),\n",
    "#             showarrow=True,\n",
    "#             arrowhead=1,\n",
    "#             bordercolor=\"#000000\",\n",
    "#             borderwidth=2,\n",
    "#             borderpad=2,\n",
    "#             bgcolor=colours[cluster],\n",
    "#             opacity=0.8)\n",
    "\n",
    "\n",
    "fig.update_layout(template=\"plotly_white\", width=1400, height=700, font=dict(size=20))\n",
    "fig.update_xaxes(range=[200, 600])\n",
    "fig.show()"
   ]
  },
  {
   "cell_type": "code",
   "execution_count": 17,
   "metadata": {},
   "outputs": [],
   "source": [
    "fig.write_image(\"../plots/fig3_scatterplot.svg\")"
   ]
  }
 ],
 "metadata": {
  "kernelspec": {
   "display_name": "jupyter",
   "language": "python",
   "name": "python3"
  },
  "language_info": {
   "codemirror_mode": {
    "name": "ipython",
    "version": 3
   },
   "file_extension": ".py",
   "mimetype": "text/x-python",
   "name": "python",
   "nbconvert_exporter": "python",
   "pygments_lexer": "ipython3",
   "version": "3.10.4"
  },
  "orig_nbformat": 4,
  "vscode": {
   "interpreter": {
    "hash": "2395dd5cfd132aea2fa43eabc505fc0c03b7cf2aa5bd300ea4e7760a37264c62"
   }
  }
 },
 "nbformat": 4,
 "nbformat_minor": 2
}
